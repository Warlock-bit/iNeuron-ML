{
 "cells": [
  {
   "cell_type": "markdown",
   "metadata": {},
   "source": [
    "# Session 2: Assignment 1"
   ]
  },
  {
   "cell_type": "markdown",
   "metadata": {},
   "source": [
    "## Task 1\n",
    "### Question 1:Write a Python Program to implement your own myreduce() function which works exactly like\n",
    "### Python's built-in function reduce()"
   ]
  },
  {
   "cell_type": "code",
   "execution_count": 1,
   "metadata": {},
   "outputs": [
    {
     "name": "stdout",
     "output_type": "stream",
     "text": [
      "sum=10, product=24\n"
     ]
    }
   ],
   "source": [
    "class MyReduce:\n",
    "    def __init__(self):\n",
    "        self._sum = 0\n",
    "        self._prod = 1\n",
    "\n",
    "    def get_sum(self, lst: list):\n",
    "        for i in lst:\n",
    "            self._sum += i\n",
    "        return self._sum\n",
    "\n",
    "    def get_prod(self, lst: list):\n",
    "        for i in lst:\n",
    "            self._prod *= i\n",
    "        return self._prod\n",
    "    \n",
    "mr = MyReduce()\n",
    "sum_op = mr.get_sum(range(5))\n",
    "prod_op = mr.get_prod(range(1, 5))\n",
    "print(f'sum={sum_op}, product={prod_op}')    "
   ]
  },
  {
   "cell_type": "markdown",
   "metadata": {},
   "source": [
    "### Question 2:Write a Python program to implement your own myfilter() function which works exactly like\n",
    "### Python's built-in function filter()"
   ]
  },
  {
   "cell_type": "code",
   "execution_count": 2,
   "metadata": {},
   "outputs": [
    {
     "name": "stdout",
     "output_type": "stream",
     "text": [
      "out even no list=[0, 2, 4, 6, 8, 10], out odd no list=[1, 3, 5, 7, 9, 11]\n"
     ]
    }
   ],
   "source": [
    "class MyFilter:\n",
    "    def __init__(self, lst:list):\n",
    "        self._lst = lst\n",
    "        self._out_even = list()\n",
    "        self._out_odd = list()\n",
    "        \n",
    "\n",
    "    def get_even(self):\n",
    "        for i in self._lst:\n",
    "            if i%2==0:\n",
    "                self._out_even.append(i)\n",
    "        return self._out_even\n",
    "\n",
    "    def get_odd(self):\n",
    "        for i in self._lst:\n",
    "            if i%2:\n",
    "                self._out_odd.append(i)\n",
    "        return self._out_odd  \n",
    "    \n",
    "mf = MyFilter(range(12))\n",
    "print(f'out even no list={mf.get_even()}, out odd no list={mf.get_odd()}')"
   ]
  },
  {
   "cell_type": "markdown",
   "metadata": {},
   "source": [
    "### Question 3:Implement List comprehensions to produce the following lists.\n",
    "### Write List comprehensions to produce the following Lists"
   ]
  },
  {
   "cell_type": "code",
   "execution_count": 3,
   "metadata": {},
   "outputs": [
    {
     "data": {
      "text/plain": [
       "['A', 'C', 'A', 'D', 'G', 'I', 'L', 'D']"
      ]
     },
     "execution_count": 3,
     "metadata": {},
     "output_type": "execute_result"
    }
   ],
   "source": [
    "a = [i.upper() for i in 'acadgild']\n",
    "a"
   ]
  },
  {
   "cell_type": "code",
   "execution_count": 4,
   "metadata": {},
   "outputs": [
    {
     "data": {
      "text/plain": [
       "['x', 'xx', 'xxx', 'xxxx', 'y', 'yy', 'yyy', 'yyyy', 'z', 'zz', 'zzz', 'zzzz']"
      ]
     },
     "execution_count": 4,
     "metadata": {},
     "output_type": "execute_result"
    }
   ],
   "source": [
    "b = [i*j for j in 'xyz' for i in range(1, 5)]\n",
    "b"
   ]
  },
  {
   "cell_type": "code",
   "execution_count": 5,
   "metadata": {},
   "outputs": [
    {
     "data": {
      "text/plain": [
       "['x', 'y', 'z', 'xx', 'yy', 'zz', 'xxx', 'yyy', 'zzz', 'xxxx', 'yyyy', 'zzzz']"
      ]
     },
     "execution_count": 5,
     "metadata": {},
     "output_type": "execute_result"
    }
   ],
   "source": [
    "c = [i*j for j in range(1, 5) for i in 'xyz']\n",
    "c"
   ]
  },
  {
   "cell_type": "code",
   "execution_count": 6,
   "metadata": {},
   "outputs": [
    {
     "data": {
      "text/plain": [
       "[[2], [3], [4], [3], [4], [5], [4], [5], [6]]"
      ]
     },
     "execution_count": 6,
     "metadata": {},
     "output_type": "execute_result"
    }
   ],
   "source": [
    "d = [[i+j-1] for i in range(2, 5) for j in range(1, 4)]\n",
    "d"
   ]
  },
  {
   "cell_type": "code",
   "execution_count": 7,
   "metadata": {},
   "outputs": [
    {
     "data": {
      "text/plain": [
       "[[2, 3, 4, 5], [3, 4, 5, 6], [4, 5, 6, 7], [5, 6, 7, 8]]"
      ]
     },
     "execution_count": 7,
     "metadata": {},
     "output_type": "execute_result"
    }
   ],
   "source": [
    "e = [list(range(i, i+4)) for i in range(2, 6)]\n",
    "e"
   ]
  },
  {
   "cell_type": "code",
   "execution_count": 8,
   "metadata": {},
   "outputs": [
    {
     "data": {
      "text/plain": [
       "[(1, 1), (2, 1), (3, 1), (1, 2), (2, 2), (3, 2), (1, 3), (2, 3), (3, 3)]"
      ]
     },
     "execution_count": 8,
     "metadata": {},
     "output_type": "execute_result"
    }
   ],
   "source": [
    "f = [(j, i) for i in range(1, 4) for j in range(1, 4)]\n",
    "f"
   ]
  },
  {
   "cell_type": "markdown",
   "metadata": {},
   "source": [
    "### Question 4:Implement a function longestWord() that takes a list of words and returns the longest one."
   ]
  },
  {
   "cell_type": "code",
   "execution_count": 9,
   "metadata": {},
   "outputs": [
    {
     "data": {
      "text/plain": [
       "'longestWord'"
      ]
     },
     "execution_count": 9,
     "metadata": {},
     "output_type": "execute_result"
    }
   ],
   "source": [
    "def longestWord(word):\n",
    "    x = [len(i) for i in word]\n",
    "    return(word[x.index(max(x))])\n",
    "\n",
    "word = 'Implement a function longestWord that takes a list of words and returns the longest one.'.split(' ')\n",
    "long_word = longestWord(word)\n",
    "long_word"
   ]
  },
  {
   "cell_type": "markdown",
   "metadata": {},
   "source": [
    "## Task 2\n",
    "### Question 1: Write a Python Program(with class concepts) to find the area of the triangle using the below\n",
    "### formula.\n",
    "### area = (s*(s-a)*(s-b)*(s-c)) ** 0.5\n",
    "### Function to take the length of the sides of triangle from user should be defined in the parent\n",
    "### class and function to calculate the area should be defined in subclass."
   ]
  },
  {
   "cell_type": "code",
   "execution_count": 10,
   "metadata": {},
   "outputs": [
    {
     "data": {
      "text/plain": [
       "464.81112585226435"
      ]
     },
     "execution_count": 10,
     "metadata": {},
     "output_type": "execute_result"
    }
   ],
   "source": [
    "class TriangleSide:\n",
    "    def __init__(self, a, b, c):\n",
    "        self._a = a\n",
    "        self._b = b\n",
    "        self._c = c\n",
    "\n",
    "    def sid(self):\n",
    "        return (self._a+self._b+self._c)/3\n",
    "\n",
    "\n",
    "class Area(TriangleSide):\n",
    "    def __init__(self, a, b, c):\n",
    "        super().__init__(a, b, c)\n",
    "        self._area = None\n",
    "\n",
    "    def calculate_area(self):\n",
    "        \n",
    "        self._area = (self.sid()*(self.sid()-self._a) *\n",
    "                      (self.sid()-self._b)*(self.sid()-self._c)) ** 0.5\n",
    "\n",
    "        return self._area\n",
    "    \n",
    "triangle_area = Area(60, 90, 100)\n",
    "triangle_area.calculate_area() "
   ]
  },
  {
   "cell_type": "markdown",
   "metadata": {},
   "source": [
    "### Question 2: Write a function filter_long_words() that takes a list of words and an integer n and returns the\n",
    "### list of words that are longer than n."
   ]
  },
  {
   "cell_type": "code",
   "execution_count": 11,
   "metadata": {},
   "outputs": [
    {
     "data": {
      "text/plain": [
       "['consectetur',\n",
       " 'adipiscing',\n",
       " 'pulvinar',\n",
       " 'egestas',\n",
       " 'malesuada.',\n",
       " 'vehicula',\n",
       " 'imperdiet.',\n",
       " 'tincidunt',\n",
       " 'tincidunt',\n",
       " 'congue,',\n",
       " 'hendrerit',\n",
       " 'porttitor,',\n",
       " 'lobortis',\n",
       " 'tristique',\n",
       " 'ultrices',\n",
       " 'fringilla.',\n",
       " 'Maecenas',\n",
       " 'efficitur,',\n",
       " 'consequat',\n",
       " 'pulvinar',\n",
       " 'Phasellus',\n",
       " 'fermentum',\n",
       " 'egestas',\n",
       " 'pharetra',\n",
       " 'lobortis',\n",
       " 'fermentum.',\n",
       " 'ullamcorper',\n",
       " 'imperdiet',\n",
       " 'ullamcorper.',\n",
       " 'convallis',\n",
       " 'suscipit.',\n",
       " 'Quisque',\n",
       " 'bibendum',\n",
       " 'accumsan',\n",
       " 'interdum.']"
      ]
     },
     "execution_count": 11,
     "metadata": {},
     "output_type": "execute_result"
    }
   ],
   "source": [
    "def filter_long_words(lst: list, n=6):\n",
    "    out_lst = list()\n",
    "    if len(lst):\n",
    "        for i in lst:\n",
    "            if len(i) > n:\n",
    "                out_lst.append(i)\n",
    "        return out_lst\n",
    "    else:\n",
    "        return 'Passed Empty List'\n",
    "    \n",
    "l = 'Lorem ipsum dolor sit amet, consectetur adipiscing elit. Duis pulvinar egestas malesuada. \\\n",
    "Aenean vehicula rutrum imperdiet. Sed et tincidunt elit, in tincidunt quam. Nullam congue, ipsum et \\\n",
    "hendrerit porttitor, dolor mauris lobortis neque, at tristique nisi nulla non augue. Proin ornare libero nec \\\n",
    "diam ultrices fringilla. Maecenas a sapien efficitur, consequat libero at, pulvinar eros. Phasellus fermentum egestas odio, \\\n",
    "vitae pharetra libero lobortis fermentum. Ut ullamcorper nisl sit amet imperdiet ullamcorper. Donec convallis eget ex ut \\\n",
    "suscipit. Quisque bibendum dolor non accumsan interdum.'.split(' ')    \n",
    "outlst = filter_long_words(l)\n",
    "outlst"
   ]
  },
  {
   "cell_type": "markdown",
   "metadata": {},
   "source": [
    "### Question 3: Write a Python program using function concept that maps list of words into a list of integers\n",
    "### representing the lengths of the corresponding words .\n",
    "### Hint: If a list [ ab,cde,erty] is passed on to the python function output should come as [2,3,4]"
   ]
  },
  {
   "cell_type": "code",
   "execution_count": 12,
   "metadata": {},
   "outputs": [
    {
     "data": {
      "text/plain": [
       "[2, 4, 2, 5, 8]"
      ]
     },
     "execution_count": 12,
     "metadata": {},
     "output_type": "execute_result"
    }
   ],
   "source": [
    "def rtn_len(lst:list):\n",
    "    return [len(i) for i in lst] \n",
    "\n",
    "l1 = 'my name is sumit banerjee'.split(' ')\n",
    "outlst1 = rtn_len(l1)\n",
    "outlst1"
   ]
  },
  {
   "cell_type": "markdown",
   "metadata": {},
   "source": [
    "### Question 4: Write a Python function which takes a character (i.e. a string of length 1) and returns True if it is\n",
    "### a vowel, False otherwise."
   ]
  },
  {
   "cell_type": "code",
   "execution_count": 13,
   "metadata": {},
   "outputs": [
    {
     "name": "stdout",
     "output_type": "stream",
     "text": [
      "Enter a char: daca\n",
      "Enter a char: A\n",
      "True\n"
     ]
    }
   ],
   "source": [
    "def chk_if_vowel():\n",
    "    flag=True\n",
    "    str = None\n",
    "    while flag:\n",
    "        str = input('Enter a char: ')\n",
    "        if len(str)>1:\n",
    "            continue\n",
    "        else:\n",
    "            return (str.lower() in list('aeiou'))\n",
    "            flag=False\n",
    "\n",
    "print(chk_if_vowel()) "
   ]
  },
  {
   "cell_type": "code",
   "execution_count": null,
   "metadata": {},
   "outputs": [],
   "source": []
  }
 ],
 "metadata": {
  "kernelspec": {
   "display_name": "Python 3",
   "language": "python",
   "name": "python3"
  },
  "language_info": {
   "codemirror_mode": {
    "name": "ipython",
    "version": 3
   },
   "file_extension": ".py",
   "mimetype": "text/x-python",
   "name": "python",
   "nbconvert_exporter": "python",
   "pygments_lexer": "ipython3",
   "version": "3.7.1"
  }
 },
 "nbformat": 4,
 "nbformat_minor": 2
}
