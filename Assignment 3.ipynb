{
 "cells": [
  {
   "cell_type": "markdown",
   "metadata": {},
   "source": [
    "# Session 3: Assignment 1"
   ]
  },
  {
   "cell_type": "markdown",
   "metadata": {},
   "source": [
    "## Task 1\n",
    "### Question 1: Write a function to compute 5/0 and use try/except to catch the exceptions."
   ]
  },
  {
   "cell_type": "code",
   "execution_count": 1,
   "metadata": {},
   "outputs": [
    {
     "name": "stdout",
     "output_type": "stream",
     "text": [
      "Enter 2 number separated by comma to get division: 5-2\n",
      "Enter 2 number separated by comma to get division: 5.1\n",
      "Enter 2 number separated by comma to get division: 5*2\n",
      "Enter 2 number separated by comma to get division: 5/2\n",
      "Enter 2 number separated by comma to get division: 5,0\n",
      "division by zero\n",
      "Enter 2 number separated by comma to get division: 5/2\n",
      "Enter 2 number separated by comma to get division: 5,2\n",
      "2.5\n"
     ]
    }
   ],
   "source": [
    "def divide():\n",
    "    flag=True\n",
    "    str = None\n",
    "    while flag:\n",
    "        str = input('Enter 2 number separated by comma to get division: ')\n",
    "        if str.find(',')==-1:\n",
    "            continue\n",
    "        else:\n",
    "            numerator, denominator = str.split(',')\n",
    "            try:\n",
    "                s = int(numerator)/ int(denominator)\n",
    "                flag=False\n",
    "            except ZeroDivisionError as ZDE: \n",
    "                print(ZDE)\n",
    "                continue\n",
    "             \n",
    "            \n",
    "    return s\n",
    "print(divide())    "
   ]
  },
  {
   "cell_type": "markdown",
   "metadata": {},
   "source": [
    "### Question 2: Implement a Python program to generate all sentences where subject is in\n",
    "### [\"Americans\",\"Indians\"] and verb is in [\"Play\", \"watch\"] and the object is in [\"Baseball\",\"cricket\"].\n",
    "### Hint: Subject,Verb and Object should be declared in the program as shown below.\n",
    "### subjects=[\"Americans \",\"Indians\"]\n",
    "### verbs=[\"play\",\"watch\"]\n",
    "### objects=[\"Baseball\",\"Cricket\"]"
   ]
  },
  {
   "cell_type": "code",
   "execution_count": 2,
   "metadata": {},
   "outputs": [],
   "source": [
    "def generate_sentence():\n",
    "    subjects = [\"Americans\", \"Indians\"]\n",
    "    verbs = [\"play\", \"watch\"]\n",
    "    objects = [\"Baseball\", \"Cricket\"]\n",
    "    for subject in subjects:\n",
    "        for verb in verbs:\n",
    "            for object in objects:\n",
    "                yield subject+' '+verb+' '+object\n",
    "                "
   ]
  },
  {
   "cell_type": "code",
   "execution_count": 3,
   "metadata": {},
   "outputs": [
    {
     "name": "stdout",
     "output_type": "stream",
     "text": [
      "Americans play Baseball\n",
      "Americans play Cricket\n",
      "Americans watch Baseball\n",
      "Americans watch Cricket\n",
      "Indians play Baseball\n",
      "Indians play Cricket\n",
      "Indians watch Baseball\n",
      "Indians watch Cricket\n"
     ]
    }
   ],
   "source": [
    "# option 1 using iter and next method to print sentence\n",
    "s = generate_sentence()\n",
    "print(next(s))\n",
    "print(next(s))\n",
    "print(next(s))\n",
    "print(next(s))\n",
    "print(next(s))\n",
    "print(next(s))\n",
    "print(next(s))\n",
    "print(next(s))"
   ]
  },
  {
   "cell_type": "code",
   "execution_count": 4,
   "metadata": {},
   "outputs": [
    {
     "name": "stdout",
     "output_type": "stream",
     "text": [
      "1 --> Americans play Baseball\n",
      "2 --> Americans play Cricket\n",
      "3 --> Americans watch Baseball\n",
      "4 --> Americans watch Cricket\n",
      "5 --> Indians play Baseball\n",
      "6 --> Indians play Cricket\n",
      "7 --> Indians watch Baseball\n",
      "8 --> Indians watch Cricket\n"
     ]
    }
   ],
   "source": [
    "# option 2 using loop to print generator\n",
    "for idx,s in enumerate(generate_sentence(), start=1):\n",
    "    print(idx,'-->',s)"
   ]
  },
  {
   "cell_type": "markdown",
   "metadata": {},
   "source": [
    "### Question 3: Write a function so that the columns of the output matrix are powers of the input vector.\n",
    "### The order of the powers is determined by the increasing boolean argument. Specifically, when\n",
    "### increasing is False, the i-th output column is the input vector raised element-wise to the power\n",
    "### of N - i - 1.\n",
    "### HINT: Such a matrix with a geometric progression in each row is named for Alexandre-\n",
    "### Theophile Vandermonde."
   ]
  },
  {
   "cell_type": "code",
   "execution_count": 5,
   "metadata": {},
   "outputs": [],
   "source": [
    "def generate_vandermonde_matrix(input_list: list, increasing=True):\n",
    "    import math\n",
    "    l1 = list()\n",
    "    n = len(input_list)\n",
    "    for i in input_list:\n",
    "        l2 = list()\n",
    "        for j in range(len(input_list)):\n",
    "            if increasing:\n",
    "                l2.append(math.pow(i, j))\n",
    "            else:\n",
    "                l2.append(math.pow(i, n-j-1))\n",
    "        l1.append(l2)\n",
    "\n",
    "    return l1"
   ]
  },
  {
   "cell_type": "code",
   "execution_count": 6,
   "metadata": {},
   "outputs": [
    {
     "name": "stdout",
     "output_type": "stream",
     "text": [
      "[[1.0, 1.0, 1.0, 1.0, 1.0], [1.0, 2.0, 4.0, 8.0, 16.0], [1.0, 3.0, 9.0, 27.0, 81.0], [1.0, 4.0, 16.0, 64.0, 256.0], [1.0, 5.0, 25.0, 125.0, 625.0]] \n",
      "\n",
      "[1.0, 1.0, 1.0, 1.0, 1.0]\n",
      "[1.0, 2.0, 4.0, 8.0, 16.0]\n",
      "[1.0, 3.0, 9.0, 27.0, 81.0]\n",
      "[1.0, 4.0, 16.0, 64.0, 256.0]\n",
      "[1.0, 5.0, 25.0, 125.0, 625.0]\n"
     ]
    }
   ],
   "source": [
    "out_nested_list = generate_vandermonde_matrix([1,2,3,4,5])\n",
    "print(out_nested_list,'\\n')\n",
    "# Output using loop to print nested list elementwise \n",
    "for i in out_nested_list:\n",
    "    print(i)"
   ]
  },
  {
   "cell_type": "code",
   "execution_count": 7,
   "metadata": {},
   "outputs": [
    {
     "data": {
      "text/plain": [
       "array([[  1,   1,   1,   1,   1],\n",
       "       [  1,   2,   4,   8,  16],\n",
       "       [  1,   3,   9,  27,  81],\n",
       "       [  1,   4,  16,  64, 256],\n",
       "       [  1,   5,  25, 125, 625]])"
      ]
     },
     "execution_count": 7,
     "metadata": {},
     "output_type": "execute_result"
    }
   ],
   "source": [
    "# verification using numpy library\n",
    "import numpy as np\n",
    "\n",
    "x = np.array([1, 2, 3, 4, 5])\n",
    "a = np.vander(x,increasing=True)\n",
    "a"
   ]
  },
  {
   "cell_type": "code",
   "execution_count": 8,
   "metadata": {},
   "outputs": [
    {
     "name": "stdout",
     "output_type": "stream",
     "text": [
      "[[1.0, 1.0, 1.0, 1.0, 1.0], [16.0, 8.0, 4.0, 2.0, 1.0], [81.0, 27.0, 9.0, 3.0, 1.0], [256.0, 64.0, 16.0, 4.0, 1.0], [625.0, 125.0, 25.0, 5.0, 1.0]] \n",
      "\n",
      "[1.0, 1.0, 1.0, 1.0, 1.0]\n",
      "[16.0, 8.0, 4.0, 2.0, 1.0]\n",
      "[81.0, 27.0, 9.0, 3.0, 1.0]\n",
      "[256.0, 64.0, 16.0, 4.0, 1.0]\n",
      "[625.0, 125.0, 25.0, 5.0, 1.0]\n"
     ]
    }
   ],
   "source": [
    "out_nested_list = generate_vandermonde_matrix([1,2,3,4,5], False)\n",
    "print(out_nested_list,'\\n')\n",
    "# Output using loop to print nested list elementwise \n",
    "for i in out_nested_list:\n",
    "    print(i)"
   ]
  },
  {
   "cell_type": "code",
   "execution_count": 9,
   "metadata": {},
   "outputs": [
    {
     "data": {
      "text/plain": [
       "array([[  1,   1,   1,   1,   1],\n",
       "       [ 16,   8,   4,   2,   1],\n",
       "       [ 81,  27,   9,   3,   1],\n",
       "       [256,  64,  16,   4,   1],\n",
       "       [625, 125,  25,   5,   1]])"
      ]
     },
     "execution_count": 9,
     "metadata": {},
     "output_type": "execute_result"
    }
   ],
   "source": [
    "# verification using numpy library\n",
    "x = np.array([1, 2, 3, 4, 5])\n",
    "a = np.vander(x,increasing=False)\n",
    "a"
   ]
  },
  {
   "cell_type": "code",
   "execution_count": null,
   "metadata": {},
   "outputs": [],
   "source": []
  }
 ],
 "metadata": {
  "kernelspec": {
   "display_name": "Python 3",
   "language": "python",
   "name": "python3"
  },
  "language_info": {
   "codemirror_mode": {
    "name": "ipython",
    "version": 3
   },
   "file_extension": ".py",
   "mimetype": "text/x-python",
   "name": "python",
   "nbconvert_exporter": "python",
   "pygments_lexer": "ipython3",
   "version": "3.7.1"
  }
 },
 "nbformat": 4,
 "nbformat_minor": 2
}
