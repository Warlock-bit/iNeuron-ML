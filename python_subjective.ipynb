{
 "cells": [
  {
   "cell_type": "code",
   "execution_count": 1,
   "metadata": {},
   "outputs": [],
   "source": [
    "# importing modules\n",
    "import numpy as np\n",
    "import pandas as pd\n",
    "import matplotlib.pyplot as plt\n",
    "import seaborn as sns\n",
    "%matplotlib inline"
   ]
  },
  {
   "cell_type": "code",
   "execution_count": 2,
   "metadata": {},
   "outputs": [],
   "source": [
    "# importing modules\n",
    "from operator import itemgetter\n",
    "from collections import Counter,defaultdict,OrderedDict\n",
    "import string\n",
    "from itertools import permutations,combinations,cycle\n",
    "from array import *\n",
    "# changing default setting of numpy and pandas\n",
    "np.set_printoptions(precision=4)\n",
    "pd.set_option('display.precision',8)\n",
    "pd.set_option('display.max_columns',30)\n",
    "sns.set_style(\"whitegrid\")\n",
    "sns.set_style(\"ticks\", {\"xtick.major.size\": 14, \"ytick.major.size\": 14})"
   ]
  },
  {
   "cell_type": "markdown",
   "metadata": {},
   "source": [
    "**Q1. Write a Python program to get the string from the given string where all the occurrence of its first char has been changed to '\\$,' except first char itself?** <br>Sample String: 'prospect' Expected Result : 'pros$ect'"
   ]
  },
  {
   "cell_type": "code",
   "execution_count": 3,
   "metadata": {},
   "outputs": [
    {
     "name": "stdout",
     "output_type": "stream",
     "text": [
      "pros$ect\n"
     ]
    }
   ],
   "source": [
    "str = 'prospect'\n",
    "lst = list()\n",
    "for i in str:\n",
    "    if i in lst:\n",
    "        lst.append('$')\n",
    "    else:\n",
    "        lst.append(i)\n",
    "\n",
    "\n",
    "print(''.join(lst))"
   ]
  },
  {
   "cell_type": "markdown",
   "metadata": {},
   "source": [
    "**Q2. Write a Python program to get the single string from the two given strings, and separated by the space and swap the first two characters of each string?** <br>Sample String : 'abc', 'xyz'. Expected Result: 'xyc abz'"
   ]
  },
  {
   "cell_type": "code",
   "execution_count": 4,
   "metadata": {},
   "outputs": [
    {
     "name": "stdout",
     "output_type": "stream",
     "text": [
      "xyc abz\n"
     ]
    }
   ],
   "source": [
    "str = \"abc,xyz\"\n",
    "lst = str.split(',')\n",
    "new_str = ''\n",
    "for idx in range(len(lst)):\n",
    "    if idx == max(range(len(lst))):\n",
    "        new_str += ' '+lst[idx-1][:2]+lst[idx][2:]\n",
    "    else:\n",
    "        new_str += lst[idx+1][:2]+lst[idx][2:]\n",
    "\n",
    "print(new_str)"
   ]
  },
  {
   "cell_type": "markdown",
   "metadata": {},
   "source": [
    "**Q3. Write the Python program to add 'ing' at the end of the given string (length of the string should be at least 3). If given string already ends with 'ing,' then add 'ly' instead. If string length of the given string is less than 3, leave it unchanged?**\n",
    "<br>Sample string: ' abc ' <br>Expected result: ' abcing ' <br>Sample string: ' string ' <br>Expected result: ' stringly '"
   ]
  },
  {
   "cell_type": "code",
   "execution_count": 5,
   "metadata": {},
   "outputs": [
    {
     "name": "stdout",
     "output_type": "stream",
     "text": [
      "abcing\n",
      "stringly\n",
      "in\n"
     ]
    }
   ],
   "source": [
    "str = \"abc,string,in\"\n",
    "lst = str.split(',')\n",
    "for a in lst:\n",
    "\n",
    "    if len(a) >= 3:\n",
    "        if a[-3:] == 'ing':\n",
    "            print(a+'ly')\n",
    "        else:\n",
    "            print(a+'ing')\n",
    "    else:\n",
    "        print(a)"
   ]
  },
  {
   "cell_type": "markdown",
   "metadata": {},
   "source": [
    "**Q4. Write the Python program to find the first appearance of the substring 'not' and 'poor' from the given string, if 'not' follows the 'poor', replace the whole 'not'...' poor' substring with 'good'.Return the resulting string.**\n",
    "<br>Sample string: 'The lyrics are not that poor!' 'The lyrics are poor!' <br>Expected Result: 'The lyrics are good!' 'The lyrics are poor!'"
   ]
  },
  {
   "cell_type": "code",
   "execution_count": 6,
   "metadata": {},
   "outputs": [
    {
     "name": "stdout",
     "output_type": "stream",
     "text": [
      "The lyrics are good\n",
      "The lyrics are poor\n",
      "The lyrics are awesome\n"
     ]
    }
   ],
   "source": [
    "str = ['The lyrics are not that poor!', 'The lyrics are poor!', 'The lyrics are awesome']\n",
    "for a in str:\n",
    "    clr_str = a.translate({ord(c): \"\" for c in \"!@#$%^&*()[]{};:,./<>?\\|`~-=_+\"})\n",
    "    idx_poor = a.find('poor')\n",
    "    idx_not = a.find('not')\n",
    "    if idx_poor != -1 and idx_not == -1:\n",
    "        print(clr_str)\n",
    "    elif idx_poor > idx_not:\n",
    "        print(clr_str[:idx_not]+'good')\n",
    "    else:\n",
    "        print(clr_str)"
   ]
  },
  {
   "cell_type": "markdown",
   "metadata": {},
   "source": [
    "**Q5. Write the Python program to remove the characters which have odd index values of a given string.**"
   ]
  },
  {
   "cell_type": "code",
   "execution_count": 7,
   "metadata": {},
   "outputs": [
    {
     "name": "stdout",
     "output_type": "stream",
     "text": [
      "smtbnre\n"
     ]
    }
   ],
   "source": [
    "str = 'sumit banerjee'\n",
    "new_str = ''\n",
    "for i in range(len(str)):\n",
    " \n",
    "    if i % 2:\n",
    "        continue\n",
    "    else:\n",
    "        new_str += str[i]\n",
    "else:\n",
    "    print(new_str)"
   ]
  },
  {
   "cell_type": "markdown",
   "metadata": {},
   "source": [
    "**Q6. Write the Python function to get a string made of 4 copies of the last two characters of the specified string (length must be at least 2).**\n",
    "<br>Sample function and result : insert-end ('Python') -> abababab insert-end('Exercises') -> jkjkjkjk"
   ]
  },
  {
   "cell_type": "code",
   "execution_count": 8,
   "metadata": {},
   "outputs": [
    {
     "name": "stdout",
     "output_type": "stream",
     "text": [
      "onononon\n",
      "eseseses\n"
     ]
    }
   ],
   "source": [
    "str = ['python','excercises']\n",
    "for i in str:\n",
    "    if len(i)>2:\n",
    "        print(i[-2:]*4)\n",
    "    else:\n",
    "        print('Length of string is less than 2')"
   ]
  },
  {
   "cell_type": "markdown",
   "metadata": {},
   "source": [
    "#### Q7. Write the python function to get a string made of its first three characters of a specified string. If the length of the string is less than 3 then return the original string."
   ]
  },
  {
   "cell_type": "code",
   "execution_count": 9,
   "metadata": {},
   "outputs": [
    {
     "name": "stdout",
     "output_type": "stream",
     "text": [
      "pyt\n",
      "exc\n",
      "in\n"
     ]
    }
   ],
   "source": [
    "str = ['python','excercises','in']\n",
    "for i in str:\n",
    "    if len(i)>2:\n",
    "        print(i[:3])\n",
    "    else:\n",
    "        print(i)"
   ]
  },
  {
   "cell_type": "markdown",
   "metadata": {},
   "source": [
    "**Q8. Write the python program to print the following floating numbers up to 2 decimal places?**"
   ]
  },
  {
   "cell_type": "code",
   "execution_count": 10,
   "metadata": {},
   "outputs": [
    {
     "name": "stdout",
     "output_type": "stream",
     "text": [
      "1.24\n"
     ]
    }
   ],
   "source": [
    "num = 1.23644598\n",
    "print(f'{num:.2f}')"
   ]
  },
  {
   "cell_type": "markdown",
   "metadata": {},
   "source": [
    "**Q9. Write the Python program to format a number with a percentage?**"
   ]
  },
  {
   "cell_type": "code",
   "execution_count": 11,
   "metadata": {},
   "outputs": [
    {
     "name": "stdout",
     "output_type": "stream",
     "text": [
      "23.00%\n"
     ]
    }
   ],
   "source": [
    "num = 0.23\n",
    "print(f'{num:.2%}')"
   ]
  },
  {
   "cell_type": "markdown",
   "metadata": {},
   "source": [
    "**Q10. Write the Python program to count occurrences of a substring in a String?**"
   ]
  },
  {
   "cell_type": "code",
   "execution_count": 12,
   "metadata": {},
   "outputs": [
    {
     "name": "stdout",
     "output_type": "stream",
     "text": [
      "No of times ROC appears in given string = 1\n"
     ]
    }
   ],
   "source": [
    "str = 'Receiver Operating Characteristic (ROC)'\n",
    "print(f\"No of times ROC appears in given string = {str.count('ROC')}\")"
   ]
  },
  {
   "cell_type": "markdown",
   "metadata": {},
   "source": [
    "**Q11. Write the Python program to count repeated characters in a string.**<br>\n",
    "Sample string: ' thequickbrownjumpsoverthelazydog '"
   ]
  },
  {
   "cell_type": "code",
   "execution_count": 13,
   "metadata": {},
   "outputs": [
    {
     "name": "stdout",
     "output_type": "stream",
     "text": [
      "e 3\n",
      "h 2\n",
      "o 3\n",
      "r 2\n",
      "t 2\n",
      "u 2\n"
     ]
    }
   ],
   "source": [
    "str = 'thequickbrownjumpsoverthelazydog'\n",
    "for i,j in zip(*np.unique(list(str),return_counts=True)):\n",
    "    if j > 1:\n",
    "        print(i,j)"
   ]
  },
  {
   "cell_type": "markdown",
   "metadata": {},
   "source": [
    "**Q12. Write the Python program to print the square and cube symbol in the area of a rectangle and volume of a cylinder?**<br>Sample output- The area of the rectangle is 1256.66cm2 The volume of the cylinder is 1254.725cm3"
   ]
  },
  {
   "cell_type": "code",
   "execution_count": 14,
   "metadata": {},
   "outputs": [
    {
     "name": "stdout",
     "output_type": "stream",
     "text": [
      "The area of the rectangle is 1256.66cm²\n",
      "The volume of the cylinder is 1254.725cm³\n"
     ]
    }
   ],
   "source": [
    "print(f\"The area of the rectangle is {1256.66}cm\\u00b2\\nThe volume of the cylinder is 1254.725cm\\u00b3\")"
   ]
  },
  {
   "cell_type": "markdown",
   "metadata": {},
   "source": [
    "**Q13. Write the Python program to check if a string contains all letters of the alphabet?**"
   ]
  },
  {
   "cell_type": "code",
   "execution_count": 15,
   "metadata": {},
   "outputs": [
    {
     "name": "stdout",
     "output_type": "stream",
     "text": [
      "True\n"
     ]
    }
   ],
   "source": [
    "\n",
    "alphabet = set(string.ascii_lowercase)\n",
    "input_string = 'The quick brown fox jumps over the lazy dog'\n",
    "print(set(input_string.lower()) >= alphabet)"
   ]
  },
  {
   "cell_type": "markdown",
   "metadata": {},
   "source": [
    "**Q14. Write the Python program to find the second most repeated word in a given string?**"
   ]
  },
  {
   "cell_type": "code",
   "execution_count": 16,
   "metadata": {},
   "outputs": [
    {
     "name": "stdout",
     "output_type": "stream",
     "text": [
      "('positive', 4)\n"
     ]
    }
   ],
   "source": [
    "str = \"ROC curves typically feature true positive rate on the Y axis, and false positive rate on the X axis. \\\n",
    "       This means that the top left corner of the plot is the “ideal” point - a false positive rate of zero, and \\\n",
    "       a true positive rate of one. This is not very realistic, but it does mean that a larger area under the curve (AUC)\\\n",
    "       is usually better.\"\n",
    "\n",
    "count = Counter(str.lower().split(' '))\n",
    "dict_of_frequent_words = sorted(count.items(),key=itemgetter(1),reverse=True)\n",
    "print(dict_of_frequent_words[2])\n"
   ]
  },
  {
   "cell_type": "markdown",
   "metadata": {},
   "source": [
    "**Q15. Write the Python program to find the minimum window in the given string, which will contains all the characters of another given strings?**"
   ]
  },
  {
   "cell_type": "code",
   "execution_count": 17,
   "metadata": {},
   "outputs": [
    {
     "name": "stdout",
     "output_type": "stream",
     "text": [
      "Smallest window is : \n",
      "SOERIU\n"
     ]
    }
   ],
   "source": [
    "no_of_chars = 256\n",
    "  \n",
    "\n",
    "def findSubString(string, pat):  \n",
    "  \n",
    "    len1 = len(string)  \n",
    "    len2 = len(pat)  \n",
    "  \n",
    "\n",
    "    if len1 < len2:  \n",
    "      \n",
    "        print(\"No such window exists\")  \n",
    "        return \"\"  \n",
    "  \n",
    "    hash_pat = [0] * no_of_chars \n",
    "    hash_str = [0] * no_of_chars  \n",
    "  \n",
    "\n",
    "    for i in range(0, len2):  \n",
    "        hash_pat[ord(pat[i])] += 1\n",
    "  \n",
    "    start, start_index, min_len = 0, -1, float('inf')  \n",
    "  \n",
    "    count = 0 \n",
    "    for j in range(0, len1):  \n",
    "      \n",
    "        \n",
    "        hash_str[ord(string[j])] += 1\n",
    "        if (hash_pat[ord(string[j])] != 0 and\n",
    "            hash_str[ord(string[j])] <= \n",
    "            hash_pat[ord(string[j])]):  \n",
    "            count += 1\n",
    "  \n",
    "        \n",
    "        if count == len2:  \n",
    "          \n",
    "              \n",
    "            while (hash_str[ord(string[start])] >  \n",
    "                   hash_pat[ord(string[start])] or\n",
    "                   hash_pat[ord(string[start])] == 0):  \n",
    "              \n",
    "                if (hash_str[ord(string[start])] >  \n",
    "                    hash_pat[ord(string[start])]):  \n",
    "                    hash_str[ord(string[start])] -= 1\n",
    "                start += 1\n",
    "              \n",
    "            \n",
    "            len_window = j - start + 1\n",
    "            if min_len > len_window:  \n",
    "              \n",
    "                min_len = len_window  \n",
    "                start_index = start  \n",
    "  \n",
    "\n",
    "    if start_index == -1: \n",
    "        print(\"No such window exists\")  \n",
    "        return \"\" \n",
    "    return string[start_index : start_index + min_len]  \n",
    "\n",
    "\n",
    "string = \"PRWSOERIUSFK\"\n",
    "pat = \"OSU\"\n",
    "print(\"Smallest window is : \") \n",
    "print(findSubString(string, pat))\n"
   ]
  },
  {
   "cell_type": "markdown",
   "metadata": {},
   "source": [
    "**Q16. Write the Python program to find smallest window that contains all characters of the given string?**"
   ]
  },
  {
   "cell_type": "code",
   "execution_count": 18,
   "metadata": {},
   "outputs": [
    {
     "name": "stdout",
     "output_type": "stream",
     "text": [
      "Original Strings:\n",
      " asdaewsqgtwwsa\n",
      "\n",
      "Smallest window that contains all characters of the said string:\n",
      "daewsqgt\n"
     ]
    }
   ],
   "source": [
    "from collections import defaultdict   \n",
    "\n",
    "def find_sub_string(str): \n",
    "    str_len = len(str) \n",
    "      \n",
    "    # Count all distinct characters. \n",
    "    dist_count_char = len(set([x for x in str])) \n",
    "  \n",
    "    ctr, start_pos, start_pos_index, min_len = 0, 0, -1, 9999999999\n",
    "    curr_count = defaultdict(lambda: 0) \n",
    "    for i in range(str_len): \n",
    "        curr_count[str[i]] += 1\n",
    " \n",
    "        if curr_count[str[i]] == 1: \n",
    "            ctr += 1\n",
    "  \n",
    "        if ctr == dist_count_char: \n",
    "            while curr_count[str[start_pos]] > 1: \n",
    "                if curr_count[str[start_pos]] > 1: \n",
    "                    curr_count[str[start_pos]] -= 1\n",
    "                start_pos += 1\n",
    "  \n",
    "            len_window = i - start_pos + 1\n",
    "            if min_len > len_window: \n",
    "                min_len = len_window \n",
    "                start_pos_index = start_pos \n",
    "    return str[start_pos_index: start_pos_index + min_len] \n",
    "\n",
    "str1 = \"asdaewsqgtwwsa\"\n",
    "print(\"Original Strings:\\n\",str1)\n",
    "print(\"\\nSmallest window that contains all characters of the said string:\")\n",
    "print(find_sub_string(str1)) "
   ]
  },
  {
   "cell_type": "markdown",
   "metadata": {},
   "source": [
    "**Q17. Write the Python program to count number of substrings from a given string of lowercase alphabets with exactly k distinct (given) characters?**"
   ]
  },
  {
   "cell_type": "code",
   "execution_count": 19,
   "metadata": {},
   "outputs": [
    {
     "name": "stdout",
     "output_type": "stream",
     "text": [
      "Number of substrings with exactly 4 distinct characters : 1\n"
     ]
    }
   ],
   "source": [
    "def count_k_dist(str1, k): \n",
    "    str_len = len(str1) \n",
    "    result = 0\n",
    "    ctr = [0] * 27\n",
    "    for i in range(0, str_len): \n",
    "        dist_ctr = 0\n",
    "        ctr = [0] * 27\n",
    "        for j in range(i, str_len):\n",
    "            if(ctr[ord(str1[j]) - 97] == 0): \n",
    "                dist_ctr += 1\n",
    "                ctr[ord(str1[j]) - 97] += 1\n",
    "            if(dist_ctr == k): \n",
    "                result += 1\n",
    "            if(dist_ctr > k): \n",
    "                break\n",
    "\n",
    "    return result \n",
    "\n",
    "str1 = 'wolf'\n",
    "k = 4\n",
    "print(\"Number of substrings with exactly\", k, \"distinct characters : \", end = \"\") \n",
    "print(count_k_dist(str1, k))"
   ]
  },
  {
   "cell_type": "markdown",
   "metadata": {},
   "source": [
    "**Q18. Write the Python program to count number of non-empty substrings of the given string?**"
   ]
  },
  {
   "cell_type": "code",
   "execution_count": 20,
   "metadata": {},
   "outputs": [
    {
     "name": "stdout",
     "output_type": "stream",
     "text": [
      "no of substring = 55.0\n"
     ]
    }
   ],
   "source": [
    "str = 'w3resource'\n",
    "\"\"\"no_of_substr is given by n*(n+1)/2 where n is length of string\"\"\" \n",
    "n = len(str)\n",
    "print(f'no of substring = {(n*(n+1))/2}')"
   ]
  },
  {
   "cell_type": "markdown",
   "metadata": {},
   "source": [
    "**Q19. Write the Python program to count number of substrings with same first and last characters of the given string?**"
   ]
  },
  {
   "cell_type": "code",
   "execution_count": 21,
   "metadata": {},
   "outputs": [
    {
     "data": {
      "text/plain": [
       "7"
      ]
     },
     "execution_count": 21,
     "metadata": {},
     "output_type": "execute_result"
    }
   ],
   "source": [
    "\n",
    "\n",
    "s = 'abcab'\n",
    "result = 0; \n",
    "n = len(s); \n",
    "for i in range(n): \n",
    "    for j in range(i, n): \n",
    "        if (s[i] == s[j]): \n",
    "            result = result + 1\n",
    "  \n",
    "result "
   ]
  },
  {
   "cell_type": "markdown",
   "metadata": {},
   "source": [
    "**Q20. Write the Python program to count the number of strings where the string length is 2 or more, and first and last character are same from a given list of strings.**<br>\n",
    "Sample List : ['abc', 'xyz', 'wxw', '1331'] Expected Result: 2"
   ]
  },
  {
   "cell_type": "code",
   "execution_count": 22,
   "metadata": {},
   "outputs": [
    {
     "data": {
      "text/plain": [
       "3"
      ]
     },
     "execution_count": 22,
     "metadata": {},
     "output_type": "execute_result"
    }
   ],
   "source": [
    "lst = ['abc', 'xyz', 'wxw', '1331', 'aa', 'a']\n",
    "l1 = sum([True for i in lst if len(i)>=2 and i[0]==i[-1]])\n",
    "l1"
   ]
  },
  {
   "cell_type": "markdown",
   "metadata": {},
   "source": [
    "**Q21. Write the Python program to get a list, sorted in increasing order by the last element in each tuple from the given list of non-empty tuples?**<br>\n",
    "Sample List - [ (2, 5), (1, 2), (4, 4), (2, 3), (2, 1) ] <br>Expected Result - [ (2, 1), (1, 2), (2, 3), (4, 4), (2, 5) ]"
   ]
  },
  {
   "cell_type": "code",
   "execution_count": 23,
   "metadata": {},
   "outputs": [
    {
     "name": "stdout",
     "output_type": "stream",
     "text": [
      "[(2, 1), (1, 2), (2, 3), (4, 4), (2, 5)]\n"
     ]
    }
   ],
   "source": [
    "lst = [ (2, 5), (1, 2), (4, 4), (2, 3), (2, 1) ]\n",
    "print(sorted(lst,key=itemgetter(1)))"
   ]
  },
  {
   "cell_type": "markdown",
   "metadata": {},
   "source": [
    "**Q22. Write the Python program to remove duplicates from a list?**"
   ]
  },
  {
   "cell_type": "code",
   "execution_count": 24,
   "metadata": {},
   "outputs": [
    {
     "name": "stdout",
     "output_type": "stream",
     "text": [
      "Option 1: ['h', 'l', 'a', 'd', 'g']\n",
      "Option 2: ['g', 'a', 'l', 'h', 'd']\n"
     ]
    }
   ],
   "source": [
    "str = list('galahaad')\n",
    "# option 1 if order doesn't matter\n",
    "print('Option 1:',list(set(str)))\n",
    "# option 2 if order does matter\n",
    "lst = list()\n",
    "for i in str:\n",
    "    if i not in lst:\n",
    "        lst.append(i)\n",
    "print('Option 2:',lst )       "
   ]
  },
  {
   "cell_type": "markdown",
   "metadata": {},
   "source": [
    "**Q23. Write the Python program to find the list of words that are longer than n from a given list of words?**"
   ]
  },
  {
   "cell_type": "code",
   "execution_count": 25,
   "metadata": {},
   "outputs": [
    {
     "data": {
      "text/plain": [
       "['Write',\n",
       " 'Python',\n",
       " 'program',\n",
       " 'find',\n",
       " 'list',\n",
       " 'words',\n",
       " 'that',\n",
       " 'longer',\n",
       " 'than',\n",
       " 'from',\n",
       " 'given',\n",
       " 'list',\n",
       " 'words']"
      ]
     },
     "execution_count": 25,
     "metadata": {},
     "output_type": "execute_result"
    }
   ],
   "source": [
    "lst = 'Write the Python program to find the list of words that are longer than n from a given list of words'.split(' ')\n",
    "n = 3\n",
    "lst1 = [i for i in lst if len(i)>n]\n",
    "lst1"
   ]
  },
  {
   "cell_type": "markdown",
   "metadata": {},
   "source": [
    "**Q24. Write the Python program to print a specified list after removing the 0th, 4th, and 5th elements?**\n",
    "<br>Sample List - ['Red', 'Green', 'White', 'Black', 'Pink', 'Yellow'] <br>Expected Output - ['Green', 'White', 'Black']"
   ]
  },
  {
   "cell_type": "code",
   "execution_count": 26,
   "metadata": {},
   "outputs": [
    {
     "data": {
      "text/plain": [
       "['Green', 'White', 'Black']"
      ]
     },
     "execution_count": 26,
     "metadata": {},
     "output_type": "execute_result"
    }
   ],
   "source": [
    "lst = ['Red', 'Green', 'White', 'Black', 'Pink', 'Yellow']\n",
    "idx_to_drop = (0,4,5)\n",
    "output = [x for (i,x) in enumerate(lst) if i not in idx_to_drop]\n",
    "output"
   ]
  },
  {
   "cell_type": "markdown",
   "metadata": {},
   "source": [
    "**Q25. Write the Python program to generate all permutations of a list in Python?**"
   ]
  },
  {
   "cell_type": "code",
   "execution_count": 27,
   "metadata": {},
   "outputs": [
    {
     "name": "stdout",
     "output_type": "stream",
     "text": [
      "1 --> ('Red',)\n",
      "1 --> ('Green',)\n",
      "1 --> ('White',)\n",
      "1 --> ('Black',)\n",
      "1 --> ('Pink',)\n",
      "1 --> ('Yellow',)\n",
      "2 --> ('Red', 'Green')\n",
      "2 --> ('Red', 'White')\n",
      "2 --> ('Red', 'Black')\n",
      "2 --> ('Red', 'Pink')\n",
      "2 --> ('Red', 'Yellow')\n",
      "2 --> ('Green', 'Red')\n",
      "2 --> ('Green', 'White')\n",
      "2 --> ('Green', 'Black')\n",
      "2 --> ('Green', 'Pink')\n",
      "2 --> ('Green', 'Yellow')\n",
      "2 --> ('White', 'Red')\n",
      "2 --> ('White', 'Green')\n",
      "2 --> ('White', 'Black')\n",
      "2 --> ('White', 'Pink')\n",
      "2 --> ('White', 'Yellow')\n",
      "2 --> ('Black', 'Red')\n",
      "2 --> ('Black', 'Green')\n",
      "2 --> ('Black', 'White')\n",
      "2 --> ('Black', 'Pink')\n",
      "2 --> ('Black', 'Yellow')\n",
      "2 --> ('Pink', 'Red')\n",
      "2 --> ('Pink', 'Green')\n",
      "2 --> ('Pink', 'White')\n",
      "2 --> ('Pink', 'Black')\n",
      "2 --> ('Pink', 'Yellow')\n",
      "2 --> ('Yellow', 'Red')\n",
      "2 --> ('Yellow', 'Green')\n",
      "2 --> ('Yellow', 'White')\n",
      "2 --> ('Yellow', 'Black')\n",
      "2 --> ('Yellow', 'Pink')\n",
      "3 --> ('Red', 'Green', 'White')\n",
      "3 --> ('Red', 'Green', 'Black')\n",
      "3 --> ('Red', 'Green', 'Pink')\n",
      "3 --> ('Red', 'Green', 'Yellow')\n",
      "3 --> ('Red', 'White', 'Green')\n",
      "3 --> ('Red', 'White', 'Black')\n",
      "3 --> ('Red', 'White', 'Pink')\n",
      "3 --> ('Red', 'White', 'Yellow')\n",
      "3 --> ('Red', 'Black', 'Green')\n",
      "3 --> ('Red', 'Black', 'White')\n",
      "3 --> ('Red', 'Black', 'Pink')\n",
      "3 --> ('Red', 'Black', 'Yellow')\n",
      "3 --> ('Red', 'Pink', 'Green')\n",
      "3 --> ('Red', 'Pink', 'White')\n",
      "3 --> ('Red', 'Pink', 'Black')\n",
      "3 --> ('Red', 'Pink', 'Yellow')\n",
      "3 --> ('Red', 'Yellow', 'Green')\n",
      "3 --> ('Red', 'Yellow', 'White')\n",
      "3 --> ('Red', 'Yellow', 'Black')\n",
      "3 --> ('Red', 'Yellow', 'Pink')\n",
      "3 --> ('Green', 'Red', 'White')\n",
      "3 --> ('Green', 'Red', 'Black')\n",
      "3 --> ('Green', 'Red', 'Pink')\n",
      "3 --> ('Green', 'Red', 'Yellow')\n",
      "3 --> ('Green', 'White', 'Red')\n",
      "3 --> ('Green', 'White', 'Black')\n",
      "3 --> ('Green', 'White', 'Pink')\n",
      "3 --> ('Green', 'White', 'Yellow')\n",
      "3 --> ('Green', 'Black', 'Red')\n",
      "3 --> ('Green', 'Black', 'White')\n",
      "3 --> ('Green', 'Black', 'Pink')\n",
      "3 --> ('Green', 'Black', 'Yellow')\n",
      "3 --> ('Green', 'Pink', 'Red')\n",
      "3 --> ('Green', 'Pink', 'White')\n",
      "3 --> ('Green', 'Pink', 'Black')\n",
      "3 --> ('Green', 'Pink', 'Yellow')\n",
      "3 --> ('Green', 'Yellow', 'Red')\n",
      "3 --> ('Green', 'Yellow', 'White')\n",
      "3 --> ('Green', 'Yellow', 'Black')\n",
      "3 --> ('Green', 'Yellow', 'Pink')\n",
      "3 --> ('White', 'Red', 'Green')\n",
      "3 --> ('White', 'Red', 'Black')\n",
      "3 --> ('White', 'Red', 'Pink')\n",
      "3 --> ('White', 'Red', 'Yellow')\n",
      "3 --> ('White', 'Green', 'Red')\n",
      "3 --> ('White', 'Green', 'Black')\n",
      "3 --> ('White', 'Green', 'Pink')\n",
      "3 --> ('White', 'Green', 'Yellow')\n",
      "3 --> ('White', 'Black', 'Red')\n",
      "3 --> ('White', 'Black', 'Green')\n",
      "3 --> ('White', 'Black', 'Pink')\n",
      "3 --> ('White', 'Black', 'Yellow')\n",
      "3 --> ('White', 'Pink', 'Red')\n",
      "3 --> ('White', 'Pink', 'Green')\n",
      "3 --> ('White', 'Pink', 'Black')\n",
      "3 --> ('White', 'Pink', 'Yellow')\n",
      "3 --> ('White', 'Yellow', 'Red')\n",
      "3 --> ('White', 'Yellow', 'Green')\n",
      "3 --> ('White', 'Yellow', 'Black')\n",
      "3 --> ('White', 'Yellow', 'Pink')\n",
      "3 --> ('Black', 'Red', 'Green')\n",
      "3 --> ('Black', 'Red', 'White')\n",
      "3 --> ('Black', 'Red', 'Pink')\n",
      "3 --> ('Black', 'Red', 'Yellow')\n",
      "3 --> ('Black', 'Green', 'Red')\n",
      "3 --> ('Black', 'Green', 'White')\n",
      "3 --> ('Black', 'Green', 'Pink')\n",
      "3 --> ('Black', 'Green', 'Yellow')\n",
      "3 --> ('Black', 'White', 'Red')\n",
      "3 --> ('Black', 'White', 'Green')\n",
      "3 --> ('Black', 'White', 'Pink')\n",
      "3 --> ('Black', 'White', 'Yellow')\n",
      "3 --> ('Black', 'Pink', 'Red')\n",
      "3 --> ('Black', 'Pink', 'Green')\n",
      "3 --> ('Black', 'Pink', 'White')\n",
      "3 --> ('Black', 'Pink', 'Yellow')\n",
      "3 --> ('Black', 'Yellow', 'Red')\n",
      "3 --> ('Black', 'Yellow', 'Green')\n",
      "3 --> ('Black', 'Yellow', 'White')\n",
      "3 --> ('Black', 'Yellow', 'Pink')\n",
      "3 --> ('Pink', 'Red', 'Green')\n",
      "3 --> ('Pink', 'Red', 'White')\n",
      "3 --> ('Pink', 'Red', 'Black')\n",
      "3 --> ('Pink', 'Red', 'Yellow')\n",
      "3 --> ('Pink', 'Green', 'Red')\n",
      "3 --> ('Pink', 'Green', 'White')\n",
      "3 --> ('Pink', 'Green', 'Black')\n",
      "3 --> ('Pink', 'Green', 'Yellow')\n",
      "3 --> ('Pink', 'White', 'Red')\n",
      "3 --> ('Pink', 'White', 'Green')\n",
      "3 --> ('Pink', 'White', 'Black')\n",
      "3 --> ('Pink', 'White', 'Yellow')\n",
      "3 --> ('Pink', 'Black', 'Red')\n",
      "3 --> ('Pink', 'Black', 'Green')\n",
      "3 --> ('Pink', 'Black', 'White')\n",
      "3 --> ('Pink', 'Black', 'Yellow')\n",
      "3 --> ('Pink', 'Yellow', 'Red')\n",
      "3 --> ('Pink', 'Yellow', 'Green')\n",
      "3 --> ('Pink', 'Yellow', 'White')\n",
      "3 --> ('Pink', 'Yellow', 'Black')\n",
      "3 --> ('Yellow', 'Red', 'Green')\n",
      "3 --> ('Yellow', 'Red', 'White')\n",
      "3 --> ('Yellow', 'Red', 'Black')\n",
      "3 --> ('Yellow', 'Red', 'Pink')\n",
      "3 --> ('Yellow', 'Green', 'Red')\n",
      "3 --> ('Yellow', 'Green', 'White')\n",
      "3 --> ('Yellow', 'Green', 'Black')\n",
      "3 --> ('Yellow', 'Green', 'Pink')\n",
      "3 --> ('Yellow', 'White', 'Red')\n",
      "3 --> ('Yellow', 'White', 'Green')\n",
      "3 --> ('Yellow', 'White', 'Black')\n",
      "3 --> ('Yellow', 'White', 'Pink')\n",
      "3 --> ('Yellow', 'Black', 'Red')\n",
      "3 --> ('Yellow', 'Black', 'Green')\n",
      "3 --> ('Yellow', 'Black', 'White')\n",
      "3 --> ('Yellow', 'Black', 'Pink')\n",
      "3 --> ('Yellow', 'Pink', 'Red')\n",
      "3 --> ('Yellow', 'Pink', 'Green')\n",
      "3 --> ('Yellow', 'Pink', 'White')\n",
      "3 --> ('Yellow', 'Pink', 'Black')\n",
      "4 --> ('Red', 'Green', 'White', 'Black')\n",
      "4 --> ('Red', 'Green', 'White', 'Pink')\n",
      "4 --> ('Red', 'Green', 'White', 'Yellow')\n",
      "4 --> ('Red', 'Green', 'Black', 'White')\n",
      "4 --> ('Red', 'Green', 'Black', 'Pink')\n",
      "4 --> ('Red', 'Green', 'Black', 'Yellow')\n",
      "4 --> ('Red', 'Green', 'Pink', 'White')\n",
      "4 --> ('Red', 'Green', 'Pink', 'Black')\n",
      "4 --> ('Red', 'Green', 'Pink', 'Yellow')\n",
      "4 --> ('Red', 'Green', 'Yellow', 'White')\n",
      "4 --> ('Red', 'Green', 'Yellow', 'Black')\n",
      "4 --> ('Red', 'Green', 'Yellow', 'Pink')\n",
      "4 --> ('Red', 'White', 'Green', 'Black')\n",
      "4 --> ('Red', 'White', 'Green', 'Pink')\n",
      "4 --> ('Red', 'White', 'Green', 'Yellow')\n",
      "4 --> ('Red', 'White', 'Black', 'Green')\n",
      "4 --> ('Red', 'White', 'Black', 'Pink')\n",
      "4 --> ('Red', 'White', 'Black', 'Yellow')\n",
      "4 --> ('Red', 'White', 'Pink', 'Green')\n",
      "4 --> ('Red', 'White', 'Pink', 'Black')\n",
      "4 --> ('Red', 'White', 'Pink', 'Yellow')\n",
      "4 --> ('Red', 'White', 'Yellow', 'Green')\n",
      "4 --> ('Red', 'White', 'Yellow', 'Black')\n",
      "4 --> ('Red', 'White', 'Yellow', 'Pink')\n",
      "4 --> ('Red', 'Black', 'Green', 'White')\n",
      "4 --> ('Red', 'Black', 'Green', 'Pink')\n",
      "4 --> ('Red', 'Black', 'Green', 'Yellow')\n",
      "4 --> ('Red', 'Black', 'White', 'Green')\n",
      "4 --> ('Red', 'Black', 'White', 'Pink')\n",
      "4 --> ('Red', 'Black', 'White', 'Yellow')\n",
      "4 --> ('Red', 'Black', 'Pink', 'Green')\n",
      "4 --> ('Red', 'Black', 'Pink', 'White')\n",
      "4 --> ('Red', 'Black', 'Pink', 'Yellow')\n",
      "4 --> ('Red', 'Black', 'Yellow', 'Green')\n",
      "4 --> ('Red', 'Black', 'Yellow', 'White')\n",
      "4 --> ('Red', 'Black', 'Yellow', 'Pink')\n",
      "4 --> ('Red', 'Pink', 'Green', 'White')\n",
      "4 --> ('Red', 'Pink', 'Green', 'Black')\n",
      "4 --> ('Red', 'Pink', 'Green', 'Yellow')\n",
      "4 --> ('Red', 'Pink', 'White', 'Green')\n",
      "4 --> ('Red', 'Pink', 'White', 'Black')\n",
      "4 --> ('Red', 'Pink', 'White', 'Yellow')\n",
      "4 --> ('Red', 'Pink', 'Black', 'Green')\n",
      "4 --> ('Red', 'Pink', 'Black', 'White')\n",
      "4 --> ('Red', 'Pink', 'Black', 'Yellow')\n",
      "4 --> ('Red', 'Pink', 'Yellow', 'Green')\n",
      "4 --> ('Red', 'Pink', 'Yellow', 'White')\n",
      "4 --> ('Red', 'Pink', 'Yellow', 'Black')\n",
      "4 --> ('Red', 'Yellow', 'Green', 'White')\n",
      "4 --> ('Red', 'Yellow', 'Green', 'Black')\n",
      "4 --> ('Red', 'Yellow', 'Green', 'Pink')\n",
      "4 --> ('Red', 'Yellow', 'White', 'Green')\n",
      "4 --> ('Red', 'Yellow', 'White', 'Black')\n",
      "4 --> ('Red', 'Yellow', 'White', 'Pink')\n",
      "4 --> ('Red', 'Yellow', 'Black', 'Green')\n",
      "4 --> ('Red', 'Yellow', 'Black', 'White')\n",
      "4 --> ('Red', 'Yellow', 'Black', 'Pink')\n",
      "4 --> ('Red', 'Yellow', 'Pink', 'Green')\n",
      "4 --> ('Red', 'Yellow', 'Pink', 'White')\n",
      "4 --> ('Red', 'Yellow', 'Pink', 'Black')\n",
      "4 --> ('Green', 'Red', 'White', 'Black')\n",
      "4 --> ('Green', 'Red', 'White', 'Pink')\n",
      "4 --> ('Green', 'Red', 'White', 'Yellow')\n",
      "4 --> ('Green', 'Red', 'Black', 'White')\n",
      "4 --> ('Green', 'Red', 'Black', 'Pink')\n",
      "4 --> ('Green', 'Red', 'Black', 'Yellow')\n",
      "4 --> ('Green', 'Red', 'Pink', 'White')\n",
      "4 --> ('Green', 'Red', 'Pink', 'Black')\n",
      "4 --> ('Green', 'Red', 'Pink', 'Yellow')\n",
      "4 --> ('Green', 'Red', 'Yellow', 'White')\n",
      "4 --> ('Green', 'Red', 'Yellow', 'Black')\n",
      "4 --> ('Green', 'Red', 'Yellow', 'Pink')\n",
      "4 --> ('Green', 'White', 'Red', 'Black')\n",
      "4 --> ('Green', 'White', 'Red', 'Pink')\n",
      "4 --> ('Green', 'White', 'Red', 'Yellow')\n",
      "4 --> ('Green', 'White', 'Black', 'Red')\n",
      "4 --> ('Green', 'White', 'Black', 'Pink')\n",
      "4 --> ('Green', 'White', 'Black', 'Yellow')\n",
      "4 --> ('Green', 'White', 'Pink', 'Red')\n",
      "4 --> ('Green', 'White', 'Pink', 'Black')\n",
      "4 --> ('Green', 'White', 'Pink', 'Yellow')\n",
      "4 --> ('Green', 'White', 'Yellow', 'Red')\n",
      "4 --> ('Green', 'White', 'Yellow', 'Black')\n",
      "4 --> ('Green', 'White', 'Yellow', 'Pink')\n",
      "4 --> ('Green', 'Black', 'Red', 'White')\n",
      "4 --> ('Green', 'Black', 'Red', 'Pink')\n",
      "4 --> ('Green', 'Black', 'Red', 'Yellow')\n",
      "4 --> ('Green', 'Black', 'White', 'Red')\n",
      "4 --> ('Green', 'Black', 'White', 'Pink')\n",
      "4 --> ('Green', 'Black', 'White', 'Yellow')\n",
      "4 --> ('Green', 'Black', 'Pink', 'Red')\n",
      "4 --> ('Green', 'Black', 'Pink', 'White')\n",
      "4 --> ('Green', 'Black', 'Pink', 'Yellow')\n",
      "4 --> ('Green', 'Black', 'Yellow', 'Red')\n",
      "4 --> ('Green', 'Black', 'Yellow', 'White')\n",
      "4 --> ('Green', 'Black', 'Yellow', 'Pink')\n",
      "4 --> ('Green', 'Pink', 'Red', 'White')\n",
      "4 --> ('Green', 'Pink', 'Red', 'Black')\n",
      "4 --> ('Green', 'Pink', 'Red', 'Yellow')\n",
      "4 --> ('Green', 'Pink', 'White', 'Red')\n",
      "4 --> ('Green', 'Pink', 'White', 'Black')\n",
      "4 --> ('Green', 'Pink', 'White', 'Yellow')\n",
      "4 --> ('Green', 'Pink', 'Black', 'Red')\n",
      "4 --> ('Green', 'Pink', 'Black', 'White')\n",
      "4 --> ('Green', 'Pink', 'Black', 'Yellow')\n",
      "4 --> ('Green', 'Pink', 'Yellow', 'Red')\n",
      "4 --> ('Green', 'Pink', 'Yellow', 'White')\n",
      "4 --> ('Green', 'Pink', 'Yellow', 'Black')\n",
      "4 --> ('Green', 'Yellow', 'Red', 'White')\n",
      "4 --> ('Green', 'Yellow', 'Red', 'Black')\n",
      "4 --> ('Green', 'Yellow', 'Red', 'Pink')\n",
      "4 --> ('Green', 'Yellow', 'White', 'Red')\n",
      "4 --> ('Green', 'Yellow', 'White', 'Black')\n",
      "4 --> ('Green', 'Yellow', 'White', 'Pink')\n",
      "4 --> ('Green', 'Yellow', 'Black', 'Red')\n",
      "4 --> ('Green', 'Yellow', 'Black', 'White')\n",
      "4 --> ('Green', 'Yellow', 'Black', 'Pink')\n",
      "4 --> ('Green', 'Yellow', 'Pink', 'Red')\n",
      "4 --> ('Green', 'Yellow', 'Pink', 'White')\n",
      "4 --> ('Green', 'Yellow', 'Pink', 'Black')\n",
      "4 --> ('White', 'Red', 'Green', 'Black')\n",
      "4 --> ('White', 'Red', 'Green', 'Pink')\n",
      "4 --> ('White', 'Red', 'Green', 'Yellow')\n",
      "4 --> ('White', 'Red', 'Black', 'Green')\n",
      "4 --> ('White', 'Red', 'Black', 'Pink')\n",
      "4 --> ('White', 'Red', 'Black', 'Yellow')\n",
      "4 --> ('White', 'Red', 'Pink', 'Green')\n",
      "4 --> ('White', 'Red', 'Pink', 'Black')\n",
      "4 --> ('White', 'Red', 'Pink', 'Yellow')\n",
      "4 --> ('White', 'Red', 'Yellow', 'Green')\n",
      "4 --> ('White', 'Red', 'Yellow', 'Black')\n",
      "4 --> ('White', 'Red', 'Yellow', 'Pink')\n",
      "4 --> ('White', 'Green', 'Red', 'Black')\n",
      "4 --> ('White', 'Green', 'Red', 'Pink')\n",
      "4 --> ('White', 'Green', 'Red', 'Yellow')\n",
      "4 --> ('White', 'Green', 'Black', 'Red')\n",
      "4 --> ('White', 'Green', 'Black', 'Pink')\n",
      "4 --> ('White', 'Green', 'Black', 'Yellow')\n",
      "4 --> ('White', 'Green', 'Pink', 'Red')\n",
      "4 --> ('White', 'Green', 'Pink', 'Black')\n",
      "4 --> ('White', 'Green', 'Pink', 'Yellow')\n",
      "4 --> ('White', 'Green', 'Yellow', 'Red')\n",
      "4 --> ('White', 'Green', 'Yellow', 'Black')\n",
      "4 --> ('White', 'Green', 'Yellow', 'Pink')\n",
      "4 --> ('White', 'Black', 'Red', 'Green')\n",
      "4 --> ('White', 'Black', 'Red', 'Pink')\n",
      "4 --> ('White', 'Black', 'Red', 'Yellow')\n",
      "4 --> ('White', 'Black', 'Green', 'Red')\n",
      "4 --> ('White', 'Black', 'Green', 'Pink')\n",
      "4 --> ('White', 'Black', 'Green', 'Yellow')\n",
      "4 --> ('White', 'Black', 'Pink', 'Red')\n",
      "4 --> ('White', 'Black', 'Pink', 'Green')\n",
      "4 --> ('White', 'Black', 'Pink', 'Yellow')\n",
      "4 --> ('White', 'Black', 'Yellow', 'Red')\n",
      "4 --> ('White', 'Black', 'Yellow', 'Green')\n",
      "4 --> ('White', 'Black', 'Yellow', 'Pink')\n",
      "4 --> ('White', 'Pink', 'Red', 'Green')\n",
      "4 --> ('White', 'Pink', 'Red', 'Black')\n",
      "4 --> ('White', 'Pink', 'Red', 'Yellow')\n",
      "4 --> ('White', 'Pink', 'Green', 'Red')\n",
      "4 --> ('White', 'Pink', 'Green', 'Black')\n",
      "4 --> ('White', 'Pink', 'Green', 'Yellow')\n",
      "4 --> ('White', 'Pink', 'Black', 'Red')\n",
      "4 --> ('White', 'Pink', 'Black', 'Green')\n",
      "4 --> ('White', 'Pink', 'Black', 'Yellow')\n",
      "4 --> ('White', 'Pink', 'Yellow', 'Red')\n",
      "4 --> ('White', 'Pink', 'Yellow', 'Green')\n",
      "4 --> ('White', 'Pink', 'Yellow', 'Black')\n",
      "4 --> ('White', 'Yellow', 'Red', 'Green')\n",
      "4 --> ('White', 'Yellow', 'Red', 'Black')\n",
      "4 --> ('White', 'Yellow', 'Red', 'Pink')\n",
      "4 --> ('White', 'Yellow', 'Green', 'Red')\n",
      "4 --> ('White', 'Yellow', 'Green', 'Black')\n",
      "4 --> ('White', 'Yellow', 'Green', 'Pink')\n",
      "4 --> ('White', 'Yellow', 'Black', 'Red')\n",
      "4 --> ('White', 'Yellow', 'Black', 'Green')\n",
      "4 --> ('White', 'Yellow', 'Black', 'Pink')\n",
      "4 --> ('White', 'Yellow', 'Pink', 'Red')\n",
      "4 --> ('White', 'Yellow', 'Pink', 'Green')\n",
      "4 --> ('White', 'Yellow', 'Pink', 'Black')\n",
      "4 --> ('Black', 'Red', 'Green', 'White')\n",
      "4 --> ('Black', 'Red', 'Green', 'Pink')\n",
      "4 --> ('Black', 'Red', 'Green', 'Yellow')\n",
      "4 --> ('Black', 'Red', 'White', 'Green')\n",
      "4 --> ('Black', 'Red', 'White', 'Pink')\n",
      "4 --> ('Black', 'Red', 'White', 'Yellow')\n",
      "4 --> ('Black', 'Red', 'Pink', 'Green')\n",
      "4 --> ('Black', 'Red', 'Pink', 'White')\n",
      "4 --> ('Black', 'Red', 'Pink', 'Yellow')\n",
      "4 --> ('Black', 'Red', 'Yellow', 'Green')\n",
      "4 --> ('Black', 'Red', 'Yellow', 'White')\n",
      "4 --> ('Black', 'Red', 'Yellow', 'Pink')\n",
      "4 --> ('Black', 'Green', 'Red', 'White')\n",
      "4 --> ('Black', 'Green', 'Red', 'Pink')\n",
      "4 --> ('Black', 'Green', 'Red', 'Yellow')\n",
      "4 --> ('Black', 'Green', 'White', 'Red')\n",
      "4 --> ('Black', 'Green', 'White', 'Pink')\n",
      "4 --> ('Black', 'Green', 'White', 'Yellow')\n",
      "4 --> ('Black', 'Green', 'Pink', 'Red')\n",
      "4 --> ('Black', 'Green', 'Pink', 'White')\n",
      "4 --> ('Black', 'Green', 'Pink', 'Yellow')\n",
      "4 --> ('Black', 'Green', 'Yellow', 'Red')\n",
      "4 --> ('Black', 'Green', 'Yellow', 'White')\n",
      "4 --> ('Black', 'Green', 'Yellow', 'Pink')\n",
      "4 --> ('Black', 'White', 'Red', 'Green')\n",
      "4 --> ('Black', 'White', 'Red', 'Pink')\n",
      "4 --> ('Black', 'White', 'Red', 'Yellow')\n",
      "4 --> ('Black', 'White', 'Green', 'Red')\n",
      "4 --> ('Black', 'White', 'Green', 'Pink')\n",
      "4 --> ('Black', 'White', 'Green', 'Yellow')\n",
      "4 --> ('Black', 'White', 'Pink', 'Red')\n",
      "4 --> ('Black', 'White', 'Pink', 'Green')\n",
      "4 --> ('Black', 'White', 'Pink', 'Yellow')\n",
      "4 --> ('Black', 'White', 'Yellow', 'Red')\n",
      "4 --> ('Black', 'White', 'Yellow', 'Green')\n",
      "4 --> ('Black', 'White', 'Yellow', 'Pink')\n",
      "4 --> ('Black', 'Pink', 'Red', 'Green')\n",
      "4 --> ('Black', 'Pink', 'Red', 'White')\n",
      "4 --> ('Black', 'Pink', 'Red', 'Yellow')\n",
      "4 --> ('Black', 'Pink', 'Green', 'Red')\n",
      "4 --> ('Black', 'Pink', 'Green', 'White')\n",
      "4 --> ('Black', 'Pink', 'Green', 'Yellow')\n",
      "4 --> ('Black', 'Pink', 'White', 'Red')\n",
      "4 --> ('Black', 'Pink', 'White', 'Green')\n",
      "4 --> ('Black', 'Pink', 'White', 'Yellow')\n",
      "4 --> ('Black', 'Pink', 'Yellow', 'Red')\n",
      "4 --> ('Black', 'Pink', 'Yellow', 'Green')\n",
      "4 --> ('Black', 'Pink', 'Yellow', 'White')\n",
      "4 --> ('Black', 'Yellow', 'Red', 'Green')\n",
      "4 --> ('Black', 'Yellow', 'Red', 'White')\n",
      "4 --> ('Black', 'Yellow', 'Red', 'Pink')\n",
      "4 --> ('Black', 'Yellow', 'Green', 'Red')\n",
      "4 --> ('Black', 'Yellow', 'Green', 'White')\n",
      "4 --> ('Black', 'Yellow', 'Green', 'Pink')\n",
      "4 --> ('Black', 'Yellow', 'White', 'Red')\n",
      "4 --> ('Black', 'Yellow', 'White', 'Green')\n",
      "4 --> ('Black', 'Yellow', 'White', 'Pink')\n",
      "4 --> ('Black', 'Yellow', 'Pink', 'Red')\n",
      "4 --> ('Black', 'Yellow', 'Pink', 'Green')\n",
      "4 --> ('Black', 'Yellow', 'Pink', 'White')\n",
      "4 --> ('Pink', 'Red', 'Green', 'White')\n",
      "4 --> ('Pink', 'Red', 'Green', 'Black')\n",
      "4 --> ('Pink', 'Red', 'Green', 'Yellow')\n",
      "4 --> ('Pink', 'Red', 'White', 'Green')\n",
      "4 --> ('Pink', 'Red', 'White', 'Black')\n",
      "4 --> ('Pink', 'Red', 'White', 'Yellow')\n",
      "4 --> ('Pink', 'Red', 'Black', 'Green')\n",
      "4 --> ('Pink', 'Red', 'Black', 'White')\n",
      "4 --> ('Pink', 'Red', 'Black', 'Yellow')\n",
      "4 --> ('Pink', 'Red', 'Yellow', 'Green')\n",
      "4 --> ('Pink', 'Red', 'Yellow', 'White')\n",
      "4 --> ('Pink', 'Red', 'Yellow', 'Black')\n",
      "4 --> ('Pink', 'Green', 'Red', 'White')\n",
      "4 --> ('Pink', 'Green', 'Red', 'Black')\n",
      "4 --> ('Pink', 'Green', 'Red', 'Yellow')\n",
      "4 --> ('Pink', 'Green', 'White', 'Red')\n",
      "4 --> ('Pink', 'Green', 'White', 'Black')\n",
      "4 --> ('Pink', 'Green', 'White', 'Yellow')\n",
      "4 --> ('Pink', 'Green', 'Black', 'Red')\n",
      "4 --> ('Pink', 'Green', 'Black', 'White')\n",
      "4 --> ('Pink', 'Green', 'Black', 'Yellow')\n",
      "4 --> ('Pink', 'Green', 'Yellow', 'Red')\n",
      "4 --> ('Pink', 'Green', 'Yellow', 'White')\n",
      "4 --> ('Pink', 'Green', 'Yellow', 'Black')\n",
      "4 --> ('Pink', 'White', 'Red', 'Green')\n",
      "4 --> ('Pink', 'White', 'Red', 'Black')\n",
      "4 --> ('Pink', 'White', 'Red', 'Yellow')\n",
      "4 --> ('Pink', 'White', 'Green', 'Red')\n",
      "4 --> ('Pink', 'White', 'Green', 'Black')\n",
      "4 --> ('Pink', 'White', 'Green', 'Yellow')\n",
      "4 --> ('Pink', 'White', 'Black', 'Red')\n",
      "4 --> ('Pink', 'White', 'Black', 'Green')\n",
      "4 --> ('Pink', 'White', 'Black', 'Yellow')\n",
      "4 --> ('Pink', 'White', 'Yellow', 'Red')\n",
      "4 --> ('Pink', 'White', 'Yellow', 'Green')\n",
      "4 --> ('Pink', 'White', 'Yellow', 'Black')\n",
      "4 --> ('Pink', 'Black', 'Red', 'Green')\n",
      "4 --> ('Pink', 'Black', 'Red', 'White')\n",
      "4 --> ('Pink', 'Black', 'Red', 'Yellow')\n",
      "4 --> ('Pink', 'Black', 'Green', 'Red')\n",
      "4 --> ('Pink', 'Black', 'Green', 'White')\n",
      "4 --> ('Pink', 'Black', 'Green', 'Yellow')\n",
      "4 --> ('Pink', 'Black', 'White', 'Red')\n",
      "4 --> ('Pink', 'Black', 'White', 'Green')\n",
      "4 --> ('Pink', 'Black', 'White', 'Yellow')\n",
      "4 --> ('Pink', 'Black', 'Yellow', 'Red')\n",
      "4 --> ('Pink', 'Black', 'Yellow', 'Green')\n",
      "4 --> ('Pink', 'Black', 'Yellow', 'White')\n",
      "4 --> ('Pink', 'Yellow', 'Red', 'Green')\n",
      "4 --> ('Pink', 'Yellow', 'Red', 'White')\n",
      "4 --> ('Pink', 'Yellow', 'Red', 'Black')\n",
      "4 --> ('Pink', 'Yellow', 'Green', 'Red')\n",
      "4 --> ('Pink', 'Yellow', 'Green', 'White')\n",
      "4 --> ('Pink', 'Yellow', 'Green', 'Black')\n",
      "4 --> ('Pink', 'Yellow', 'White', 'Red')\n",
      "4 --> ('Pink', 'Yellow', 'White', 'Green')\n",
      "4 --> ('Pink', 'Yellow', 'White', 'Black')\n",
      "4 --> ('Pink', 'Yellow', 'Black', 'Red')\n",
      "4 --> ('Pink', 'Yellow', 'Black', 'Green')\n",
      "4 --> ('Pink', 'Yellow', 'Black', 'White')\n",
      "4 --> ('Yellow', 'Red', 'Green', 'White')\n",
      "4 --> ('Yellow', 'Red', 'Green', 'Black')\n",
      "4 --> ('Yellow', 'Red', 'Green', 'Pink')\n",
      "4 --> ('Yellow', 'Red', 'White', 'Green')\n",
      "4 --> ('Yellow', 'Red', 'White', 'Black')\n",
      "4 --> ('Yellow', 'Red', 'White', 'Pink')\n",
      "4 --> ('Yellow', 'Red', 'Black', 'Green')\n",
      "4 --> ('Yellow', 'Red', 'Black', 'White')\n",
      "4 --> ('Yellow', 'Red', 'Black', 'Pink')\n",
      "4 --> ('Yellow', 'Red', 'Pink', 'Green')\n",
      "4 --> ('Yellow', 'Red', 'Pink', 'White')\n",
      "4 --> ('Yellow', 'Red', 'Pink', 'Black')\n",
      "4 --> ('Yellow', 'Green', 'Red', 'White')\n",
      "4 --> ('Yellow', 'Green', 'Red', 'Black')\n",
      "4 --> ('Yellow', 'Green', 'Red', 'Pink')\n",
      "4 --> ('Yellow', 'Green', 'White', 'Red')\n",
      "4 --> ('Yellow', 'Green', 'White', 'Black')\n",
      "4 --> ('Yellow', 'Green', 'White', 'Pink')\n",
      "4 --> ('Yellow', 'Green', 'Black', 'Red')\n",
      "4 --> ('Yellow', 'Green', 'Black', 'White')\n",
      "4 --> ('Yellow', 'Green', 'Black', 'Pink')\n",
      "4 --> ('Yellow', 'Green', 'Pink', 'Red')\n",
      "4 --> ('Yellow', 'Green', 'Pink', 'White')\n",
      "4 --> ('Yellow', 'Green', 'Pink', 'Black')\n",
      "4 --> ('Yellow', 'White', 'Red', 'Green')\n",
      "4 --> ('Yellow', 'White', 'Red', 'Black')\n",
      "4 --> ('Yellow', 'White', 'Red', 'Pink')\n",
      "4 --> ('Yellow', 'White', 'Green', 'Red')\n",
      "4 --> ('Yellow', 'White', 'Green', 'Black')\n",
      "4 --> ('Yellow', 'White', 'Green', 'Pink')\n",
      "4 --> ('Yellow', 'White', 'Black', 'Red')\n",
      "4 --> ('Yellow', 'White', 'Black', 'Green')\n",
      "4 --> ('Yellow', 'White', 'Black', 'Pink')\n",
      "4 --> ('Yellow', 'White', 'Pink', 'Red')\n",
      "4 --> ('Yellow', 'White', 'Pink', 'Green')\n",
      "4 --> ('Yellow', 'White', 'Pink', 'Black')\n",
      "4 --> ('Yellow', 'Black', 'Red', 'Green')\n",
      "4 --> ('Yellow', 'Black', 'Red', 'White')\n",
      "4 --> ('Yellow', 'Black', 'Red', 'Pink')\n",
      "4 --> ('Yellow', 'Black', 'Green', 'Red')\n",
      "4 --> ('Yellow', 'Black', 'Green', 'White')\n",
      "4 --> ('Yellow', 'Black', 'Green', 'Pink')\n",
      "4 --> ('Yellow', 'Black', 'White', 'Red')\n",
      "4 --> ('Yellow', 'Black', 'White', 'Green')\n",
      "4 --> ('Yellow', 'Black', 'White', 'Pink')\n",
      "4 --> ('Yellow', 'Black', 'Pink', 'Red')\n",
      "4 --> ('Yellow', 'Black', 'Pink', 'Green')\n",
      "4 --> ('Yellow', 'Black', 'Pink', 'White')\n",
      "4 --> ('Yellow', 'Pink', 'Red', 'Green')\n",
      "4 --> ('Yellow', 'Pink', 'Red', 'White')\n",
      "4 --> ('Yellow', 'Pink', 'Red', 'Black')\n",
      "4 --> ('Yellow', 'Pink', 'Green', 'Red')\n",
      "4 --> ('Yellow', 'Pink', 'Green', 'White')\n",
      "4 --> ('Yellow', 'Pink', 'Green', 'Black')\n",
      "4 --> ('Yellow', 'Pink', 'White', 'Red')\n",
      "4 --> ('Yellow', 'Pink', 'White', 'Green')\n",
      "4 --> ('Yellow', 'Pink', 'White', 'Black')\n",
      "4 --> ('Yellow', 'Pink', 'Black', 'Red')\n",
      "4 --> ('Yellow', 'Pink', 'Black', 'Green')\n",
      "4 --> ('Yellow', 'Pink', 'Black', 'White')\n",
      "5 --> ('Red', 'Green', 'White', 'Black', 'Pink')\n",
      "5 --> ('Red', 'Green', 'White', 'Black', 'Yellow')\n",
      "5 --> ('Red', 'Green', 'White', 'Pink', 'Black')\n",
      "5 --> ('Red', 'Green', 'White', 'Pink', 'Yellow')\n",
      "5 --> ('Red', 'Green', 'White', 'Yellow', 'Black')\n",
      "5 --> ('Red', 'Green', 'White', 'Yellow', 'Pink')\n",
      "5 --> ('Red', 'Green', 'Black', 'White', 'Pink')\n",
      "5 --> ('Red', 'Green', 'Black', 'White', 'Yellow')\n",
      "5 --> ('Red', 'Green', 'Black', 'Pink', 'White')\n",
      "5 --> ('Red', 'Green', 'Black', 'Pink', 'Yellow')\n",
      "5 --> ('Red', 'Green', 'Black', 'Yellow', 'White')\n",
      "5 --> ('Red', 'Green', 'Black', 'Yellow', 'Pink')\n",
      "5 --> ('Red', 'Green', 'Pink', 'White', 'Black')\n",
      "5 --> ('Red', 'Green', 'Pink', 'White', 'Yellow')\n",
      "5 --> ('Red', 'Green', 'Pink', 'Black', 'White')\n",
      "5 --> ('Red', 'Green', 'Pink', 'Black', 'Yellow')\n",
      "5 --> ('Red', 'Green', 'Pink', 'Yellow', 'White')\n",
      "5 --> ('Red', 'Green', 'Pink', 'Yellow', 'Black')\n",
      "5 --> ('Red', 'Green', 'Yellow', 'White', 'Black')\n",
      "5 --> ('Red', 'Green', 'Yellow', 'White', 'Pink')\n",
      "5 --> ('Red', 'Green', 'Yellow', 'Black', 'White')\n",
      "5 --> ('Red', 'Green', 'Yellow', 'Black', 'Pink')\n",
      "5 --> ('Red', 'Green', 'Yellow', 'Pink', 'White')\n",
      "5 --> ('Red', 'Green', 'Yellow', 'Pink', 'Black')\n",
      "5 --> ('Red', 'White', 'Green', 'Black', 'Pink')\n",
      "5 --> ('Red', 'White', 'Green', 'Black', 'Yellow')\n",
      "5 --> ('Red', 'White', 'Green', 'Pink', 'Black')\n",
      "5 --> ('Red', 'White', 'Green', 'Pink', 'Yellow')\n",
      "5 --> ('Red', 'White', 'Green', 'Yellow', 'Black')\n",
      "5 --> ('Red', 'White', 'Green', 'Yellow', 'Pink')\n",
      "5 --> ('Red', 'White', 'Black', 'Green', 'Pink')\n",
      "5 --> ('Red', 'White', 'Black', 'Green', 'Yellow')\n",
      "5 --> ('Red', 'White', 'Black', 'Pink', 'Green')\n",
      "5 --> ('Red', 'White', 'Black', 'Pink', 'Yellow')\n",
      "5 --> ('Red', 'White', 'Black', 'Yellow', 'Green')\n",
      "5 --> ('Red', 'White', 'Black', 'Yellow', 'Pink')\n",
      "5 --> ('Red', 'White', 'Pink', 'Green', 'Black')\n",
      "5 --> ('Red', 'White', 'Pink', 'Green', 'Yellow')\n",
      "5 --> ('Red', 'White', 'Pink', 'Black', 'Green')\n",
      "5 --> ('Red', 'White', 'Pink', 'Black', 'Yellow')\n",
      "5 --> ('Red', 'White', 'Pink', 'Yellow', 'Green')\n",
      "5 --> ('Red', 'White', 'Pink', 'Yellow', 'Black')\n",
      "5 --> ('Red', 'White', 'Yellow', 'Green', 'Black')\n",
      "5 --> ('Red', 'White', 'Yellow', 'Green', 'Pink')\n",
      "5 --> ('Red', 'White', 'Yellow', 'Black', 'Green')\n",
      "5 --> ('Red', 'White', 'Yellow', 'Black', 'Pink')\n",
      "5 --> ('Red', 'White', 'Yellow', 'Pink', 'Green')\n",
      "5 --> ('Red', 'White', 'Yellow', 'Pink', 'Black')\n",
      "5 --> ('Red', 'Black', 'Green', 'White', 'Pink')\n",
      "5 --> ('Red', 'Black', 'Green', 'White', 'Yellow')\n",
      "5 --> ('Red', 'Black', 'Green', 'Pink', 'White')\n",
      "5 --> ('Red', 'Black', 'Green', 'Pink', 'Yellow')\n",
      "5 --> ('Red', 'Black', 'Green', 'Yellow', 'White')\n",
      "5 --> ('Red', 'Black', 'Green', 'Yellow', 'Pink')\n",
      "5 --> ('Red', 'Black', 'White', 'Green', 'Pink')\n",
      "5 --> ('Red', 'Black', 'White', 'Green', 'Yellow')\n",
      "5 --> ('Red', 'Black', 'White', 'Pink', 'Green')\n",
      "5 --> ('Red', 'Black', 'White', 'Pink', 'Yellow')\n",
      "5 --> ('Red', 'Black', 'White', 'Yellow', 'Green')\n",
      "5 --> ('Red', 'Black', 'White', 'Yellow', 'Pink')\n",
      "5 --> ('Red', 'Black', 'Pink', 'Green', 'White')\n",
      "5 --> ('Red', 'Black', 'Pink', 'Green', 'Yellow')\n",
      "5 --> ('Red', 'Black', 'Pink', 'White', 'Green')\n",
      "5 --> ('Red', 'Black', 'Pink', 'White', 'Yellow')\n",
      "5 --> ('Red', 'Black', 'Pink', 'Yellow', 'Green')\n",
      "5 --> ('Red', 'Black', 'Pink', 'Yellow', 'White')\n",
      "5 --> ('Red', 'Black', 'Yellow', 'Green', 'White')\n",
      "5 --> ('Red', 'Black', 'Yellow', 'Green', 'Pink')\n",
      "5 --> ('Red', 'Black', 'Yellow', 'White', 'Green')\n",
      "5 --> ('Red', 'Black', 'Yellow', 'White', 'Pink')\n",
      "5 --> ('Red', 'Black', 'Yellow', 'Pink', 'Green')\n",
      "5 --> ('Red', 'Black', 'Yellow', 'Pink', 'White')\n",
      "5 --> ('Red', 'Pink', 'Green', 'White', 'Black')\n",
      "5 --> ('Red', 'Pink', 'Green', 'White', 'Yellow')\n",
      "5 --> ('Red', 'Pink', 'Green', 'Black', 'White')\n",
      "5 --> ('Red', 'Pink', 'Green', 'Black', 'Yellow')\n",
      "5 --> ('Red', 'Pink', 'Green', 'Yellow', 'White')\n",
      "5 --> ('Red', 'Pink', 'Green', 'Yellow', 'Black')\n",
      "5 --> ('Red', 'Pink', 'White', 'Green', 'Black')\n",
      "5 --> ('Red', 'Pink', 'White', 'Green', 'Yellow')\n",
      "5 --> ('Red', 'Pink', 'White', 'Black', 'Green')\n",
      "5 --> ('Red', 'Pink', 'White', 'Black', 'Yellow')\n",
      "5 --> ('Red', 'Pink', 'White', 'Yellow', 'Green')\n",
      "5 --> ('Red', 'Pink', 'White', 'Yellow', 'Black')\n",
      "5 --> ('Red', 'Pink', 'Black', 'Green', 'White')\n",
      "5 --> ('Red', 'Pink', 'Black', 'Green', 'Yellow')\n",
      "5 --> ('Red', 'Pink', 'Black', 'White', 'Green')\n",
      "5 --> ('Red', 'Pink', 'Black', 'White', 'Yellow')\n",
      "5 --> ('Red', 'Pink', 'Black', 'Yellow', 'Green')\n",
      "5 --> ('Red', 'Pink', 'Black', 'Yellow', 'White')\n",
      "5 --> ('Red', 'Pink', 'Yellow', 'Green', 'White')\n",
      "5 --> ('Red', 'Pink', 'Yellow', 'Green', 'Black')\n",
      "5 --> ('Red', 'Pink', 'Yellow', 'White', 'Green')\n",
      "5 --> ('Red', 'Pink', 'Yellow', 'White', 'Black')\n",
      "5 --> ('Red', 'Pink', 'Yellow', 'Black', 'Green')\n",
      "5 --> ('Red', 'Pink', 'Yellow', 'Black', 'White')\n",
      "5 --> ('Red', 'Yellow', 'Green', 'White', 'Black')\n",
      "5 --> ('Red', 'Yellow', 'Green', 'White', 'Pink')\n",
      "5 --> ('Red', 'Yellow', 'Green', 'Black', 'White')\n",
      "5 --> ('Red', 'Yellow', 'Green', 'Black', 'Pink')\n",
      "5 --> ('Red', 'Yellow', 'Green', 'Pink', 'White')\n",
      "5 --> ('Red', 'Yellow', 'Green', 'Pink', 'Black')\n",
      "5 --> ('Red', 'Yellow', 'White', 'Green', 'Black')\n",
      "5 --> ('Red', 'Yellow', 'White', 'Green', 'Pink')\n",
      "5 --> ('Red', 'Yellow', 'White', 'Black', 'Green')\n",
      "5 --> ('Red', 'Yellow', 'White', 'Black', 'Pink')\n",
      "5 --> ('Red', 'Yellow', 'White', 'Pink', 'Green')\n",
      "5 --> ('Red', 'Yellow', 'White', 'Pink', 'Black')\n",
      "5 --> ('Red', 'Yellow', 'Black', 'Green', 'White')\n",
      "5 --> ('Red', 'Yellow', 'Black', 'Green', 'Pink')\n",
      "5 --> ('Red', 'Yellow', 'Black', 'White', 'Green')\n",
      "5 --> ('Red', 'Yellow', 'Black', 'White', 'Pink')\n",
      "5 --> ('Red', 'Yellow', 'Black', 'Pink', 'Green')\n",
      "5 --> ('Red', 'Yellow', 'Black', 'Pink', 'White')\n",
      "5 --> ('Red', 'Yellow', 'Pink', 'Green', 'White')\n",
      "5 --> ('Red', 'Yellow', 'Pink', 'Green', 'Black')\n",
      "5 --> ('Red', 'Yellow', 'Pink', 'White', 'Green')\n",
      "5 --> ('Red', 'Yellow', 'Pink', 'White', 'Black')\n",
      "5 --> ('Red', 'Yellow', 'Pink', 'Black', 'Green')\n",
      "5 --> ('Red', 'Yellow', 'Pink', 'Black', 'White')\n",
      "5 --> ('Green', 'Red', 'White', 'Black', 'Pink')\n",
      "5 --> ('Green', 'Red', 'White', 'Black', 'Yellow')\n",
      "5 --> ('Green', 'Red', 'White', 'Pink', 'Black')\n",
      "5 --> ('Green', 'Red', 'White', 'Pink', 'Yellow')\n",
      "5 --> ('Green', 'Red', 'White', 'Yellow', 'Black')\n",
      "5 --> ('Green', 'Red', 'White', 'Yellow', 'Pink')\n",
      "5 --> ('Green', 'Red', 'Black', 'White', 'Pink')\n",
      "5 --> ('Green', 'Red', 'Black', 'White', 'Yellow')\n",
      "5 --> ('Green', 'Red', 'Black', 'Pink', 'White')\n",
      "5 --> ('Green', 'Red', 'Black', 'Pink', 'Yellow')\n",
      "5 --> ('Green', 'Red', 'Black', 'Yellow', 'White')\n",
      "5 --> ('Green', 'Red', 'Black', 'Yellow', 'Pink')\n",
      "5 --> ('Green', 'Red', 'Pink', 'White', 'Black')\n",
      "5 --> ('Green', 'Red', 'Pink', 'White', 'Yellow')\n",
      "5 --> ('Green', 'Red', 'Pink', 'Black', 'White')\n",
      "5 --> ('Green', 'Red', 'Pink', 'Black', 'Yellow')\n",
      "5 --> ('Green', 'Red', 'Pink', 'Yellow', 'White')\n",
      "5 --> ('Green', 'Red', 'Pink', 'Yellow', 'Black')\n",
      "5 --> ('Green', 'Red', 'Yellow', 'White', 'Black')\n",
      "5 --> ('Green', 'Red', 'Yellow', 'White', 'Pink')\n",
      "5 --> ('Green', 'Red', 'Yellow', 'Black', 'White')\n",
      "5 --> ('Green', 'Red', 'Yellow', 'Black', 'Pink')\n",
      "5 --> ('Green', 'Red', 'Yellow', 'Pink', 'White')\n",
      "5 --> ('Green', 'Red', 'Yellow', 'Pink', 'Black')\n",
      "5 --> ('Green', 'White', 'Red', 'Black', 'Pink')\n",
      "5 --> ('Green', 'White', 'Red', 'Black', 'Yellow')\n",
      "5 --> ('Green', 'White', 'Red', 'Pink', 'Black')\n",
      "5 --> ('Green', 'White', 'Red', 'Pink', 'Yellow')\n",
      "5 --> ('Green', 'White', 'Red', 'Yellow', 'Black')\n",
      "5 --> ('Green', 'White', 'Red', 'Yellow', 'Pink')\n",
      "5 --> ('Green', 'White', 'Black', 'Red', 'Pink')\n",
      "5 --> ('Green', 'White', 'Black', 'Red', 'Yellow')\n",
      "5 --> ('Green', 'White', 'Black', 'Pink', 'Red')\n",
      "5 --> ('Green', 'White', 'Black', 'Pink', 'Yellow')\n",
      "5 --> ('Green', 'White', 'Black', 'Yellow', 'Red')\n",
      "5 --> ('Green', 'White', 'Black', 'Yellow', 'Pink')\n",
      "5 --> ('Green', 'White', 'Pink', 'Red', 'Black')\n",
      "5 --> ('Green', 'White', 'Pink', 'Red', 'Yellow')\n",
      "5 --> ('Green', 'White', 'Pink', 'Black', 'Red')\n",
      "5 --> ('Green', 'White', 'Pink', 'Black', 'Yellow')\n",
      "5 --> ('Green', 'White', 'Pink', 'Yellow', 'Red')\n",
      "5 --> ('Green', 'White', 'Pink', 'Yellow', 'Black')\n",
      "5 --> ('Green', 'White', 'Yellow', 'Red', 'Black')\n",
      "5 --> ('Green', 'White', 'Yellow', 'Red', 'Pink')\n",
      "5 --> ('Green', 'White', 'Yellow', 'Black', 'Red')\n",
      "5 --> ('Green', 'White', 'Yellow', 'Black', 'Pink')\n",
      "5 --> ('Green', 'White', 'Yellow', 'Pink', 'Red')\n",
      "5 --> ('Green', 'White', 'Yellow', 'Pink', 'Black')\n",
      "5 --> ('Green', 'Black', 'Red', 'White', 'Pink')\n",
      "5 --> ('Green', 'Black', 'Red', 'White', 'Yellow')\n",
      "5 --> ('Green', 'Black', 'Red', 'Pink', 'White')\n",
      "5 --> ('Green', 'Black', 'Red', 'Pink', 'Yellow')\n",
      "5 --> ('Green', 'Black', 'Red', 'Yellow', 'White')\n",
      "5 --> ('Green', 'Black', 'Red', 'Yellow', 'Pink')\n",
      "5 --> ('Green', 'Black', 'White', 'Red', 'Pink')\n",
      "5 --> ('Green', 'Black', 'White', 'Red', 'Yellow')\n",
      "5 --> ('Green', 'Black', 'White', 'Pink', 'Red')\n",
      "5 --> ('Green', 'Black', 'White', 'Pink', 'Yellow')\n",
      "5 --> ('Green', 'Black', 'White', 'Yellow', 'Red')\n",
      "5 --> ('Green', 'Black', 'White', 'Yellow', 'Pink')\n",
      "5 --> ('Green', 'Black', 'Pink', 'Red', 'White')\n",
      "5 --> ('Green', 'Black', 'Pink', 'Red', 'Yellow')\n",
      "5 --> ('Green', 'Black', 'Pink', 'White', 'Red')\n",
      "5 --> ('Green', 'Black', 'Pink', 'White', 'Yellow')\n",
      "5 --> ('Green', 'Black', 'Pink', 'Yellow', 'Red')\n",
      "5 --> ('Green', 'Black', 'Pink', 'Yellow', 'White')\n",
      "5 --> ('Green', 'Black', 'Yellow', 'Red', 'White')\n",
      "5 --> ('Green', 'Black', 'Yellow', 'Red', 'Pink')\n",
      "5 --> ('Green', 'Black', 'Yellow', 'White', 'Red')\n",
      "5 --> ('Green', 'Black', 'Yellow', 'White', 'Pink')\n",
      "5 --> ('Green', 'Black', 'Yellow', 'Pink', 'Red')\n",
      "5 --> ('Green', 'Black', 'Yellow', 'Pink', 'White')\n",
      "5 --> ('Green', 'Pink', 'Red', 'White', 'Black')\n",
      "5 --> ('Green', 'Pink', 'Red', 'White', 'Yellow')\n",
      "5 --> ('Green', 'Pink', 'Red', 'Black', 'White')\n",
      "5 --> ('Green', 'Pink', 'Red', 'Black', 'Yellow')\n",
      "5 --> ('Green', 'Pink', 'Red', 'Yellow', 'White')\n",
      "5 --> ('Green', 'Pink', 'Red', 'Yellow', 'Black')\n",
      "5 --> ('Green', 'Pink', 'White', 'Red', 'Black')\n",
      "5 --> ('Green', 'Pink', 'White', 'Red', 'Yellow')\n",
      "5 --> ('Green', 'Pink', 'White', 'Black', 'Red')\n",
      "5 --> ('Green', 'Pink', 'White', 'Black', 'Yellow')\n",
      "5 --> ('Green', 'Pink', 'White', 'Yellow', 'Red')\n",
      "5 --> ('Green', 'Pink', 'White', 'Yellow', 'Black')\n",
      "5 --> ('Green', 'Pink', 'Black', 'Red', 'White')\n",
      "5 --> ('Green', 'Pink', 'Black', 'Red', 'Yellow')\n",
      "5 --> ('Green', 'Pink', 'Black', 'White', 'Red')\n",
      "5 --> ('Green', 'Pink', 'Black', 'White', 'Yellow')\n",
      "5 --> ('Green', 'Pink', 'Black', 'Yellow', 'Red')\n",
      "5 --> ('Green', 'Pink', 'Black', 'Yellow', 'White')\n",
      "5 --> ('Green', 'Pink', 'Yellow', 'Red', 'White')\n",
      "5 --> ('Green', 'Pink', 'Yellow', 'Red', 'Black')\n",
      "5 --> ('Green', 'Pink', 'Yellow', 'White', 'Red')\n",
      "5 --> ('Green', 'Pink', 'Yellow', 'White', 'Black')\n",
      "5 --> ('Green', 'Pink', 'Yellow', 'Black', 'Red')\n",
      "5 --> ('Green', 'Pink', 'Yellow', 'Black', 'White')\n",
      "5 --> ('Green', 'Yellow', 'Red', 'White', 'Black')\n",
      "5 --> ('Green', 'Yellow', 'Red', 'White', 'Pink')\n",
      "5 --> ('Green', 'Yellow', 'Red', 'Black', 'White')\n",
      "5 --> ('Green', 'Yellow', 'Red', 'Black', 'Pink')\n",
      "5 --> ('Green', 'Yellow', 'Red', 'Pink', 'White')\n",
      "5 --> ('Green', 'Yellow', 'Red', 'Pink', 'Black')\n",
      "5 --> ('Green', 'Yellow', 'White', 'Red', 'Black')\n",
      "5 --> ('Green', 'Yellow', 'White', 'Red', 'Pink')\n",
      "5 --> ('Green', 'Yellow', 'White', 'Black', 'Red')\n",
      "5 --> ('Green', 'Yellow', 'White', 'Black', 'Pink')\n",
      "5 --> ('Green', 'Yellow', 'White', 'Pink', 'Red')\n",
      "5 --> ('Green', 'Yellow', 'White', 'Pink', 'Black')\n",
      "5 --> ('Green', 'Yellow', 'Black', 'Red', 'White')\n"
     ]
    },
    {
     "name": "stdout",
     "output_type": "stream",
     "text": [
      "5 --> ('Green', 'Yellow', 'Black', 'Red', 'Pink')\n",
      "5 --> ('Green', 'Yellow', 'Black', 'White', 'Red')\n",
      "5 --> ('Green', 'Yellow', 'Black', 'White', 'Pink')\n",
      "5 --> ('Green', 'Yellow', 'Black', 'Pink', 'Red')\n",
      "5 --> ('Green', 'Yellow', 'Black', 'Pink', 'White')\n",
      "5 --> ('Green', 'Yellow', 'Pink', 'Red', 'White')\n",
      "5 --> ('Green', 'Yellow', 'Pink', 'Red', 'Black')\n",
      "5 --> ('Green', 'Yellow', 'Pink', 'White', 'Red')\n",
      "5 --> ('Green', 'Yellow', 'Pink', 'White', 'Black')\n",
      "5 --> ('Green', 'Yellow', 'Pink', 'Black', 'Red')\n",
      "5 --> ('Green', 'Yellow', 'Pink', 'Black', 'White')\n",
      "5 --> ('White', 'Red', 'Green', 'Black', 'Pink')\n",
      "5 --> ('White', 'Red', 'Green', 'Black', 'Yellow')\n",
      "5 --> ('White', 'Red', 'Green', 'Pink', 'Black')\n",
      "5 --> ('White', 'Red', 'Green', 'Pink', 'Yellow')\n",
      "5 --> ('White', 'Red', 'Green', 'Yellow', 'Black')\n",
      "5 --> ('White', 'Red', 'Green', 'Yellow', 'Pink')\n",
      "5 --> ('White', 'Red', 'Black', 'Green', 'Pink')\n",
      "5 --> ('White', 'Red', 'Black', 'Green', 'Yellow')\n",
      "5 --> ('White', 'Red', 'Black', 'Pink', 'Green')\n",
      "5 --> ('White', 'Red', 'Black', 'Pink', 'Yellow')\n",
      "5 --> ('White', 'Red', 'Black', 'Yellow', 'Green')\n",
      "5 --> ('White', 'Red', 'Black', 'Yellow', 'Pink')\n",
      "5 --> ('White', 'Red', 'Pink', 'Green', 'Black')\n",
      "5 --> ('White', 'Red', 'Pink', 'Green', 'Yellow')\n",
      "5 --> ('White', 'Red', 'Pink', 'Black', 'Green')\n",
      "5 --> ('White', 'Red', 'Pink', 'Black', 'Yellow')\n",
      "5 --> ('White', 'Red', 'Pink', 'Yellow', 'Green')\n",
      "5 --> ('White', 'Red', 'Pink', 'Yellow', 'Black')\n",
      "5 --> ('White', 'Red', 'Yellow', 'Green', 'Black')\n",
      "5 --> ('White', 'Red', 'Yellow', 'Green', 'Pink')\n",
      "5 --> ('White', 'Red', 'Yellow', 'Black', 'Green')\n",
      "5 --> ('White', 'Red', 'Yellow', 'Black', 'Pink')\n",
      "5 --> ('White', 'Red', 'Yellow', 'Pink', 'Green')\n",
      "5 --> ('White', 'Red', 'Yellow', 'Pink', 'Black')\n",
      "5 --> ('White', 'Green', 'Red', 'Black', 'Pink')\n",
      "5 --> ('White', 'Green', 'Red', 'Black', 'Yellow')\n",
      "5 --> ('White', 'Green', 'Red', 'Pink', 'Black')\n",
      "5 --> ('White', 'Green', 'Red', 'Pink', 'Yellow')\n",
      "5 --> ('White', 'Green', 'Red', 'Yellow', 'Black')\n",
      "5 --> ('White', 'Green', 'Red', 'Yellow', 'Pink')\n",
      "5 --> ('White', 'Green', 'Black', 'Red', 'Pink')\n",
      "5 --> ('White', 'Green', 'Black', 'Red', 'Yellow')\n",
      "5 --> ('White', 'Green', 'Black', 'Pink', 'Red')\n",
      "5 --> ('White', 'Green', 'Black', 'Pink', 'Yellow')\n",
      "5 --> ('White', 'Green', 'Black', 'Yellow', 'Red')\n",
      "5 --> ('White', 'Green', 'Black', 'Yellow', 'Pink')\n",
      "5 --> ('White', 'Green', 'Pink', 'Red', 'Black')\n",
      "5 --> ('White', 'Green', 'Pink', 'Red', 'Yellow')\n",
      "5 --> ('White', 'Green', 'Pink', 'Black', 'Red')\n",
      "5 --> ('White', 'Green', 'Pink', 'Black', 'Yellow')\n",
      "5 --> ('White', 'Green', 'Pink', 'Yellow', 'Red')\n",
      "5 --> ('White', 'Green', 'Pink', 'Yellow', 'Black')\n",
      "5 --> ('White', 'Green', 'Yellow', 'Red', 'Black')\n",
      "5 --> ('White', 'Green', 'Yellow', 'Red', 'Pink')\n",
      "5 --> ('White', 'Green', 'Yellow', 'Black', 'Red')\n",
      "5 --> ('White', 'Green', 'Yellow', 'Black', 'Pink')\n",
      "5 --> ('White', 'Green', 'Yellow', 'Pink', 'Red')\n",
      "5 --> ('White', 'Green', 'Yellow', 'Pink', 'Black')\n",
      "5 --> ('White', 'Black', 'Red', 'Green', 'Pink')\n",
      "5 --> ('White', 'Black', 'Red', 'Green', 'Yellow')\n",
      "5 --> ('White', 'Black', 'Red', 'Pink', 'Green')\n",
      "5 --> ('White', 'Black', 'Red', 'Pink', 'Yellow')\n",
      "5 --> ('White', 'Black', 'Red', 'Yellow', 'Green')\n",
      "5 --> ('White', 'Black', 'Red', 'Yellow', 'Pink')\n",
      "5 --> ('White', 'Black', 'Green', 'Red', 'Pink')\n",
      "5 --> ('White', 'Black', 'Green', 'Red', 'Yellow')\n",
      "5 --> ('White', 'Black', 'Green', 'Pink', 'Red')\n",
      "5 --> ('White', 'Black', 'Green', 'Pink', 'Yellow')\n",
      "5 --> ('White', 'Black', 'Green', 'Yellow', 'Red')\n",
      "5 --> ('White', 'Black', 'Green', 'Yellow', 'Pink')\n",
      "5 --> ('White', 'Black', 'Pink', 'Red', 'Green')\n",
      "5 --> ('White', 'Black', 'Pink', 'Red', 'Yellow')\n",
      "5 --> ('White', 'Black', 'Pink', 'Green', 'Red')\n",
      "5 --> ('White', 'Black', 'Pink', 'Green', 'Yellow')\n",
      "5 --> ('White', 'Black', 'Pink', 'Yellow', 'Red')\n",
      "5 --> ('White', 'Black', 'Pink', 'Yellow', 'Green')\n",
      "5 --> ('White', 'Black', 'Yellow', 'Red', 'Green')\n",
      "5 --> ('White', 'Black', 'Yellow', 'Red', 'Pink')\n",
      "5 --> ('White', 'Black', 'Yellow', 'Green', 'Red')\n",
      "5 --> ('White', 'Black', 'Yellow', 'Green', 'Pink')\n",
      "5 --> ('White', 'Black', 'Yellow', 'Pink', 'Red')\n",
      "5 --> ('White', 'Black', 'Yellow', 'Pink', 'Green')\n",
      "5 --> ('White', 'Pink', 'Red', 'Green', 'Black')\n",
      "5 --> ('White', 'Pink', 'Red', 'Green', 'Yellow')\n",
      "5 --> ('White', 'Pink', 'Red', 'Black', 'Green')\n",
      "5 --> ('White', 'Pink', 'Red', 'Black', 'Yellow')\n",
      "5 --> ('White', 'Pink', 'Red', 'Yellow', 'Green')\n",
      "5 --> ('White', 'Pink', 'Red', 'Yellow', 'Black')\n",
      "5 --> ('White', 'Pink', 'Green', 'Red', 'Black')\n",
      "5 --> ('White', 'Pink', 'Green', 'Red', 'Yellow')\n",
      "5 --> ('White', 'Pink', 'Green', 'Black', 'Red')\n",
      "5 --> ('White', 'Pink', 'Green', 'Black', 'Yellow')\n",
      "5 --> ('White', 'Pink', 'Green', 'Yellow', 'Red')\n",
      "5 --> ('White', 'Pink', 'Green', 'Yellow', 'Black')\n",
      "5 --> ('White', 'Pink', 'Black', 'Red', 'Green')\n",
      "5 --> ('White', 'Pink', 'Black', 'Red', 'Yellow')\n",
      "5 --> ('White', 'Pink', 'Black', 'Green', 'Red')\n",
      "5 --> ('White', 'Pink', 'Black', 'Green', 'Yellow')\n",
      "5 --> ('White', 'Pink', 'Black', 'Yellow', 'Red')\n",
      "5 --> ('White', 'Pink', 'Black', 'Yellow', 'Green')\n",
      "5 --> ('White', 'Pink', 'Yellow', 'Red', 'Green')\n",
      "5 --> ('White', 'Pink', 'Yellow', 'Red', 'Black')\n",
      "5 --> ('White', 'Pink', 'Yellow', 'Green', 'Red')\n",
      "5 --> ('White', 'Pink', 'Yellow', 'Green', 'Black')\n",
      "5 --> ('White', 'Pink', 'Yellow', 'Black', 'Red')\n",
      "5 --> ('White', 'Pink', 'Yellow', 'Black', 'Green')\n",
      "5 --> ('White', 'Yellow', 'Red', 'Green', 'Black')\n",
      "5 --> ('White', 'Yellow', 'Red', 'Green', 'Pink')\n",
      "5 --> ('White', 'Yellow', 'Red', 'Black', 'Green')\n",
      "5 --> ('White', 'Yellow', 'Red', 'Black', 'Pink')\n",
      "5 --> ('White', 'Yellow', 'Red', 'Pink', 'Green')\n",
      "5 --> ('White', 'Yellow', 'Red', 'Pink', 'Black')\n",
      "5 --> ('White', 'Yellow', 'Green', 'Red', 'Black')\n",
      "5 --> ('White', 'Yellow', 'Green', 'Red', 'Pink')\n",
      "5 --> ('White', 'Yellow', 'Green', 'Black', 'Red')\n",
      "5 --> ('White', 'Yellow', 'Green', 'Black', 'Pink')\n",
      "5 --> ('White', 'Yellow', 'Green', 'Pink', 'Red')\n",
      "5 --> ('White', 'Yellow', 'Green', 'Pink', 'Black')\n",
      "5 --> ('White', 'Yellow', 'Black', 'Red', 'Green')\n",
      "5 --> ('White', 'Yellow', 'Black', 'Red', 'Pink')\n",
      "5 --> ('White', 'Yellow', 'Black', 'Green', 'Red')\n",
      "5 --> ('White', 'Yellow', 'Black', 'Green', 'Pink')\n",
      "5 --> ('White', 'Yellow', 'Black', 'Pink', 'Red')\n",
      "5 --> ('White', 'Yellow', 'Black', 'Pink', 'Green')\n",
      "5 --> ('White', 'Yellow', 'Pink', 'Red', 'Green')\n",
      "5 --> ('White', 'Yellow', 'Pink', 'Red', 'Black')\n",
      "5 --> ('White', 'Yellow', 'Pink', 'Green', 'Red')\n",
      "5 --> ('White', 'Yellow', 'Pink', 'Green', 'Black')\n",
      "5 --> ('White', 'Yellow', 'Pink', 'Black', 'Red')\n",
      "5 --> ('White', 'Yellow', 'Pink', 'Black', 'Green')\n",
      "5 --> ('Black', 'Red', 'Green', 'White', 'Pink')\n",
      "5 --> ('Black', 'Red', 'Green', 'White', 'Yellow')\n",
      "5 --> ('Black', 'Red', 'Green', 'Pink', 'White')\n",
      "5 --> ('Black', 'Red', 'Green', 'Pink', 'Yellow')\n",
      "5 --> ('Black', 'Red', 'Green', 'Yellow', 'White')\n",
      "5 --> ('Black', 'Red', 'Green', 'Yellow', 'Pink')\n",
      "5 --> ('Black', 'Red', 'White', 'Green', 'Pink')\n",
      "5 --> ('Black', 'Red', 'White', 'Green', 'Yellow')\n",
      "5 --> ('Black', 'Red', 'White', 'Pink', 'Green')\n",
      "5 --> ('Black', 'Red', 'White', 'Pink', 'Yellow')\n",
      "5 --> ('Black', 'Red', 'White', 'Yellow', 'Green')\n",
      "5 --> ('Black', 'Red', 'White', 'Yellow', 'Pink')\n",
      "5 --> ('Black', 'Red', 'Pink', 'Green', 'White')\n",
      "5 --> ('Black', 'Red', 'Pink', 'Green', 'Yellow')\n",
      "5 --> ('Black', 'Red', 'Pink', 'White', 'Green')\n",
      "5 --> ('Black', 'Red', 'Pink', 'White', 'Yellow')\n",
      "5 --> ('Black', 'Red', 'Pink', 'Yellow', 'Green')\n",
      "5 --> ('Black', 'Red', 'Pink', 'Yellow', 'White')\n",
      "5 --> ('Black', 'Red', 'Yellow', 'Green', 'White')\n",
      "5 --> ('Black', 'Red', 'Yellow', 'Green', 'Pink')\n",
      "5 --> ('Black', 'Red', 'Yellow', 'White', 'Green')\n",
      "5 --> ('Black', 'Red', 'Yellow', 'White', 'Pink')\n",
      "5 --> ('Black', 'Red', 'Yellow', 'Pink', 'Green')\n",
      "5 --> ('Black', 'Red', 'Yellow', 'Pink', 'White')\n",
      "5 --> ('Black', 'Green', 'Red', 'White', 'Pink')\n",
      "5 --> ('Black', 'Green', 'Red', 'White', 'Yellow')\n",
      "5 --> ('Black', 'Green', 'Red', 'Pink', 'White')\n",
      "5 --> ('Black', 'Green', 'Red', 'Pink', 'Yellow')\n",
      "5 --> ('Black', 'Green', 'Red', 'Yellow', 'White')\n",
      "5 --> ('Black', 'Green', 'Red', 'Yellow', 'Pink')\n",
      "5 --> ('Black', 'Green', 'White', 'Red', 'Pink')\n",
      "5 --> ('Black', 'Green', 'White', 'Red', 'Yellow')\n",
      "5 --> ('Black', 'Green', 'White', 'Pink', 'Red')\n",
      "5 --> ('Black', 'Green', 'White', 'Pink', 'Yellow')\n",
      "5 --> ('Black', 'Green', 'White', 'Yellow', 'Red')\n",
      "5 --> ('Black', 'Green', 'White', 'Yellow', 'Pink')\n",
      "5 --> ('Black', 'Green', 'Pink', 'Red', 'White')\n",
      "5 --> ('Black', 'Green', 'Pink', 'Red', 'Yellow')\n",
      "5 --> ('Black', 'Green', 'Pink', 'White', 'Red')\n",
      "5 --> ('Black', 'Green', 'Pink', 'White', 'Yellow')\n",
      "5 --> ('Black', 'Green', 'Pink', 'Yellow', 'Red')\n",
      "5 --> ('Black', 'Green', 'Pink', 'Yellow', 'White')\n",
      "5 --> ('Black', 'Green', 'Yellow', 'Red', 'White')\n",
      "5 --> ('Black', 'Green', 'Yellow', 'Red', 'Pink')\n",
      "5 --> ('Black', 'Green', 'Yellow', 'White', 'Red')\n",
      "5 --> ('Black', 'Green', 'Yellow', 'White', 'Pink')\n",
      "5 --> ('Black', 'Green', 'Yellow', 'Pink', 'Red')\n",
      "5 --> ('Black', 'Green', 'Yellow', 'Pink', 'White')\n",
      "5 --> ('Black', 'White', 'Red', 'Green', 'Pink')\n",
      "5 --> ('Black', 'White', 'Red', 'Green', 'Yellow')\n",
      "5 --> ('Black', 'White', 'Red', 'Pink', 'Green')\n",
      "5 --> ('Black', 'White', 'Red', 'Pink', 'Yellow')\n",
      "5 --> ('Black', 'White', 'Red', 'Yellow', 'Green')\n",
      "5 --> ('Black', 'White', 'Red', 'Yellow', 'Pink')\n",
      "5 --> ('Black', 'White', 'Green', 'Red', 'Pink')\n",
      "5 --> ('Black', 'White', 'Green', 'Red', 'Yellow')\n",
      "5 --> ('Black', 'White', 'Green', 'Pink', 'Red')\n",
      "5 --> ('Black', 'White', 'Green', 'Pink', 'Yellow')\n",
      "5 --> ('Black', 'White', 'Green', 'Yellow', 'Red')\n",
      "5 --> ('Black', 'White', 'Green', 'Yellow', 'Pink')\n",
      "5 --> ('Black', 'White', 'Pink', 'Red', 'Green')\n",
      "5 --> ('Black', 'White', 'Pink', 'Red', 'Yellow')\n",
      "5 --> ('Black', 'White', 'Pink', 'Green', 'Red')\n",
      "5 --> ('Black', 'White', 'Pink', 'Green', 'Yellow')\n",
      "5 --> ('Black', 'White', 'Pink', 'Yellow', 'Red')\n",
      "5 --> ('Black', 'White', 'Pink', 'Yellow', 'Green')\n",
      "5 --> ('Black', 'White', 'Yellow', 'Red', 'Green')\n",
      "5 --> ('Black', 'White', 'Yellow', 'Red', 'Pink')\n",
      "5 --> ('Black', 'White', 'Yellow', 'Green', 'Red')\n",
      "5 --> ('Black', 'White', 'Yellow', 'Green', 'Pink')\n",
      "5 --> ('Black', 'White', 'Yellow', 'Pink', 'Red')\n",
      "5 --> ('Black', 'White', 'Yellow', 'Pink', 'Green')\n",
      "5 --> ('Black', 'Pink', 'Red', 'Green', 'White')\n",
      "5 --> ('Black', 'Pink', 'Red', 'Green', 'Yellow')\n",
      "5 --> ('Black', 'Pink', 'Red', 'White', 'Green')\n",
      "5 --> ('Black', 'Pink', 'Red', 'White', 'Yellow')\n",
      "5 --> ('Black', 'Pink', 'Red', 'Yellow', 'Green')\n",
      "5 --> ('Black', 'Pink', 'Red', 'Yellow', 'White')\n",
      "5 --> ('Black', 'Pink', 'Green', 'Red', 'White')\n",
      "5 --> ('Black', 'Pink', 'Green', 'Red', 'Yellow')\n",
      "5 --> ('Black', 'Pink', 'Green', 'White', 'Red')\n",
      "5 --> ('Black', 'Pink', 'Green', 'White', 'Yellow')\n",
      "5 --> ('Black', 'Pink', 'Green', 'Yellow', 'Red')\n",
      "5 --> ('Black', 'Pink', 'Green', 'Yellow', 'White')\n",
      "5 --> ('Black', 'Pink', 'White', 'Red', 'Green')\n",
      "5 --> ('Black', 'Pink', 'White', 'Red', 'Yellow')\n",
      "5 --> ('Black', 'Pink', 'White', 'Green', 'Red')\n",
      "5 --> ('Black', 'Pink', 'White', 'Green', 'Yellow')\n",
      "5 --> ('Black', 'Pink', 'White', 'Yellow', 'Red')\n",
      "5 --> ('Black', 'Pink', 'White', 'Yellow', 'Green')\n",
      "5 --> ('Black', 'Pink', 'Yellow', 'Red', 'Green')\n",
      "5 --> ('Black', 'Pink', 'Yellow', 'Red', 'White')\n",
      "5 --> ('Black', 'Pink', 'Yellow', 'Green', 'Red')\n",
      "5 --> ('Black', 'Pink', 'Yellow', 'Green', 'White')\n",
      "5 --> ('Black', 'Pink', 'Yellow', 'White', 'Red')\n",
      "5 --> ('Black', 'Pink', 'Yellow', 'White', 'Green')\n",
      "5 --> ('Black', 'Yellow', 'Red', 'Green', 'White')\n",
      "5 --> ('Black', 'Yellow', 'Red', 'Green', 'Pink')\n",
      "5 --> ('Black', 'Yellow', 'Red', 'White', 'Green')\n",
      "5 --> ('Black', 'Yellow', 'Red', 'White', 'Pink')\n",
      "5 --> ('Black', 'Yellow', 'Red', 'Pink', 'Green')\n",
      "5 --> ('Black', 'Yellow', 'Red', 'Pink', 'White')\n",
      "5 --> ('Black', 'Yellow', 'Green', 'Red', 'White')\n",
      "5 --> ('Black', 'Yellow', 'Green', 'Red', 'Pink')\n",
      "5 --> ('Black', 'Yellow', 'Green', 'White', 'Red')\n",
      "5 --> ('Black', 'Yellow', 'Green', 'White', 'Pink')\n",
      "5 --> ('Black', 'Yellow', 'Green', 'Pink', 'Red')\n",
      "5 --> ('Black', 'Yellow', 'Green', 'Pink', 'White')\n",
      "5 --> ('Black', 'Yellow', 'White', 'Red', 'Green')\n",
      "5 --> ('Black', 'Yellow', 'White', 'Red', 'Pink')\n",
      "5 --> ('Black', 'Yellow', 'White', 'Green', 'Red')\n",
      "5 --> ('Black', 'Yellow', 'White', 'Green', 'Pink')\n",
      "5 --> ('Black', 'Yellow', 'White', 'Pink', 'Red')\n",
      "5 --> ('Black', 'Yellow', 'White', 'Pink', 'Green')\n",
      "5 --> ('Black', 'Yellow', 'Pink', 'Red', 'Green')\n",
      "5 --> ('Black', 'Yellow', 'Pink', 'Red', 'White')\n",
      "5 --> ('Black', 'Yellow', 'Pink', 'Green', 'Red')\n",
      "5 --> ('Black', 'Yellow', 'Pink', 'Green', 'White')\n",
      "5 --> ('Black', 'Yellow', 'Pink', 'White', 'Red')\n",
      "5 --> ('Black', 'Yellow', 'Pink', 'White', 'Green')\n",
      "5 --> ('Pink', 'Red', 'Green', 'White', 'Black')\n",
      "5 --> ('Pink', 'Red', 'Green', 'White', 'Yellow')\n",
      "5 --> ('Pink', 'Red', 'Green', 'Black', 'White')\n",
      "5 --> ('Pink', 'Red', 'Green', 'Black', 'Yellow')\n",
      "5 --> ('Pink', 'Red', 'Green', 'Yellow', 'White')\n",
      "5 --> ('Pink', 'Red', 'Green', 'Yellow', 'Black')\n",
      "5 --> ('Pink', 'Red', 'White', 'Green', 'Black')\n",
      "5 --> ('Pink', 'Red', 'White', 'Green', 'Yellow')\n",
      "5 --> ('Pink', 'Red', 'White', 'Black', 'Green')\n",
      "5 --> ('Pink', 'Red', 'White', 'Black', 'Yellow')\n",
      "5 --> ('Pink', 'Red', 'White', 'Yellow', 'Green')\n",
      "5 --> ('Pink', 'Red', 'White', 'Yellow', 'Black')\n",
      "5 --> ('Pink', 'Red', 'Black', 'Green', 'White')\n",
      "5 --> ('Pink', 'Red', 'Black', 'Green', 'Yellow')\n",
      "5 --> ('Pink', 'Red', 'Black', 'White', 'Green')\n",
      "5 --> ('Pink', 'Red', 'Black', 'White', 'Yellow')\n",
      "5 --> ('Pink', 'Red', 'Black', 'Yellow', 'Green')\n",
      "5 --> ('Pink', 'Red', 'Black', 'Yellow', 'White')\n",
      "5 --> ('Pink', 'Red', 'Yellow', 'Green', 'White')\n",
      "5 --> ('Pink', 'Red', 'Yellow', 'Green', 'Black')\n",
      "5 --> ('Pink', 'Red', 'Yellow', 'White', 'Green')\n",
      "5 --> ('Pink', 'Red', 'Yellow', 'White', 'Black')\n",
      "5 --> ('Pink', 'Red', 'Yellow', 'Black', 'Green')\n",
      "5 --> ('Pink', 'Red', 'Yellow', 'Black', 'White')\n",
      "5 --> ('Pink', 'Green', 'Red', 'White', 'Black')\n",
      "5 --> ('Pink', 'Green', 'Red', 'White', 'Yellow')\n",
      "5 --> ('Pink', 'Green', 'Red', 'Black', 'White')\n",
      "5 --> ('Pink', 'Green', 'Red', 'Black', 'Yellow')\n",
      "5 --> ('Pink', 'Green', 'Red', 'Yellow', 'White')\n",
      "5 --> ('Pink', 'Green', 'Red', 'Yellow', 'Black')\n",
      "5 --> ('Pink', 'Green', 'White', 'Red', 'Black')\n",
      "5 --> ('Pink', 'Green', 'White', 'Red', 'Yellow')\n",
      "5 --> ('Pink', 'Green', 'White', 'Black', 'Red')\n",
      "5 --> ('Pink', 'Green', 'White', 'Black', 'Yellow')\n",
      "5 --> ('Pink', 'Green', 'White', 'Yellow', 'Red')\n",
      "5 --> ('Pink', 'Green', 'White', 'Yellow', 'Black')\n",
      "5 --> ('Pink', 'Green', 'Black', 'Red', 'White')\n",
      "5 --> ('Pink', 'Green', 'Black', 'Red', 'Yellow')\n",
      "5 --> ('Pink', 'Green', 'Black', 'White', 'Red')\n",
      "5 --> ('Pink', 'Green', 'Black', 'White', 'Yellow')\n",
      "5 --> ('Pink', 'Green', 'Black', 'Yellow', 'Red')\n",
      "5 --> ('Pink', 'Green', 'Black', 'Yellow', 'White')\n",
      "5 --> ('Pink', 'Green', 'Yellow', 'Red', 'White')\n",
      "5 --> ('Pink', 'Green', 'Yellow', 'Red', 'Black')\n",
      "5 --> ('Pink', 'Green', 'Yellow', 'White', 'Red')\n",
      "5 --> ('Pink', 'Green', 'Yellow', 'White', 'Black')\n",
      "5 --> ('Pink', 'Green', 'Yellow', 'Black', 'Red')\n",
      "5 --> ('Pink', 'Green', 'Yellow', 'Black', 'White')\n",
      "5 --> ('Pink', 'White', 'Red', 'Green', 'Black')\n",
      "5 --> ('Pink', 'White', 'Red', 'Green', 'Yellow')\n",
      "5 --> ('Pink', 'White', 'Red', 'Black', 'Green')\n",
      "5 --> ('Pink', 'White', 'Red', 'Black', 'Yellow')\n",
      "5 --> ('Pink', 'White', 'Red', 'Yellow', 'Green')\n",
      "5 --> ('Pink', 'White', 'Red', 'Yellow', 'Black')\n",
      "5 --> ('Pink', 'White', 'Green', 'Red', 'Black')\n",
      "5 --> ('Pink', 'White', 'Green', 'Red', 'Yellow')\n",
      "5 --> ('Pink', 'White', 'Green', 'Black', 'Red')\n",
      "5 --> ('Pink', 'White', 'Green', 'Black', 'Yellow')\n",
      "5 --> ('Pink', 'White', 'Green', 'Yellow', 'Red')\n",
      "5 --> ('Pink', 'White', 'Green', 'Yellow', 'Black')\n",
      "5 --> ('Pink', 'White', 'Black', 'Red', 'Green')\n",
      "5 --> ('Pink', 'White', 'Black', 'Red', 'Yellow')\n",
      "5 --> ('Pink', 'White', 'Black', 'Green', 'Red')\n",
      "5 --> ('Pink', 'White', 'Black', 'Green', 'Yellow')\n",
      "5 --> ('Pink', 'White', 'Black', 'Yellow', 'Red')\n",
      "5 --> ('Pink', 'White', 'Black', 'Yellow', 'Green')\n",
      "5 --> ('Pink', 'White', 'Yellow', 'Red', 'Green')\n",
      "5 --> ('Pink', 'White', 'Yellow', 'Red', 'Black')\n",
      "5 --> ('Pink', 'White', 'Yellow', 'Green', 'Red')\n",
      "5 --> ('Pink', 'White', 'Yellow', 'Green', 'Black')\n",
      "5 --> ('Pink', 'White', 'Yellow', 'Black', 'Red')\n",
      "5 --> ('Pink', 'White', 'Yellow', 'Black', 'Green')\n",
      "5 --> ('Pink', 'Black', 'Red', 'Green', 'White')\n",
      "5 --> ('Pink', 'Black', 'Red', 'Green', 'Yellow')\n",
      "5 --> ('Pink', 'Black', 'Red', 'White', 'Green')\n",
      "5 --> ('Pink', 'Black', 'Red', 'White', 'Yellow')\n",
      "5 --> ('Pink', 'Black', 'Red', 'Yellow', 'Green')\n",
      "5 --> ('Pink', 'Black', 'Red', 'Yellow', 'White')\n",
      "5 --> ('Pink', 'Black', 'Green', 'Red', 'White')\n",
      "5 --> ('Pink', 'Black', 'Green', 'Red', 'Yellow')\n",
      "5 --> ('Pink', 'Black', 'Green', 'White', 'Red')\n",
      "5 --> ('Pink', 'Black', 'Green', 'White', 'Yellow')\n",
      "5 --> ('Pink', 'Black', 'Green', 'Yellow', 'Red')\n",
      "5 --> ('Pink', 'Black', 'Green', 'Yellow', 'White')\n",
      "5 --> ('Pink', 'Black', 'White', 'Red', 'Green')\n",
      "5 --> ('Pink', 'Black', 'White', 'Red', 'Yellow')\n",
      "5 --> ('Pink', 'Black', 'White', 'Green', 'Red')\n",
      "5 --> ('Pink', 'Black', 'White', 'Green', 'Yellow')\n",
      "5 --> ('Pink', 'Black', 'White', 'Yellow', 'Red')\n",
      "5 --> ('Pink', 'Black', 'White', 'Yellow', 'Green')\n",
      "5 --> ('Pink', 'Black', 'Yellow', 'Red', 'Green')\n",
      "5 --> ('Pink', 'Black', 'Yellow', 'Red', 'White')\n",
      "5 --> ('Pink', 'Black', 'Yellow', 'Green', 'Red')\n",
      "5 --> ('Pink', 'Black', 'Yellow', 'Green', 'White')\n",
      "5 --> ('Pink', 'Black', 'Yellow', 'White', 'Red')\n"
     ]
    },
    {
     "name": "stdout",
     "output_type": "stream",
     "text": [
      "5 --> ('Pink', 'Black', 'Yellow', 'White', 'Green')\n",
      "5 --> ('Pink', 'Yellow', 'Red', 'Green', 'White')\n",
      "5 --> ('Pink', 'Yellow', 'Red', 'Green', 'Black')\n",
      "5 --> ('Pink', 'Yellow', 'Red', 'White', 'Green')\n",
      "5 --> ('Pink', 'Yellow', 'Red', 'White', 'Black')\n",
      "5 --> ('Pink', 'Yellow', 'Red', 'Black', 'Green')\n",
      "5 --> ('Pink', 'Yellow', 'Red', 'Black', 'White')\n",
      "5 --> ('Pink', 'Yellow', 'Green', 'Red', 'White')\n",
      "5 --> ('Pink', 'Yellow', 'Green', 'Red', 'Black')\n",
      "5 --> ('Pink', 'Yellow', 'Green', 'White', 'Red')\n",
      "5 --> ('Pink', 'Yellow', 'Green', 'White', 'Black')\n",
      "5 --> ('Pink', 'Yellow', 'Green', 'Black', 'Red')\n",
      "5 --> ('Pink', 'Yellow', 'Green', 'Black', 'White')\n",
      "5 --> ('Pink', 'Yellow', 'White', 'Red', 'Green')\n",
      "5 --> ('Pink', 'Yellow', 'White', 'Red', 'Black')\n",
      "5 --> ('Pink', 'Yellow', 'White', 'Green', 'Red')\n",
      "5 --> ('Pink', 'Yellow', 'White', 'Green', 'Black')\n",
      "5 --> ('Pink', 'Yellow', 'White', 'Black', 'Red')\n",
      "5 --> ('Pink', 'Yellow', 'White', 'Black', 'Green')\n",
      "5 --> ('Pink', 'Yellow', 'Black', 'Red', 'Green')\n",
      "5 --> ('Pink', 'Yellow', 'Black', 'Red', 'White')\n",
      "5 --> ('Pink', 'Yellow', 'Black', 'Green', 'Red')\n",
      "5 --> ('Pink', 'Yellow', 'Black', 'Green', 'White')\n",
      "5 --> ('Pink', 'Yellow', 'Black', 'White', 'Red')\n",
      "5 --> ('Pink', 'Yellow', 'Black', 'White', 'Green')\n",
      "5 --> ('Yellow', 'Red', 'Green', 'White', 'Black')\n",
      "5 --> ('Yellow', 'Red', 'Green', 'White', 'Pink')\n",
      "5 --> ('Yellow', 'Red', 'Green', 'Black', 'White')\n",
      "5 --> ('Yellow', 'Red', 'Green', 'Black', 'Pink')\n",
      "5 --> ('Yellow', 'Red', 'Green', 'Pink', 'White')\n",
      "5 --> ('Yellow', 'Red', 'Green', 'Pink', 'Black')\n",
      "5 --> ('Yellow', 'Red', 'White', 'Green', 'Black')\n",
      "5 --> ('Yellow', 'Red', 'White', 'Green', 'Pink')\n",
      "5 --> ('Yellow', 'Red', 'White', 'Black', 'Green')\n",
      "5 --> ('Yellow', 'Red', 'White', 'Black', 'Pink')\n",
      "5 --> ('Yellow', 'Red', 'White', 'Pink', 'Green')\n",
      "5 --> ('Yellow', 'Red', 'White', 'Pink', 'Black')\n",
      "5 --> ('Yellow', 'Red', 'Black', 'Green', 'White')\n",
      "5 --> ('Yellow', 'Red', 'Black', 'Green', 'Pink')\n",
      "5 --> ('Yellow', 'Red', 'Black', 'White', 'Green')\n",
      "5 --> ('Yellow', 'Red', 'Black', 'White', 'Pink')\n",
      "5 --> ('Yellow', 'Red', 'Black', 'Pink', 'Green')\n",
      "5 --> ('Yellow', 'Red', 'Black', 'Pink', 'White')\n",
      "5 --> ('Yellow', 'Red', 'Pink', 'Green', 'White')\n",
      "5 --> ('Yellow', 'Red', 'Pink', 'Green', 'Black')\n",
      "5 --> ('Yellow', 'Red', 'Pink', 'White', 'Green')\n",
      "5 --> ('Yellow', 'Red', 'Pink', 'White', 'Black')\n",
      "5 --> ('Yellow', 'Red', 'Pink', 'Black', 'Green')\n",
      "5 --> ('Yellow', 'Red', 'Pink', 'Black', 'White')\n",
      "5 --> ('Yellow', 'Green', 'Red', 'White', 'Black')\n",
      "5 --> ('Yellow', 'Green', 'Red', 'White', 'Pink')\n",
      "5 --> ('Yellow', 'Green', 'Red', 'Black', 'White')\n",
      "5 --> ('Yellow', 'Green', 'Red', 'Black', 'Pink')\n",
      "5 --> ('Yellow', 'Green', 'Red', 'Pink', 'White')\n",
      "5 --> ('Yellow', 'Green', 'Red', 'Pink', 'Black')\n",
      "5 --> ('Yellow', 'Green', 'White', 'Red', 'Black')\n",
      "5 --> ('Yellow', 'Green', 'White', 'Red', 'Pink')\n",
      "5 --> ('Yellow', 'Green', 'White', 'Black', 'Red')\n",
      "5 --> ('Yellow', 'Green', 'White', 'Black', 'Pink')\n",
      "5 --> ('Yellow', 'Green', 'White', 'Pink', 'Red')\n",
      "5 --> ('Yellow', 'Green', 'White', 'Pink', 'Black')\n",
      "5 --> ('Yellow', 'Green', 'Black', 'Red', 'White')\n",
      "5 --> ('Yellow', 'Green', 'Black', 'Red', 'Pink')\n",
      "5 --> ('Yellow', 'Green', 'Black', 'White', 'Red')\n",
      "5 --> ('Yellow', 'Green', 'Black', 'White', 'Pink')\n",
      "5 --> ('Yellow', 'Green', 'Black', 'Pink', 'Red')\n",
      "5 --> ('Yellow', 'Green', 'Black', 'Pink', 'White')\n",
      "5 --> ('Yellow', 'Green', 'Pink', 'Red', 'White')\n",
      "5 --> ('Yellow', 'Green', 'Pink', 'Red', 'Black')\n",
      "5 --> ('Yellow', 'Green', 'Pink', 'White', 'Red')\n",
      "5 --> ('Yellow', 'Green', 'Pink', 'White', 'Black')\n",
      "5 --> ('Yellow', 'Green', 'Pink', 'Black', 'Red')\n",
      "5 --> ('Yellow', 'Green', 'Pink', 'Black', 'White')\n",
      "5 --> ('Yellow', 'White', 'Red', 'Green', 'Black')\n",
      "5 --> ('Yellow', 'White', 'Red', 'Green', 'Pink')\n",
      "5 --> ('Yellow', 'White', 'Red', 'Black', 'Green')\n",
      "5 --> ('Yellow', 'White', 'Red', 'Black', 'Pink')\n",
      "5 --> ('Yellow', 'White', 'Red', 'Pink', 'Green')\n",
      "5 --> ('Yellow', 'White', 'Red', 'Pink', 'Black')\n",
      "5 --> ('Yellow', 'White', 'Green', 'Red', 'Black')\n",
      "5 --> ('Yellow', 'White', 'Green', 'Red', 'Pink')\n",
      "5 --> ('Yellow', 'White', 'Green', 'Black', 'Red')\n",
      "5 --> ('Yellow', 'White', 'Green', 'Black', 'Pink')\n",
      "5 --> ('Yellow', 'White', 'Green', 'Pink', 'Red')\n",
      "5 --> ('Yellow', 'White', 'Green', 'Pink', 'Black')\n",
      "5 --> ('Yellow', 'White', 'Black', 'Red', 'Green')\n",
      "5 --> ('Yellow', 'White', 'Black', 'Red', 'Pink')\n",
      "5 --> ('Yellow', 'White', 'Black', 'Green', 'Red')\n",
      "5 --> ('Yellow', 'White', 'Black', 'Green', 'Pink')\n",
      "5 --> ('Yellow', 'White', 'Black', 'Pink', 'Red')\n",
      "5 --> ('Yellow', 'White', 'Black', 'Pink', 'Green')\n",
      "5 --> ('Yellow', 'White', 'Pink', 'Red', 'Green')\n",
      "5 --> ('Yellow', 'White', 'Pink', 'Red', 'Black')\n",
      "5 --> ('Yellow', 'White', 'Pink', 'Green', 'Red')\n",
      "5 --> ('Yellow', 'White', 'Pink', 'Green', 'Black')\n",
      "5 --> ('Yellow', 'White', 'Pink', 'Black', 'Red')\n",
      "5 --> ('Yellow', 'White', 'Pink', 'Black', 'Green')\n",
      "5 --> ('Yellow', 'Black', 'Red', 'Green', 'White')\n",
      "5 --> ('Yellow', 'Black', 'Red', 'Green', 'Pink')\n",
      "5 --> ('Yellow', 'Black', 'Red', 'White', 'Green')\n",
      "5 --> ('Yellow', 'Black', 'Red', 'White', 'Pink')\n",
      "5 --> ('Yellow', 'Black', 'Red', 'Pink', 'Green')\n",
      "5 --> ('Yellow', 'Black', 'Red', 'Pink', 'White')\n",
      "5 --> ('Yellow', 'Black', 'Green', 'Red', 'White')\n",
      "5 --> ('Yellow', 'Black', 'Green', 'Red', 'Pink')\n",
      "5 --> ('Yellow', 'Black', 'Green', 'White', 'Red')\n",
      "5 --> ('Yellow', 'Black', 'Green', 'White', 'Pink')\n",
      "5 --> ('Yellow', 'Black', 'Green', 'Pink', 'Red')\n",
      "5 --> ('Yellow', 'Black', 'Green', 'Pink', 'White')\n",
      "5 --> ('Yellow', 'Black', 'White', 'Red', 'Green')\n",
      "5 --> ('Yellow', 'Black', 'White', 'Red', 'Pink')\n",
      "5 --> ('Yellow', 'Black', 'White', 'Green', 'Red')\n",
      "5 --> ('Yellow', 'Black', 'White', 'Green', 'Pink')\n",
      "5 --> ('Yellow', 'Black', 'White', 'Pink', 'Red')\n",
      "5 --> ('Yellow', 'Black', 'White', 'Pink', 'Green')\n",
      "5 --> ('Yellow', 'Black', 'Pink', 'Red', 'Green')\n",
      "5 --> ('Yellow', 'Black', 'Pink', 'Red', 'White')\n",
      "5 --> ('Yellow', 'Black', 'Pink', 'Green', 'Red')\n",
      "5 --> ('Yellow', 'Black', 'Pink', 'Green', 'White')\n",
      "5 --> ('Yellow', 'Black', 'Pink', 'White', 'Red')\n",
      "5 --> ('Yellow', 'Black', 'Pink', 'White', 'Green')\n",
      "5 --> ('Yellow', 'Pink', 'Red', 'Green', 'White')\n",
      "5 --> ('Yellow', 'Pink', 'Red', 'Green', 'Black')\n",
      "5 --> ('Yellow', 'Pink', 'Red', 'White', 'Green')\n",
      "5 --> ('Yellow', 'Pink', 'Red', 'White', 'Black')\n",
      "5 --> ('Yellow', 'Pink', 'Red', 'Black', 'Green')\n",
      "5 --> ('Yellow', 'Pink', 'Red', 'Black', 'White')\n",
      "5 --> ('Yellow', 'Pink', 'Green', 'Red', 'White')\n",
      "5 --> ('Yellow', 'Pink', 'Green', 'Red', 'Black')\n",
      "5 --> ('Yellow', 'Pink', 'Green', 'White', 'Red')\n",
      "5 --> ('Yellow', 'Pink', 'Green', 'White', 'Black')\n",
      "5 --> ('Yellow', 'Pink', 'Green', 'Black', 'Red')\n",
      "5 --> ('Yellow', 'Pink', 'Green', 'Black', 'White')\n",
      "5 --> ('Yellow', 'Pink', 'White', 'Red', 'Green')\n",
      "5 --> ('Yellow', 'Pink', 'White', 'Red', 'Black')\n",
      "5 --> ('Yellow', 'Pink', 'White', 'Green', 'Red')\n",
      "5 --> ('Yellow', 'Pink', 'White', 'Green', 'Black')\n",
      "5 --> ('Yellow', 'Pink', 'White', 'Black', 'Red')\n",
      "5 --> ('Yellow', 'Pink', 'White', 'Black', 'Green')\n",
      "5 --> ('Yellow', 'Pink', 'Black', 'Red', 'Green')\n",
      "5 --> ('Yellow', 'Pink', 'Black', 'Red', 'White')\n",
      "5 --> ('Yellow', 'Pink', 'Black', 'Green', 'Red')\n",
      "5 --> ('Yellow', 'Pink', 'Black', 'Green', 'White')\n",
      "5 --> ('Yellow', 'Pink', 'Black', 'White', 'Red')\n",
      "5 --> ('Yellow', 'Pink', 'Black', 'White', 'Green')\n",
      "6 --> ('Red', 'Green', 'White', 'Black', 'Pink', 'Yellow')\n",
      "6 --> ('Red', 'Green', 'White', 'Black', 'Yellow', 'Pink')\n",
      "6 --> ('Red', 'Green', 'White', 'Pink', 'Black', 'Yellow')\n",
      "6 --> ('Red', 'Green', 'White', 'Pink', 'Yellow', 'Black')\n",
      "6 --> ('Red', 'Green', 'White', 'Yellow', 'Black', 'Pink')\n",
      "6 --> ('Red', 'Green', 'White', 'Yellow', 'Pink', 'Black')\n",
      "6 --> ('Red', 'Green', 'Black', 'White', 'Pink', 'Yellow')\n",
      "6 --> ('Red', 'Green', 'Black', 'White', 'Yellow', 'Pink')\n",
      "6 --> ('Red', 'Green', 'Black', 'Pink', 'White', 'Yellow')\n",
      "6 --> ('Red', 'Green', 'Black', 'Pink', 'Yellow', 'White')\n",
      "6 --> ('Red', 'Green', 'Black', 'Yellow', 'White', 'Pink')\n",
      "6 --> ('Red', 'Green', 'Black', 'Yellow', 'Pink', 'White')\n",
      "6 --> ('Red', 'Green', 'Pink', 'White', 'Black', 'Yellow')\n",
      "6 --> ('Red', 'Green', 'Pink', 'White', 'Yellow', 'Black')\n",
      "6 --> ('Red', 'Green', 'Pink', 'Black', 'White', 'Yellow')\n",
      "6 --> ('Red', 'Green', 'Pink', 'Black', 'Yellow', 'White')\n",
      "6 --> ('Red', 'Green', 'Pink', 'Yellow', 'White', 'Black')\n",
      "6 --> ('Red', 'Green', 'Pink', 'Yellow', 'Black', 'White')\n",
      "6 --> ('Red', 'Green', 'Yellow', 'White', 'Black', 'Pink')\n",
      "6 --> ('Red', 'Green', 'Yellow', 'White', 'Pink', 'Black')\n",
      "6 --> ('Red', 'Green', 'Yellow', 'Black', 'White', 'Pink')\n",
      "6 --> ('Red', 'Green', 'Yellow', 'Black', 'Pink', 'White')\n",
      "6 --> ('Red', 'Green', 'Yellow', 'Pink', 'White', 'Black')\n",
      "6 --> ('Red', 'Green', 'Yellow', 'Pink', 'Black', 'White')\n",
      "6 --> ('Red', 'White', 'Green', 'Black', 'Pink', 'Yellow')\n",
      "6 --> ('Red', 'White', 'Green', 'Black', 'Yellow', 'Pink')\n",
      "6 --> ('Red', 'White', 'Green', 'Pink', 'Black', 'Yellow')\n",
      "6 --> ('Red', 'White', 'Green', 'Pink', 'Yellow', 'Black')\n",
      "6 --> ('Red', 'White', 'Green', 'Yellow', 'Black', 'Pink')\n",
      "6 --> ('Red', 'White', 'Green', 'Yellow', 'Pink', 'Black')\n",
      "6 --> ('Red', 'White', 'Black', 'Green', 'Pink', 'Yellow')\n",
      "6 --> ('Red', 'White', 'Black', 'Green', 'Yellow', 'Pink')\n",
      "6 --> ('Red', 'White', 'Black', 'Pink', 'Green', 'Yellow')\n",
      "6 --> ('Red', 'White', 'Black', 'Pink', 'Yellow', 'Green')\n",
      "6 --> ('Red', 'White', 'Black', 'Yellow', 'Green', 'Pink')\n",
      "6 --> ('Red', 'White', 'Black', 'Yellow', 'Pink', 'Green')\n",
      "6 --> ('Red', 'White', 'Pink', 'Green', 'Black', 'Yellow')\n",
      "6 --> ('Red', 'White', 'Pink', 'Green', 'Yellow', 'Black')\n",
      "6 --> ('Red', 'White', 'Pink', 'Black', 'Green', 'Yellow')\n",
      "6 --> ('Red', 'White', 'Pink', 'Black', 'Yellow', 'Green')\n",
      "6 --> ('Red', 'White', 'Pink', 'Yellow', 'Green', 'Black')\n",
      "6 --> ('Red', 'White', 'Pink', 'Yellow', 'Black', 'Green')\n",
      "6 --> ('Red', 'White', 'Yellow', 'Green', 'Black', 'Pink')\n",
      "6 --> ('Red', 'White', 'Yellow', 'Green', 'Pink', 'Black')\n",
      "6 --> ('Red', 'White', 'Yellow', 'Black', 'Green', 'Pink')\n",
      "6 --> ('Red', 'White', 'Yellow', 'Black', 'Pink', 'Green')\n",
      "6 --> ('Red', 'White', 'Yellow', 'Pink', 'Green', 'Black')\n",
      "6 --> ('Red', 'White', 'Yellow', 'Pink', 'Black', 'Green')\n",
      "6 --> ('Red', 'Black', 'Green', 'White', 'Pink', 'Yellow')\n",
      "6 --> ('Red', 'Black', 'Green', 'White', 'Yellow', 'Pink')\n",
      "6 --> ('Red', 'Black', 'Green', 'Pink', 'White', 'Yellow')\n",
      "6 --> ('Red', 'Black', 'Green', 'Pink', 'Yellow', 'White')\n",
      "6 --> ('Red', 'Black', 'Green', 'Yellow', 'White', 'Pink')\n",
      "6 --> ('Red', 'Black', 'Green', 'Yellow', 'Pink', 'White')\n",
      "6 --> ('Red', 'Black', 'White', 'Green', 'Pink', 'Yellow')\n",
      "6 --> ('Red', 'Black', 'White', 'Green', 'Yellow', 'Pink')\n",
      "6 --> ('Red', 'Black', 'White', 'Pink', 'Green', 'Yellow')\n",
      "6 --> ('Red', 'Black', 'White', 'Pink', 'Yellow', 'Green')\n",
      "6 --> ('Red', 'Black', 'White', 'Yellow', 'Green', 'Pink')\n",
      "6 --> ('Red', 'Black', 'White', 'Yellow', 'Pink', 'Green')\n",
      "6 --> ('Red', 'Black', 'Pink', 'Green', 'White', 'Yellow')\n",
      "6 --> ('Red', 'Black', 'Pink', 'Green', 'Yellow', 'White')\n",
      "6 --> ('Red', 'Black', 'Pink', 'White', 'Green', 'Yellow')\n",
      "6 --> ('Red', 'Black', 'Pink', 'White', 'Yellow', 'Green')\n",
      "6 --> ('Red', 'Black', 'Pink', 'Yellow', 'Green', 'White')\n",
      "6 --> ('Red', 'Black', 'Pink', 'Yellow', 'White', 'Green')\n",
      "6 --> ('Red', 'Black', 'Yellow', 'Green', 'White', 'Pink')\n",
      "6 --> ('Red', 'Black', 'Yellow', 'Green', 'Pink', 'White')\n",
      "6 --> ('Red', 'Black', 'Yellow', 'White', 'Green', 'Pink')\n",
      "6 --> ('Red', 'Black', 'Yellow', 'White', 'Pink', 'Green')\n",
      "6 --> ('Red', 'Black', 'Yellow', 'Pink', 'Green', 'White')\n",
      "6 --> ('Red', 'Black', 'Yellow', 'Pink', 'White', 'Green')\n",
      "6 --> ('Red', 'Pink', 'Green', 'White', 'Black', 'Yellow')\n",
      "6 --> ('Red', 'Pink', 'Green', 'White', 'Yellow', 'Black')\n",
      "6 --> ('Red', 'Pink', 'Green', 'Black', 'White', 'Yellow')\n",
      "6 --> ('Red', 'Pink', 'Green', 'Black', 'Yellow', 'White')\n",
      "6 --> ('Red', 'Pink', 'Green', 'Yellow', 'White', 'Black')\n",
      "6 --> ('Red', 'Pink', 'Green', 'Yellow', 'Black', 'White')\n",
      "6 --> ('Red', 'Pink', 'White', 'Green', 'Black', 'Yellow')\n",
      "6 --> ('Red', 'Pink', 'White', 'Green', 'Yellow', 'Black')\n",
      "6 --> ('Red', 'Pink', 'White', 'Black', 'Green', 'Yellow')\n",
      "6 --> ('Red', 'Pink', 'White', 'Black', 'Yellow', 'Green')\n",
      "6 --> ('Red', 'Pink', 'White', 'Yellow', 'Green', 'Black')\n",
      "6 --> ('Red', 'Pink', 'White', 'Yellow', 'Black', 'Green')\n",
      "6 --> ('Red', 'Pink', 'Black', 'Green', 'White', 'Yellow')\n",
      "6 --> ('Red', 'Pink', 'Black', 'Green', 'Yellow', 'White')\n",
      "6 --> ('Red', 'Pink', 'Black', 'White', 'Green', 'Yellow')\n",
      "6 --> ('Red', 'Pink', 'Black', 'White', 'Yellow', 'Green')\n",
      "6 --> ('Red', 'Pink', 'Black', 'Yellow', 'Green', 'White')\n",
      "6 --> ('Red', 'Pink', 'Black', 'Yellow', 'White', 'Green')\n",
      "6 --> ('Red', 'Pink', 'Yellow', 'Green', 'White', 'Black')\n",
      "6 --> ('Red', 'Pink', 'Yellow', 'Green', 'Black', 'White')\n",
      "6 --> ('Red', 'Pink', 'Yellow', 'White', 'Green', 'Black')\n",
      "6 --> ('Red', 'Pink', 'Yellow', 'White', 'Black', 'Green')\n",
      "6 --> ('Red', 'Pink', 'Yellow', 'Black', 'Green', 'White')\n",
      "6 --> ('Red', 'Pink', 'Yellow', 'Black', 'White', 'Green')\n",
      "6 --> ('Red', 'Yellow', 'Green', 'White', 'Black', 'Pink')\n",
      "6 --> ('Red', 'Yellow', 'Green', 'White', 'Pink', 'Black')\n",
      "6 --> ('Red', 'Yellow', 'Green', 'Black', 'White', 'Pink')\n",
      "6 --> ('Red', 'Yellow', 'Green', 'Black', 'Pink', 'White')\n",
      "6 --> ('Red', 'Yellow', 'Green', 'Pink', 'White', 'Black')\n",
      "6 --> ('Red', 'Yellow', 'Green', 'Pink', 'Black', 'White')\n",
      "6 --> ('Red', 'Yellow', 'White', 'Green', 'Black', 'Pink')\n",
      "6 --> ('Red', 'Yellow', 'White', 'Green', 'Pink', 'Black')\n",
      "6 --> ('Red', 'Yellow', 'White', 'Black', 'Green', 'Pink')\n",
      "6 --> ('Red', 'Yellow', 'White', 'Black', 'Pink', 'Green')\n",
      "6 --> ('Red', 'Yellow', 'White', 'Pink', 'Green', 'Black')\n",
      "6 --> ('Red', 'Yellow', 'White', 'Pink', 'Black', 'Green')\n",
      "6 --> ('Red', 'Yellow', 'Black', 'Green', 'White', 'Pink')\n",
      "6 --> ('Red', 'Yellow', 'Black', 'Green', 'Pink', 'White')\n",
      "6 --> ('Red', 'Yellow', 'Black', 'White', 'Green', 'Pink')\n",
      "6 --> ('Red', 'Yellow', 'Black', 'White', 'Pink', 'Green')\n",
      "6 --> ('Red', 'Yellow', 'Black', 'Pink', 'Green', 'White')\n",
      "6 --> ('Red', 'Yellow', 'Black', 'Pink', 'White', 'Green')\n",
      "6 --> ('Red', 'Yellow', 'Pink', 'Green', 'White', 'Black')\n",
      "6 --> ('Red', 'Yellow', 'Pink', 'Green', 'Black', 'White')\n",
      "6 --> ('Red', 'Yellow', 'Pink', 'White', 'Green', 'Black')\n",
      "6 --> ('Red', 'Yellow', 'Pink', 'White', 'Black', 'Green')\n",
      "6 --> ('Red', 'Yellow', 'Pink', 'Black', 'Green', 'White')\n",
      "6 --> ('Red', 'Yellow', 'Pink', 'Black', 'White', 'Green')\n",
      "6 --> ('Green', 'Red', 'White', 'Black', 'Pink', 'Yellow')\n",
      "6 --> ('Green', 'Red', 'White', 'Black', 'Yellow', 'Pink')\n",
      "6 --> ('Green', 'Red', 'White', 'Pink', 'Black', 'Yellow')\n",
      "6 --> ('Green', 'Red', 'White', 'Pink', 'Yellow', 'Black')\n",
      "6 --> ('Green', 'Red', 'White', 'Yellow', 'Black', 'Pink')\n",
      "6 --> ('Green', 'Red', 'White', 'Yellow', 'Pink', 'Black')\n",
      "6 --> ('Green', 'Red', 'Black', 'White', 'Pink', 'Yellow')\n",
      "6 --> ('Green', 'Red', 'Black', 'White', 'Yellow', 'Pink')\n",
      "6 --> ('Green', 'Red', 'Black', 'Pink', 'White', 'Yellow')\n",
      "6 --> ('Green', 'Red', 'Black', 'Pink', 'Yellow', 'White')\n",
      "6 --> ('Green', 'Red', 'Black', 'Yellow', 'White', 'Pink')\n",
      "6 --> ('Green', 'Red', 'Black', 'Yellow', 'Pink', 'White')\n",
      "6 --> ('Green', 'Red', 'Pink', 'White', 'Black', 'Yellow')\n",
      "6 --> ('Green', 'Red', 'Pink', 'White', 'Yellow', 'Black')\n",
      "6 --> ('Green', 'Red', 'Pink', 'Black', 'White', 'Yellow')\n",
      "6 --> ('Green', 'Red', 'Pink', 'Black', 'Yellow', 'White')\n",
      "6 --> ('Green', 'Red', 'Pink', 'Yellow', 'White', 'Black')\n",
      "6 --> ('Green', 'Red', 'Pink', 'Yellow', 'Black', 'White')\n",
      "6 --> ('Green', 'Red', 'Yellow', 'White', 'Black', 'Pink')\n",
      "6 --> ('Green', 'Red', 'Yellow', 'White', 'Pink', 'Black')\n",
      "6 --> ('Green', 'Red', 'Yellow', 'Black', 'White', 'Pink')\n",
      "6 --> ('Green', 'Red', 'Yellow', 'Black', 'Pink', 'White')\n",
      "6 --> ('Green', 'Red', 'Yellow', 'Pink', 'White', 'Black')\n",
      "6 --> ('Green', 'Red', 'Yellow', 'Pink', 'Black', 'White')\n",
      "6 --> ('Green', 'White', 'Red', 'Black', 'Pink', 'Yellow')\n",
      "6 --> ('Green', 'White', 'Red', 'Black', 'Yellow', 'Pink')\n",
      "6 --> ('Green', 'White', 'Red', 'Pink', 'Black', 'Yellow')\n",
      "6 --> ('Green', 'White', 'Red', 'Pink', 'Yellow', 'Black')\n",
      "6 --> ('Green', 'White', 'Red', 'Yellow', 'Black', 'Pink')\n",
      "6 --> ('Green', 'White', 'Red', 'Yellow', 'Pink', 'Black')\n",
      "6 --> ('Green', 'White', 'Black', 'Red', 'Pink', 'Yellow')\n",
      "6 --> ('Green', 'White', 'Black', 'Red', 'Yellow', 'Pink')\n",
      "6 --> ('Green', 'White', 'Black', 'Pink', 'Red', 'Yellow')\n",
      "6 --> ('Green', 'White', 'Black', 'Pink', 'Yellow', 'Red')\n",
      "6 --> ('Green', 'White', 'Black', 'Yellow', 'Red', 'Pink')\n",
      "6 --> ('Green', 'White', 'Black', 'Yellow', 'Pink', 'Red')\n",
      "6 --> ('Green', 'White', 'Pink', 'Red', 'Black', 'Yellow')\n",
      "6 --> ('Green', 'White', 'Pink', 'Red', 'Yellow', 'Black')\n",
      "6 --> ('Green', 'White', 'Pink', 'Black', 'Red', 'Yellow')\n",
      "6 --> ('Green', 'White', 'Pink', 'Black', 'Yellow', 'Red')\n",
      "6 --> ('Green', 'White', 'Pink', 'Yellow', 'Red', 'Black')\n",
      "6 --> ('Green', 'White', 'Pink', 'Yellow', 'Black', 'Red')\n",
      "6 --> ('Green', 'White', 'Yellow', 'Red', 'Black', 'Pink')\n",
      "6 --> ('Green', 'White', 'Yellow', 'Red', 'Pink', 'Black')\n",
      "6 --> ('Green', 'White', 'Yellow', 'Black', 'Red', 'Pink')\n",
      "6 --> ('Green', 'White', 'Yellow', 'Black', 'Pink', 'Red')\n",
      "6 --> ('Green', 'White', 'Yellow', 'Pink', 'Red', 'Black')\n",
      "6 --> ('Green', 'White', 'Yellow', 'Pink', 'Black', 'Red')\n",
      "6 --> ('Green', 'Black', 'Red', 'White', 'Pink', 'Yellow')\n",
      "6 --> ('Green', 'Black', 'Red', 'White', 'Yellow', 'Pink')\n",
      "6 --> ('Green', 'Black', 'Red', 'Pink', 'White', 'Yellow')\n",
      "6 --> ('Green', 'Black', 'Red', 'Pink', 'Yellow', 'White')\n",
      "6 --> ('Green', 'Black', 'Red', 'Yellow', 'White', 'Pink')\n",
      "6 --> ('Green', 'Black', 'Red', 'Yellow', 'Pink', 'White')\n",
      "6 --> ('Green', 'Black', 'White', 'Red', 'Pink', 'Yellow')\n",
      "6 --> ('Green', 'Black', 'White', 'Red', 'Yellow', 'Pink')\n",
      "6 --> ('Green', 'Black', 'White', 'Pink', 'Red', 'Yellow')\n",
      "6 --> ('Green', 'Black', 'White', 'Pink', 'Yellow', 'Red')\n",
      "6 --> ('Green', 'Black', 'White', 'Yellow', 'Red', 'Pink')\n",
      "6 --> ('Green', 'Black', 'White', 'Yellow', 'Pink', 'Red')\n",
      "6 --> ('Green', 'Black', 'Pink', 'Red', 'White', 'Yellow')\n",
      "6 --> ('Green', 'Black', 'Pink', 'Red', 'Yellow', 'White')\n",
      "6 --> ('Green', 'Black', 'Pink', 'White', 'Red', 'Yellow')\n",
      "6 --> ('Green', 'Black', 'Pink', 'White', 'Yellow', 'Red')\n",
      "6 --> ('Green', 'Black', 'Pink', 'Yellow', 'Red', 'White')\n",
      "6 --> ('Green', 'Black', 'Pink', 'Yellow', 'White', 'Red')\n",
      "6 --> ('Green', 'Black', 'Yellow', 'Red', 'White', 'Pink')\n",
      "6 --> ('Green', 'Black', 'Yellow', 'Red', 'Pink', 'White')\n",
      "6 --> ('Green', 'Black', 'Yellow', 'White', 'Red', 'Pink')\n",
      "6 --> ('Green', 'Black', 'Yellow', 'White', 'Pink', 'Red')\n",
      "6 --> ('Green', 'Black', 'Yellow', 'Pink', 'Red', 'White')\n",
      "6 --> ('Green', 'Black', 'Yellow', 'Pink', 'White', 'Red')\n",
      "6 --> ('Green', 'Pink', 'Red', 'White', 'Black', 'Yellow')\n",
      "6 --> ('Green', 'Pink', 'Red', 'White', 'Yellow', 'Black')\n",
      "6 --> ('Green', 'Pink', 'Red', 'Black', 'White', 'Yellow')\n",
      "6 --> ('Green', 'Pink', 'Red', 'Black', 'Yellow', 'White')\n",
      "6 --> ('Green', 'Pink', 'Red', 'Yellow', 'White', 'Black')\n",
      "6 --> ('Green', 'Pink', 'Red', 'Yellow', 'Black', 'White')\n",
      "6 --> ('Green', 'Pink', 'White', 'Red', 'Black', 'Yellow')\n",
      "6 --> ('Green', 'Pink', 'White', 'Red', 'Yellow', 'Black')\n",
      "6 --> ('Green', 'Pink', 'White', 'Black', 'Red', 'Yellow')\n",
      "6 --> ('Green', 'Pink', 'White', 'Black', 'Yellow', 'Red')\n",
      "6 --> ('Green', 'Pink', 'White', 'Yellow', 'Red', 'Black')\n",
      "6 --> ('Green', 'Pink', 'White', 'Yellow', 'Black', 'Red')\n",
      "6 --> ('Green', 'Pink', 'Black', 'Red', 'White', 'Yellow')\n",
      "6 --> ('Green', 'Pink', 'Black', 'Red', 'Yellow', 'White')\n",
      "6 --> ('Green', 'Pink', 'Black', 'White', 'Red', 'Yellow')\n",
      "6 --> ('Green', 'Pink', 'Black', 'White', 'Yellow', 'Red')\n",
      "6 --> ('Green', 'Pink', 'Black', 'Yellow', 'Red', 'White')\n",
      "6 --> ('Green', 'Pink', 'Black', 'Yellow', 'White', 'Red')\n",
      "6 --> ('Green', 'Pink', 'Yellow', 'Red', 'White', 'Black')\n",
      "6 --> ('Green', 'Pink', 'Yellow', 'Red', 'Black', 'White')\n",
      "6 --> ('Green', 'Pink', 'Yellow', 'White', 'Red', 'Black')\n",
      "6 --> ('Green', 'Pink', 'Yellow', 'White', 'Black', 'Red')\n",
      "6 --> ('Green', 'Pink', 'Yellow', 'Black', 'Red', 'White')\n",
      "6 --> ('Green', 'Pink', 'Yellow', 'Black', 'White', 'Red')\n",
      "6 --> ('Green', 'Yellow', 'Red', 'White', 'Black', 'Pink')\n",
      "6 --> ('Green', 'Yellow', 'Red', 'White', 'Pink', 'Black')\n",
      "6 --> ('Green', 'Yellow', 'Red', 'Black', 'White', 'Pink')\n",
      "6 --> ('Green', 'Yellow', 'Red', 'Black', 'Pink', 'White')\n",
      "6 --> ('Green', 'Yellow', 'Red', 'Pink', 'White', 'Black')\n",
      "6 --> ('Green', 'Yellow', 'Red', 'Pink', 'Black', 'White')\n",
      "6 --> ('Green', 'Yellow', 'White', 'Red', 'Black', 'Pink')\n",
      "6 --> ('Green', 'Yellow', 'White', 'Red', 'Pink', 'Black')\n",
      "6 --> ('Green', 'Yellow', 'White', 'Black', 'Red', 'Pink')\n",
      "6 --> ('Green', 'Yellow', 'White', 'Black', 'Pink', 'Red')\n",
      "6 --> ('Green', 'Yellow', 'White', 'Pink', 'Red', 'Black')\n",
      "6 --> ('Green', 'Yellow', 'White', 'Pink', 'Black', 'Red')\n",
      "6 --> ('Green', 'Yellow', 'Black', 'Red', 'White', 'Pink')\n",
      "6 --> ('Green', 'Yellow', 'Black', 'Red', 'Pink', 'White')\n",
      "6 --> ('Green', 'Yellow', 'Black', 'White', 'Red', 'Pink')\n",
      "6 --> ('Green', 'Yellow', 'Black', 'White', 'Pink', 'Red')\n",
      "6 --> ('Green', 'Yellow', 'Black', 'Pink', 'Red', 'White')\n",
      "6 --> ('Green', 'Yellow', 'Black', 'Pink', 'White', 'Red')\n",
      "6 --> ('Green', 'Yellow', 'Pink', 'Red', 'White', 'Black')\n",
      "6 --> ('Green', 'Yellow', 'Pink', 'Red', 'Black', 'White')\n",
      "6 --> ('Green', 'Yellow', 'Pink', 'White', 'Red', 'Black')\n",
      "6 --> ('Green', 'Yellow', 'Pink', 'White', 'Black', 'Red')\n",
      "6 --> ('Green', 'Yellow', 'Pink', 'Black', 'Red', 'White')\n",
      "6 --> ('Green', 'Yellow', 'Pink', 'Black', 'White', 'Red')\n",
      "6 --> ('White', 'Red', 'Green', 'Black', 'Pink', 'Yellow')\n",
      "6 --> ('White', 'Red', 'Green', 'Black', 'Yellow', 'Pink')\n",
      "6 --> ('White', 'Red', 'Green', 'Pink', 'Black', 'Yellow')\n",
      "6 --> ('White', 'Red', 'Green', 'Pink', 'Yellow', 'Black')\n",
      "6 --> ('White', 'Red', 'Green', 'Yellow', 'Black', 'Pink')\n",
      "6 --> ('White', 'Red', 'Green', 'Yellow', 'Pink', 'Black')\n",
      "6 --> ('White', 'Red', 'Black', 'Green', 'Pink', 'Yellow')\n",
      "6 --> ('White', 'Red', 'Black', 'Green', 'Yellow', 'Pink')\n",
      "6 --> ('White', 'Red', 'Black', 'Pink', 'Green', 'Yellow')\n",
      "6 --> ('White', 'Red', 'Black', 'Pink', 'Yellow', 'Green')\n",
      "6 --> ('White', 'Red', 'Black', 'Yellow', 'Green', 'Pink')\n",
      "6 --> ('White', 'Red', 'Black', 'Yellow', 'Pink', 'Green')\n",
      "6 --> ('White', 'Red', 'Pink', 'Green', 'Black', 'Yellow')\n",
      "6 --> ('White', 'Red', 'Pink', 'Green', 'Yellow', 'Black')\n",
      "6 --> ('White', 'Red', 'Pink', 'Black', 'Green', 'Yellow')\n",
      "6 --> ('White', 'Red', 'Pink', 'Black', 'Yellow', 'Green')\n",
      "6 --> ('White', 'Red', 'Pink', 'Yellow', 'Green', 'Black')\n",
      "6 --> ('White', 'Red', 'Pink', 'Yellow', 'Black', 'Green')\n",
      "6 --> ('White', 'Red', 'Yellow', 'Green', 'Black', 'Pink')\n",
      "6 --> ('White', 'Red', 'Yellow', 'Green', 'Pink', 'Black')\n",
      "6 --> ('White', 'Red', 'Yellow', 'Black', 'Green', 'Pink')\n",
      "6 --> ('White', 'Red', 'Yellow', 'Black', 'Pink', 'Green')\n",
      "6 --> ('White', 'Red', 'Yellow', 'Pink', 'Green', 'Black')\n",
      "6 --> ('White', 'Red', 'Yellow', 'Pink', 'Black', 'Green')\n",
      "6 --> ('White', 'Green', 'Red', 'Black', 'Pink', 'Yellow')\n",
      "6 --> ('White', 'Green', 'Red', 'Black', 'Yellow', 'Pink')\n",
      "6 --> ('White', 'Green', 'Red', 'Pink', 'Black', 'Yellow')\n",
      "6 --> ('White', 'Green', 'Red', 'Pink', 'Yellow', 'Black')\n",
      "6 --> ('White', 'Green', 'Red', 'Yellow', 'Black', 'Pink')\n",
      "6 --> ('White', 'Green', 'Red', 'Yellow', 'Pink', 'Black')\n",
      "6 --> ('White', 'Green', 'Black', 'Red', 'Pink', 'Yellow')\n",
      "6 --> ('White', 'Green', 'Black', 'Red', 'Yellow', 'Pink')\n",
      "6 --> ('White', 'Green', 'Black', 'Pink', 'Red', 'Yellow')\n",
      "6 --> ('White', 'Green', 'Black', 'Pink', 'Yellow', 'Red')\n",
      "6 --> ('White', 'Green', 'Black', 'Yellow', 'Red', 'Pink')\n",
      "6 --> ('White', 'Green', 'Black', 'Yellow', 'Pink', 'Red')\n",
      "6 --> ('White', 'Green', 'Pink', 'Red', 'Black', 'Yellow')\n",
      "6 --> ('White', 'Green', 'Pink', 'Red', 'Yellow', 'Black')\n",
      "6 --> ('White', 'Green', 'Pink', 'Black', 'Red', 'Yellow')\n",
      "6 --> ('White', 'Green', 'Pink', 'Black', 'Yellow', 'Red')\n",
      "6 --> ('White', 'Green', 'Pink', 'Yellow', 'Red', 'Black')\n",
      "6 --> ('White', 'Green', 'Pink', 'Yellow', 'Black', 'Red')\n",
      "6 --> ('White', 'Green', 'Yellow', 'Red', 'Black', 'Pink')\n",
      "6 --> ('White', 'Green', 'Yellow', 'Red', 'Pink', 'Black')\n",
      "6 --> ('White', 'Green', 'Yellow', 'Black', 'Red', 'Pink')\n",
      "6 --> ('White', 'Green', 'Yellow', 'Black', 'Pink', 'Red')\n",
      "6 --> ('White', 'Green', 'Yellow', 'Pink', 'Red', 'Black')\n",
      "6 --> ('White', 'Green', 'Yellow', 'Pink', 'Black', 'Red')\n",
      "6 --> ('White', 'Black', 'Red', 'Green', 'Pink', 'Yellow')\n",
      "6 --> ('White', 'Black', 'Red', 'Green', 'Yellow', 'Pink')\n",
      "6 --> ('White', 'Black', 'Red', 'Pink', 'Green', 'Yellow')\n",
      "6 --> ('White', 'Black', 'Red', 'Pink', 'Yellow', 'Green')\n",
      "6 --> ('White', 'Black', 'Red', 'Yellow', 'Green', 'Pink')\n",
      "6 --> ('White', 'Black', 'Red', 'Yellow', 'Pink', 'Green')\n",
      "6 --> ('White', 'Black', 'Green', 'Red', 'Pink', 'Yellow')\n",
      "6 --> ('White', 'Black', 'Green', 'Red', 'Yellow', 'Pink')\n",
      "6 --> ('White', 'Black', 'Green', 'Pink', 'Red', 'Yellow')\n",
      "6 --> ('White', 'Black', 'Green', 'Pink', 'Yellow', 'Red')\n",
      "6 --> ('White', 'Black', 'Green', 'Yellow', 'Red', 'Pink')\n",
      "6 --> ('White', 'Black', 'Green', 'Yellow', 'Pink', 'Red')\n",
      "6 --> ('White', 'Black', 'Pink', 'Red', 'Green', 'Yellow')\n",
      "6 --> ('White', 'Black', 'Pink', 'Red', 'Yellow', 'Green')\n",
      "6 --> ('White', 'Black', 'Pink', 'Green', 'Red', 'Yellow')\n",
      "6 --> ('White', 'Black', 'Pink', 'Green', 'Yellow', 'Red')\n",
      "6 --> ('White', 'Black', 'Pink', 'Yellow', 'Red', 'Green')\n",
      "6 --> ('White', 'Black', 'Pink', 'Yellow', 'Green', 'Red')\n",
      "6 --> ('White', 'Black', 'Yellow', 'Red', 'Green', 'Pink')\n",
      "6 --> ('White', 'Black', 'Yellow', 'Red', 'Pink', 'Green')\n",
      "6 --> ('White', 'Black', 'Yellow', 'Green', 'Red', 'Pink')\n",
      "6 --> ('White', 'Black', 'Yellow', 'Green', 'Pink', 'Red')\n",
      "6 --> ('White', 'Black', 'Yellow', 'Pink', 'Red', 'Green')\n",
      "6 --> ('White', 'Black', 'Yellow', 'Pink', 'Green', 'Red')\n",
      "6 --> ('White', 'Pink', 'Red', 'Green', 'Black', 'Yellow')\n",
      "6 --> ('White', 'Pink', 'Red', 'Green', 'Yellow', 'Black')\n",
      "6 --> ('White', 'Pink', 'Red', 'Black', 'Green', 'Yellow')\n",
      "6 --> ('White', 'Pink', 'Red', 'Black', 'Yellow', 'Green')\n",
      "6 --> ('White', 'Pink', 'Red', 'Yellow', 'Green', 'Black')\n",
      "6 --> ('White', 'Pink', 'Red', 'Yellow', 'Black', 'Green')\n",
      "6 --> ('White', 'Pink', 'Green', 'Red', 'Black', 'Yellow')\n",
      "6 --> ('White', 'Pink', 'Green', 'Red', 'Yellow', 'Black')\n",
      "6 --> ('White', 'Pink', 'Green', 'Black', 'Red', 'Yellow')\n",
      "6 --> ('White', 'Pink', 'Green', 'Black', 'Yellow', 'Red')\n",
      "6 --> ('White', 'Pink', 'Green', 'Yellow', 'Red', 'Black')\n",
      "6 --> ('White', 'Pink', 'Green', 'Yellow', 'Black', 'Red')\n",
      "6 --> ('White', 'Pink', 'Black', 'Red', 'Green', 'Yellow')\n",
      "6 --> ('White', 'Pink', 'Black', 'Red', 'Yellow', 'Green')\n",
      "6 --> ('White', 'Pink', 'Black', 'Green', 'Red', 'Yellow')\n",
      "6 --> ('White', 'Pink', 'Black', 'Green', 'Yellow', 'Red')\n",
      "6 --> ('White', 'Pink', 'Black', 'Yellow', 'Red', 'Green')\n",
      "6 --> ('White', 'Pink', 'Black', 'Yellow', 'Green', 'Red')\n",
      "6 --> ('White', 'Pink', 'Yellow', 'Red', 'Green', 'Black')\n",
      "6 --> ('White', 'Pink', 'Yellow', 'Red', 'Black', 'Green')\n",
      "6 --> ('White', 'Pink', 'Yellow', 'Green', 'Red', 'Black')\n",
      "6 --> ('White', 'Pink', 'Yellow', 'Green', 'Black', 'Red')\n",
      "6 --> ('White', 'Pink', 'Yellow', 'Black', 'Red', 'Green')\n",
      "6 --> ('White', 'Pink', 'Yellow', 'Black', 'Green', 'Red')\n",
      "6 --> ('White', 'Yellow', 'Red', 'Green', 'Black', 'Pink')\n",
      "6 --> ('White', 'Yellow', 'Red', 'Green', 'Pink', 'Black')\n",
      "6 --> ('White', 'Yellow', 'Red', 'Black', 'Green', 'Pink')\n",
      "6 --> ('White', 'Yellow', 'Red', 'Black', 'Pink', 'Green')\n",
      "6 --> ('White', 'Yellow', 'Red', 'Pink', 'Green', 'Black')\n",
      "6 --> ('White', 'Yellow', 'Red', 'Pink', 'Black', 'Green')\n",
      "6 --> ('White', 'Yellow', 'Green', 'Red', 'Black', 'Pink')\n",
      "6 --> ('White', 'Yellow', 'Green', 'Red', 'Pink', 'Black')\n",
      "6 --> ('White', 'Yellow', 'Green', 'Black', 'Red', 'Pink')\n",
      "6 --> ('White', 'Yellow', 'Green', 'Black', 'Pink', 'Red')\n",
      "6 --> ('White', 'Yellow', 'Green', 'Pink', 'Red', 'Black')\n",
      "6 --> ('White', 'Yellow', 'Green', 'Pink', 'Black', 'Red')\n",
      "6 --> ('White', 'Yellow', 'Black', 'Red', 'Green', 'Pink')\n",
      "6 --> ('White', 'Yellow', 'Black', 'Red', 'Pink', 'Green')\n",
      "6 --> ('White', 'Yellow', 'Black', 'Green', 'Red', 'Pink')\n",
      "6 --> ('White', 'Yellow', 'Black', 'Green', 'Pink', 'Red')\n",
      "6 --> ('White', 'Yellow', 'Black', 'Pink', 'Red', 'Green')\n",
      "6 --> ('White', 'Yellow', 'Black', 'Pink', 'Green', 'Red')\n",
      "6 --> ('White', 'Yellow', 'Pink', 'Red', 'Green', 'Black')\n",
      "6 --> ('White', 'Yellow', 'Pink', 'Red', 'Black', 'Green')\n",
      "6 --> ('White', 'Yellow', 'Pink', 'Green', 'Red', 'Black')\n",
      "6 --> ('White', 'Yellow', 'Pink', 'Green', 'Black', 'Red')\n",
      "6 --> ('White', 'Yellow', 'Pink', 'Black', 'Red', 'Green')\n",
      "6 --> ('White', 'Yellow', 'Pink', 'Black', 'Green', 'Red')\n",
      "6 --> ('Black', 'Red', 'Green', 'White', 'Pink', 'Yellow')\n",
      "6 --> ('Black', 'Red', 'Green', 'White', 'Yellow', 'Pink')\n",
      "6 --> ('Black', 'Red', 'Green', 'Pink', 'White', 'Yellow')\n",
      "6 --> ('Black', 'Red', 'Green', 'Pink', 'Yellow', 'White')\n",
      "6 --> ('Black', 'Red', 'Green', 'Yellow', 'White', 'Pink')\n",
      "6 --> ('Black', 'Red', 'Green', 'Yellow', 'Pink', 'White')\n",
      "6 --> ('Black', 'Red', 'White', 'Green', 'Pink', 'Yellow')\n",
      "6 --> ('Black', 'Red', 'White', 'Green', 'Yellow', 'Pink')\n",
      "6 --> ('Black', 'Red', 'White', 'Pink', 'Green', 'Yellow')\n",
      "6 --> ('Black', 'Red', 'White', 'Pink', 'Yellow', 'Green')\n",
      "6 --> ('Black', 'Red', 'White', 'Yellow', 'Green', 'Pink')\n",
      "6 --> ('Black', 'Red', 'White', 'Yellow', 'Pink', 'Green')\n",
      "6 --> ('Black', 'Red', 'Pink', 'Green', 'White', 'Yellow')\n",
      "6 --> ('Black', 'Red', 'Pink', 'Green', 'Yellow', 'White')\n",
      "6 --> ('Black', 'Red', 'Pink', 'White', 'Green', 'Yellow')\n",
      "6 --> ('Black', 'Red', 'Pink', 'White', 'Yellow', 'Green')\n",
      "6 --> ('Black', 'Red', 'Pink', 'Yellow', 'Green', 'White')\n",
      "6 --> ('Black', 'Red', 'Pink', 'Yellow', 'White', 'Green')\n",
      "6 --> ('Black', 'Red', 'Yellow', 'Green', 'White', 'Pink')\n",
      "6 --> ('Black', 'Red', 'Yellow', 'Green', 'Pink', 'White')\n",
      "6 --> ('Black', 'Red', 'Yellow', 'White', 'Green', 'Pink')\n",
      "6 --> ('Black', 'Red', 'Yellow', 'White', 'Pink', 'Green')\n",
      "6 --> ('Black', 'Red', 'Yellow', 'Pink', 'Green', 'White')\n",
      "6 --> ('Black', 'Red', 'Yellow', 'Pink', 'White', 'Green')\n",
      "6 --> ('Black', 'Green', 'Red', 'White', 'Pink', 'Yellow')\n",
      "6 --> ('Black', 'Green', 'Red', 'White', 'Yellow', 'Pink')\n",
      "6 --> ('Black', 'Green', 'Red', 'Pink', 'White', 'Yellow')\n",
      "6 --> ('Black', 'Green', 'Red', 'Pink', 'Yellow', 'White')\n",
      "6 --> ('Black', 'Green', 'Red', 'Yellow', 'White', 'Pink')\n",
      "6 --> ('Black', 'Green', 'Red', 'Yellow', 'Pink', 'White')\n",
      "6 --> ('Black', 'Green', 'White', 'Red', 'Pink', 'Yellow')\n",
      "6 --> ('Black', 'Green', 'White', 'Red', 'Yellow', 'Pink')\n",
      "6 --> ('Black', 'Green', 'White', 'Pink', 'Red', 'Yellow')\n",
      "6 --> ('Black', 'Green', 'White', 'Pink', 'Yellow', 'Red')\n",
      "6 --> ('Black', 'Green', 'White', 'Yellow', 'Red', 'Pink')\n",
      "6 --> ('Black', 'Green', 'White', 'Yellow', 'Pink', 'Red')\n",
      "6 --> ('Black', 'Green', 'Pink', 'Red', 'White', 'Yellow')\n",
      "6 --> ('Black', 'Green', 'Pink', 'Red', 'Yellow', 'White')\n",
      "6 --> ('Black', 'Green', 'Pink', 'White', 'Red', 'Yellow')\n",
      "6 --> ('Black', 'Green', 'Pink', 'White', 'Yellow', 'Red')\n",
      "6 --> ('Black', 'Green', 'Pink', 'Yellow', 'Red', 'White')\n",
      "6 --> ('Black', 'Green', 'Pink', 'Yellow', 'White', 'Red')\n",
      "6 --> ('Black', 'Green', 'Yellow', 'Red', 'White', 'Pink')\n",
      "6 --> ('Black', 'Green', 'Yellow', 'Red', 'Pink', 'White')\n",
      "6 --> ('Black', 'Green', 'Yellow', 'White', 'Red', 'Pink')\n",
      "6 --> ('Black', 'Green', 'Yellow', 'White', 'Pink', 'Red')\n",
      "6 --> ('Black', 'Green', 'Yellow', 'Pink', 'Red', 'White')\n",
      "6 --> ('Black', 'Green', 'Yellow', 'Pink', 'White', 'Red')\n",
      "6 --> ('Black', 'White', 'Red', 'Green', 'Pink', 'Yellow')\n",
      "6 --> ('Black', 'White', 'Red', 'Green', 'Yellow', 'Pink')\n",
      "6 --> ('Black', 'White', 'Red', 'Pink', 'Green', 'Yellow')\n",
      "6 --> ('Black', 'White', 'Red', 'Pink', 'Yellow', 'Green')\n",
      "6 --> ('Black', 'White', 'Red', 'Yellow', 'Green', 'Pink')\n",
      "6 --> ('Black', 'White', 'Red', 'Yellow', 'Pink', 'Green')\n",
      "6 --> ('Black', 'White', 'Green', 'Red', 'Pink', 'Yellow')\n",
      "6 --> ('Black', 'White', 'Green', 'Red', 'Yellow', 'Pink')\n",
      "6 --> ('Black', 'White', 'Green', 'Pink', 'Red', 'Yellow')\n",
      "6 --> ('Black', 'White', 'Green', 'Pink', 'Yellow', 'Red')\n",
      "6 --> ('Black', 'White', 'Green', 'Yellow', 'Red', 'Pink')\n",
      "6 --> ('Black', 'White', 'Green', 'Yellow', 'Pink', 'Red')\n",
      "6 --> ('Black', 'White', 'Pink', 'Red', 'Green', 'Yellow')\n",
      "6 --> ('Black', 'White', 'Pink', 'Red', 'Yellow', 'Green')\n",
      "6 --> ('Black', 'White', 'Pink', 'Green', 'Red', 'Yellow')\n",
      "6 --> ('Black', 'White', 'Pink', 'Green', 'Yellow', 'Red')\n",
      "6 --> ('Black', 'White', 'Pink', 'Yellow', 'Red', 'Green')\n",
      "6 --> ('Black', 'White', 'Pink', 'Yellow', 'Green', 'Red')\n",
      "6 --> ('Black', 'White', 'Yellow', 'Red', 'Green', 'Pink')\n",
      "6 --> ('Black', 'White', 'Yellow', 'Red', 'Pink', 'Green')\n",
      "6 --> ('Black', 'White', 'Yellow', 'Green', 'Red', 'Pink')\n",
      "6 --> ('Black', 'White', 'Yellow', 'Green', 'Pink', 'Red')\n",
      "6 --> ('Black', 'White', 'Yellow', 'Pink', 'Red', 'Green')\n",
      "6 --> ('Black', 'White', 'Yellow', 'Pink', 'Green', 'Red')\n",
      "6 --> ('Black', 'Pink', 'Red', 'Green', 'White', 'Yellow')\n",
      "6 --> ('Black', 'Pink', 'Red', 'Green', 'Yellow', 'White')\n",
      "6 --> ('Black', 'Pink', 'Red', 'White', 'Green', 'Yellow')\n",
      "6 --> ('Black', 'Pink', 'Red', 'White', 'Yellow', 'Green')\n",
      "6 --> ('Black', 'Pink', 'Red', 'Yellow', 'Green', 'White')\n"
     ]
    },
    {
     "name": "stdout",
     "output_type": "stream",
     "text": [
      "6 --> ('Black', 'Pink', 'Red', 'Yellow', 'White', 'Green')\n",
      "6 --> ('Black', 'Pink', 'Green', 'Red', 'White', 'Yellow')\n",
      "6 --> ('Black', 'Pink', 'Green', 'Red', 'Yellow', 'White')\n",
      "6 --> ('Black', 'Pink', 'Green', 'White', 'Red', 'Yellow')\n",
      "6 --> ('Black', 'Pink', 'Green', 'White', 'Yellow', 'Red')\n",
      "6 --> ('Black', 'Pink', 'Green', 'Yellow', 'Red', 'White')\n",
      "6 --> ('Black', 'Pink', 'Green', 'Yellow', 'White', 'Red')\n",
      "6 --> ('Black', 'Pink', 'White', 'Red', 'Green', 'Yellow')\n",
      "6 --> ('Black', 'Pink', 'White', 'Red', 'Yellow', 'Green')\n",
      "6 --> ('Black', 'Pink', 'White', 'Green', 'Red', 'Yellow')\n",
      "6 --> ('Black', 'Pink', 'White', 'Green', 'Yellow', 'Red')\n",
      "6 --> ('Black', 'Pink', 'White', 'Yellow', 'Red', 'Green')\n",
      "6 --> ('Black', 'Pink', 'White', 'Yellow', 'Green', 'Red')\n",
      "6 --> ('Black', 'Pink', 'Yellow', 'Red', 'Green', 'White')\n",
      "6 --> ('Black', 'Pink', 'Yellow', 'Red', 'White', 'Green')\n",
      "6 --> ('Black', 'Pink', 'Yellow', 'Green', 'Red', 'White')\n",
      "6 --> ('Black', 'Pink', 'Yellow', 'Green', 'White', 'Red')\n",
      "6 --> ('Black', 'Pink', 'Yellow', 'White', 'Red', 'Green')\n",
      "6 --> ('Black', 'Pink', 'Yellow', 'White', 'Green', 'Red')\n",
      "6 --> ('Black', 'Yellow', 'Red', 'Green', 'White', 'Pink')\n",
      "6 --> ('Black', 'Yellow', 'Red', 'Green', 'Pink', 'White')\n",
      "6 --> ('Black', 'Yellow', 'Red', 'White', 'Green', 'Pink')\n",
      "6 --> ('Black', 'Yellow', 'Red', 'White', 'Pink', 'Green')\n",
      "6 --> ('Black', 'Yellow', 'Red', 'Pink', 'Green', 'White')\n",
      "6 --> ('Black', 'Yellow', 'Red', 'Pink', 'White', 'Green')\n",
      "6 --> ('Black', 'Yellow', 'Green', 'Red', 'White', 'Pink')\n",
      "6 --> ('Black', 'Yellow', 'Green', 'Red', 'Pink', 'White')\n",
      "6 --> ('Black', 'Yellow', 'Green', 'White', 'Red', 'Pink')\n",
      "6 --> ('Black', 'Yellow', 'Green', 'White', 'Pink', 'Red')\n",
      "6 --> ('Black', 'Yellow', 'Green', 'Pink', 'Red', 'White')\n",
      "6 --> ('Black', 'Yellow', 'Green', 'Pink', 'White', 'Red')\n",
      "6 --> ('Black', 'Yellow', 'White', 'Red', 'Green', 'Pink')\n",
      "6 --> ('Black', 'Yellow', 'White', 'Red', 'Pink', 'Green')\n",
      "6 --> ('Black', 'Yellow', 'White', 'Green', 'Red', 'Pink')\n",
      "6 --> ('Black', 'Yellow', 'White', 'Green', 'Pink', 'Red')\n",
      "6 --> ('Black', 'Yellow', 'White', 'Pink', 'Red', 'Green')\n",
      "6 --> ('Black', 'Yellow', 'White', 'Pink', 'Green', 'Red')\n",
      "6 --> ('Black', 'Yellow', 'Pink', 'Red', 'Green', 'White')\n",
      "6 --> ('Black', 'Yellow', 'Pink', 'Red', 'White', 'Green')\n",
      "6 --> ('Black', 'Yellow', 'Pink', 'Green', 'Red', 'White')\n",
      "6 --> ('Black', 'Yellow', 'Pink', 'Green', 'White', 'Red')\n",
      "6 --> ('Black', 'Yellow', 'Pink', 'White', 'Red', 'Green')\n",
      "6 --> ('Black', 'Yellow', 'Pink', 'White', 'Green', 'Red')\n",
      "6 --> ('Pink', 'Red', 'Green', 'White', 'Black', 'Yellow')\n",
      "6 --> ('Pink', 'Red', 'Green', 'White', 'Yellow', 'Black')\n",
      "6 --> ('Pink', 'Red', 'Green', 'Black', 'White', 'Yellow')\n",
      "6 --> ('Pink', 'Red', 'Green', 'Black', 'Yellow', 'White')\n",
      "6 --> ('Pink', 'Red', 'Green', 'Yellow', 'White', 'Black')\n",
      "6 --> ('Pink', 'Red', 'Green', 'Yellow', 'Black', 'White')\n",
      "6 --> ('Pink', 'Red', 'White', 'Green', 'Black', 'Yellow')\n",
      "6 --> ('Pink', 'Red', 'White', 'Green', 'Yellow', 'Black')\n",
      "6 --> ('Pink', 'Red', 'White', 'Black', 'Green', 'Yellow')\n",
      "6 --> ('Pink', 'Red', 'White', 'Black', 'Yellow', 'Green')\n",
      "6 --> ('Pink', 'Red', 'White', 'Yellow', 'Green', 'Black')\n",
      "6 --> ('Pink', 'Red', 'White', 'Yellow', 'Black', 'Green')\n",
      "6 --> ('Pink', 'Red', 'Black', 'Green', 'White', 'Yellow')\n",
      "6 --> ('Pink', 'Red', 'Black', 'Green', 'Yellow', 'White')\n",
      "6 --> ('Pink', 'Red', 'Black', 'White', 'Green', 'Yellow')\n",
      "6 --> ('Pink', 'Red', 'Black', 'White', 'Yellow', 'Green')\n",
      "6 --> ('Pink', 'Red', 'Black', 'Yellow', 'Green', 'White')\n",
      "6 --> ('Pink', 'Red', 'Black', 'Yellow', 'White', 'Green')\n",
      "6 --> ('Pink', 'Red', 'Yellow', 'Green', 'White', 'Black')\n",
      "6 --> ('Pink', 'Red', 'Yellow', 'Green', 'Black', 'White')\n",
      "6 --> ('Pink', 'Red', 'Yellow', 'White', 'Green', 'Black')\n",
      "6 --> ('Pink', 'Red', 'Yellow', 'White', 'Black', 'Green')\n",
      "6 --> ('Pink', 'Red', 'Yellow', 'Black', 'Green', 'White')\n",
      "6 --> ('Pink', 'Red', 'Yellow', 'Black', 'White', 'Green')\n",
      "6 --> ('Pink', 'Green', 'Red', 'White', 'Black', 'Yellow')\n",
      "6 --> ('Pink', 'Green', 'Red', 'White', 'Yellow', 'Black')\n",
      "6 --> ('Pink', 'Green', 'Red', 'Black', 'White', 'Yellow')\n",
      "6 --> ('Pink', 'Green', 'Red', 'Black', 'Yellow', 'White')\n",
      "6 --> ('Pink', 'Green', 'Red', 'Yellow', 'White', 'Black')\n",
      "6 --> ('Pink', 'Green', 'Red', 'Yellow', 'Black', 'White')\n",
      "6 --> ('Pink', 'Green', 'White', 'Red', 'Black', 'Yellow')\n",
      "6 --> ('Pink', 'Green', 'White', 'Red', 'Yellow', 'Black')\n",
      "6 --> ('Pink', 'Green', 'White', 'Black', 'Red', 'Yellow')\n",
      "6 --> ('Pink', 'Green', 'White', 'Black', 'Yellow', 'Red')\n",
      "6 --> ('Pink', 'Green', 'White', 'Yellow', 'Red', 'Black')\n",
      "6 --> ('Pink', 'Green', 'White', 'Yellow', 'Black', 'Red')\n",
      "6 --> ('Pink', 'Green', 'Black', 'Red', 'White', 'Yellow')\n",
      "6 --> ('Pink', 'Green', 'Black', 'Red', 'Yellow', 'White')\n",
      "6 --> ('Pink', 'Green', 'Black', 'White', 'Red', 'Yellow')\n",
      "6 --> ('Pink', 'Green', 'Black', 'White', 'Yellow', 'Red')\n",
      "6 --> ('Pink', 'Green', 'Black', 'Yellow', 'Red', 'White')\n",
      "6 --> ('Pink', 'Green', 'Black', 'Yellow', 'White', 'Red')\n",
      "6 --> ('Pink', 'Green', 'Yellow', 'Red', 'White', 'Black')\n",
      "6 --> ('Pink', 'Green', 'Yellow', 'Red', 'Black', 'White')\n",
      "6 --> ('Pink', 'Green', 'Yellow', 'White', 'Red', 'Black')\n",
      "6 --> ('Pink', 'Green', 'Yellow', 'White', 'Black', 'Red')\n",
      "6 --> ('Pink', 'Green', 'Yellow', 'Black', 'Red', 'White')\n",
      "6 --> ('Pink', 'Green', 'Yellow', 'Black', 'White', 'Red')\n",
      "6 --> ('Pink', 'White', 'Red', 'Green', 'Black', 'Yellow')\n",
      "6 --> ('Pink', 'White', 'Red', 'Green', 'Yellow', 'Black')\n",
      "6 --> ('Pink', 'White', 'Red', 'Black', 'Green', 'Yellow')\n",
      "6 --> ('Pink', 'White', 'Red', 'Black', 'Yellow', 'Green')\n",
      "6 --> ('Pink', 'White', 'Red', 'Yellow', 'Green', 'Black')\n",
      "6 --> ('Pink', 'White', 'Red', 'Yellow', 'Black', 'Green')\n",
      "6 --> ('Pink', 'White', 'Green', 'Red', 'Black', 'Yellow')\n",
      "6 --> ('Pink', 'White', 'Green', 'Red', 'Yellow', 'Black')\n",
      "6 --> ('Pink', 'White', 'Green', 'Black', 'Red', 'Yellow')\n",
      "6 --> ('Pink', 'White', 'Green', 'Black', 'Yellow', 'Red')\n",
      "6 --> ('Pink', 'White', 'Green', 'Yellow', 'Red', 'Black')\n",
      "6 --> ('Pink', 'White', 'Green', 'Yellow', 'Black', 'Red')\n",
      "6 --> ('Pink', 'White', 'Black', 'Red', 'Green', 'Yellow')\n",
      "6 --> ('Pink', 'White', 'Black', 'Red', 'Yellow', 'Green')\n",
      "6 --> ('Pink', 'White', 'Black', 'Green', 'Red', 'Yellow')\n",
      "6 --> ('Pink', 'White', 'Black', 'Green', 'Yellow', 'Red')\n",
      "6 --> ('Pink', 'White', 'Black', 'Yellow', 'Red', 'Green')\n",
      "6 --> ('Pink', 'White', 'Black', 'Yellow', 'Green', 'Red')\n",
      "6 --> ('Pink', 'White', 'Yellow', 'Red', 'Green', 'Black')\n",
      "6 --> ('Pink', 'White', 'Yellow', 'Red', 'Black', 'Green')\n",
      "6 --> ('Pink', 'White', 'Yellow', 'Green', 'Red', 'Black')\n",
      "6 --> ('Pink', 'White', 'Yellow', 'Green', 'Black', 'Red')\n",
      "6 --> ('Pink', 'White', 'Yellow', 'Black', 'Red', 'Green')\n",
      "6 --> ('Pink', 'White', 'Yellow', 'Black', 'Green', 'Red')\n",
      "6 --> ('Pink', 'Black', 'Red', 'Green', 'White', 'Yellow')\n",
      "6 --> ('Pink', 'Black', 'Red', 'Green', 'Yellow', 'White')\n",
      "6 --> ('Pink', 'Black', 'Red', 'White', 'Green', 'Yellow')\n",
      "6 --> ('Pink', 'Black', 'Red', 'White', 'Yellow', 'Green')\n",
      "6 --> ('Pink', 'Black', 'Red', 'Yellow', 'Green', 'White')\n",
      "6 --> ('Pink', 'Black', 'Red', 'Yellow', 'White', 'Green')\n",
      "6 --> ('Pink', 'Black', 'Green', 'Red', 'White', 'Yellow')\n",
      "6 --> ('Pink', 'Black', 'Green', 'Red', 'Yellow', 'White')\n",
      "6 --> ('Pink', 'Black', 'Green', 'White', 'Red', 'Yellow')\n",
      "6 --> ('Pink', 'Black', 'Green', 'White', 'Yellow', 'Red')\n",
      "6 --> ('Pink', 'Black', 'Green', 'Yellow', 'Red', 'White')\n",
      "6 --> ('Pink', 'Black', 'Green', 'Yellow', 'White', 'Red')\n",
      "6 --> ('Pink', 'Black', 'White', 'Red', 'Green', 'Yellow')\n",
      "6 --> ('Pink', 'Black', 'White', 'Red', 'Yellow', 'Green')\n",
      "6 --> ('Pink', 'Black', 'White', 'Green', 'Red', 'Yellow')\n",
      "6 --> ('Pink', 'Black', 'White', 'Green', 'Yellow', 'Red')\n",
      "6 --> ('Pink', 'Black', 'White', 'Yellow', 'Red', 'Green')\n",
      "6 --> ('Pink', 'Black', 'White', 'Yellow', 'Green', 'Red')\n",
      "6 --> ('Pink', 'Black', 'Yellow', 'Red', 'Green', 'White')\n",
      "6 --> ('Pink', 'Black', 'Yellow', 'Red', 'White', 'Green')\n",
      "6 --> ('Pink', 'Black', 'Yellow', 'Green', 'Red', 'White')\n",
      "6 --> ('Pink', 'Black', 'Yellow', 'Green', 'White', 'Red')\n",
      "6 --> ('Pink', 'Black', 'Yellow', 'White', 'Red', 'Green')\n",
      "6 --> ('Pink', 'Black', 'Yellow', 'White', 'Green', 'Red')\n",
      "6 --> ('Pink', 'Yellow', 'Red', 'Green', 'White', 'Black')\n",
      "6 --> ('Pink', 'Yellow', 'Red', 'Green', 'Black', 'White')\n",
      "6 --> ('Pink', 'Yellow', 'Red', 'White', 'Green', 'Black')\n",
      "6 --> ('Pink', 'Yellow', 'Red', 'White', 'Black', 'Green')\n",
      "6 --> ('Pink', 'Yellow', 'Red', 'Black', 'Green', 'White')\n",
      "6 --> ('Pink', 'Yellow', 'Red', 'Black', 'White', 'Green')\n",
      "6 --> ('Pink', 'Yellow', 'Green', 'Red', 'White', 'Black')\n",
      "6 --> ('Pink', 'Yellow', 'Green', 'Red', 'Black', 'White')\n",
      "6 --> ('Pink', 'Yellow', 'Green', 'White', 'Red', 'Black')\n",
      "6 --> ('Pink', 'Yellow', 'Green', 'White', 'Black', 'Red')\n",
      "6 --> ('Pink', 'Yellow', 'Green', 'Black', 'Red', 'White')\n",
      "6 --> ('Pink', 'Yellow', 'Green', 'Black', 'White', 'Red')\n",
      "6 --> ('Pink', 'Yellow', 'White', 'Red', 'Green', 'Black')\n",
      "6 --> ('Pink', 'Yellow', 'White', 'Red', 'Black', 'Green')\n",
      "6 --> ('Pink', 'Yellow', 'White', 'Green', 'Red', 'Black')\n",
      "6 --> ('Pink', 'Yellow', 'White', 'Green', 'Black', 'Red')\n",
      "6 --> ('Pink', 'Yellow', 'White', 'Black', 'Red', 'Green')\n",
      "6 --> ('Pink', 'Yellow', 'White', 'Black', 'Green', 'Red')\n",
      "6 --> ('Pink', 'Yellow', 'Black', 'Red', 'Green', 'White')\n",
      "6 --> ('Pink', 'Yellow', 'Black', 'Red', 'White', 'Green')\n",
      "6 --> ('Pink', 'Yellow', 'Black', 'Green', 'Red', 'White')\n",
      "6 --> ('Pink', 'Yellow', 'Black', 'Green', 'White', 'Red')\n",
      "6 --> ('Pink', 'Yellow', 'Black', 'White', 'Red', 'Green')\n",
      "6 --> ('Pink', 'Yellow', 'Black', 'White', 'Green', 'Red')\n",
      "6 --> ('Yellow', 'Red', 'Green', 'White', 'Black', 'Pink')\n",
      "6 --> ('Yellow', 'Red', 'Green', 'White', 'Pink', 'Black')\n",
      "6 --> ('Yellow', 'Red', 'Green', 'Black', 'White', 'Pink')\n",
      "6 --> ('Yellow', 'Red', 'Green', 'Black', 'Pink', 'White')\n",
      "6 --> ('Yellow', 'Red', 'Green', 'Pink', 'White', 'Black')\n",
      "6 --> ('Yellow', 'Red', 'Green', 'Pink', 'Black', 'White')\n",
      "6 --> ('Yellow', 'Red', 'White', 'Green', 'Black', 'Pink')\n",
      "6 --> ('Yellow', 'Red', 'White', 'Green', 'Pink', 'Black')\n",
      "6 --> ('Yellow', 'Red', 'White', 'Black', 'Green', 'Pink')\n",
      "6 --> ('Yellow', 'Red', 'White', 'Black', 'Pink', 'Green')\n",
      "6 --> ('Yellow', 'Red', 'White', 'Pink', 'Green', 'Black')\n",
      "6 --> ('Yellow', 'Red', 'White', 'Pink', 'Black', 'Green')\n",
      "6 --> ('Yellow', 'Red', 'Black', 'Green', 'White', 'Pink')\n",
      "6 --> ('Yellow', 'Red', 'Black', 'Green', 'Pink', 'White')\n",
      "6 --> ('Yellow', 'Red', 'Black', 'White', 'Green', 'Pink')\n",
      "6 --> ('Yellow', 'Red', 'Black', 'White', 'Pink', 'Green')\n",
      "6 --> ('Yellow', 'Red', 'Black', 'Pink', 'Green', 'White')\n",
      "6 --> ('Yellow', 'Red', 'Black', 'Pink', 'White', 'Green')\n",
      "6 --> ('Yellow', 'Red', 'Pink', 'Green', 'White', 'Black')\n",
      "6 --> ('Yellow', 'Red', 'Pink', 'Green', 'Black', 'White')\n",
      "6 --> ('Yellow', 'Red', 'Pink', 'White', 'Green', 'Black')\n",
      "6 --> ('Yellow', 'Red', 'Pink', 'White', 'Black', 'Green')\n",
      "6 --> ('Yellow', 'Red', 'Pink', 'Black', 'Green', 'White')\n",
      "6 --> ('Yellow', 'Red', 'Pink', 'Black', 'White', 'Green')\n",
      "6 --> ('Yellow', 'Green', 'Red', 'White', 'Black', 'Pink')\n",
      "6 --> ('Yellow', 'Green', 'Red', 'White', 'Pink', 'Black')\n",
      "6 --> ('Yellow', 'Green', 'Red', 'Black', 'White', 'Pink')\n",
      "6 --> ('Yellow', 'Green', 'Red', 'Black', 'Pink', 'White')\n",
      "6 --> ('Yellow', 'Green', 'Red', 'Pink', 'White', 'Black')\n",
      "6 --> ('Yellow', 'Green', 'Red', 'Pink', 'Black', 'White')\n",
      "6 --> ('Yellow', 'Green', 'White', 'Red', 'Black', 'Pink')\n",
      "6 --> ('Yellow', 'Green', 'White', 'Red', 'Pink', 'Black')\n",
      "6 --> ('Yellow', 'Green', 'White', 'Black', 'Red', 'Pink')\n",
      "6 --> ('Yellow', 'Green', 'White', 'Black', 'Pink', 'Red')\n",
      "6 --> ('Yellow', 'Green', 'White', 'Pink', 'Red', 'Black')\n",
      "6 --> ('Yellow', 'Green', 'White', 'Pink', 'Black', 'Red')\n",
      "6 --> ('Yellow', 'Green', 'Black', 'Red', 'White', 'Pink')\n",
      "6 --> ('Yellow', 'Green', 'Black', 'Red', 'Pink', 'White')\n",
      "6 --> ('Yellow', 'Green', 'Black', 'White', 'Red', 'Pink')\n",
      "6 --> ('Yellow', 'Green', 'Black', 'White', 'Pink', 'Red')\n",
      "6 --> ('Yellow', 'Green', 'Black', 'Pink', 'Red', 'White')\n",
      "6 --> ('Yellow', 'Green', 'Black', 'Pink', 'White', 'Red')\n",
      "6 --> ('Yellow', 'Green', 'Pink', 'Red', 'White', 'Black')\n",
      "6 --> ('Yellow', 'Green', 'Pink', 'Red', 'Black', 'White')\n",
      "6 --> ('Yellow', 'Green', 'Pink', 'White', 'Red', 'Black')\n",
      "6 --> ('Yellow', 'Green', 'Pink', 'White', 'Black', 'Red')\n",
      "6 --> ('Yellow', 'Green', 'Pink', 'Black', 'Red', 'White')\n",
      "6 --> ('Yellow', 'Green', 'Pink', 'Black', 'White', 'Red')\n",
      "6 --> ('Yellow', 'White', 'Red', 'Green', 'Black', 'Pink')\n",
      "6 --> ('Yellow', 'White', 'Red', 'Green', 'Pink', 'Black')\n",
      "6 --> ('Yellow', 'White', 'Red', 'Black', 'Green', 'Pink')\n",
      "6 --> ('Yellow', 'White', 'Red', 'Black', 'Pink', 'Green')\n",
      "6 --> ('Yellow', 'White', 'Red', 'Pink', 'Green', 'Black')\n",
      "6 --> ('Yellow', 'White', 'Red', 'Pink', 'Black', 'Green')\n",
      "6 --> ('Yellow', 'White', 'Green', 'Red', 'Black', 'Pink')\n",
      "6 --> ('Yellow', 'White', 'Green', 'Red', 'Pink', 'Black')\n",
      "6 --> ('Yellow', 'White', 'Green', 'Black', 'Red', 'Pink')\n",
      "6 --> ('Yellow', 'White', 'Green', 'Black', 'Pink', 'Red')\n",
      "6 --> ('Yellow', 'White', 'Green', 'Pink', 'Red', 'Black')\n",
      "6 --> ('Yellow', 'White', 'Green', 'Pink', 'Black', 'Red')\n",
      "6 --> ('Yellow', 'White', 'Black', 'Red', 'Green', 'Pink')\n",
      "6 --> ('Yellow', 'White', 'Black', 'Red', 'Pink', 'Green')\n",
      "6 --> ('Yellow', 'White', 'Black', 'Green', 'Red', 'Pink')\n",
      "6 --> ('Yellow', 'White', 'Black', 'Green', 'Pink', 'Red')\n",
      "6 --> ('Yellow', 'White', 'Black', 'Pink', 'Red', 'Green')\n",
      "6 --> ('Yellow', 'White', 'Black', 'Pink', 'Green', 'Red')\n",
      "6 --> ('Yellow', 'White', 'Pink', 'Red', 'Green', 'Black')\n",
      "6 --> ('Yellow', 'White', 'Pink', 'Red', 'Black', 'Green')\n",
      "6 --> ('Yellow', 'White', 'Pink', 'Green', 'Red', 'Black')\n",
      "6 --> ('Yellow', 'White', 'Pink', 'Green', 'Black', 'Red')\n",
      "6 --> ('Yellow', 'White', 'Pink', 'Black', 'Red', 'Green')\n",
      "6 --> ('Yellow', 'White', 'Pink', 'Black', 'Green', 'Red')\n",
      "6 --> ('Yellow', 'Black', 'Red', 'Green', 'White', 'Pink')\n",
      "6 --> ('Yellow', 'Black', 'Red', 'Green', 'Pink', 'White')\n",
      "6 --> ('Yellow', 'Black', 'Red', 'White', 'Green', 'Pink')\n",
      "6 --> ('Yellow', 'Black', 'Red', 'White', 'Pink', 'Green')\n",
      "6 --> ('Yellow', 'Black', 'Red', 'Pink', 'Green', 'White')\n",
      "6 --> ('Yellow', 'Black', 'Red', 'Pink', 'White', 'Green')\n",
      "6 --> ('Yellow', 'Black', 'Green', 'Red', 'White', 'Pink')\n",
      "6 --> ('Yellow', 'Black', 'Green', 'Red', 'Pink', 'White')\n",
      "6 --> ('Yellow', 'Black', 'Green', 'White', 'Red', 'Pink')\n",
      "6 --> ('Yellow', 'Black', 'Green', 'White', 'Pink', 'Red')\n",
      "6 --> ('Yellow', 'Black', 'Green', 'Pink', 'Red', 'White')\n",
      "6 --> ('Yellow', 'Black', 'Green', 'Pink', 'White', 'Red')\n",
      "6 --> ('Yellow', 'Black', 'White', 'Red', 'Green', 'Pink')\n",
      "6 --> ('Yellow', 'Black', 'White', 'Red', 'Pink', 'Green')\n",
      "6 --> ('Yellow', 'Black', 'White', 'Green', 'Red', 'Pink')\n",
      "6 --> ('Yellow', 'Black', 'White', 'Green', 'Pink', 'Red')\n",
      "6 --> ('Yellow', 'Black', 'White', 'Pink', 'Red', 'Green')\n",
      "6 --> ('Yellow', 'Black', 'White', 'Pink', 'Green', 'Red')\n",
      "6 --> ('Yellow', 'Black', 'Pink', 'Red', 'Green', 'White')\n",
      "6 --> ('Yellow', 'Black', 'Pink', 'Red', 'White', 'Green')\n",
      "6 --> ('Yellow', 'Black', 'Pink', 'Green', 'Red', 'White')\n",
      "6 --> ('Yellow', 'Black', 'Pink', 'Green', 'White', 'Red')\n",
      "6 --> ('Yellow', 'Black', 'Pink', 'White', 'Red', 'Green')\n",
      "6 --> ('Yellow', 'Black', 'Pink', 'White', 'Green', 'Red')\n",
      "6 --> ('Yellow', 'Pink', 'Red', 'Green', 'White', 'Black')\n",
      "6 --> ('Yellow', 'Pink', 'Red', 'Green', 'Black', 'White')\n",
      "6 --> ('Yellow', 'Pink', 'Red', 'White', 'Green', 'Black')\n",
      "6 --> ('Yellow', 'Pink', 'Red', 'White', 'Black', 'Green')\n",
      "6 --> ('Yellow', 'Pink', 'Red', 'Black', 'Green', 'White')\n",
      "6 --> ('Yellow', 'Pink', 'Red', 'Black', 'White', 'Green')\n",
      "6 --> ('Yellow', 'Pink', 'Green', 'Red', 'White', 'Black')\n",
      "6 --> ('Yellow', 'Pink', 'Green', 'Red', 'Black', 'White')\n",
      "6 --> ('Yellow', 'Pink', 'Green', 'White', 'Red', 'Black')\n",
      "6 --> ('Yellow', 'Pink', 'Green', 'White', 'Black', 'Red')\n",
      "6 --> ('Yellow', 'Pink', 'Green', 'Black', 'Red', 'White')\n",
      "6 --> ('Yellow', 'Pink', 'Green', 'Black', 'White', 'Red')\n",
      "6 --> ('Yellow', 'Pink', 'White', 'Red', 'Green', 'Black')\n",
      "6 --> ('Yellow', 'Pink', 'White', 'Red', 'Black', 'Green')\n",
      "6 --> ('Yellow', 'Pink', 'White', 'Green', 'Red', 'Black')\n",
      "6 --> ('Yellow', 'Pink', 'White', 'Green', 'Black', 'Red')\n",
      "6 --> ('Yellow', 'Pink', 'White', 'Black', 'Red', 'Green')\n",
      "6 --> ('Yellow', 'Pink', 'White', 'Black', 'Green', 'Red')\n",
      "6 --> ('Yellow', 'Pink', 'Black', 'Red', 'Green', 'White')\n",
      "6 --> ('Yellow', 'Pink', 'Black', 'Red', 'White', 'Green')\n",
      "6 --> ('Yellow', 'Pink', 'Black', 'Green', 'Red', 'White')\n",
      "6 --> ('Yellow', 'Pink', 'Black', 'Green', 'White', 'Red')\n",
      "6 --> ('Yellow', 'Pink', 'Black', 'White', 'Red', 'Green')\n",
      "6 --> ('Yellow', 'Pink', 'Black', 'White', 'Green', 'Red')\n"
     ]
    }
   ],
   "source": [
    "lst = ['Red', 'Green', 'White', 'Black', 'Pink', 'Yellow']\n",
    "for i in range(1,len(lst)+1):\n",
    "    for x in permutations(lst,i):\n",
    "        print(i,'-->',x)"
   ]
  },
  {
   "cell_type": "markdown",
   "metadata": {},
   "source": [
    "**Q26. Write the Python program to convert a pair of values into a sorted unique array?** <br>Original List- [ (1, 2), (3, 4), (1, 2), (5, 6), (7, 8), (1, 2), (3, 4), (3, 4), (7, 8), (9, 10) ] <br>Sorted Unique Data- [ 1, 2, 3, 4, 5, 6, 7, 8, 9, 10 ]"
   ]
  },
  {
   "cell_type": "code",
   "execution_count": 28,
   "metadata": {},
   "outputs": [
    {
     "name": "stdout",
     "output_type": "stream",
     "text": [
      "Sorted Unique Data: [1, 2, 3, 4, 5, 6, 7, 8, 9, 10]\n"
     ]
    }
   ],
   "source": [
    "lst = [(1, 2), (3, 4), (1, 2), (5, 6), (7, 8), (1, 2), (3, 4), (3, 4), (7, 8), (9, 10)]\n",
    "\n",
    "print(\"Sorted Unique Data:\",sorted(set().union(*lst)))\n"
   ]
  },
  {
   "cell_type": "markdown",
   "metadata": {},
   "source": [
    "**Q27. Write the Python class to convert an integer to a roman numeral?**"
   ]
  },
  {
   "cell_type": "code",
   "execution_count": 29,
   "metadata": {},
   "outputs": [
    {
     "name": "stdout",
     "output_type": "stream",
     "text": [
      "I\n",
      "MMMM\n"
     ]
    }
   ],
   "source": [
    "class py_solution:\n",
    "    def int_to_Roman(self, num):\n",
    "        val = [\n",
    "            1000, 900, 500, 400,\n",
    "            100, 90, 50, 40,\n",
    "            10, 9, 5, 4,\n",
    "            1\n",
    "            ]\n",
    "        syb = [\n",
    "            \"M\", \"CM\", \"D\", \"CD\",\n",
    "            \"C\", \"XC\", \"L\", \"XL\",\n",
    "            \"X\", \"IX\", \"V\", \"IV\",\n",
    "            \"I\"\n",
    "            ]\n",
    "        roman_num = ''\n",
    "        i = 0\n",
    "        while  num > 0:\n",
    "            for _ in range(num // val[i]):\n",
    "                roman_num += syb[i]\n",
    "                num -= val[i]\n",
    "            i += 1\n",
    "        return roman_num\n",
    "    \n",
    "print(py_solution().int_to_Roman(1))\n",
    "print(py_solution().int_to_Roman(4000))    "
   ]
  },
  {
   "cell_type": "markdown",
   "metadata": {},
   "source": [
    "**Q28 Write the Python class to convert a Roman numeral to an integer?**"
   ]
  },
  {
   "cell_type": "code",
   "execution_count": 30,
   "metadata": {},
   "outputs": [
    {
     "name": "stdout",
     "output_type": "stream",
     "text": [
      "3986\n",
      "4000\n",
      "100\n"
     ]
    }
   ],
   "source": [
    "class py_solution:\n",
    "    def roman_to_int(self, s):\n",
    "        rom_val = {'I': 1, 'V': 5, 'X': 10, 'L': 50, 'C': 100, 'D': 500, 'M': 1000}\n",
    "        int_val = 0\n",
    "        for i in range(len(s)):\n",
    "            if i > 0 and rom_val[s[i]] > rom_val[s[i - 1]]:\n",
    "                int_val += rom_val[s[i]] - 2 * rom_val[s[i - 1]]\n",
    "            else:\n",
    "                int_val += rom_val[s[i]]\n",
    "        return int_val\n",
    "\n",
    "print(py_solution().roman_to_int('MMMCMLXXXVI'))\n",
    "print(py_solution().roman_to_int('MMMM'))\n",
    "print(py_solution().roman_to_int('C'))"
   ]
  },
  {
   "cell_type": "markdown",
   "metadata": {},
   "source": [
    "#### Q29. Write the Python class to find the validity of the string of the parentheses, '(', ')', '{', '}', '[' and '] and the brackets must be closed in the correct order, example - \"()\" and \"()[]{}\" are valid but \"[)\", \"({[)]\" and \"{{{\" are invalid."
   ]
  },
  {
   "cell_type": "code",
   "execution_count": 31,
   "metadata": {},
   "outputs": [
    {
     "name": "stdout",
     "output_type": "stream",
     "text": [
      "True\n",
      "False\n",
      "True\n"
     ]
    }
   ],
   "source": [
    "class py_solution:\n",
    "   def is_valid_parenthese(self, str1):\n",
    "        stack, pchar = [], {\"(\": \")\", \"{\": \"}\", \"[\": \"]\"}\n",
    "        for parenthese in str1:\n",
    "            if parenthese in pchar:\n",
    "                stack.append(parenthese)\n",
    "            elif len(stack) == 0 or pchar[stack.pop()] != parenthese:\n",
    "                return False\n",
    "        return len(stack) == 0\n",
    "\n",
    "print(py_solution().is_valid_parenthese(\"(){}[]\"))\n",
    "print(py_solution().is_valid_parenthese(\"()[{)}\"))\n",
    "print(py_solution().is_valid_parenthese(\"()\"))"
   ]
  },
  {
   "cell_type": "markdown",
   "metadata": {},
   "source": [
    "**Q30. Write the Python class to get all possible unique subsets from a set of distinct integers?**\n",
    "<br>Input - [4, 5, 6] <br>Output - [[], [6], [5], [5, 6], [4], [4, 6], [4, 5], [4, 5, 6]]"
   ]
  },
  {
   "cell_type": "code",
   "execution_count": 32,
   "metadata": {},
   "outputs": [
    {
     "name": "stdout",
     "output_type": "stream",
     "text": [
      "[[], [4], [5], [6], [4, 5], [4, 6], [5, 6], [4, 5, 6]]\n"
     ]
    }
   ],
   "source": [
    "class unique_subsets:\n",
    "    def __init__(self,input_list:list):\n",
    "        self._ip_lst = input_list\n",
    "        self._len = len(self._ip_lst) + 1\n",
    "        self._out_lst = list()\n",
    "    def return_subsets(self):    \n",
    "        for r in range(self._len):\n",
    "            for i in combinations([4,5,6],r):\n",
    "                self._out_lst.append(list(i))\n",
    "        return self._out_lst        \n",
    "    \n",
    "print(unique_subsets([4,5,6]).return_subsets())    "
   ]
  },
  {
   "cell_type": "markdown",
   "metadata": {},
   "source": [
    "**Q31. Write the Python class to find a pair of elements (indices of the two numbers) from a given array whose sum equals the specific target number?**\n",
    "<br>Input: numbers- [10,20,10,40,50,60,70], target=50 Output- 3, 4"
   ]
  },
  {
   "cell_type": "code",
   "execution_count": 33,
   "metadata": {},
   "outputs": [
    {
     "name": "stdout",
     "output_type": "stream",
     "text": [
      "(2, 3)\n"
     ]
    }
   ],
   "source": [
    "nums = [10,20,10,40,50,60,70]    \n",
    "target = 50\n",
    "\n",
    "\n",
    "class PairwiseSum:\n",
    "    def __init__(self,lst,target):\n",
    "        self.lst = lst\n",
    "        self.target = target\n",
    "        \n",
    "    def return_pair(self):\n",
    "        arr = np.array(self.lst)\n",
    "        arr = arr[np.where(arr<50)]\n",
    "        for idx in range(len(arr)-1):\n",
    "            if arr[idx]+arr[idx+1] == target:\n",
    "                return idx,idx+1\n",
    "\n",
    "\n",
    "print(PairwiseSum(nums,target).return_pair())"
   ]
  },
  {
   "cell_type": "markdown",
   "metadata": {},
   "source": [
    "**Q32. Write the Python class to find the three elements that sum to zero from the set of n real numbers?**\n",
    "<br>Input array- [-25, -10, -7, -3, 2, 4, 8, 10] <br>Output - [[-10, 2, 8], [-7, -3, 10]]"
   ]
  },
  {
   "cell_type": "code",
   "execution_count": 34,
   "metadata": {},
   "outputs": [
    {
     "name": "stdout",
     "output_type": "stream",
     "text": [
      "[[-10, 2, 8], [-7, -3, 10]]\n"
     ]
    }
   ],
   "source": [
    "class SumToZero:\n",
    " def threeSum(self, nums):\n",
    "        nums, result, i = sorted(nums), [], 0\n",
    "        while i < len(nums) - 2:\n",
    "            j, k = i + 1, len(nums) - 1\n",
    "            while j < k:\n",
    "                if nums[i] + nums[j] + nums[k] < 0:\n",
    "                    j += 1\n",
    "                elif nums[i] + nums[j] + nums[k] > 0:\n",
    "                    k -= 1\n",
    "                else:\n",
    "                    result.append([nums[i], nums[j], nums[k]])\n",
    "                    j, k = j + 1, k - 1\n",
    "                    while j < k and nums[j] == nums[j - 1]:\n",
    "                        j += 1\n",
    "                    while j < k and nums[k] == nums[k + 1]:\n",
    "                        k -= 1\n",
    "            i += 1\n",
    "            while i < len(nums) - 2 and nums[i] == nums[i - 1]:\n",
    "                i += 1\n",
    "        return result\n",
    "\n",
    "print(SumToZero().threeSum([-25, -10, -7, -3, 2, 4, 8, 10]))"
   ]
  },
  {
   "cell_type": "markdown",
   "metadata": {},
   "source": [
    "**Q33. Write the Python class to implement pow(x, n)?**"
   ]
  },
  {
   "cell_type": "code",
   "execution_count": 35,
   "metadata": {},
   "outputs": [
    {
     "name": "stdout",
     "output_type": "stream",
     "text": [
      "0.125\n",
      "243\n",
      "1\n"
     ]
    }
   ],
   "source": [
    "class insted_of_pow:\n",
    "   def pow(self, x, n):\n",
    "        if x==0 or x==1 or n==1:\n",
    "            return x \n",
    "\n",
    "        if x==-1:\n",
    "            if n%2 ==0:\n",
    "                return 1\n",
    "            else:\n",
    "                return -1\n",
    "        if n==0:\n",
    "            return 1\n",
    "        if n<0:\n",
    "            return 1/self.pow(x,-n)\n",
    "        val = self.pow(x,n//2)\n",
    "        if n%2 ==0:\n",
    "            return val*val\n",
    "        return val*val*x\n",
    "\n",
    "print(insted_of_pow().pow(2, -3));\n",
    "print(insted_of_pow().pow(3, 5));\n",
    "print(insted_of_pow().pow(100, 0));"
   ]
  },
  {
   "cell_type": "markdown",
   "metadata": {},
   "source": [
    "**Q34. Write the Python class which has two methods get_String and print_String. get_String accept the string from the user and print_String print the string in upper case.**"
   ]
  },
  {
   "cell_type": "code",
   "execution_count": 36,
   "metadata": {},
   "outputs": [
    {
     "name": "stdout",
     "output_type": "stream",
     "text": [
      "SUMIT\n",
      "SUMIT\n"
     ]
    }
   ],
   "source": [
    "class MyString():\n",
    "    def __init__(self):\n",
    "        self.str1 = None\n",
    "\n",
    "    def get_String(self):\n",
    "        self.str1 = input()\n",
    "\n",
    "    def print_String(self):\n",
    "        print(self.str1.upper())\n",
    "\n",
    "str1 = MyString()\n",
    "str1.get_String()\n",
    "str1.print_String()"
   ]
  },
  {
   "cell_type": "markdown",
   "metadata": {},
   "source": [
    "**Q35. Write the Python class named Rectangle constructed by a length and width and the method which will compute the area of the rectangle?**"
   ]
  },
  {
   "cell_type": "code",
   "execution_count": 37,
   "metadata": {},
   "outputs": [
    {
     "name": "stdout",
     "output_type": "stream",
     "text": [
      "120\n"
     ]
    }
   ],
   "source": [
    "class Rectangle():\n",
    "    def __init__(self, l, w):\n",
    "        self.length = l\n",
    "        self.width  = w\n",
    "\n",
    "    def rectangle_area(self):\n",
    "        return self.length*self.width\n",
    "\n",
    "newRectangle = Rectangle(12, 10)\n",
    "print(newRectangle.rectangle_area())"
   ]
  },
  {
   "cell_type": "markdown",
   "metadata": {},
   "source": [
    "**Q36. Write the Python class named Circle constructed by the radius and two methods which will compute the area and perimeter of the circle?**"
   ]
  },
  {
   "cell_type": "code",
   "execution_count": 38,
   "metadata": {},
   "outputs": [
    {
     "name": "stdout",
     "output_type": "stream",
     "text": [
      "200.96\n",
      "50.24\n"
     ]
    }
   ],
   "source": [
    "class Circle():\n",
    "    def __init__(self, r):\n",
    "        self.radius = r\n",
    "\n",
    "    def area(self):\n",
    "        return self.radius**2*3.14\n",
    "    \n",
    "    def perimeter(self):\n",
    "        return 2*self.radius*3.14\n",
    "\n",
    "NewCircle = Circle(8)\n",
    "print(NewCircle.area())\n",
    "print(NewCircle.perimeter())"
   ]
  },
  {
   "cell_type": "markdown",
   "metadata": {},
   "source": [
    "**Q37. Write the Python program to get the class name of an instance in Python?**"
   ]
  },
  {
   "cell_type": "code",
   "execution_count": 39,
   "metadata": {},
   "outputs": [
    {
     "name": "stdout",
     "output_type": "stream",
     "text": [
      "cycle\n"
     ]
    }
   ],
   "source": [
    "\n",
    "x = cycle('ABCD')\n",
    "print(type(x).__name__)"
   ]
  },
  {
   "cell_type": "markdown",
   "metadata": {},
   "source": [
    "**Q38. Write the Python program to count the number of students of individual class?**"
   ]
  },
  {
   "cell_type": "code",
   "execution_count": 40,
   "metadata": {},
   "outputs": [
    {
     "data": {
      "text/plain": [
       "Counter({'V': 2, 'VI': 3, 'VII': 1})"
      ]
     },
     "execution_count": 40,
     "metadata": {},
     "output_type": "execute_result"
    }
   ],
   "source": [
    "\n",
    "classes = (\n",
    "    ('V', 1),\n",
    "    ('VI', 1),\n",
    "    ('V', 2),\n",
    "    ('VI', 2),\n",
    "    ('VI', 3),\n",
    "    ('VII', 1),\n",
    ")\n",
    "\n",
    "no,_ = zip(*classes)\n",
    "Counter(no)"
   ]
  },
  {
   "cell_type": "markdown",
   "metadata": {},
   "source": [
    "**Q39. Write the Python program to create an instance of an OrderedDict using the given dictionary and sort dictionary during the creation and print members of the dictionary in reverse order?**"
   ]
  },
  {
   "cell_type": "code",
   "execution_count": 41,
   "metadata": {},
   "outputs": [
    {
     "name": "stdout",
     "output_type": "stream",
     "text": [
      "Afghanistan 93\n",
      "Albania 355\n",
      "Algeria 213\n",
      "Andorra 376\n",
      "Angola 244\n",
      "\n",
      "In reverse order:\n",
      "Angola 244\n",
      "Andorra 376\n",
      "Algeria 213\n",
      "Albania 355\n",
      "Afghanistan 93\n"
     ]
    }
   ],
   "source": [
    "\n",
    "dic = {'Afghanistan': 93, 'Albania': 355, 'Algeria': 213, 'Andorra': 376, 'Angola': 244}\n",
    "\n",
    "new_dict = OrderedDict(dic)\n",
    "for key,value in new_dict.items():\n",
    "    print (key, value)\n",
    "\n",
    "    \n",
    "print(\"\\nIn reverse order:\")\n",
    "for key,value in reversed(new_dict.items()):\n",
    "    print (key, value)    "
   ]
  },
  {
   "cell_type": "markdown",
   "metadata": {},
   "source": [
    "**Q40. Write the Python program to compare two unordered lists (not sets)?**"
   ]
  },
  {
   "cell_type": "code",
   "execution_count": 42,
   "metadata": {},
   "outputs": [],
   "source": [
    "def compare(s, t):\n",
    "    return Counter(s) == Counter(t)"
   ]
  },
  {
   "cell_type": "markdown",
   "metadata": {},
   "source": [
    "**Q41. Write the Python program to get an array buffer information?**"
   ]
  },
  {
   "cell_type": "code",
   "execution_count": 43,
   "metadata": {},
   "outputs": [
    {
     "name": "stdout",
     "output_type": "stream",
     "text": [
      "Array buffer start address in memory and number of elements.\n",
      "(263805896, 2)\n"
     ]
    }
   ],
   "source": [
    "a = array(\"I\", (12,25))\n",
    "print(\"Array buffer start address in memory and number of elements.\")\n",
    "print(a.buffer_info())"
   ]
  },
  {
   "cell_type": "markdown",
   "metadata": {},
   "source": [
    "**Q42. Write the Python program to convert an array to an array of machine values and return the bytes representation?**"
   ]
  },
  {
   "cell_type": "code",
   "execution_count": 44,
   "metadata": {},
   "outputs": [
    {
     "name": "stdout",
     "output_type": "stream",
     "text": [
      "Bytes to String: \n"
     ]
    }
   ],
   "source": [
    "\n",
    "print(\"Bytes to String: \")\n",
    "x = array('b', [119, 51, 114, 101,  115, 111, 117, 114, 99, 101])\n",
    "s = x.tobytes()"
   ]
  },
  {
   "cell_type": "markdown",
   "metadata": {},
   "source": [
    "**Q43. Write the Python program to read a string and interpreting the string as an array of machine values?**"
   ]
  },
  {
   "cell_type": "code",
   "execution_count": 45,
   "metadata": {},
   "outputs": [
    {
     "name": "stdout",
     "output_type": "stream",
     "text": [
      "array1: array('i', [7, 8, 9, 10])\n",
      "Bytes: b'0700000008000000090000000a000000'\n",
      "array2: array('i', [7, 8, 9, 10])\n"
     ]
    }
   ],
   "source": [
    "\n",
    "import binascii\n",
    "array1 = array('i', [7, 8, 9, 10])\n",
    "print('array1:', array1)\n",
    "as_bytes = array1.tobytes()\n",
    "print('Bytes:', binascii.hexlify(as_bytes))\n",
    "array2 = array('i')\n",
    "array2.frombytes(as_bytes)\n",
    "print('array2:', array2)"
   ]
  },
  {
   "cell_type": "markdown",
   "metadata": {},
   "source": [
    "**Q44. Write the Python program to push three items into the heap and return the smallest item from the heap. Also, return and pop the smallest item from the heap?**"
   ]
  },
  {
   "cell_type": "code",
   "execution_count": 46,
   "metadata": {},
   "outputs": [
    {
     "name": "stdout",
     "output_type": "stream",
     "text": [
      "Items in the heap:\n",
      "('V', 1)\n",
      "('V', 3)\n",
      "('V', 2)\n",
      "**********************************************************************\n",
      "Using heappushpop push item on the heap and return the smallest item.\n",
      "('V', 2)\n",
      "('V', 3)\n",
      "('V', 6)\n"
     ]
    }
   ],
   "source": [
    "import heapq\n",
    "heap = []\n",
    "heapq.heappush(heap, ('V', 3))\n",
    "heapq.heappush(heap, ('V', 2))\n",
    "heapq.heappush(heap, ('V', 1))\n",
    "print(\"Items in the heap:\")\n",
    "for a in heap:\n",
    "    print(a)\n",
    "print(\"*\"*70)\n",
    "print(\"Using heappushpop push item on the heap and return the smallest item.\")\n",
    "heapq.heappushpop(heap, ('V', 6))\n",
    "for a in heap:\n",
    "    print(a)"
   ]
  },
  {
   "cell_type": "markdown",
   "metadata": {},
   "source": [
    "**Q45. Write the Python program to locate the left insertion point for a specified value in sorted order?**"
   ]
  },
  {
   "cell_type": "code",
   "execution_count": 47,
   "metadata": {},
   "outputs": [
    {
     "name": "stdout",
     "output_type": "stream",
     "text": [
      "4\n",
      "2\n"
     ]
    }
   ],
   "source": [
    "import bisect\n",
    "def index(a, x):\n",
    "    i = bisect.bisect_left(a, x)\n",
    "    return i\n",
    "    \n",
    "a = [1,2,4,5]\n",
    "print(index(a, 6))\n",
    "print(index(a, 3))"
   ]
  },
  {
   "cell_type": "markdown",
   "metadata": {},
   "source": [
    "**Q46. Write the Python program to create the FIFO queue?**"
   ]
  },
  {
   "cell_type": "code",
   "execution_count": 48,
   "metadata": {},
   "outputs": [
    {
     "name": "stdout",
     "output_type": "stream",
     "text": [
      "0 1 2 3 "
     ]
    }
   ],
   "source": [
    "import queue\n",
    "q = queue.Queue()\n",
    "#insert items at the end of the queue \n",
    "for x in range(4):\n",
    "    q.put(x)\n",
    "    \n",
    "    \n",
    "#remove items from the head of the queue \n",
    "while not q.empty():\n",
    "    print(q.get(), end=\" \")\n"
   ]
  },
  {
   "cell_type": "markdown",
   "metadata": {},
   "source": [
    "**Q47. Write the Python program to calculate the harmonic sum of n-1. Note: The harmonic sum is the sum of reciprocals of the positive Integers?**"
   ]
  },
  {
   "cell_type": "code",
   "execution_count": 49,
   "metadata": {},
   "outputs": [
    {
     "name": "stdout",
     "output_type": "stream",
     "text": [
      "Sum is 2.283333\n"
     ]
    }
   ],
   "source": [
    "def sum(n): \n",
    "    i = 1\n",
    "    s = 0.0\n",
    "    for i in range(1, n+1): \n",
    "        s = s + 1/i; \n",
    "    return s; \n",
    "  \n",
    "\n",
    "n = 5\n",
    "print(\"Sum is\", round(sum(n), 6)) "
   ]
  },
  {
   "cell_type": "markdown",
   "metadata": {},
   "source": [
    "**Q48. Write the NumPy program to create a 2d array with 6 on the border and 0 inside?**<br>\n",
    "Expected Output-<br> Original array- <br>\n",
    "[[6 6 6 6 6]<br> \n",
    "[ 6 6 6 6 6]<br>\n",
    "[ 6 6 6 6 6 ]<br> \n",
    "[ 6 6 6 6 6 ]<br> \n",
    "[ 6 6 6 6 ] ]<br> \n",
    "6 on the border and 0 inside in the array- <br> \n",
    "[[ 6 6 6 6 6] <br> \n",
    "[ 6 0 0 0 6] <br> \n",
    "[ 6 0 0 0 6] <br> \n",
    "[ 6 0 0 0 6] <br> \n",
    "[ 6 6 6 6 6]]."
   ]
  },
  {
   "cell_type": "code",
   "execution_count": 50,
   "metadata": {},
   "outputs": [
    {
     "name": "stdout",
     "output_type": "stream",
     "text": [
      "Original array:\n",
      "[[6. 6. 6. 6. 6.]\n",
      " [6. 6. 6. 6. 6.]\n",
      " [6. 6. 6. 6. 6.]\n",
      " [6. 6. 6. 6. 6.]\n",
      " [6. 6. 6. 6. 6.]]\n",
      "\n",
      "6 on the border and 0 inside in the array\n",
      "----------------------------------------\n",
      "[[6. 6. 6. 6. 6.]\n",
      " [6. 0. 0. 0. 6.]\n",
      " [6. 0. 0. 0. 6.]\n",
      " [6. 0. 0. 0. 6.]\n",
      " [6. 6. 6. 6. 6.]]\n",
      "\n",
      "[[6. 6. 6. 6. 6.]\n",
      " [6. 0. 0. 0. 6.]\n",
      " [6. 0. 0. 0. 6.]\n",
      " [6. 0. 0. 0. 6.]\n",
      " [6. 6. 6. 6. 6.]]\n"
     ]
    }
   ],
   "source": [
    "x = np.ones((5,5))*6\n",
    "print(\"Original array:\")\n",
    "print(x)\n",
    "print()\n",
    "print(\"6 on the border and 0 inside in the array\")\n",
    "print(\"-\"*40)\n",
    "\n",
    "# option 1 using slicing\n",
    "x[1:-1,1:-1] = 0\n",
    "print(x)\n",
    "print()\n",
    "\n",
    "# option 2 using padding\n",
    "y = np.zeros((3,3))\n",
    "print(np.pad(y,1,constant_values=6, mode='constant'))"
   ]
  },
  {
   "cell_type": "markdown",
   "metadata": {},
   "source": [
    "**Q49. Write the NumPy program to create a 8x8 matrix and fill it with the checkerboard pattern?**"
   ]
  },
  {
   "cell_type": "code",
   "execution_count": 51,
   "metadata": {},
   "outputs": [
    {
     "name": "stdout",
     "output_type": "stream",
     "text": [
      "Checkerboard pattern:\n",
      "[[3. 9. 3. 9. 3. 9. 3. 9.]\n",
      " [9. 3. 9. 3. 9. 3. 9. 3.]\n",
      " [3. 9. 3. 9. 3. 9. 3. 9.]\n",
      " [9. 3. 9. 3. 9. 3. 9. 3.]\n",
      " [3. 9. 3. 9. 3. 9. 3. 9.]\n",
      " [9. 3. 9. 3. 9. 3. 9. 3.]\n",
      " [3. 9. 3. 9. 3. 9. 3. 9.]\n",
      " [9. 3. 9. 3. 9. 3. 9. 3.]]\n",
      "**************************************************\n",
      "[[3. 9. 3. 9. 3. 9. 3. 9.]\n",
      " [9. 3. 9. 3. 9. 3. 9. 3.]\n",
      " [3. 9. 3. 9. 3. 9. 3. 9.]\n",
      " [9. 3. 9. 3. 9. 3. 9. 3.]\n",
      " [3. 9. 3. 9. 3. 9. 3. 9.]\n",
      " [9. 3. 9. 3. 9. 3. 9. 3.]\n",
      " [3. 9. 3. 9. 3. 9. 3. 9.]\n",
      " [9. 3. 9. 3. 9. 3. 9. 3.]]\n"
     ]
    }
   ],
   "source": [
    "x = np.ones((8,8))*3\n",
    "print(\"Checkerboard pattern:\")\n",
    "\n",
    "# option 1 using slicing\n",
    "x[1::2,::2] = 9\n",
    "x[::2,1::2] = 9\n",
    "print(x)\n",
    "# option 2 using loop\n",
    "print('*'*50)\n",
    "y = np.ones((8,8))*3\n",
    "for idx, ele in enumerate(y):\n",
    "    if idx % 2 == 0:\n",
    "        for i in range(len(ele)):\n",
    "            if i % 2:\n",
    "                ele[i] = 9\n",
    "    elif idx % 2 == 1:\n",
    "        for i in range(len(ele)):\n",
    "            if not i % 2:\n",
    "                ele[i] = 9\n",
    "print(y)        "
   ]
  },
  {
   "cell_type": "markdown",
   "metadata": {},
   "source": [
    "**Q50. Write the NumPy program to create an empty and a full array.**"
   ]
  },
  {
   "cell_type": "code",
   "execution_count": 52,
   "metadata": {},
   "outputs": [
    {
     "name": "stdout",
     "output_type": "stream",
     "text": [
      "Empty Array:\n",
      " [[6. 6. 6. 0.]\n",
      " [0. 0. 0. 0.]\n",
      " [0. 0. 0. 0.]]\n",
      "Full Array:\n",
      " [[6 6 6]\n",
      " [6 6 6]\n",
      " [6 6 6]]\n"
     ]
    }
   ],
   "source": [
    "# empty array\n",
    "x = np.empty((3,4))\n",
    "print('Empty Array:\\n',x)\n",
    "# full array\n",
    "y = np.full((3,3),6)\n",
    "print('Full Array:\\n',y)"
   ]
  },
  {
   "cell_type": "markdown",
   "metadata": {},
   "source": [
    "**Q51. Write the NumPy program to convert the values of Centigrade degrees into the Fahrenheit degrees and the centigrade values are stored in the NumPy array.**"
   ]
  },
  {
   "cell_type": "code",
   "execution_count": 53,
   "metadata": {},
   "outputs": [
    {
     "name": "stdout",
     "output_type": "stream",
     "text": [
      "Values in Fahrenheit degrees:\n",
      "[ 0.   12.   45.21 34.   99.91]\n",
      "Values in  Centigrade degrees:\n",
      "[-17.7778 -11.1111   7.3389   1.1111  37.7278]\n"
     ]
    }
   ],
   "source": [
    "fvalues = [0, 12, 45.21, 34, 99.91]\n",
    "F = np.array(fvalues)\n",
    "print(\"Values in Fahrenheit degrees:\")\n",
    "print(F)\n",
    "print(\"Values in  Centigrade degrees:\") \n",
    "print(5*F/9 - 5*32/9)"
   ]
  },
  {
   "cell_type": "markdown",
   "metadata": {},
   "source": [
    "**Q52. Write the NumPy program to find the real and imaginary parts of an array of complex numbers?**"
   ]
  },
  {
   "cell_type": "code",
   "execution_count": 54,
   "metadata": {},
   "outputs": [
    {
     "name": "stdout",
     "output_type": "stream",
     "text": [
      "Original array:x  [1.+0.j]\n",
      "Original array:y  [0.7071+0.7071j]\n",
      "Real part of the array:\n",
      "[1.]\n",
      "[0.7071]\n",
      "Imaginary part of the array:\n",
      "[0.]\n",
      "[0.7071]\n"
     ]
    }
   ],
   "source": [
    "x = np.sqrt([1+0j])\n",
    "y = np.sqrt([0+1j])\n",
    "print(\"Original array:x \",x)\n",
    "print(\"Original array:y \",y)\n",
    "print(\"Real part of the array:\")\n",
    "print(x.real)\n",
    "print(y.real)\n",
    "print(\"Imaginary part of the array:\")\n",
    "print(x.imag)\n",
    "print(y.imag)"
   ]
  },
  {
   "cell_type": "markdown",
   "metadata": {},
   "source": [
    "### Q53. Write the NumPy program to test whether each element of a 1-D array is also present in the second array?<br>\n",
    "Expected Output- <br>Array1: [ 0 10 20 40 60] <br>Array2: [0, 40] <br>Compare each element of array1 and array2 <br>[ True False False True False]"
   ]
  },
  {
   "cell_type": "code",
   "execution_count": 55,
   "metadata": {},
   "outputs": [
    {
     "name": "stdout",
     "output_type": "stream",
     "text": [
      "Using numpy.in1d: [ True False False  True False]\n",
      "Using numpy.in1d: [ True False False  True False]\n"
     ]
    }
   ],
   "source": [
    "arr1 = np.array([ 0,10,20,40,60])\n",
    "arr2 = np.array([0, 40])\n",
    "\"\"\"Test whether each element of a 1-D array is also present in a second array.\n",
    "\n",
    "Returns a boolean array the same length as `ar1` that is True\n",
    "where an element of `ar1` is in `ar2` and False otherwise.\"\"\"\n",
    "\n",
    "#Option 1 using numpy.in1d\n",
    "print(f'Using numpy.in1d: {np.in1d(arr1,arr2)}')\n",
    "#Option 2 using numpy.isin\n",
    "print(f'Using numpy.in1d: {np.isin(arr1,arr2)}')"
   ]
  },
  {
   "cell_type": "markdown",
   "metadata": {},
   "source": [
    "### Q54. Write the NumPy program to find common values between two arrays? \n",
    "<br>Expected Output- <br>Array1: [ 0 10 20 40 60] <br>Array2: [10, 30, 40] <br>Common values between two arrays- [10 40]"
   ]
  },
  {
   "cell_type": "code",
   "execution_count": 56,
   "metadata": {},
   "outputs": [
    {
     "data": {
      "text/plain": [
       "array([ 0, 40])"
      ]
     },
     "execution_count": 56,
     "metadata": {},
     "output_type": "execute_result"
    }
   ],
   "source": [
    "arr1 = np.array([ 0,10,20,40,60])\n",
    "arr2 = np.array([0, 30, 40])\n",
    "\"\"\"Find the intersection of two arrays.\n",
    "Return the sorted, unique values that are in both of the input arrays.\"\"\"\n",
    "np.intersect1d(arr1,arr2)"
   ]
  },
  {
   "cell_type": "markdown",
   "metadata": {},
   "source": [
    "### Q55. Write the NumPy program to get the unique elements of an array?<br>\n",
    "Expected Output- <br>Original array- <br>[10 10 20 20 30 30] <br>Unique elements of the above array- <br>[10 20 30]\n",
    "<br>Original array- <br>[[1 1] <br>[2 3]] <br>Unique elements of the above array- <br>[1 2 3]"
   ]
  },
  {
   "cell_type": "code",
   "execution_count": 57,
   "metadata": {},
   "outputs": [
    {
     "name": "stdout",
     "output_type": "stream",
     "text": [
      "Unique elements in 1d array: [10 20 30 40 50 60] \n",
      "And their respective counts: [2 3 2 2 1 1]\n",
      "**************************************************\n",
      "Unique elements in 2d array: [1 2 3] \n",
      "And their respective counts: [2 1 1]\n"
     ]
    },
    {
     "data": {
      "text/plain": [
       "array([1, 2, 3])"
      ]
     },
     "execution_count": 57,
     "metadata": {},
     "output_type": "execute_result"
    }
   ],
   "source": [
    "arr1 = np.array([10,10,20,20,20,30,30,40,40,50,60])\n",
    "arr2 = np.array([1,1,2,3]).reshape(-1,2)\n",
    "\"\"\"Find the unique elements of an array.\n",
    "Can be used as an alternate of Counter Class in Collections Module\"\"\"\n",
    "unique_elements1d,count_elements1d = np.unique(arr1, return_counts=True)\n",
    "print(f'Unique elements in 1d array: {unique_elements1d} \\nAnd their respective counts: {count_elements1d}')\n",
    "unique_elements2d,count_elements2d = np.unique(arr2, return_counts=True)\n",
    "print('*'*50)\n",
    "print(f'Unique elements in 2d array: {unique_elements2d} \\nAnd their respective counts: {count_elements2d}')\n",
    "np.unique(arr2)"
   ]
  },
  {
   "cell_type": "markdown",
   "metadata": {},
   "source": [
    "### Q56. Write the NumPy program to find the set exclusive-or of two arrays. Set exclusive-or will return the sorted, unique values that are in only one (not both) of the input arrays?<br>\n",
    "Array1- [ 0 10 20 40 60 80] <br>Array2- [10, 30, 40, 50, 70] <br>Unique values that are in only one (not both) of the input <br>arrays- [ 0 20 30 50 60 70 80]"
   ]
  },
  {
   "cell_type": "code",
   "execution_count": 58,
   "metadata": {},
   "outputs": [
    {
     "data": {
      "text/plain": [
       "array([ 0, 20, 30, 50, 60, 70, 80])"
      ]
     },
     "execution_count": 58,
     "metadata": {},
     "output_type": "execute_result"
    }
   ],
   "source": [
    "arr1 = np.array([0, 10, 20, 40, 60, 80])\n",
    "arr2 = np.array([10, 30, 40, 50, 70])\n",
    "\"\"\"setxor1d finds the set exclusive-or of two arrays.\"\"\"\n",
    "np.setxor1d(arr1,arr2)"
   ]
  },
  {
   "cell_type": "markdown",
   "metadata": {},
   "source": [
    "#### Q57. Write the NumPy program to test if all elements in an array evaluate to True ? \n",
    "<br>Note: 0 evaluates to False in NumPy."
   ]
  },
  {
   "cell_type": "code",
   "execution_count": 59,
   "metadata": {},
   "outputs": [
    {
     "name": "stdout",
     "output_type": "stream",
     "text": [
      "Using numpy.alltrue: False\n",
      "Using numpy.all: False\n"
     ]
    }
   ],
   "source": [
    "arr1 = np.array([0, 10, 20, 40, 60, 80])\n",
    "\"\"\"np.all and np.alltrue tests whether all array elements along the mentioned axis evaluate to True.\"\"\"\n",
    "\n",
    "#Option 1 using numpy.alltrue\n",
    "print(f'Using numpy.alltrue: {np.alltrue(arr1)}')\n",
    "#Option 2 using numpy.all\n",
    "print(f'Using numpy.all: {np.all(arr1)}')"
   ]
  },
  {
   "cell_type": "markdown",
   "metadata": {},
   "source": [
    "#### Q58. Write the NumPy program to test whether any array element along the given axis evaluates to True? \n",
    "<br>Note: 0 evaluates to False in NumPy."
   ]
  },
  {
   "cell_type": "code",
   "execution_count": 60,
   "metadata": {},
   "outputs": [
    {
     "name": "stdout",
     "output_type": "stream",
     "text": [
      "Using numpy.alltrue: [False  True]\n",
      "Using numpy.all: [False  True]\n"
     ]
    }
   ],
   "source": [
    "arr1 = np.array([0, 10, 20, 40, 60, 80]).reshape(-1,2)\n",
    "\"\"\"np.all and np.alltrue tests whether all array elements along the mentioned axis evaluate to True.\"\"\"\n",
    "\n",
    "#Option 1 using numpy.alltrue\n",
    "print(f'Using numpy.alltrue: {np.alltrue(arr1,axis=0)}')\n",
    "#Option 2 using numpy.all\n",
    "print(f'Using numpy.all: {np.all(arr1,axis=0)}')"
   ]
  },
  {
   "cell_type": "markdown",
   "metadata": {},
   "source": [
    "#### Q59. Write the NumPy program to construct an array by repeating? \n",
    "<br>Sample array- [1, 2, 3, 4] <br>Expected Output- <br>Original array <br>[1, 2, 3, 4] <br>Repeating 2 times [1 2 3 4 1 2 3 4]<br>Repeating 3 times [1 2 3 4 1 2 3 4 1 2 3 4]"
   ]
  },
  {
   "cell_type": "code",
   "execution_count": 61,
   "metadata": {},
   "outputs": [
    {
     "name": "stdout",
     "output_type": "stream",
     "text": [
      "Using numpy.tile with reps = 2: [1 2 3 4 1 2 3 4]\n",
      "Using numpy.tile with reps = 3: [1 2 3 4 1 2 3 4 1 2 3 4]\n",
      "************************************************************\n",
      "Using numpy.hstack on 2d array with 2 times stackinig: \n",
      "[[-1  1  5  9 -1  1  5  9]\n",
      " [ 6 12 99 56  6 12 99 56]]\n",
      "Using numpy.hstack on 2d array with 3 times stackinig: \n",
      "[[-1  1  5  9 -1  1  5  9 -1  1  5  9]\n",
      " [ 6 12 99 56  6 12 99 56  6 12 99 56]]\n"
     ]
    }
   ],
   "source": [
    "arr1 = np.arange(1,5)\n",
    "arr2 = np.array([-1,1,5,9,6,12,99,56]).reshape(2,-1)\n",
    "\"\"\"This objective can be achieved in 2 ways\n",
    "1. Using numpy.tile which has repeat parameter\n",
    "2. Using numpy.hstack which is used for horizontal stacking\"\"\"\n",
    "\n",
    "#Option 1 using numpy.tile\n",
    "print(f'Using numpy.tile with reps = 2: {np.tile(arr1,reps=2)}')\n",
    "print(f'Using numpy.tile with reps = 3: {np.tile(arr1,reps=3)}')\n",
    "print('*'*60)\n",
    "#Option 2 using numpy.hstack\n",
    "print(f'Using numpy.hstack on 2d array with 2 times stackinig: \\n{np.hstack((arr2,arr2))}')\n",
    "print(f'Using numpy.hstack on 2d array with 3 times stackinig: \\n{np.hstack((arr2,arr2,arr2))}')\n"
   ]
  },
  {
   "cell_type": "markdown",
   "metadata": {},
   "source": [
    "#### Q60. Write the NumPy program to find the indices of the maximum and minimum values with the given axis of an array?\n",
    "<br>Original array- [1 2 3 4 5 6] <br>Maximum Values- 5 Minimum Values- 0"
   ]
  },
  {
   "cell_type": "code",
   "execution_count": 62,
   "metadata": {},
   "outputs": [
    {
     "name": "stdout",
     "output_type": "stream",
     "text": [
      "Max Value in array at index postion: 5\n",
      "Min Value in array at index postion: 0\n"
     ]
    }
   ],
   "source": [
    "arr = np.arange(1,7)\n",
    "\"\"\"Maximum indicies is obtained by np.argmax\n",
    "   Minimum indicies is obtained by np.argmin\"\"\"\n",
    "print(f'Max Value in array at index postion: {np.argmax(arr)}')\n",
    "print(f'Min Value in array at index postion: {np.argmin(arr)}')"
   ]
  },
  {
   "cell_type": "markdown",
   "metadata": {},
   "source": [
    "#### Q61. Write the NumPy program compare two arrays using numpy?\n",
    "Array a- [1 2] Array b- [4 5] <br>a > b [False False] <br>a >= b [False False] <br>a < b [ True True] <br>a <= b [ True True]"
   ]
  },
  {
   "cell_type": "code",
   "execution_count": 63,
   "metadata": {},
   "outputs": [
    {
     "name": "stdout",
     "output_type": "stream",
     "text": [
      "if a > b:\n",
      "[False False]\n",
      "if a >= b:\n",
      "[False False]\n",
      "if a < b:\n",
      "[ True  True]\n",
      "if a <= b:\n",
      "[ True  True]\n",
      "if a and b are close elementwise:\n",
      "False\n"
     ]
    }
   ],
   "source": [
    "arr1 = np.array([1,2])\n",
    "arr2 = np.array([4,5])\n",
    "\"\"\"For comparing of arrays elementwise numpy has following methods\n",
    "1. np.greater\n",
    "2. np.greater_equal\n",
    "3. np.less\n",
    "4. np.less_equal\n",
    "5. np.allclose\"\"\"\n",
    "#Objective 1 if a > b\n",
    "print(f'if a > b:\\n{np.greater(arr1,arr2)}')\n",
    "#Objective 2 if a >= b\n",
    "print(f'if a >= b:\\n{np.greater_equal(arr1,arr2)}')\n",
    "#Objective 3 if a < b\n",
    "print(f'if a < b:\\n{np.less(arr1,arr2)}')\n",
    "#Objective 4 if a <= b\n",
    "print(f'if a <= b:\\n{np.less_equal(arr1,arr2)}')\n",
    "#Objective 5 if all elements in a are close by significant distance to b\n",
    "print(f'if a and b are close elementwise:\\n{np.allclose(arr1,arr2)}')"
   ]
  },
  {
   "cell_type": "markdown",
   "metadata": {},
   "source": [
    "#### Q62. Write the NumPy program to sort an along the first, last axis of an array? \n",
    "<br>Sample array- [[2,5],[4,4]] <br>Expected Output- Original array: <br>[[4 6]<br>[2 1]] <br>Sort along the first axis: <br>[[2 1] <br>[4 6]] <br>Sort along the last axis- <br>[[1 2]<br>[4 6]]"
   ]
  },
  {
   "cell_type": "code",
   "execution_count": 64,
   "metadata": {},
   "outputs": [
    {
     "name": "stdout",
     "output_type": "stream",
     "text": [
      "Sorting on First Axis ie rowwise:\n",
      "***********************************\n",
      "[[2 1]\n",
      " [4 6]]\n",
      "\n",
      "Sorting on Last Axis ie colwwise on sorted array in previous step:\n",
      "*****************************************************************\n",
      "[[1 2]\n",
      " [4 6]]\n"
     ]
    }
   ],
   "source": [
    "arr = np.array([[4, 6],[2, 1]])\n",
    "\"\"\"For sorting we use numpy.sort method which returns sorted copy of array specified along axis\"\"\"\n",
    "print('Sorting on First Axis ie rowwise:')\n",
    "print('*'*35)\n",
    "print(np.sort(arr,axis=0))\n",
    "print()\n",
    "print('Sorting on Last Axis ie colwwise on sorted array in previous step:')\n",
    "print('*'*65)\n",
    "print(np.sort(np.sort(arr,axis=0),axis=1))"
   ]
  },
  {
   "cell_type": "markdown",
   "metadata": {},
   "source": [
    "#### Q63. Write the NumPy program to sort pairs of first name and last name return their indices (first by last name, then by first name).\n",
    "<br>first_names - ( Betsey, Shelley, Lanell, Genesis, Margery ) <br>last_names - ( Battle, Brien, Plotner, Stahl, Woolum ) <br>Expected Output- [1 3 2 4 0]"
   ]
  },
  {
   "cell_type": "code",
   "execution_count": 65,
   "metadata": {},
   "outputs": [
    {
     "data": {
      "text/plain": [
       "array([0, 3, 2, 4, 1], dtype=int32)"
      ]
     },
     "execution_count": 65,
     "metadata": {},
     "output_type": "execute_result"
    }
   ],
   "source": [
    "\"\"\"\n",
    "1. Perform an indirect sort using a sequence of keys\n",
    "2. Sort by a, then by b\n",
    "3. Return type ndarray of ints Array of indices that sort the keys along the specified axis\"\"\"\n",
    "\n",
    "first_names = ('Betsey', 'Shelley', 'Lanell', 'Genesis', 'Margery')\n",
    "last_names = ('Battle', 'Brien', 'Plotner', 'Stahl', 'Woolum')\n",
    "\n",
    "\n",
    "np.lexsort((last_names,first_names))\n"
   ]
  },
  {
   "cell_type": "markdown",
   "metadata": {},
   "source": [
    "#### Q64. Write the NumPy program to get the values and indices of the elements that are bigger than 10 in the given array? <br>\n",
    "<br>Original array- <br>[[ 0 10 20] <br>[20 30 40]] <br>Values bigger than 10 = [20 20 30 40] <br>Their indices are (array([0, 1, 1, 1]), array([2, 0, 1, 2]))"
   ]
  },
  {
   "cell_type": "code",
   "execution_count": 66,
   "metadata": {},
   "outputs": [
    {
     "name": "stdout",
     "output_type": "stream",
     "text": [
      "Values bigger than 10 = [20 20 30 40]\n",
      "Their indices are : (array([0, 1, 1, 1], dtype=int32), array([2, 0, 1, 2], dtype=int32))\n"
     ]
    }
   ],
   "source": [
    "arr = np.array([[ 0, 10, 20],[20, 30, 40]])\n",
    "\n",
    "mask = np.where(arr>10)\n",
    "print(f'Values bigger than 10 = {arr[np.where(arr>10)]}')\n",
    "print(f'Their indices are : {mask}')"
   ]
  },
  {
   "cell_type": "markdown",
   "metadata": {},
   "source": [
    "#### Q65. Write the NumPy program to find the memory size of a NumPy array?"
   ]
  },
  {
   "cell_type": "code",
   "execution_count": 67,
   "metadata": {},
   "outputs": [
    {
     "name": "stdout",
     "output_type": "stream",
     "text": [
      "24\n"
     ]
    }
   ],
   "source": [
    "arr = np.array([[ 0, 10, 20],[20, 30, 40]])\n",
    "\"\"\"array.size gives no of elements and array.itemsize gives memory used by each element\"\"\"\n",
    "print(f'{arr.size*arr.itemsize}')"
   ]
  },
  {
   "cell_type": "markdown",
   "metadata": {},
   "source": [
    "#### Q66. Write the NumPy program to create an array of ones and an array of zeros?"
   ]
  },
  {
   "cell_type": "code",
   "execution_count": 68,
   "metadata": {},
   "outputs": [
    {
     "name": "stdout",
     "output_type": "stream",
     "text": [
      "Array of ones:\n",
      "[[1. 1. 1.]\n",
      " [1. 1. 1.]\n",
      " [1. 1. 1.]]\n",
      "Array of ones int dtype:\n",
      "[1 1 1]\n",
      "Array of zeros:\n",
      "[[0. 0. 0.]\n",
      " [0. 0. 0.]\n",
      " [0. 0. 0.]]\n",
      "Array of int dtype::\n",
      "[0 0 0]\n"
     ]
    }
   ],
   "source": [
    "arr_of_ones = np.ones((3,3))\n",
    "arr_of_zeros = np.zeros((3,3))\n",
    "print(f'Array of ones:\\n{arr_of_ones}')\n",
    "print(f'Array of ones int dtype:\\n{np.ones(3,dtype=int)}')\n",
    "print(f'Array of zeros:\\n{arr_of_zeros}')\n",
    "print(f'Array of int dtype::\\n{np.zeros(3,dtype=int)}')"
   ]
  },
  {
   "cell_type": "markdown",
   "metadata": {},
   "source": [
    "#### Q67. Write the NumPy program to change the dimension of an array?"
   ]
  },
  {
   "cell_type": "code",
   "execution_count": 69,
   "metadata": {},
   "outputs": [
    {
     "name": "stdout",
     "output_type": "stream",
     "text": [
      "1 d to 3*3:\n",
      "[[1 2 3]\n",
      " [4 5 6]\n",
      " [7 8 9]]\n",
      "\n",
      "1 d to 9*1:\n",
      "[[1]\n",
      " [2]\n",
      " [3]\n",
      " [4]\n",
      " [5]\n",
      " [6]\n",
      " [7]\n",
      " [8]\n",
      " [9]]\n"
     ]
    }
   ],
   "source": [
    "arr = np.arange(1,10).reshape(-1,3)\n",
    "print(f'1 d to 3*3:\\n{arr}')\n",
    "arr1 = np.arange(1,10)\n",
    "print()\n",
    "print(f'1 d to 9*1:\\n{arr1[:,np.newaxis]}')"
   ]
  },
  {
   "cell_type": "markdown",
   "metadata": {},
   "source": [
    "#### Q68. Write the NumPy program to create a new shape to an array without changing its data ? <br>\n",
    "Reshape 3x2- <br>[[1 2] <br>[3 4] <br>[5 6]] <br>Reshape 2x3- <br>[[1 2 3]<br> [4 5 6]]"
   ]
  },
  {
   "cell_type": "code",
   "execution_count": 70,
   "metadata": {},
   "outputs": [
    {
     "name": "stdout",
     "output_type": "stream",
     "text": [
      "Reshaping from 3*2 to 2*3 using numpy.reshape\n",
      "*********************************************\n",
      "[[1 2 3]\n",
      " [4 5 6]]\n"
     ]
    }
   ],
   "source": [
    "arr = np.arange(1,7).reshape(3,-1)\n",
    "print('Reshaping from 3*2 to 2*3 using numpy.reshape')\n",
    "print('*'*45)\n",
    "print(arr.reshape(2,3))"
   ]
  },
  {
   "cell_type": "markdown",
   "metadata": {},
   "source": [
    "#### Q69. Write the NumPy program to create a new array of 3*5, filled with 2?"
   ]
  },
  {
   "cell_type": "code",
   "execution_count": 71,
   "metadata": {},
   "outputs": [
    {
     "name": "stdout",
     "output_type": "stream",
     "text": [
      "[[2. 2. 2. 2. 2.]\n",
      " [2. 2. 2. 2. 2.]\n",
      " [2. 2. 2. 2. 2.]]\n"
     ]
    }
   ],
   "source": [
    "arr = np.ones((3,5))\n",
    "\"\"\"Broadcasting arr with multiplication of 2\"\"\"\n",
    "print(arr*2)"
   ]
  },
  {
   "cell_type": "markdown",
   "metadata": {},
   "source": [
    "#### Q70. Write the NumPy program to create a 3-D array with ones on a diagonal and zeros elsewhere?"
   ]
  },
  {
   "cell_type": "code",
   "execution_count": 72,
   "metadata": {},
   "outputs": [
    {
     "name": "stdout",
     "output_type": "stream",
     "text": [
      "[[1. 0. 0.]\n",
      " [0. 1. 0.]\n",
      " [0. 0. 1.]]\n"
     ]
    }
   ],
   "source": [
    "\"\"\"Creating numpy identity matrix\"\"\"\n",
    "arr = np.eye(3)\n",
    "print(arr)"
   ]
  },
  {
   "cell_type": "markdown",
   "metadata": {},
   "source": [
    "#### Q71. Write the NumPy program to split an array of 14 elements into the 3 arrays and each of which has 2, 4, and 8 elements in original order?<br>\n",
    "Expected Output- <br>Original array- [ 1 2 3 4 5 6 7 8 9 10 11 12 13 14] <br>After splitting- <br>[array([1, 2]), array([3, 4, 5, 6]), array([ 7, 8, 9, 10, 11, 12, 13, 14])]"
   ]
  },
  {
   "cell_type": "code",
   "execution_count": 73,
   "metadata": {},
   "outputs": [
    {
     "data": {
      "text/plain": [
       "[array([1, 2]), array([3, 4, 5, 6]), array([ 7,  8,  9, 10, 11, 12, 13, 14])]"
      ]
     },
     "execution_count": 73,
     "metadata": {},
     "output_type": "execute_result"
    }
   ],
   "source": [
    "arr = np.arange(1,15)\n",
    "np.array_split(arr,[2,6])"
   ]
  },
  {
   "cell_type": "markdown",
   "metadata": {},
   "source": [
    "#### Q72. Write the NumPy program to split of an array of shape 4x4 it into two arrays along the second axis ?"
   ]
  },
  {
   "cell_type": "code",
   "execution_count": 74,
   "metadata": {},
   "outputs": [
    {
     "data": {
      "text/plain": [
       "[array([[ 0,  1],\n",
       "        [ 4,  5],\n",
       "        [ 8,  9],\n",
       "        [12, 13]]), array([[ 2,  3],\n",
       "        [ 6,  7],\n",
       "        [10, 11],\n",
       "        [14, 15]])]"
      ]
     },
     "execution_count": 74,
     "metadata": {},
     "output_type": "execute_result"
    }
   ],
   "source": [
    "arr = np.arange(0,16).reshape(4,4)\n",
    "np.array_split(arr,[2],axis=1)"
   ]
  },
  {
   "cell_type": "markdown",
   "metadata": {},
   "source": [
    "#### Q73. Write the NumPy program to create a 5x5 matrix with row values ranging from 0 to 4?"
   ]
  },
  {
   "cell_type": "code",
   "execution_count": 75,
   "metadata": {},
   "outputs": [
    {
     "data": {
      "text/plain": [
       "array([[0., 1., 2., 3., 4.],\n",
       "       [0., 1., 2., 3., 4.],\n",
       "       [0., 1., 2., 3., 4.],\n",
       "       [0., 1., 2., 3., 4.],\n",
       "       [0., 1., 2., 3., 4.]])"
      ]
     },
     "execution_count": 75,
     "metadata": {},
     "output_type": "execute_result"
    }
   ],
   "source": [
    "arr = np.zeros((5,5))\n",
    "arr + np.arange(0,5)"
   ]
  },
  {
   "cell_type": "markdown",
   "metadata": {},
   "source": [
    "#### Q74. Write the NumPy program to create an array of zeros and three column types (integer, float, character)?"
   ]
  },
  {
   "cell_type": "code",
   "execution_count": 76,
   "metadata": {},
   "outputs": [
    {
     "data": {
      "text/plain": [
       "array([(1, 2., b'Albert Ein'), (2, 2., b'Edmond Hal'),\n",
       "       (3, 3., b'Gertrude B')],\n",
       "      dtype=[('sno', '<i4'), ('height', '<f8'), ('name', 'S10')])"
      ]
     },
     "execution_count": 76,
     "metadata": {},
     "output_type": "execute_result"
    }
   ],
   "source": [
    "\"\"\"Creating Structured Array\"\"\"\n",
    "dtype = [ ('sno', int), ('height', float),('name', 'S10')]\n",
    "values = [(1, 2., b'Albert Einstein'), (2, 2., b'Edmond Halley'), (3, 3., b'Gertrude B. Elion')]\n",
    "a = np.array(values, dtype=dtype) \n",
    "a"
   ]
  },
  {
   "cell_type": "markdown",
   "metadata": {},
   "source": [
    "**Q75. Write the NumPy program to remove the negative values in the numpy array with 0?**\n",
    "<br>Expected Output- Original array: [-1 -4 0 2 3 4 5 -6] <br>Replace the negative values of the said array with 0- [0 0 0 2 3 4 5 0]"
   ]
  },
  {
   "cell_type": "code",
   "execution_count": 77,
   "metadata": {},
   "outputs": [
    {
     "data": {
      "text/plain": [
       "array([0, 0, 0, 2, 3, 4, 5, 0])"
      ]
     },
     "execution_count": 77,
     "metadata": {},
     "output_type": "execute_result"
    }
   ],
   "source": [
    "arr = np.array([-1, -4, 0, 2, 3, 4, 5, -6])\n",
    "\"\"\"Using Numpy.where to search for condition when met replace with 0 else value from array\"\"\"\n",
    "np.where(arr<0,0,arr)"
   ]
  },
  {
   "cell_type": "markdown",
   "metadata": {},
   "source": [
    "**Q76. Write the NumPy program to compute the histogram of a set of data?**"
   ]
  },
  {
   "cell_type": "code",
   "execution_count": 78,
   "metadata": {},
   "outputs": [
    {
     "data": {
      "image/png": "[encoded data removed]",
      "text/plain": [
       "<Figure size 432x288 with 1 Axes>"
      ]
     },
     "metadata": {},
     "output_type": "display_data"
    }
   ],
   "source": [
    "# plt.style.use('fivethirtyeight')\n",
    "arr = np.hstack((np.arange(1,3),np.array([1])))\n",
    "bins = range(5)\n",
    "plt.hist(x=arr,bins=bins)\n",
    "plt.xlabel('Bins')\n",
    "plt.ylabel('Frequency')\n",
    "plt.title('Histogram')\n",
    "plt.show()"
   ]
  },
  {
   "cell_type": "markdown",
   "metadata": {},
   "source": [
    "**Q77. Write the NumPy program to compute the line graph of a set of data?**"
   ]
  },
  {
   "cell_type": "code",
   "execution_count": 79,
   "metadata": {},
   "outputs": [
    {
     "data": {
      "image/png": "[encoded data removed]",
      "text/plain": [
       "<Figure size 432x288 with 1 Axes>"
      ]
     },
     "metadata": {},
     "output_type": "display_data"
    }
   ],
   "source": [
    "plt.plot(range(1,13),np.array([1,5,9,3,6,4,5,8,3,6,8,7]),linewidth=2,color='r')\n",
    "plt.xticks(np.linspace(1,12,12))\n",
    "plt.yticks(np.linspace(1,9,9))\n",
    "plt.show()"
   ]
  },
  {
   "cell_type": "markdown",
   "metadata": {},
   "source": [
    "**Q78. Write the NumPy program to extracts all the elements from second row from given (4x4) array?**\n",
    "<br>Sample Output- Original array- <br>[[ 0 1 2 3]<br> [ 4 5 6 7] <br>[ 8 9 10 11] <br>[12 13 14 15]] <br>Extracted data- Second row [4 5 6 7]"
   ]
  },
  {
   "cell_type": "code",
   "execution_count": 80,
   "metadata": {},
   "outputs": [
    {
     "data": {
      "text/plain": [
       "array([4, 5, 6, 7])"
      ]
     },
     "execution_count": 80,
     "metadata": {},
     "output_type": "execute_result"
    }
   ],
   "source": [
    "arr = np.arange(0,16).reshape(4,-1)\n",
    "\"\"\"Using index of 1 to extract data from 4*4 array\"\"\"\n",
    "arr[1]"
   ]
  },
  {
   "cell_type": "markdown",
   "metadata": {},
   "source": [
    "**Q79. Write the NumPy program to extract first element of the second row and fourth element of fourth row from a given (4x4) array?** <br>Sample Output- Original array- <br>[[ 0 1 2 3]<br> [ 4 5 6 7] <br>[ 8 9 10 11] <br>[12 13 14 15]] <br>Extracted data- First element of the second row and fourth element of fourth row [ 4 15]"
   ]
  },
  {
   "cell_type": "code",
   "execution_count": 81,
   "metadata": {},
   "outputs": [
    {
     "name": "stdout",
     "output_type": "stream",
     "text": [
      "Extracted data- First element of the second row and fourth element of fourth row:\n",
      "********************************************************************************\n",
      "[ 4 15]\n"
     ]
    }
   ],
   "source": [
    "arr = np.arange(0,16).reshape(4,-1)\n",
    "print('Extracted data- First element of the second row and fourth element of fourth row:')\n",
    "print('*'*80)\n",
    "print(arr[[1,3],[0,3]])"
   ]
  },
  {
   "cell_type": "markdown",
   "metadata": {},
   "source": [
    "**Q80. Write the NumPy program to add two arrays A and B of sizes (3,3) and (,3)?**\n",
    "<br>Sample Output- Original array- Array-1 <br>[[1 1 1] <br>[1 1 1] <br>[1 1 1]] <br>Array-2 [0 1 2] <br>A + B: [[1 2 3]\n",
    "<br>[1 2 3]<br>[1 2 3]"
   ]
  },
  {
   "cell_type": "code",
   "execution_count": 82,
   "metadata": {},
   "outputs": [
    {
     "data": {
      "text/plain": [
       "array([[1, 2, 3],\n",
       "       [1, 2, 3],\n",
       "       [1, 2, 3]])"
      ]
     },
     "execution_count": 82,
     "metadata": {},
     "output_type": "execute_result"
    }
   ],
   "source": [
    "arr1 = np.ones((3,3),dtype='int')\n",
    "arr2 = np.arange(3)\n",
    "arr1+arr2"
   ]
  },
  {
   "cell_type": "markdown",
   "metadata": {},
   "source": [
    "**Q81. Write the NumPy program to copy data from a given array to another array?**\n",
    "<br>Sample Output- Original array- [24 27 30 29 18 14] <br>Copy of the said array- [24 27 30 29 18 14]"
   ]
  },
  {
   "cell_type": "code",
   "execution_count": 83,
   "metadata": {},
   "outputs": [
    {
     "name": "stdout",
     "output_type": "stream",
     "text": [
      "320262976 319966608 320046208\n",
      "Original Array: [999  27  30  29  18  14]\n",
      "Deep Copy of Original Array: [  24 9999   30   29   18   14]\n",
      "Shallow Copy of Original Array: [999  27  30  29  18  14]\n"
     ]
    }
   ],
   "source": [
    "arr = np.array([24, 27, 30, 29, 18, 14])\n",
    "\"\"\"for Deep copy we use np.copy\"\"\"\n",
    "arr1 = arr.copy()\n",
    "\"\"\"for Shallow copy we use np.copy\n",
    "Note: for shallow copy new copy is created but its elements still refer to original array\"\"\"\n",
    "arr2 = arr.view()\n",
    "print(id(arr),id(arr1),id(arr2))\n",
    "arr2[0]=999\n",
    "arr1[1]=9999\n",
    "print('Original Array:',arr)\n",
    "print('Deep Copy of Original Array:',arr1)\n",
    "print('Shallow Copy of Original Array:',arr2)"
   ]
  },
  {
   "cell_type": "markdown",
   "metadata": {},
   "source": [
    "**Q82. Write the NumPy program to calculate the sum of all columns of the 2D numpy array?**<br> Sample Output- Original array- <br>[[ 0 1 2 3 4 5 6 7 8] <br>[ 9 10 11 12 13 14 15 16 17] <br>[18 19 20 21 22 23 24 25 26] <br>[27 28 29 30 31 32 33 34 35]] <br>Sum of all columns- [54 58 62 66 70 74 78 82 86]"
   ]
  },
  {
   "cell_type": "code",
   "execution_count": 84,
   "metadata": {},
   "outputs": [
    {
     "data": {
      "text/plain": [
       "array([54, 58, 62, 66, 70, 74, 78, 82, 86])"
      ]
     },
     "execution_count": 84,
     "metadata": {},
     "output_type": "execute_result"
    }
   ],
   "source": [
    "arr = np.arange(0,36).reshape(4,-1)\n",
    "\"\"\"For rowwise sum axis=0\"\"\"\n",
    "np.sum(arr,axis=0)"
   ]
  },
  {
   "cell_type": "markdown",
   "metadata": {},
   "source": [
    "**Q83. Write the NumPy program to calculate averages without NaNs along the given array?**\n",
    "<br>Sample Output- Original array- <br>[[10. 20. 30.] <br>[40. 50. nan] <br>[nan 6. nan] <br>[nan nan nan]]\n",
    "<br>Averages without NaNs along the said array- [20. 45. 6. nan]"
   ]
  },
  {
   "cell_type": "code",
   "execution_count": 85,
   "metadata": {},
   "outputs": [
    {
     "name": "stderr",
     "output_type": "stream",
     "text": [
      "c:\\program files (x86)\\python37-32\\lib\\site-packages\\ipykernel_launcher.py:3: RuntimeWarning: Mean of empty slice\n",
      "  This is separate from the ipykernel package so we can avoid doing imports until\n"
     ]
    },
    {
     "data": {
      "text/plain": [
       "array([20., 45.,  6., nan])"
      ]
     },
     "execution_count": 85,
     "metadata": {},
     "output_type": "execute_result"
    }
   ],
   "source": [
    "arr = np.array([[10., 20., 30.], [40., 50., np.nan], [np.nan, 6., np.nan], [np.nan, np.nan ,np.nan]])\n",
    "\"\"\"For mean we use np.mean but since we have nan in array we use np.nanmean with axis=1\"\"\"\n",
    "np.nanmean(arr,axis=1,)"
   ]
  },
  {
   "cell_type": "markdown",
   "metadata": {},
   "source": [
    "**Q84. Create two arrays of six elements. Write the NumPy program to count the number of instances of a value occurring in one array on the condition of another array.**"
   ]
  },
  {
   "cell_type": "code",
   "execution_count": 86,
   "metadata": {},
   "outputs": [
    {
     "name": "stdout",
     "output_type": "stream",
     "text": [
      "Original arrays:\n",
      "[ 10 -10  10 -10 -10  10]\n",
      "[0.85 0.45 0.9  0.8  0.12 0.6 ]\n",
      "\n",
      "Number of instances of a value occurring in one aray on the condition of another array:\n",
      "3\n"
     ]
    }
   ],
   "source": [
    "arr1 = np.array([10,-10,10,-10,-10,10])\n",
    "arr2 = np.array([.85,.45,.9,.8,.12,.6])\n",
    "print(\"Original arrays:\")\n",
    "print(arr1)\n",
    "print(arr2)\n",
    "result = np.sum((arr1 == 10) & (arr2 > .5))\n",
    "print(\"\\nNumber of instances of a value occurring in one aray on the condition of another array:\")\n",
    "print(result)"
   ]
  },
  {
   "cell_type": "markdown",
   "metadata": {},
   "source": [
    "**Q85. Write the NumPy program to convert a Python dictionary to a Numpy ndarray ?**\n",
    "<br>Original dictionary- {'column0': {'a': 1, 'b': 0.0, 'c': 0.0, 'd': 2.0}, 'column1': {'a': 3.0, 'b': 1, 'c': 0.0, 'd': -1.0}, 'column2': {'a': 4, 'b': 1, 'c': 5.0, 'd': -1.0}, <br>'column3': {'a': 3.0, 'b': -1.0, 'c': -1.0, 'd': -1.0}}\n",
    "<br>ndarray- [[ 1. 0. 0. 2.] [ 3. 1. 0. -1.] [ 4. 1. 5. -1.] [ 3. -1. -1. -1.]]"
   ]
  },
  {
   "cell_type": "code",
   "execution_count": 87,
   "metadata": {},
   "outputs": [
    {
     "data": {
      "text/plain": [
       "array([[ 1.,  0.,  0.,  2.],\n",
       "       [ 3.,  1.,  0., -1.],\n",
       "       [ 4.,  1.,  5., -1.],\n",
       "       [ 3., -1., -1., -1.]])"
      ]
     },
     "execution_count": 87,
     "metadata": {},
     "output_type": "execute_result"
    }
   ],
   "source": [
    "\"\"\"Creating DataFrame from Dictionay and getting Array with Transpose\"\"\"\n",
    "df = pd.DataFrame({'column0': {'a': 1, 'b': 0.0, 'c': 0.0, 'd': 2.0}, 'column1': {'a': 3.0, 'b': 1, 'c': 0.0, 'd': -1.0}, 'column2': {'a': 4, 'b': 1, 'c': 5.0, 'd': -1.0}, 'column3': {'a': 3.0, 'b': -1.0, 'c': -1.0, 'd': -1.0}})\n",
    "arr = df.values\n",
    "arr.T"
   ]
  },
  {
   "cell_type": "markdown",
   "metadata": {},
   "source": [
    "**Q86. Write the Numpy program to find and store the non-zero unique rows in an array after comparing each row with other row in the given matrix?**"
   ]
  },
  {
   "cell_type": "code",
   "execution_count": 88,
   "metadata": {},
   "outputs": [
    {
     "data": {
      "text/plain": [
       "array([[ 1,  1,  0],\n",
       "       [ 0,  2,  3],\n",
       "       [ 0, -1,  1]])"
      ]
     },
     "execution_count": 88,
     "metadata": {},
     "output_type": "execute_result"
    }
   ],
   "source": [
    "arr = np.array([[ 1, 1, 0], [ 0, 0, 0], [ 0, 2, 3], [ 0, 0, 0], [ 0, -1, 1], [ 0, 0, 0]])\n",
    "lst = list()\n",
    "for idx in range(len(arr)):\n",
    "    if not np.all(arr[idx]==0):\n",
    "        lst.append(arr[idx])\n",
    "\n",
    "np.array(lst)"
   ]
  },
  {
   "cell_type": "markdown",
   "metadata": {},
   "source": [
    "**Q87. Write the NumPy program to multiply the matrix by another matrix of complex numbers and create a new matrix of complex numbers?** <br>Sample output- First array- [ 1.+2.j 3.+4.j] </t></t>Second array- [ 5.+6.j 7.+8.j] <br>Product of above two arrays- (70-8j)"
   ]
  },
  {
   "cell_type": "code",
   "execution_count": 89,
   "metadata": {},
   "outputs": [
    {
     "data": {
      "text/plain": [
       "(70-8j)"
      ]
     },
     "execution_count": 89,
     "metadata": {},
     "output_type": "execute_result"
    }
   ],
   "source": [
    "arr1,arr2 = np.array([ [ 1.+2.j, 3.+4.j]]), np.array([ 5.+6.j, 7.+8.j])\n",
    "\"\"\"Return the dot product of two vectors.\n",
    "\n",
    "The vdot(`a`, `b`) function handles complex numbers differently than\n",
    "dot(`a`, `b`).\"\"\"\n",
    "np.vdot(arr1,arr2)"
   ]
  },
  {
   "cell_type": "markdown",
   "metadata": {},
   "source": [
    "**Q88. Write a NumPy program to generate the matrix product of two Arrays?**\n",
    "<br>Sample Output- Matrices and vectors. x- [[1, 0], [1, 1]] y- [[3, 1], [2, 2]]<br>Matrix product of above two arrays-[[3 1] [5 3]]"
   ]
  },
  {
   "cell_type": "code",
   "execution_count": 90,
   "metadata": {},
   "outputs": [
    {
     "name": "stdout",
     "output_type": "stream",
     "text": [
      "Matrix product of above two arrays:\n",
      "[[3 1]\n",
      " [5 3]]\n"
     ]
    }
   ],
   "source": [
    "arr1 = np.array([[1,0],[1,1]])\n",
    "arr2 = np.array([[3,1],[2,2]])\n",
    "\"\"\"Generating Dot Product of 2 Matrix by np.dot\"\"\"\n",
    "print(f'Matrix product of above two arrays:\\n{np.dot(arr1,arr2)}')"
   ]
  },
  {
   "cell_type": "markdown",
   "metadata": {},
   "source": [
    "**Q89. Write the NumPy program to find roots of the following Polynomials?**\n",
    "<br> \n",
    "* $x^2$ - 4$x$ + 7 \n",
    "* $x^4$ - 11$x^3$ + 9$x^2$ + 11$x$ + 10"
   ]
  },
  {
   "cell_type": "code",
   "execution_count": 91,
   "metadata": {},
   "outputs": [
    {
     "name": "stdout",
     "output_type": "stream",
     "text": [
      "Root of 1st equation:\n",
      " [2.+1.7321j 2.-1.7321j]\n",
      "\n",
      "Root of 2nd equation:\n",
      " [ 9.9774+0.j      1.9206+0.j     -0.449 +0.5659j -0.449 -0.5659j]\n",
      "\n",
      "2nd degree polynomial equation:\n",
      "******************************\n",
      "   2\n",
      "1 x - 4 x + 7\n",
      "\n",
      "4th degree polynomial equation:\n",
      "******************************\n",
      "   4      3     2\n",
      "1 x - 11 x + 9 x + 11 x + 10\n",
      "\n",
      "Roots of P1 :\n",
      "******************************\n",
      "[2.+1.7321j 2.-1.7321j]\n",
      "\n",
      "Roots of P2 :\n",
      "******************************\n",
      "[ 9.9774+0.j      1.9206+0.j     -0.449 +0.5659j -0.449 -0.5659j]\n"
     ]
    }
   ],
   "source": [
    "\"\"\"Roots of Polynomials is calculated by using numpy.roots which takes coefficients as input and returns n-1 valued array\"\"\"\n",
    "root1 = np.roots([1, -4, 7])\n",
    "root2 = np.roots([1, -11, 9, 11, 10])\n",
    "print('Root of 1st equation:\\n',root1)\n",
    "print()\n",
    "print('Root of 2nd equation:\\n',root2)\n",
    "print()\n",
    "\n",
    "\"\"\"Cross Verification Using numpy.poly1d\"\"\"\n",
    "p1 = np.poly1d([1, -4, 7])\n",
    "p2 = np.poly1d([1, -11, 9, 11, 10])\n",
    "print('2nd degree polynomial equation:')\n",
    "print('*'*30)\n",
    "print (p1) \n",
    "print()\n",
    "print('4th degree polynomial equation:')\n",
    "print('*'*30)\n",
    "print (p2) \n",
    "print()\n",
    "print (\"Roots of P1 :\")\n",
    "print('*'*30)\n",
    "print(p1.r)\n",
    "print()\n",
    "print (\"Roots of P2 :\")\n",
    "print('*'*30)\n",
    "print(p2.r)"
   ]
  },
  {
   "cell_type": "markdown",
   "metadata": {},
   "source": [
    "**Q90. Write the NumPy program to calculate inverse of sine, cosine, and inverse tangent for all elements in a given array?**"
   ]
  },
  {
   "cell_type": "code",
   "execution_count": 92,
   "metadata": {},
   "outputs": [
    {
     "name": "stdout",
     "output_type": "stream",
     "text": [
      "Inverse of sine: [-1.5708  0.      1.5708]\n",
      "Inverse of cosine: [3.1416 1.5708 0.    ]\n",
      "Inverse of tangent: [-0.7854  0.      0.7854]\n"
     ]
    }
   ],
   "source": [
    "val = np.array([-1., 0, 1.])\n",
    "\"\"\"Inverse of sine is arcsin, cosine is arccos and tan is arctan\"\"\"\n",
    "print(\"Inverse of sine:\", np.arcsin(val))\n",
    "print(\"Inverse of cosine:\", np.arccos(val))\n",
    "print(\"Inverse of tangent:\", np.arctan(val))"
   ]
  },
  {
   "cell_type": "markdown",
   "metadata": {},
   "source": [
    "**Q91. Write the NumPy program to calculate the difference between in neighbouring elements, element-wise of a given array?** <br>Sample output- Original array- <br>[1 3 5 7 0] <br>Difference between neighbouring elements, element-wise of the said array- <br>[ 2 2 2 -7]"
   ]
  },
  {
   "cell_type": "code",
   "execution_count": 93,
   "metadata": {},
   "outputs": [
    {
     "name": "stdout",
     "output_type": "stream",
     "text": [
      "Difference between neighbouring elements, element-wise:\n",
      "[ 2  2  2 -7]\n"
     ]
    }
   ],
   "source": [
    "arr = np.array([1, 3, 5, 7, 0])\n",
    "\"\"\"Elementwise diff of numpy array is generated by using numpy.diff\"\"\"\n",
    "print('Difference between neighbouring elements, element-wise:')\n",
    "print(np.diff(arr))"
   ]
  },
  {
   "cell_type": "markdown",
   "metadata": {},
   "source": [
    "**Q92. Write the Python program to find the maximum and the minimum value of a given flattened array?**\n",
    "<br>Expected Output- Original flattened array- [[0 1] [2 3]] <br>Maximum value of the above flattened array- 3 <br>Minimum value of the above flattened array- 0"
   ]
  },
  {
   "cell_type": "code",
   "execution_count": 94,
   "metadata": {},
   "outputs": [
    {
     "name": "stdout",
     "output_type": "stream",
     "text": [
      "Maximum value of the above flattened array: 3\n",
      "Minimum value of the above flattened array: 0\n",
      "\n",
      "Maximum value of the above flattened array: 3\n",
      "Minimum value of the above flattened array: 0\n"
     ]
    }
   ],
   "source": [
    "arr = np.array([[0, 1], [2, 3]])\n",
    "\"\"\"Flattening of array is done by numpy.ravel of array.flatten\"\"\"\n",
    "# Option 1 using numpy.ravel\n",
    "print('Maximum value of the above flattened array:',np.max(np.ravel(arr)))\n",
    "print('Minimum value of the above flattened array:',np.min(np.ravel(arr)))\n",
    "print()\n",
    "# Option 1 using array.flatten\n",
    "print('Maximum value of the above flattened array:',np.max(arr.flatten()))\n",
    "print('Minimum value of the above flattened array:',np.min(arr.flatten()))"
   ]
  },
  {
   "cell_type": "markdown",
   "metadata": {},
   "source": [
    "**Q93. Write the NumPy program to calculate the difference between in the maximum and the minimum values of a given array along the second axis ?**\n",
    "<br>Expected Output- Original array- <br>[[ 0 1 2 3 4 5] <br>[ 6 7 8 9 10 11]] <br>Difference between the maximum and the minimum values of the said array- <br>[5 5]"
   ]
  },
  {
   "cell_type": "code",
   "execution_count": 95,
   "metadata": {},
   "outputs": [
    {
     "name": "stdout",
     "output_type": "stream",
     "text": [
      "Difference between max and min along second axis:\n",
      "**************************************************\n",
      "[5 5]\n"
     ]
    }
   ],
   "source": [
    "arr = np.arange(0,12).reshape(2,-1)\n",
    "\"\"\"Using numpy ptp or peek to peek aloong second axis\"\"\"\n",
    "print('Difference between max and min along second axis:')\n",
    "print('*'*50)\n",
    "print(np.ptp(arr, axis=1))"
   ]
  },
  {
   "cell_type": "markdown",
   "metadata": {},
   "source": [
    "**Q94. Write the NumPy program to compute the weighted of the given array ?**\n",
    "<br>Sample Output- Original array- [0 1 2 3 4] <br>Weighted average of the said array- 2.6666666666666665"
   ]
  },
  {
   "cell_type": "code",
   "execution_count": 96,
   "metadata": {},
   "outputs": [
    {
     "name": "stdout",
     "output_type": "stream",
     "text": [
      "Weighted average: 2.6666666666666665\n"
     ]
    }
   ],
   "source": [
    "arr = np.arange(5)\n",
    "weights = np.arange(1, 6)\n",
    "\"\"\"Weighted Average is calculated by using numpy.average with custom weight elementwise as\"\"\"\n",
    "print('Weighted average:',np.average(arr, weights=weights))"
   ]
  },
  {
   "cell_type": "markdown",
   "metadata": {},
   "source": [
    "**Q95. Write the NumPy program to compute the mean, standard deviation, and the variance of a given array along the second axis?**\n",
    "<br>Sample output- Original array- [0 1 2 3 4 5] <br>Mean- 2.5 <br>std- 1 <br>variance- 2.9166666666666665"
   ]
  },
  {
   "cell_type": "code",
   "execution_count": 97,
   "metadata": {},
   "outputs": [
    {
     "name": "stdout",
     "output_type": "stream",
     "text": [
      "Mean: 2.5\n",
      "Standard Deviation: 1.707825127659933\n",
      "Variance: 2.9166666666666665\n"
     ]
    }
   ],
   "source": [
    "arr = np.arange(6)\n",
    "\"\"\"Mean or Average is given by np.mean\"\"\"\n",
    "print('Mean:',np.mean(arr))\n",
    "\"\"\"Standard Deviation is given by np.std\"\"\"\n",
    "print('Standard Deviation:',np.std(arr))\n",
    "\"\"\"Variance is given by np.var\"\"\"\n",
    "print('Variance:',np.var(arr))"
   ]
  },
  {
   "cell_type": "markdown",
   "metadata": {},
   "source": [
    "**Q96. Write the Numpy program to compute the covariance matrix of the two given arrays?**\n",
    "<br>Sample Output- Original array1- [0 1 2] <br>Original array1- [2 1 0] <br>Covariance matrix of the said arrays- <br>[[ 1. -1.] <br>[-1. 1.]]"
   ]
  },
  {
   "cell_type": "code",
   "execution_count": 98,
   "metadata": {},
   "outputs": [
    {
     "name": "stdout",
     "output_type": "stream",
     "text": [
      "Covariance:\n",
      " [[ 1. -1.]\n",
      " [-1.  1.]]\n"
     ]
    }
   ],
   "source": [
    "arr1 = np.arange(3)\n",
    "arr2 = arr1[::-1]\n",
    "\"\"\"Covariance is calculated by using numpy.cov\"\"\"\n",
    "print('Covariance:\\n',np.cov(arr1,arr2))"
   ]
  },
  {
   "cell_type": "markdown",
   "metadata": {},
   "source": [
    "**Q97. Write a NumPy program to compute the cross-correlation of two given arrays ?**\n",
    "<br>Sample Output- Original array1-[0 1 3] <br>Original array1- [2 4 5] <br>Cross-correlation of the said arrays- <br>[ [ 2.33333333 2.16666667 ] <br>[ 2.16666667 2.33333333 ] ]"
   ]
  },
  {
   "cell_type": "code",
   "execution_count": 99,
   "metadata": {},
   "outputs": [
    {
     "name": "stdout",
     "output_type": "stream",
     "text": [
      "Cross-correlation of the said arrays:\n",
      " [[2.3333 2.1667]\n",
      " [2.1667 2.3333]]\n"
     ]
    }
   ],
   "source": [
    "arr1 = np.array([0,1,3])\n",
    "arr2 = np.array([2,4,5])\n",
    "print(\"Cross-correlation of the said arrays:\\n\",np.cov(arr1, arr2))"
   ]
  },
  {
   "cell_type": "markdown",
   "metadata": {},
   "source": [
    "**Q98. Write the NumPy program to compute Pearson product-moment correlation coefficients of two given arrays?**\n",
    "<br>Sample Output- Original array1- [0 1 3] <br>Original array1- [2 4 5] <br>Pearson product-moment correlation coefficients of the said arrays- <br>[[1. 0.92857143]<br> [0.92857143 1. ]]"
   ]
  },
  {
   "cell_type": "code",
   "execution_count": 100,
   "metadata": {},
   "outputs": [
    {
     "name": "stdout",
     "output_type": "stream",
     "text": [
      "Pearson product-moment correlation coefficients:\n",
      " [[1.     0.9286]\n",
      " [0.9286 1.    ]]\n"
     ]
    }
   ],
   "source": [
    "arr1 = np.array([0,1,3])\n",
    "arr2 = np.array([2,4,5])\n",
    "\"\"\"Pearson product-moment correlation coefficients is calculated by numpy.corrcoef\"\"\"\n",
    "print('Pearson product-moment correlation coefficients:\\n',np.corrcoef(arr1,arr2))"
   ]
  },
  {
   "cell_type": "markdown",
   "metadata": {},
   "source": [
    "**Q99. Write the python program to count the number of occurrences of each value in a given array of non-negative integers? Note: bincount() Function- It count the occurrence of each value in an array of the non- negative integers in the range of the array between the minimum and maximum values including the values that did not occur.** <br>Sample Output- Original array- [0, 1, 6, 1, 4, 1, 2, 2, 7] <br>Number of occurrences of each value in array- [1 3 2 0 1 0 1 1]"
   ]
  },
  {
   "cell_type": "code",
   "execution_count": 101,
   "metadata": {},
   "outputs": [
    {
     "data": {
      "text/plain": [
       "array([1, 3, 2, 0, 1, 0, 1, 1], dtype=int32)"
      ]
     },
     "execution_count": 101,
     "metadata": {},
     "output_type": "execute_result"
    }
   ],
   "source": [
    "arr = np.array( [0, 1, 6, 1, 4, 1, 2, 2, 7])\n",
    "np.bincount(arr)"
   ]
  },
  {
   "cell_type": "markdown",
   "metadata": {},
   "source": [
    "**Q100. Write a Numpy program to compute the histogram of nums against the bins?**\n",
    "<br>Sample Output- nums- [0.5 0.7 1. 1.2 1.3 2.1]\n",
    "<br>bins- [0 1 2 3] <br>Result- (array([2, 3, 1], dtype=int64), array([0, 1, 2, 3]))"
   ]
  },
  {
   "cell_type": "code",
   "execution_count": 102,
   "metadata": {},
   "outputs": [
    {
     "name": "stdout",
     "output_type": "stream",
     "text": [
      "Result: (array([2, 3, 1], dtype=int32), array([0, 1, 2, 3]))\n"
     ]
    },
    {
     "data": {
      "image/png": "[encoded data removed]",
      "text/plain": [
       "<Figure size 432x288 with 1 Axes>"
      ]
     },
     "metadata": {},
     "output_type": "display_data"
    }
   ],
   "source": [
    "arr = np.array([0.5, 0.7, 1.0, 1.2, 1.3, 2.1])\n",
    "bins = np.array([0, 1, 2, 3])\n",
    "\n",
    "print(\"Result:\", np.histogram(arr, bins))\n",
    "plt.hist(x=arr,bins=bins)\n",
    "plt.show()"
   ]
  },
  {
   "cell_type": "markdown",
   "metadata": {},
   "source": [
    "**Q101. Write the Python program to add, subtract, multiply and divide two pandas series ?** <br>Sample Series- [2, 4, 6, 8, 10], [1, 3, 5, 7, 9]"
   ]
  },
  {
   "cell_type": "code",
   "execution_count": 103,
   "metadata": {},
   "outputs": [
    {
     "name": "stdout",
     "output_type": "stream",
     "text": [
      "Addition (s1+s2):\n",
      "********************\n",
      "0     2\n",
      "1     4\n",
      "2     6\n",
      "3     8\n",
      "4    10\n",
      "dtype: int64\n",
      "\n",
      "Substraction (s1-s2):\n",
      "********************\n",
      "0    0\n",
      "1   -2\n",
      "2   -4\n",
      "3   -6\n",
      "4   -8\n",
      "dtype: int64\n",
      "\n",
      "Multiplication (s1*s2):\n",
      "********************\n",
      "0    1\n",
      "1    3\n",
      "2    5\n",
      "3    7\n",
      "4    9\n",
      "dtype: int64\n",
      "\n",
      "Division (s1/s2):\n",
      "********************\n",
      "0    2.00000000\n",
      "1    1.33333333\n",
      "2    1.20000000\n",
      "3    1.14285714\n",
      "4    1.11111111\n",
      "dtype: float64\n"
     ]
    }
   ],
   "source": [
    "s1 = pd.Series(range(2,12,2))\n",
    "s2 = pd.Series(range(1,10,2))\n",
    "print('Addition (s1+s2):')\n",
    "print('*'*20)\n",
    "print(1+s2)\n",
    "print()\n",
    "print('Substraction (s1-s2):')\n",
    "print('*'*20)\n",
    "print(1-s2)\n",
    "print()\n",
    "print('Multiplication (s1*s2):')\n",
    "print('*'*20)\n",
    "print(1*s2)\n",
    "print()\n",
    "print('Division (s1/s2):')\n",
    "print('*'*20)\n",
    "print(s1/s2)"
   ]
  },
  {
   "cell_type": "markdown",
   "metadata": {},
   "source": [
    "**Q102. Write a Python program to convert a dictionary to the Pandas Series?**\n",
    "<br>Sample Series- Original dictionary- <br>{'a': 100, 'b': 200, 'c': 300, 'd': 400, 'e': 800} <br>Converted series - <br>a 100 b 200 c 300 d 400 e 800 dtype- int64"
   ]
  },
  {
   "cell_type": "code",
   "execution_count": 104,
   "metadata": {},
   "outputs": [
    {
     "name": "stdout",
     "output_type": "stream",
     "text": [
      "a    100\n",
      "b    200\n",
      "c    300\n",
      "d    400\n",
      "e    800\n",
      "dtype: int64\n"
     ]
    }
   ],
   "source": [
    "dic = {'a': 100, 'b': 200, 'c': 300, 'd': 400, 'e': 800}\n",
    "ser = pd.Series(dic)\n",
    "print(ser)"
   ]
  },
  {
   "cell_type": "markdown",
   "metadata": {},
   "source": [
    "**Q103. Write a python program to change the data type of given a column or a Series?**"
   ]
  },
  {
   "cell_type": "code",
   "execution_count": 105,
   "metadata": {},
   "outputs": [
    {
     "name": "stdout",
     "output_type": "stream",
     "text": [
      "original series:\n",
      "********************\n",
      "0       100\n",
      "1       200\n",
      "2    python\n",
      "3    300.12\n",
      "4       400\n",
      "dtype: object\n",
      "\n",
      "changed series:\n",
      "********************\n",
      "0    100.00\n",
      "1    200.00\n",
      "2       NaN\n",
      "3    300.12\n",
      "4    400.00\n",
      "dtype: float64\n"
     ]
    }
   ],
   "source": [
    "dic = {0: 100, 1: 200, 2: 'python', 3: 300.12, 4: 400}\n",
    "ser = pd.Series(dic)\n",
    "print('original series:')\n",
    "print('*'*20)\n",
    "print(ser)\n",
    "print()\n",
    "ser = pd.to_numeric(ser,errors='coerce')\n",
    "print('changed series:')\n",
    "print('*'*20)\n",
    "print(ser)"
   ]
  },
  {
   "cell_type": "markdown",
   "metadata": {},
   "source": [
    "**Q104. Write the python pandas program to convert the first column of a DataFrame as a Series?**"
   ]
  },
  {
   "cell_type": "code",
   "execution_count": 106,
   "metadata": {},
   "outputs": [
    {
     "name": "stdout",
     "output_type": "stream",
     "text": [
      "Selection all rows and 1st column using loc\n",
      "*********************************************\n"
     ]
    },
    {
     "data": {
      "text/plain": [
       "0     1\n",
       "1     2\n",
       "2     3\n",
       "3     4\n",
       "4     7\n",
       "5    11\n",
       "Name: col1, dtype: int64"
      ]
     },
     "execution_count": 106,
     "metadata": {},
     "output_type": "execute_result"
    }
   ],
   "source": [
    "df = pd.DataFrame({'col1':[1,2,3,4,7,11],'col2':[4,5,6,9,5,0],'col3':[7,5,8,12,1,11]})\n",
    "print('Selection all rows and 1st column using loc')\n",
    "print('*'*45)\n",
    "ser = df.loc[:,'col1']\n",
    "ser"
   ]
  },
  {
   "cell_type": "markdown",
   "metadata": {},
   "source": [
    "**Q105. Write a pandas program to create the mean and standard deviation of the data of a given Series?**"
   ]
  },
  {
   "cell_type": "code",
   "execution_count": 107,
   "metadata": {},
   "outputs": [
    {
     "name": "stdout",
     "output_type": "stream",
     "text": [
      "Mean: 4.818181818181818\n",
      "Standard Deviation: 2.522624895547565\n"
     ]
    }
   ],
   "source": [
    "ser = pd.Series(list(range(1,10))+[5,3])\n",
    "print('Mean:',ser.mean())\n",
    "print('Standard Deviation:',ser.std())"
   ]
  },
  {
   "cell_type": "markdown",
   "metadata": {},
   "source": [
    "**Q106. Write a pandas program to get powers of an array values element-wise?** <br>Note First array elements raised the powers from the second array."
   ]
  },
  {
   "cell_type": "code",
   "execution_count": 108,
   "metadata": {},
   "outputs": [
    {
     "data": {
      "text/html": [
       "<div>\n",
       "<style scoped>\n",
       "    .dataframe tbody tr th:only-of-type {\n",
       "        vertical-align: middle;\n",
       "    }\n",
       "\n",
       "    .dataframe tbody tr th {\n",
       "        vertical-align: top;\n",
       "    }\n",
       "\n",
       "    .dataframe thead th {\n",
       "        text-align: right;\n",
       "    }\n",
       "</style>\n",
       "<table border=\"1\" class=\"dataframe\">\n",
       "  <thead>\n",
       "    <tr style=\"text-align: right;\">\n",
       "      <th></th>\n",
       "      <th>X</th>\n",
       "      <th>Y</th>\n",
       "      <th>Z</th>\n",
       "    </tr>\n",
       "  </thead>\n",
       "  <tbody>\n",
       "    <tr>\n",
       "      <th>0</th>\n",
       "      <td>78</td>\n",
       "      <td>84</td>\n",
       "      <td>86</td>\n",
       "    </tr>\n",
       "    <tr>\n",
       "      <th>1</th>\n",
       "      <td>85</td>\n",
       "      <td>94</td>\n",
       "      <td>97</td>\n",
       "    </tr>\n",
       "    <tr>\n",
       "      <th>2</th>\n",
       "      <td>96</td>\n",
       "      <td>89</td>\n",
       "      <td>96</td>\n",
       "    </tr>\n",
       "    <tr>\n",
       "      <th>3</th>\n",
       "      <td>80</td>\n",
       "      <td>83</td>\n",
       "      <td>72</td>\n",
       "    </tr>\n",
       "    <tr>\n",
       "      <th>4</th>\n",
       "      <td>86</td>\n",
       "      <td>86</td>\n",
       "      <td>83</td>\n",
       "    </tr>\n",
       "  </tbody>\n",
       "</table>\n",
       "</div>"
      ],
      "text/plain": [
       "    X   Y   Z\n",
       "0  78  84  86\n",
       "1  85  94  97\n",
       "2  96  89  96\n",
       "3  80  83  72\n",
       "4  86  86  83"
      ]
     },
     "execution_count": 108,
     "metadata": {},
     "output_type": "execute_result"
    }
   ],
   "source": [
    "df = pd.DataFrame({'X':[78,85,96,80,86], 'Y':[84,94,89,83,86],'Z':[86,97,96,72,83]})\n",
    "df"
   ]
  },
  {
   "cell_type": "markdown",
   "metadata": {},
   "source": [
    "**Q107. Write the pandas program to get the first 3 rows of a given DataFrame?**"
   ]
  },
  {
   "cell_type": "code",
   "execution_count": 109,
   "metadata": {},
   "outputs": [
    {
     "name": "stdout",
     "output_type": "stream",
     "text": [
      "Using loc:\n",
      "**********\n",
      "   attempts       name qualify  score\n",
      "a         1  Anastasia     yes   12.5\n",
      "b         3       Dima      no    9.0\n",
      "c         2  Katherine     yes   16.5\n",
      "\n",
      "Using iloc:\n",
      "**********\n",
      "   attempts       name qualify  score\n",
      "a         1  Anastasia     yes   12.5\n",
      "b         3       Dima      no    9.0\n",
      "c         2  Katherine     yes   16.5\n"
     ]
    }
   ],
   "source": [
    "dic = {'name': ['Anastasia', 'Dima', 'Katherine', 'James', 'Emily', 'Michael', 'Matthew', 'Laura', 'Kevin', 'Jonas'], \n",
    "                               'score': [12.5, 9, 16.5, np.nan, 9, 20, 14.5, np.nan, 8, 19], \n",
    "                               'attempts': [1, 3, 2, 3, 2, 3, 1, 1, 2, 1], \n",
    "                               'qualify': [ 'yes', 'no', 'yes' , 'no', ' no ', ' yes ', 'yes', 'no', 'no', 'yes' ] } \n",
    "exam_data =  pd.DataFrame(dic,index = ['a', 'b', 'c', 'd', 'e', 'f', 'g', 'h', 'i', 'j' ])\n",
    "# Option 1 using loc\n",
    "print('Using loc:')\n",
    "print('*'*10)\n",
    "print(exam_data.loc[:'c',['attempts','name','qualify','score']])\n",
    "print()\n",
    "# Option 2 using iloc\n",
    "print('Using iloc:')\n",
    "print('*'*10)\n",
    "print(exam_data.iloc[:3,[2,0,3,1]])"
   ]
  },
  {
   "cell_type": "markdown",
   "metadata": {},
   "source": [
    "**Q108: Write the pandas program to select the specified columns and the rows from a given data frame?**"
   ]
  },
  {
   "cell_type": "code",
   "execution_count": 110,
   "metadata": {},
   "outputs": [
    {
     "data": {
      "text/html": [
       "<div>\n",
       "<style scoped>\n",
       "    .dataframe tbody tr th:only-of-type {\n",
       "        vertical-align: middle;\n",
       "    }\n",
       "\n",
       "    .dataframe tbody tr th {\n",
       "        vertical-align: top;\n",
       "    }\n",
       "\n",
       "    .dataframe thead th {\n",
       "        text-align: right;\n",
       "    }\n",
       "</style>\n",
       "<table border=\"1\" class=\"dataframe\">\n",
       "  <thead>\n",
       "    <tr style=\"text-align: right;\">\n",
       "      <th></th>\n",
       "      <th>name</th>\n",
       "      <th>score</th>\n",
       "    </tr>\n",
       "  </thead>\n",
       "  <tbody>\n",
       "    <tr>\n",
       "      <th>b</th>\n",
       "      <td>Dima</td>\n",
       "      <td>9.0</td>\n",
       "    </tr>\n",
       "    <tr>\n",
       "      <th>d</th>\n",
       "      <td>James</td>\n",
       "      <td>NaN</td>\n",
       "    </tr>\n",
       "    <tr>\n",
       "      <th>f</th>\n",
       "      <td>Michael</td>\n",
       "      <td>20.0</td>\n",
       "    </tr>\n",
       "    <tr>\n",
       "      <th>g</th>\n",
       "      <td>Matthew</td>\n",
       "      <td>14.5</td>\n",
       "    </tr>\n",
       "  </tbody>\n",
       "</table>\n",
       "</div>"
      ],
      "text/plain": [
       "      name  score\n",
       "b     Dima    9.0\n",
       "d    James    NaN\n",
       "f  Michael   20.0\n",
       "g  Matthew   14.5"
      ]
     },
     "execution_count": 110,
     "metadata": {},
     "output_type": "execute_result"
    }
   ],
   "source": [
    "exam_data = pd.DataFrame({'name': [ 'Anastasia', 'Dima', 'Katherine', 'James', 'Emily', 'Michael', 'Matthew', 'Laura', 'Kevin', 'Jonas'], \n",
    "                          'score': [12.5, 9, 16.5, np.nan, 9, 20, 14.5, np.nan, 8, 19], \n",
    "                          'attempts': [1, 3, 2, 3, 2, 3, 1, 1, 2, 1], \n",
    "                          'qualify': ['yes', 'no', 'yes', 'no', 'no', 'yes', 'yes', 'no', 'no', 'yes'] }, \n",
    "                         index = ['a', 'b', 'c', 'd', 'e', 'f', 'g', 'h', 'i', 'j'])\n",
    "exam_data.loc[['b','d','f','g'],['name', 'score']]\n"
   ]
  },
  {
   "cell_type": "markdown",
   "metadata": {},
   "source": [
    "**Q109. Write the pandas program to calculate mean score for each different student in DataFrame?**"
   ]
  },
  {
   "cell_type": "code",
   "execution_count": 111,
   "metadata": {},
   "outputs": [
    {
     "data": {
      "text/plain": [
       "13.5625"
      ]
     },
     "execution_count": 111,
     "metadata": {},
     "output_type": "execute_result"
    }
   ],
   "source": [
    "exam_data = pd.DataFrame({'name': [ 'Anastasia', 'Dima', 'Katherine', 'James', 'Emily', 'Michael', 'Matthew', 'Laura', 'Kevin', 'Jonas'], \n",
    "                          'score': [12.5, 9, 16.5, np.nan, 9, 20, 14.5, np.nan, 8, 19], \n",
    "                          'attempts': [1, 3, 2, 3, 2, 3, 1, 1, 2, 1], \n",
    "                          'qualify': ['yes', 'no', 'yes', 'no', 'no', 'yes', 'yes', 'no', 'no', 'yes'] }, \n",
    "                         index = ['a', 'b', 'c', 'd', 'e', 'f', 'g', 'h', 'i', 'j'])\n",
    "exam_data.score.mean()"
   ]
  },
  {
   "cell_type": "markdown",
   "metadata": {},
   "source": [
    "**Q110. Write the Pandas program to rename columns of a given DataFrame ?**"
   ]
  },
  {
   "cell_type": "code",
   "execution_count": 112,
   "metadata": {},
   "outputs": [
    {
     "data": {
      "text/html": [
       "<div>\n",
       "<style scoped>\n",
       "    .dataframe tbody tr th:only-of-type {\n",
       "        vertical-align: middle;\n",
       "    }\n",
       "\n",
       "    .dataframe tbody tr th {\n",
       "        vertical-align: top;\n",
       "    }\n",
       "\n",
       "    .dataframe thead th {\n",
       "        text-align: right;\n",
       "    }\n",
       "</style>\n",
       "<table border=\"1\" class=\"dataframe\">\n",
       "  <thead>\n",
       "    <tr style=\"text-align: right;\">\n",
       "      <th></th>\n",
       "      <th>Column1</th>\n",
       "      <th>Column2</th>\n",
       "      <th>Column3</th>\n",
       "    </tr>\n",
       "  </thead>\n",
       "  <tbody>\n",
       "    <tr>\n",
       "      <th>0</th>\n",
       "      <td>1</td>\n",
       "      <td>4</td>\n",
       "      <td>7</td>\n",
       "    </tr>\n",
       "    <tr>\n",
       "      <th>1</th>\n",
       "      <td>2</td>\n",
       "      <td>5</td>\n",
       "      <td>8</td>\n",
       "    </tr>\n",
       "    <tr>\n",
       "      <th>2</th>\n",
       "      <td>3</td>\n",
       "      <td>6</td>\n",
       "      <td>9</td>\n",
       "    </tr>\n",
       "  </tbody>\n",
       "</table>\n",
       "</div>"
      ],
      "text/plain": [
       "   Column1  Column2  Column3\n",
       "0        1        4        7\n",
       "1        2        5        8\n",
       "2        3        6        9"
      ]
     },
     "execution_count": 112,
     "metadata": {},
     "output_type": "execute_result"
    }
   ],
   "source": [
    "dic = {'col1':[1,2,3],'col2':[4,5,6],'col3':[7,8,9]}\n",
    "df = pd.DataFrame(dic) \n",
    "df.columns = [i[:3].capitalize()+'umn'+i[-1] for i in df.columns]\n",
    "df"
   ]
  },
  {
   "cell_type": "markdown",
   "metadata": {},
   "source": [
    "**Q111. Write a pandas program to count city-wise number of people from a given of data set (city, name of the person)?**"
   ]
  },
  {
   "cell_type": "code",
   "execution_count": 113,
   "metadata": {},
   "outputs": [
    {
     "data": {
      "text/html": [
       "<div>\n",
       "<style scoped>\n",
       "    .dataframe tbody tr th:only-of-type {\n",
       "        vertical-align: middle;\n",
       "    }\n",
       "\n",
       "    .dataframe tbody tr th {\n",
       "        vertical-align: top;\n",
       "    }\n",
       "\n",
       "    .dataframe thead th {\n",
       "        text-align: right;\n",
       "    }\n",
       "</style>\n",
       "<table border=\"1\" class=\"dataframe\">\n",
       "  <thead>\n",
       "    <tr style=\"text-align: right;\">\n",
       "      <th></th>\n",
       "      <th>No of people</th>\n",
       "    </tr>\n",
       "    <tr>\n",
       "      <th>city</th>\n",
       "      <th></th>\n",
       "    </tr>\n",
       "  </thead>\n",
       "  <tbody>\n",
       "    <tr>\n",
       "      <th>California</th>\n",
       "      <td>4</td>\n",
       "    </tr>\n",
       "    <tr>\n",
       "      <th>Georgia</th>\n",
       "      <td>2</td>\n",
       "    </tr>\n",
       "    <tr>\n",
       "      <th>Los Angles</th>\n",
       "      <td>4</td>\n",
       "    </tr>\n",
       "  </tbody>\n",
       "</table>\n",
       "</div>"
      ],
      "text/plain": [
       "            No of people\n",
       "city                    \n",
       "California             4\n",
       "Georgia                2\n",
       "Los Angles             4"
      ]
     },
     "execution_count": 113,
     "metadata": {},
     "output_type": "execute_result"
    }
   ],
   "source": [
    "dic = {'city':['California','Georgia','Los Angles'],'No of people':[4,2,4]}\n",
    "df = pd.DataFrame(dic) \n",
    "df.groupby('city').sum()"
   ]
  },
  {
   "cell_type": "markdown",
   "metadata": {},
   "source": [
    "**Q112. Write a pandas program to widen output display to see more columns?**"
   ]
  },
  {
   "cell_type": "code",
   "execution_count": 114,
   "metadata": {},
   "outputs": [],
   "source": [
    "pd.set_option('display.max_rows', 60)\n",
    "pd.set_option('display.max_columns', 60)\n",
    "pd.set_option('display.width', 100)"
   ]
  },
  {
   "cell_type": "markdown",
   "metadata": {},
   "source": [
    "**Q113. Write a pandas program to convert the data frame column type from string to DateTime?**"
   ]
  },
  {
   "cell_type": "code",
   "execution_count": 115,
   "metadata": {},
   "outputs": [
    {
     "name": "stdout",
     "output_type": "stream",
     "text": [
      "<class 'pandas.core.frame.DataFrame'>\n",
      "RangeIndex: 3 entries, 0 to 2\n",
      "Data columns (total 1 columns):\n",
      "str_date    3 non-null datetime64[ns]\n",
      "dtypes: datetime64[ns](1)\n",
      "memory usage: 64.0 bytes\n"
     ]
    }
   ],
   "source": [
    "dic = {'str_date':['3/11/2000','3/12/2000','3/10/2000']}\n",
    "df = pd.DataFrame(dic) \n",
    "df['str_date']= pd.to_datetime(df['str_date']) \n",
    "df.info()"
   ]
  },
  {
   "cell_type": "markdown",
   "metadata": {},
   "source": [
    "**Q114. Write a pandas program to append the data to an empty DataFrame?**"
   ]
  },
  {
   "cell_type": "code",
   "execution_count": 116,
   "metadata": {},
   "outputs": [
    {
     "data": {
      "text/html": [
       "<div>\n",
       "<style scoped>\n",
       "    .dataframe tbody tr th:only-of-type {\n",
       "        vertical-align: middle;\n",
       "    }\n",
       "\n",
       "    .dataframe tbody tr th {\n",
       "        vertical-align: top;\n",
       "    }\n",
       "\n",
       "    .dataframe thead th {\n",
       "        text-align: right;\n",
       "    }\n",
       "</style>\n",
       "<table border=\"1\" class=\"dataframe\">\n",
       "  <thead>\n",
       "    <tr style=\"text-align: right;\">\n",
       "      <th></th>\n",
       "      <th>col1</th>\n",
       "      <th>col2</th>\n",
       "    </tr>\n",
       "  </thead>\n",
       "  <tbody>\n",
       "    <tr>\n",
       "      <th>0</th>\n",
       "      <td>0</td>\n",
       "      <td>0</td>\n",
       "    </tr>\n",
       "    <tr>\n",
       "      <th>1</th>\n",
       "      <td>1</td>\n",
       "      <td>1</td>\n",
       "    </tr>\n",
       "    <tr>\n",
       "      <th>2</th>\n",
       "      <td>2</td>\n",
       "      <td>2</td>\n",
       "    </tr>\n",
       "  </tbody>\n",
       "</table>\n",
       "</div>"
      ],
      "text/plain": [
       "   col1  col2\n",
       "0     0     0\n",
       "1     1     1\n",
       "2     2     2"
      ]
     },
     "execution_count": 116,
     "metadata": {},
     "output_type": "execute_result"
    }
   ],
   "source": [
    "df = pd.DataFrame(columns=['col1','col2'])\n",
    "ser = pd.Series(range(3))\n",
    "df['col1'] = ser\n",
    "df['col2'] = df['col1']\n",
    "df"
   ]
  },
  {
   "cell_type": "markdown",
   "metadata": {},
   "source": [
    "**Q115. Write a pandas program to count the number of columns of a DataFrame?**"
   ]
  },
  {
   "cell_type": "code",
   "execution_count": 117,
   "metadata": {},
   "outputs": [
    {
     "data": {
      "text/plain": [
       "3"
      ]
     },
     "execution_count": 117,
     "metadata": {},
     "output_type": "execute_result"
    }
   ],
   "source": [
    "df = pd.DataFrame({'col1':[1,2,3,4,7,11],'col2':[4,5,6,9,5,0],'col3':[7,5,8,12,1,11]})\n",
    "len(df.columns)"
   ]
  },
  {
   "cell_type": "markdown",
   "metadata": {},
   "source": [
    "**Q116. Write a Pandas program to remove the last n rows of a given DataFrame ?**"
   ]
  },
  {
   "cell_type": "code",
   "execution_count": 118,
   "metadata": {},
   "outputs": [
    {
     "data": {
      "text/html": [
       "<div>\n",
       "<style scoped>\n",
       "    .dataframe tbody tr th:only-of-type {\n",
       "        vertical-align: middle;\n",
       "    }\n",
       "\n",
       "    .dataframe tbody tr th {\n",
       "        vertical-align: top;\n",
       "    }\n",
       "\n",
       "    .dataframe thead th {\n",
       "        text-align: right;\n",
       "    }\n",
       "</style>\n",
       "<table border=\"1\" class=\"dataframe\">\n",
       "  <thead>\n",
       "    <tr style=\"text-align: right;\">\n",
       "      <th></th>\n",
       "      <th>col1</th>\n",
       "      <th>col2</th>\n",
       "      <th>col3</th>\n",
       "    </tr>\n",
       "  </thead>\n",
       "  <tbody>\n",
       "    <tr>\n",
       "      <th>0</th>\n",
       "      <td>1</td>\n",
       "      <td>4</td>\n",
       "      <td>7</td>\n",
       "    </tr>\n",
       "    <tr>\n",
       "      <th>1</th>\n",
       "      <td>2</td>\n",
       "      <td>5</td>\n",
       "      <td>5</td>\n",
       "    </tr>\n",
       "    <tr>\n",
       "      <th>2</th>\n",
       "      <td>3</td>\n",
       "      <td>6</td>\n",
       "      <td>8</td>\n",
       "    </tr>\n",
       "  </tbody>\n",
       "</table>\n",
       "</div>"
      ],
      "text/plain": [
       "   col1  col2  col3\n",
       "0     1     4     7\n",
       "1     2     5     5\n",
       "2     3     6     8"
      ]
     },
     "execution_count": 118,
     "metadata": {},
     "output_type": "execute_result"
    }
   ],
   "source": [
    "df = pd.DataFrame({'col1':[1,2,3,4,7,11],'col2':[4,5,6,9,5,0],'col3':[7,5,8,12,1,11]})\n",
    "df.drop(labels=[3,4,5],axis=0)"
   ]
  },
  {
   "cell_type": "markdown",
   "metadata": {},
   "source": [
    "**Q117. Write a Pandas program to import excel data (coalpublic2013.xlsx ) into a Pandas data frame.**"
   ]
  },
  {
   "cell_type": "code",
   "execution_count": 119,
   "metadata": {},
   "outputs": [
    {
     "data": {
      "text/html": [
       "<div>\n",
       "<style scoped>\n",
       "    .dataframe tbody tr th:only-of-type {\n",
       "        vertical-align: middle;\n",
       "    }\n",
       "\n",
       "    .dataframe tbody tr th {\n",
       "        vertical-align: top;\n",
       "    }\n",
       "\n",
       "    .dataframe thead th {\n",
       "        text-align: right;\n",
       "    }\n",
       "</style>\n",
       "<table border=\"1\" class=\"dataframe\">\n",
       "  <thead>\n",
       "    <tr style=\"text-align: right;\">\n",
       "      <th></th>\n",
       "      <th>Year</th>\n",
       "      <th>MSHA ID</th>\n",
       "      <th>Mine_Name</th>\n",
       "      <th>Production</th>\n",
       "      <th>Labor_Hours</th>\n",
       "    </tr>\n",
       "  </thead>\n",
       "  <tbody>\n",
       "    <tr>\n",
       "      <th>0</th>\n",
       "      <td>2013</td>\n",
       "      <td>103381</td>\n",
       "      <td>Tacoa Highwall Miner</td>\n",
       "      <td>56004</td>\n",
       "      <td>22392</td>\n",
       "    </tr>\n",
       "    <tr>\n",
       "      <th>1</th>\n",
       "      <td>2013</td>\n",
       "      <td>103404</td>\n",
       "      <td>Reid School Mine</td>\n",
       "      <td>28807</td>\n",
       "      <td>28447</td>\n",
       "    </tr>\n",
       "    <tr>\n",
       "      <th>2</th>\n",
       "      <td>2013</td>\n",
       "      <td>100759</td>\n",
       "      <td>North River #1 Underground Min</td>\n",
       "      <td>1440115</td>\n",
       "      <td>474784</td>\n",
       "    </tr>\n",
       "    <tr>\n",
       "      <th>3</th>\n",
       "      <td>2013</td>\n",
       "      <td>103246</td>\n",
       "      <td>Bear Creek</td>\n",
       "      <td>87587</td>\n",
       "      <td>29193</td>\n",
       "    </tr>\n",
       "    <tr>\n",
       "      <th>4</th>\n",
       "      <td>2013</td>\n",
       "      <td>103451</td>\n",
       "      <td>Knight Mine</td>\n",
       "      <td>147499</td>\n",
       "      <td>46393</td>\n",
       "    </tr>\n",
       "  </tbody>\n",
       "</table>\n",
       "</div>"
      ],
      "text/plain": [
       "   Year  MSHA ID                       Mine_Name  Production  Labor_Hours\n",
       "0  2013   103381            Tacoa Highwall Miner       56004        22392\n",
       "1  2013   103404                Reid School Mine       28807        28447\n",
       "2  2013   100759  North River #1 Underground Min     1440115       474784\n",
       "3  2013   103246                      Bear Creek       87587        29193\n",
       "4  2013   103451                     Knight Mine      147499        46393"
      ]
     },
     "execution_count": 119,
     "metadata": {},
     "output_type": "execute_result"
    }
   ],
   "source": [
    "# # Import package\n",
    "# from urllib.request import urlretrieve\n",
    "\n",
    "\n",
    "# # Assign url of file: url\n",
    "# url = 'https://drive.google.com/drive/folders/105ftuIwN9kqyPNEEm3E6IM7LqywjyvJa?usp=sharing/coalpublic2013.xlsx'\n",
    "\n",
    "# # Save file locally\n",
    "# urlretrieve(url, 'coalpublic2013.xlsx')\n",
    "\n",
    "# # Read file into a DataFrame and print its head\n",
    "# df = pd.read_excel('coalpublic2013.xlsx')\n",
    "# print(df.head())\n",
    "\n",
    "df_list = pd.read_excel('coalpublic2013.xlsx')\n",
    "df_list.head()\n"
   ]
  },
  {
   "cell_type": "markdown",
   "metadata": {
    "collapsed": true
   },
   "source": [
    "**Q118. Write a Pandas program to import excel data (coalpublic2013.xlsx ) into a data frame and find details where \"Mine Name\" starts with \"P.**"
   ]
  },
  {
   "cell_type": "code",
   "execution_count": 120,
   "metadata": {},
   "outputs": [
    {
     "data": {
      "text/plain": [
       "13                    Powhatan Mine\n",
       "18    Piney Woods Preparation Plant\n",
       "19    Piney Woods Preparation Plant\n",
       "46                   Poplar Springs\n",
       "Name: Mine_Name, dtype: object"
      ]
     },
     "execution_count": 120,
     "metadata": {},
     "output_type": "execute_result"
    }
   ],
   "source": [
    "df = pd.read_excel('coalpublic2013.xlsx')\n",
    "mask = df.Mine_Name.str.startswith('P')\n",
    "df.loc[mask,'Mine_Name']"
   ]
  },
  {
   "cell_type": "markdown",
   "metadata": {},
   "source": [
    "**Q119. Write a Pandas program to import excel data (employee.xlsx ) into a Pandas dataframe and find the list of employees where hire_date> 01-01-07.**"
   ]
  },
  {
   "cell_type": "code",
   "execution_count": 121,
   "metadata": {},
   "outputs": [
    {
     "data": {
      "text/html": [
       "<div>\n",
       "<style scoped>\n",
       "    .dataframe tbody tr th:only-of-type {\n",
       "        vertical-align: middle;\n",
       "    }\n",
       "\n",
       "    .dataframe tbody tr th {\n",
       "        vertical-align: top;\n",
       "    }\n",
       "\n",
       "    .dataframe thead th {\n",
       "        text-align: right;\n",
       "    }\n",
       "</style>\n",
       "<table border=\"1\" class=\"dataframe\">\n",
       "  <thead>\n",
       "    <tr style=\"text-align: right;\">\n",
       "      <th></th>\n",
       "      <th>emp_id</th>\n",
       "      <th>first_name</th>\n",
       "      <th>last_name</th>\n",
       "      <th>hire_date</th>\n",
       "    </tr>\n",
       "  </thead>\n",
       "  <tbody>\n",
       "    <tr>\n",
       "      <th>4</th>\n",
       "      <td>104</td>\n",
       "      <td>Bruce</td>\n",
       "      <td>Ernst</td>\n",
       "      <td>2007-05-21</td>\n",
       "    </tr>\n",
       "    <tr>\n",
       "      <th>7</th>\n",
       "      <td>107</td>\n",
       "      <td>Diana</td>\n",
       "      <td>Lorentz</td>\n",
       "      <td>2007-02-07</td>\n",
       "    </tr>\n",
       "    <tr>\n",
       "      <th>13</th>\n",
       "      <td>113</td>\n",
       "      <td>Luis</td>\n",
       "      <td>Popp</td>\n",
       "      <td>2007-12-07</td>\n",
       "    </tr>\n",
       "    <tr>\n",
       "      <th>19</th>\n",
       "      <td>119</td>\n",
       "      <td>Karen</td>\n",
       "      <td>Colmenares</td>\n",
       "      <td>2007-08-10</td>\n",
       "    </tr>\n",
       "  </tbody>\n",
       "</table>\n",
       "</div>"
      ],
      "text/plain": [
       "    emp_id first_name   last_name  hire_date\n",
       "4      104      Bruce       Ernst 2007-05-21\n",
       "7      107      Diana     Lorentz 2007-02-07\n",
       "13     113       Luis        Popp 2007-12-07\n",
       "19     119      Karen  Colmenares 2007-08-10"
      ]
     },
     "execution_count": 121,
     "metadata": {},
     "output_type": "execute_result"
    }
   ],
   "source": [
    "df = pd.read_excel('employee.xlsx')\n",
    "mask = df.hire_date>'01-01-2007'\n",
    "df.loc[mask]"
   ]
  },
  {
   "cell_type": "markdown",
   "metadata": {},
   "source": [
    "**Q120. Write a Pandas program to import excel data (employee.xlsx ) into a Pandas dataframe and find a list of the employees of a specified year**"
   ]
  },
  {
   "cell_type": "code",
   "execution_count": 122,
   "metadata": {},
   "outputs": [
    {
     "data": {
      "text/html": [
       "<div>\n",
       "<style scoped>\n",
       "    .dataframe tbody tr th:only-of-type {\n",
       "        vertical-align: middle;\n",
       "    }\n",
       "\n",
       "    .dataframe tbody tr th {\n",
       "        vertical-align: top;\n",
       "    }\n",
       "\n",
       "    .dataframe thead th {\n",
       "        text-align: right;\n",
       "    }\n",
       "</style>\n",
       "<table border=\"1\" class=\"dataframe\">\n",
       "  <thead>\n",
       "    <tr style=\"text-align: right;\">\n",
       "      <th></th>\n",
       "      <th>emp_id</th>\n",
       "      <th>first_name</th>\n",
       "      <th>last_name</th>\n",
       "      <th>hire_date</th>\n",
       "    </tr>\n",
       "  </thead>\n",
       "  <tbody>\n",
       "    <tr>\n",
       "      <th>5</th>\n",
       "      <td>105</td>\n",
       "      <td>David</td>\n",
       "      <td>Austin</td>\n",
       "      <td>2005-06-25</td>\n",
       "    </tr>\n",
       "    <tr>\n",
       "      <th>17</th>\n",
       "      <td>117</td>\n",
       "      <td>Sigal</td>\n",
       "      <td>Tobias</td>\n",
       "      <td>2005-07-24</td>\n",
       "    </tr>\n",
       "    <tr>\n",
       "      <th>1</th>\n",
       "      <td>101</td>\n",
       "      <td>Neena</td>\n",
       "      <td>Kochhar</td>\n",
       "      <td>2005-09-21</td>\n",
       "    </tr>\n",
       "    <tr>\n",
       "      <th>10</th>\n",
       "      <td>110</td>\n",
       "      <td>John</td>\n",
       "      <td>Chen</td>\n",
       "      <td>2005-09-28</td>\n",
       "    </tr>\n",
       "    <tr>\n",
       "      <th>11</th>\n",
       "      <td>111</td>\n",
       "      <td>Ismael</td>\n",
       "      <td>Sciarra</td>\n",
       "      <td>2005-09-30</td>\n",
       "    </tr>\n",
       "    <tr>\n",
       "      <th>16</th>\n",
       "      <td>116</td>\n",
       "      <td>Shelli</td>\n",
       "      <td>Baida</td>\n",
       "      <td>2005-12-24</td>\n",
       "    </tr>\n",
       "  </tbody>\n",
       "</table>\n",
       "</div>"
      ],
      "text/plain": [
       "    emp_id first_name last_name  hire_date\n",
       "5      105      David    Austin 2005-06-25\n",
       "17     117      Sigal    Tobias 2005-07-24\n",
       "1      101      Neena   Kochhar 2005-09-21\n",
       "10     110       John      Chen 2005-09-28\n",
       "11     111     Ismael   Sciarra 2005-09-30\n",
       "16     116     Shelli     Baida 2005-12-24"
      ]
     },
     "execution_count": 122,
     "metadata": {},
     "output_type": "execute_result"
    }
   ],
   "source": [
    "df = pd.read_excel('employee.xlsx')\n",
    "df.sort_values(by='hire_date',inplace=True)\n",
    "mask = df.hire_date.dt.year == 2005\n",
    "df.loc[mask]"
   ]
  },
  {
   "cell_type": "markdown",
   "metadata": {},
   "source": [
    "**Q121. Write a pandas program to import three datasheets from a given excel data (coalpublic2013.xlsx ) in to a single dataframe.**"
   ]
  },
  {
   "cell_type": "code",
   "execution_count": 123,
   "metadata": {},
   "outputs": [
    {
     "name": "stdout",
     "output_type": "stream",
     "text": [
      "<class 'pandas.core.frame.DataFrame'>\n",
      "Int64Index: 48 entries, 0 to 8\n",
      "Data columns (total 4 columns):\n",
      "emp_id        48 non-null int64\n",
      "first_name    48 non-null object\n",
      "last_name     48 non-null object\n",
      "hire_date     48 non-null datetime64[ns]\n",
      "dtypes: datetime64[ns](1), int64(1), object(2)\n",
      "memory usage: 1.5+ KB\n",
      "None\n"
     ]
    },
    {
     "data": {
      "text/html": [
       "<div>\n",
       "<style scoped>\n",
       "    .dataframe tbody tr th:only-of-type {\n",
       "        vertical-align: middle;\n",
       "    }\n",
       "\n",
       "    .dataframe tbody tr th {\n",
       "        vertical-align: top;\n",
       "    }\n",
       "\n",
       "    .dataframe thead th {\n",
       "        text-align: right;\n",
       "    }\n",
       "</style>\n",
       "<table border=\"1\" class=\"dataframe\">\n",
       "  <thead>\n",
       "    <tr style=\"text-align: right;\">\n",
       "      <th></th>\n",
       "      <th>emp_id</th>\n",
       "      <th>first_name</th>\n",
       "      <th>last_name</th>\n",
       "      <th>hire_date</th>\n",
       "    </tr>\n",
       "  </thead>\n",
       "  <tbody>\n",
       "    <tr>\n",
       "      <th>0</th>\n",
       "      <td>100</td>\n",
       "      <td>Steven</td>\n",
       "      <td>King</td>\n",
       "      <td>2003-06-17</td>\n",
       "    </tr>\n",
       "    <tr>\n",
       "      <th>1</th>\n",
       "      <td>101</td>\n",
       "      <td>Neena</td>\n",
       "      <td>Kochhar</td>\n",
       "      <td>2005-09-21</td>\n",
       "    </tr>\n",
       "    <tr>\n",
       "      <th>2</th>\n",
       "      <td>102</td>\n",
       "      <td>Lex</td>\n",
       "      <td>De Haan</td>\n",
       "      <td>2001-01-13</td>\n",
       "    </tr>\n",
       "    <tr>\n",
       "      <th>3</th>\n",
       "      <td>103</td>\n",
       "      <td>Alexander</td>\n",
       "      <td>Hunold</td>\n",
       "      <td>2006-01-03</td>\n",
       "    </tr>\n",
       "    <tr>\n",
       "      <th>4</th>\n",
       "      <td>104</td>\n",
       "      <td>Bruce</td>\n",
       "      <td>Ernst</td>\n",
       "      <td>2007-05-21</td>\n",
       "    </tr>\n",
       "  </tbody>\n",
       "</table>\n",
       "</div>"
      ],
      "text/plain": [
       "   emp_id first_name last_name  hire_date\n",
       "0     100     Steven      King 2003-06-17\n",
       "1     101      Neena   Kochhar 2005-09-21\n",
       "2     102        Lex   De Haan 2001-01-13\n",
       "3     103  Alexander    Hunold 2006-01-03\n",
       "4     104      Bruce     Ernst 2007-05-21"
      ]
     },
     "execution_count": 123,
     "metadata": {},
     "output_type": "execute_result"
    }
   ],
   "source": [
    "df = pd.read_excel('employee.xlsx',sheet_name=['Sheet1','Sheet2','Sheet3'])\n",
    "df1 = pd.concat([df[key] for key in df.keys()])\n",
    "print(df1.info())\n",
    "df1.head()"
   ]
  },
  {
   "cell_type": "markdown",
   "metadata": {},
   "source": [
    "**Q 122. Write a pandas program to import three datasheets from a given excel data (employee.xlsx ) into a single data frame and export the result into new Excel file.**"
   ]
  },
  {
   "cell_type": "code",
   "execution_count": 124,
   "metadata": {},
   "outputs": [
    {
     "name": "stdout",
     "output_type": "stream",
     "text": [
      "<class 'pandas.core.frame.DataFrame'>\n",
      "Int64Index: 48 entries, 0 to 8\n",
      "Data columns (total 4 columns):\n",
      "emp_id        48 non-null int64\n",
      "first_name    48 non-null object\n",
      "last_name     48 non-null object\n",
      "hire_date     48 non-null datetime64[ns]\n",
      "dtypes: datetime64[ns](1), int64(1), object(2)\n",
      "memory usage: 1.5+ KB\n"
     ]
    }
   ],
   "source": [
    "df = pd.read_excel('employee.xlsx',sheet_name=['Sheet1','Sheet2','Sheet3'])\n",
    "df_new = pd.concat(df[key] for key in df.keys())\n",
    "df_new.info()\n",
    "df_new.to_excel('All_Emp.xlsx',index=False,sheet_name='Merged_Employees')"
   ]
  },
  {
   "cell_type": "markdown",
   "metadata": {},
   "source": [
    "**Q123. Write a pandas program to create the Pivot table with multiple indexes from the data set of the titanic.csv.**"
   ]
  },
  {
   "cell_type": "code",
   "execution_count": 125,
   "metadata": {},
   "outputs": [
    {
     "data": {
      "text/html": [
       "<div>\n",
       "<style scoped>\n",
       "    .dataframe tbody tr th:only-of-type {\n",
       "        vertical-align: middle;\n",
       "    }\n",
       "\n",
       "    .dataframe tbody tr th {\n",
       "        vertical-align: top;\n",
       "    }\n",
       "\n",
       "    .dataframe thead th {\n",
       "        text-align: right;\n",
       "    }\n",
       "</style>\n",
       "<table border=\"1\" class=\"dataframe\">\n",
       "  <thead>\n",
       "    <tr style=\"text-align: right;\">\n",
       "      <th></th>\n",
       "      <th>survived</th>\n",
       "      <th>pclass</th>\n",
       "      <th>sex</th>\n",
       "      <th>age</th>\n",
       "      <th>sibsp</th>\n",
       "      <th>parch</th>\n",
       "      <th>fare</th>\n",
       "      <th>embarked</th>\n",
       "      <th>class</th>\n",
       "      <th>who</th>\n",
       "      <th>adult_male</th>\n",
       "      <th>deck</th>\n",
       "      <th>embark_town</th>\n",
       "      <th>alive</th>\n",
       "      <th>alone</th>\n",
       "    </tr>\n",
       "  </thead>\n",
       "  <tbody>\n",
       "    <tr>\n",
       "      <th>0</th>\n",
       "      <td>0</td>\n",
       "      <td>3</td>\n",
       "      <td>male</td>\n",
       "      <td>22.0</td>\n",
       "      <td>1</td>\n",
       "      <td>0</td>\n",
       "      <td>7.2500</td>\n",
       "      <td>S</td>\n",
       "      <td>Third</td>\n",
       "      <td>man</td>\n",
       "      <td>True</td>\n",
       "      <td>NaN</td>\n",
       "      <td>Southampton</td>\n",
       "      <td>no</td>\n",
       "      <td>False</td>\n",
       "    </tr>\n",
       "    <tr>\n",
       "      <th>1</th>\n",
       "      <td>1</td>\n",
       "      <td>1</td>\n",
       "      <td>female</td>\n",
       "      <td>38.0</td>\n",
       "      <td>1</td>\n",
       "      <td>0</td>\n",
       "      <td>71.2833</td>\n",
       "      <td>C</td>\n",
       "      <td>First</td>\n",
       "      <td>woman</td>\n",
       "      <td>False</td>\n",
       "      <td>C</td>\n",
       "      <td>Cherbourg</td>\n",
       "      <td>yes</td>\n",
       "      <td>False</td>\n",
       "    </tr>\n",
       "    <tr>\n",
       "      <th>2</th>\n",
       "      <td>1</td>\n",
       "      <td>3</td>\n",
       "      <td>female</td>\n",
       "      <td>26.0</td>\n",
       "      <td>0</td>\n",
       "      <td>0</td>\n",
       "      <td>7.9250</td>\n",
       "      <td>S</td>\n",
       "      <td>Third</td>\n",
       "      <td>woman</td>\n",
       "      <td>False</td>\n",
       "      <td>NaN</td>\n",
       "      <td>Southampton</td>\n",
       "      <td>yes</td>\n",
       "      <td>True</td>\n",
       "    </tr>\n",
       "    <tr>\n",
       "      <th>3</th>\n",
       "      <td>1</td>\n",
       "      <td>1</td>\n",
       "      <td>female</td>\n",
       "      <td>35.0</td>\n",
       "      <td>1</td>\n",
       "      <td>0</td>\n",
       "      <td>53.1000</td>\n",
       "      <td>S</td>\n",
       "      <td>First</td>\n",
       "      <td>woman</td>\n",
       "      <td>False</td>\n",
       "      <td>C</td>\n",
       "      <td>Southampton</td>\n",
       "      <td>yes</td>\n",
       "      <td>False</td>\n",
       "    </tr>\n",
       "    <tr>\n",
       "      <th>4</th>\n",
       "      <td>0</td>\n",
       "      <td>3</td>\n",
       "      <td>male</td>\n",
       "      <td>35.0</td>\n",
       "      <td>0</td>\n",
       "      <td>0</td>\n",
       "      <td>8.0500</td>\n",
       "      <td>S</td>\n",
       "      <td>Third</td>\n",
       "      <td>man</td>\n",
       "      <td>True</td>\n",
       "      <td>NaN</td>\n",
       "      <td>Southampton</td>\n",
       "      <td>no</td>\n",
       "      <td>True</td>\n",
       "    </tr>\n",
       "  </tbody>\n",
       "</table>\n",
       "</div>"
      ],
      "text/plain": [
       "   survived  pclass     sex   age  sibsp  parch     fare embarked  class    who  adult_male deck  \\\n",
       "0         0       3    male  22.0      1      0   7.2500        S  Third    man        True  NaN   \n",
       "1         1       1  female  38.0      1      0  71.2833        C  First  woman       False    C   \n",
       "2         1       3  female  26.0      0      0   7.9250        S  Third  woman       False  NaN   \n",
       "3         1       1  female  35.0      1      0  53.1000        S  First  woman       False    C   \n",
       "4         0       3    male  35.0      0      0   8.0500        S  Third    man        True  NaN   \n",
       "\n",
       "   embark_town alive  alone  \n",
       "0  Southampton    no  False  \n",
       "1    Cherbourg   yes  False  \n",
       "2  Southampton   yes   True  \n",
       "3  Southampton   yes  False  \n",
       "4  Southampton    no   True  "
      ]
     },
     "execution_count": 125,
     "metadata": {},
     "output_type": "execute_result"
    }
   ],
   "source": [
    "df = pd.read_csv('titanic.csv',usecols=range(0,15))\n",
    "df.head()"
   ]
  },
  {
   "cell_type": "code",
   "execution_count": 126,
   "metadata": {},
   "outputs": [
    {
     "data": {
      "text/html": [
       "<div>\n",
       "<style scoped>\n",
       "    .dataframe tbody tr th:only-of-type {\n",
       "        vertical-align: middle;\n",
       "    }\n",
       "\n",
       "    .dataframe tbody tr th {\n",
       "        vertical-align: top;\n",
       "    }\n",
       "\n",
       "    .dataframe thead th {\n",
       "        text-align: right;\n",
       "    }\n",
       "</style>\n",
       "<table border=\"1\" class=\"dataframe\">\n",
       "  <thead>\n",
       "    <tr style=\"text-align: right;\">\n",
       "      <th></th>\n",
       "      <th>pclass</th>\n",
       "      <th>1</th>\n",
       "      <th>2</th>\n",
       "      <th>3</th>\n",
       "    </tr>\n",
       "    <tr>\n",
       "      <th>sex</th>\n",
       "      <th>embarked</th>\n",
       "      <th></th>\n",
       "      <th></th>\n",
       "      <th></th>\n",
       "    </tr>\n",
       "  </thead>\n",
       "  <tbody>\n",
       "    <tr>\n",
       "      <th rowspan=\"3\" valign=\"top\">female</th>\n",
       "      <th>C</th>\n",
       "      <td>4972.5333</td>\n",
       "      <td>176.8792</td>\n",
       "      <td>337.9833</td>\n",
       "    </tr>\n",
       "    <tr>\n",
       "      <th>Q</th>\n",
       "      <td>90.0000</td>\n",
       "      <td>24.7000</td>\n",
       "      <td>340.1585</td>\n",
       "    </tr>\n",
       "    <tr>\n",
       "      <th>S</th>\n",
       "      <td>4753.2917</td>\n",
       "      <td>1468.1500</td>\n",
       "      <td>1642.9668</td>\n",
       "    </tr>\n",
       "    <tr>\n",
       "      <th rowspan=\"3\" valign=\"top\">male</th>\n",
       "      <th>C</th>\n",
       "      <td>3928.5417</td>\n",
       "      <td>254.2125</td>\n",
       "      <td>402.1462</td>\n",
       "    </tr>\n",
       "    <tr>\n",
       "      <th>Q</th>\n",
       "      <td>90.0000</td>\n",
       "      <td>12.3500</td>\n",
       "      <td>465.0458</td>\n",
       "    </tr>\n",
       "    <tr>\n",
       "      <th>S</th>\n",
       "      <td>4183.0458</td>\n",
       "      <td>1865.5500</td>\n",
       "      <td>3526.3945</td>\n",
       "    </tr>\n",
       "  </tbody>\n",
       "</table>\n",
       "</div>"
      ],
      "text/plain": [
       "pclass                   1          2          3\n",
       "sex    embarked                                 \n",
       "female C         4972.5333   176.8792   337.9833\n",
       "       Q           90.0000    24.7000   340.1585\n",
       "       S         4753.2917  1468.1500  1642.9668\n",
       "male   C         3928.5417   254.2125   402.1462\n",
       "       Q           90.0000    12.3500   465.0458\n",
       "       S         4183.0458  1865.5500  3526.3945"
      ]
     },
     "execution_count": 126,
     "metadata": {},
     "output_type": "execute_result"
    }
   ],
   "source": [
    "df.pivot_table(values='fare',index=['sex','embarked'],columns='pclass',aggfunc='sum')"
   ]
  },
  {
   "cell_type": "markdown",
   "metadata": {},
   "source": [
    "**Q124. Write a Pandas program to create the Pivot table and find survival rate by gender?**"
   ]
  },
  {
   "cell_type": "code",
   "execution_count": 127,
   "metadata": {},
   "outputs": [
    {
     "data": {
      "text/html": [
       "<div>\n",
       "<style scoped>\n",
       "    .dataframe tbody tr th:only-of-type {\n",
       "        vertical-align: middle;\n",
       "    }\n",
       "\n",
       "    .dataframe tbody tr th {\n",
       "        vertical-align: top;\n",
       "    }\n",
       "\n",
       "    .dataframe thead th {\n",
       "        text-align: right;\n",
       "    }\n",
       "</style>\n",
       "<table border=\"1\" class=\"dataframe\">\n",
       "  <thead>\n",
       "    <tr style=\"text-align: right;\">\n",
       "      <th></th>\n",
       "      <th>survived</th>\n",
       "      <th>pclass</th>\n",
       "      <th>sex</th>\n",
       "      <th>age</th>\n",
       "      <th>sibsp</th>\n",
       "      <th>parch</th>\n",
       "      <th>fare</th>\n",
       "      <th>embarked</th>\n",
       "      <th>class</th>\n",
       "      <th>who</th>\n",
       "      <th>adult_male</th>\n",
       "      <th>deck</th>\n",
       "      <th>embark_town</th>\n",
       "      <th>alive</th>\n",
       "      <th>alone</th>\n",
       "    </tr>\n",
       "  </thead>\n",
       "  <tbody>\n",
       "    <tr>\n",
       "      <th>0</th>\n",
       "      <td>0</td>\n",
       "      <td>3</td>\n",
       "      <td>male</td>\n",
       "      <td>22.0</td>\n",
       "      <td>1</td>\n",
       "      <td>0</td>\n",
       "      <td>7.2500</td>\n",
       "      <td>S</td>\n",
       "      <td>Third</td>\n",
       "      <td>man</td>\n",
       "      <td>True</td>\n",
       "      <td>NaN</td>\n",
       "      <td>Southampton</td>\n",
       "      <td>no</td>\n",
       "      <td>False</td>\n",
       "    </tr>\n",
       "    <tr>\n",
       "      <th>1</th>\n",
       "      <td>1</td>\n",
       "      <td>1</td>\n",
       "      <td>female</td>\n",
       "      <td>38.0</td>\n",
       "      <td>1</td>\n",
       "      <td>0</td>\n",
       "      <td>71.2833</td>\n",
       "      <td>C</td>\n",
       "      <td>First</td>\n",
       "      <td>woman</td>\n",
       "      <td>False</td>\n",
       "      <td>C</td>\n",
       "      <td>Cherbourg</td>\n",
       "      <td>yes</td>\n",
       "      <td>False</td>\n",
       "    </tr>\n",
       "    <tr>\n",
       "      <th>2</th>\n",
       "      <td>1</td>\n",
       "      <td>3</td>\n",
       "      <td>female</td>\n",
       "      <td>26.0</td>\n",
       "      <td>0</td>\n",
       "      <td>0</td>\n",
       "      <td>7.9250</td>\n",
       "      <td>S</td>\n",
       "      <td>Third</td>\n",
       "      <td>woman</td>\n",
       "      <td>False</td>\n",
       "      <td>NaN</td>\n",
       "      <td>Southampton</td>\n",
       "      <td>yes</td>\n",
       "      <td>True</td>\n",
       "    </tr>\n",
       "    <tr>\n",
       "      <th>3</th>\n",
       "      <td>1</td>\n",
       "      <td>1</td>\n",
       "      <td>female</td>\n",
       "      <td>35.0</td>\n",
       "      <td>1</td>\n",
       "      <td>0</td>\n",
       "      <td>53.1000</td>\n",
       "      <td>S</td>\n",
       "      <td>First</td>\n",
       "      <td>woman</td>\n",
       "      <td>False</td>\n",
       "      <td>C</td>\n",
       "      <td>Southampton</td>\n",
       "      <td>yes</td>\n",
       "      <td>False</td>\n",
       "    </tr>\n",
       "    <tr>\n",
       "      <th>4</th>\n",
       "      <td>0</td>\n",
       "      <td>3</td>\n",
       "      <td>male</td>\n",
       "      <td>35.0</td>\n",
       "      <td>0</td>\n",
       "      <td>0</td>\n",
       "      <td>8.0500</td>\n",
       "      <td>S</td>\n",
       "      <td>Third</td>\n",
       "      <td>man</td>\n",
       "      <td>True</td>\n",
       "      <td>NaN</td>\n",
       "      <td>Southampton</td>\n",
       "      <td>no</td>\n",
       "      <td>True</td>\n",
       "    </tr>\n",
       "  </tbody>\n",
       "</table>\n",
       "</div>"
      ],
      "text/plain": [
       "   survived  pclass     sex   age  sibsp  parch     fare embarked  class    who  adult_male deck  \\\n",
       "0         0       3    male  22.0      1      0   7.2500        S  Third    man        True  NaN   \n",
       "1         1       1  female  38.0      1      0  71.2833        C  First  woman       False    C   \n",
       "2         1       3  female  26.0      0      0   7.9250        S  Third  woman       False  NaN   \n",
       "3         1       1  female  35.0      1      0  53.1000        S  First  woman       False    C   \n",
       "4         0       3    male  35.0      0      0   8.0500        S  Third    man        True  NaN   \n",
       "\n",
       "   embark_town alive  alone  \n",
       "0  Southampton    no  False  \n",
       "1    Cherbourg   yes  False  \n",
       "2  Southampton   yes   True  \n",
       "3  Southampton   yes  False  \n",
       "4  Southampton    no   True  "
      ]
     },
     "execution_count": 127,
     "metadata": {},
     "output_type": "execute_result"
    }
   ],
   "source": [
    "df = pd.read_csv('titanic.csv',usecols=range(0,15))\n",
    "df.head()"
   ]
  },
  {
   "cell_type": "code",
   "execution_count": 128,
   "metadata": {},
   "outputs": [
    {
     "data": {
      "text/plain": [
       "sex     survived\n",
       "female  0            81\n",
       "        1           233\n",
       "male    0           468\n",
       "        1           109\n",
       "dtype: int64"
      ]
     },
     "execution_count": 128,
     "metadata": {},
     "output_type": "execute_result"
    }
   ],
   "source": [
    "df.groupby(['sex','survived']).size()"
   ]
  },
  {
   "cell_type": "code",
   "execution_count": 129,
   "metadata": {},
   "outputs": [
    {
     "data": {
      "text/html": [
       "<div>\n",
       "<style scoped>\n",
       "    .dataframe tbody tr th:only-of-type {\n",
       "        vertical-align: middle;\n",
       "    }\n",
       "\n",
       "    .dataframe tbody tr th {\n",
       "        vertical-align: top;\n",
       "    }\n",
       "\n",
       "    .dataframe thead th {\n",
       "        text-align: right;\n",
       "    }\n",
       "</style>\n",
       "<table border=\"1\" class=\"dataframe\">\n",
       "  <thead>\n",
       "    <tr style=\"text-align: right;\">\n",
       "      <th>pclass</th>\n",
       "      <th>1</th>\n",
       "      <th>2</th>\n",
       "      <th>3</th>\n",
       "    </tr>\n",
       "    <tr>\n",
       "      <th>sex</th>\n",
       "      <th></th>\n",
       "      <th></th>\n",
       "      <th></th>\n",
       "    </tr>\n",
       "  </thead>\n",
       "  <tbody>\n",
       "    <tr>\n",
       "      <th>female</th>\n",
       "      <td>91</td>\n",
       "      <td>70</td>\n",
       "      <td>72</td>\n",
       "    </tr>\n",
       "    <tr>\n",
       "      <th>male</th>\n",
       "      <td>45</td>\n",
       "      <td>17</td>\n",
       "      <td>47</td>\n",
       "    </tr>\n",
       "  </tbody>\n",
       "</table>\n",
       "</div>"
      ],
      "text/plain": [
       "pclass   1   2   3\n",
       "sex               \n",
       "female  91  70  72\n",
       "male    45  17  47"
      ]
     },
     "execution_count": 129,
     "metadata": {},
     "output_type": "execute_result"
    }
   ],
   "source": [
    "df.pivot_table(values='survived',index=['sex'],columns='pclass',aggfunc='sum')"
   ]
  },
  {
   "cell_type": "code",
   "execution_count": 130,
   "metadata": {},
   "outputs": [
    {
     "data": {
      "text/html": [
       "<div>\n",
       "<style scoped>\n",
       "    .dataframe tbody tr th:only-of-type {\n",
       "        vertical-align: middle;\n",
       "    }\n",
       "\n",
       "    .dataframe tbody tr th {\n",
       "        vertical-align: top;\n",
       "    }\n",
       "\n",
       "    .dataframe thead th {\n",
       "        text-align: right;\n",
       "    }\n",
       "</style>\n",
       "<table border=\"1\" class=\"dataframe\">\n",
       "  <thead>\n",
       "    <tr style=\"text-align: right;\">\n",
       "      <th>survived</th>\n",
       "      <th>0</th>\n",
       "      <th>1</th>\n",
       "    </tr>\n",
       "    <tr>\n",
       "      <th>sex</th>\n",
       "      <th></th>\n",
       "      <th></th>\n",
       "    </tr>\n",
       "  </thead>\n",
       "  <tbody>\n",
       "    <tr>\n",
       "      <th>female</th>\n",
       "      <td>81</td>\n",
       "      <td>233</td>\n",
       "    </tr>\n",
       "    <tr>\n",
       "      <th>male</th>\n",
       "      <td>468</td>\n",
       "      <td>109</td>\n",
       "    </tr>\n",
       "  </tbody>\n",
       "</table>\n",
       "</div>"
      ],
      "text/plain": [
       "survived    0    1\n",
       "sex               \n",
       "female     81  233\n",
       "male      468  109"
      ]
     },
     "execution_count": 130,
     "metadata": {},
     "output_type": "execute_result"
    }
   ],
   "source": [
    "pd.crosstab(index=df.sex,columns=df.survived)"
   ]
  },
  {
   "cell_type": "markdown",
   "metadata": {},
   "source": [
    "**Q125. Write a pandas program to make partition each of the passengers into 4 categories based on their age.** <br>Note: Age categories- (0, 10), (10, 30), (30, 60), (60, 80)"
   ]
  },
  {
   "cell_type": "code",
   "execution_count": 131,
   "metadata": {},
   "outputs": [
    {
     "data": {
      "text/html": [
       "<div>\n",
       "<style scoped>\n",
       "    .dataframe tbody tr th:only-of-type {\n",
       "        vertical-align: middle;\n",
       "    }\n",
       "\n",
       "    .dataframe tbody tr th {\n",
       "        vertical-align: top;\n",
       "    }\n",
       "\n",
       "    .dataframe thead th {\n",
       "        text-align: right;\n",
       "    }\n",
       "</style>\n",
       "<table border=\"1\" class=\"dataframe\">\n",
       "  <thead>\n",
       "    <tr style=\"text-align: right;\">\n",
       "      <th></th>\n",
       "      <th>survived</th>\n",
       "      <th>pclass</th>\n",
       "      <th>sex</th>\n",
       "      <th>age</th>\n",
       "      <th>sibsp</th>\n",
       "      <th>parch</th>\n",
       "      <th>fare</th>\n",
       "      <th>embarked</th>\n",
       "      <th>class</th>\n",
       "      <th>who</th>\n",
       "      <th>adult_male</th>\n",
       "      <th>deck</th>\n",
       "      <th>embark_town</th>\n",
       "      <th>alive</th>\n",
       "      <th>alone</th>\n",
       "      <th>sp_mean_age</th>\n",
       "    </tr>\n",
       "  </thead>\n",
       "  <tbody>\n",
       "    <tr>\n",
       "      <th>803</th>\n",
       "      <td>1</td>\n",
       "      <td>3</td>\n",
       "      <td>male</td>\n",
       "      <td>0.42</td>\n",
       "      <td>0</td>\n",
       "      <td>1</td>\n",
       "      <td>8.5167</td>\n",
       "      <td>C</td>\n",
       "      <td>Third</td>\n",
       "      <td>child</td>\n",
       "      <td>False</td>\n",
       "      <td>NaN</td>\n",
       "      <td>Cherbourg</td>\n",
       "      <td>yes</td>\n",
       "      <td>False</td>\n",
       "      <td>26.50758893</td>\n",
       "    </tr>\n",
       "    <tr>\n",
       "      <th>755</th>\n",
       "      <td>1</td>\n",
       "      <td>2</td>\n",
       "      <td>male</td>\n",
       "      <td>0.67</td>\n",
       "      <td>1</td>\n",
       "      <td>1</td>\n",
       "      <td>14.5000</td>\n",
       "      <td>S</td>\n",
       "      <td>Second</td>\n",
       "      <td>child</td>\n",
       "      <td>False</td>\n",
       "      <td>NaN</td>\n",
       "      <td>Southampton</td>\n",
       "      <td>yes</td>\n",
       "      <td>False</td>\n",
       "      <td>30.74070707</td>\n",
       "    </tr>\n",
       "    <tr>\n",
       "      <th>644</th>\n",
       "      <td>1</td>\n",
       "      <td>3</td>\n",
       "      <td>female</td>\n",
       "      <td>0.75</td>\n",
       "      <td>2</td>\n",
       "      <td>1</td>\n",
       "      <td>19.2583</td>\n",
       "      <td>C</td>\n",
       "      <td>Third</td>\n",
       "      <td>child</td>\n",
       "      <td>False</td>\n",
       "      <td>NaN</td>\n",
       "      <td>Cherbourg</td>\n",
       "      <td>yes</td>\n",
       "      <td>False</td>\n",
       "      <td>21.75000000</td>\n",
       "    </tr>\n",
       "    <tr>\n",
       "      <th>469</th>\n",
       "      <td>1</td>\n",
       "      <td>3</td>\n",
       "      <td>female</td>\n",
       "      <td>0.75</td>\n",
       "      <td>2</td>\n",
       "      <td>1</td>\n",
       "      <td>19.2583</td>\n",
       "      <td>C</td>\n",
       "      <td>Third</td>\n",
       "      <td>child</td>\n",
       "      <td>False</td>\n",
       "      <td>NaN</td>\n",
       "      <td>Cherbourg</td>\n",
       "      <td>yes</td>\n",
       "      <td>False</td>\n",
       "      <td>21.75000000</td>\n",
       "    </tr>\n",
       "    <tr>\n",
       "      <th>78</th>\n",
       "      <td>1</td>\n",
       "      <td>2</td>\n",
       "      <td>male</td>\n",
       "      <td>0.83</td>\n",
       "      <td>0</td>\n",
       "      <td>2</td>\n",
       "      <td>29.0000</td>\n",
       "      <td>S</td>\n",
       "      <td>Second</td>\n",
       "      <td>child</td>\n",
       "      <td>False</td>\n",
       "      <td>NaN</td>\n",
       "      <td>Southampton</td>\n",
       "      <td>yes</td>\n",
       "      <td>False</td>\n",
       "      <td>30.74070707</td>\n",
       "    </tr>\n",
       "  </tbody>\n",
       "</table>\n",
       "</div>"
      ],
      "text/plain": [
       "     survived  pclass     sex   age  sibsp  parch     fare embarked   class    who  adult_male  \\\n",
       "803         1       3    male  0.42      0      1   8.5167        C   Third  child       False   \n",
       "755         1       2    male  0.67      1      1  14.5000        S  Second  child       False   \n",
       "644         1       3  female  0.75      2      1  19.2583        C   Third  child       False   \n",
       "469         1       3  female  0.75      2      1  19.2583        C   Third  child       False   \n",
       "78          1       2    male  0.83      0      2  29.0000        S  Second  child       False   \n",
       "\n",
       "    deck  embark_town alive  alone  sp_mean_age  \n",
       "803  NaN    Cherbourg   yes  False  26.50758893  \n",
       "755  NaN  Southampton   yes  False  30.74070707  \n",
       "644  NaN    Cherbourg   yes  False  21.75000000  \n",
       "469  NaN    Cherbourg   yes  False  21.75000000  \n",
       "78   NaN  Southampton   yes  False  30.74070707  "
      ]
     },
     "execution_count": 131,
     "metadata": {},
     "output_type": "execute_result"
    }
   ],
   "source": [
    "df = pd.read_csv('titanic.csv',usecols=range(0,15))\n",
    "df.sort_values(by='age',inplace=True)\n",
    "df['sp_mean_age'] = df.groupby(['sex','pclass'])['age'].transform('mean')\n",
    "df.head()"
   ]
  },
  {
   "cell_type": "code",
   "execution_count": 132,
   "metadata": {},
   "outputs": [],
   "source": [
    "df['age'] = df['age'].fillna(df['sp_mean_age'])"
   ]
  },
  {
   "cell_type": "code",
   "execution_count": 133,
   "metadata": {},
   "outputs": [
    {
     "data": {
      "text/html": [
       "<div>\n",
       "<style scoped>\n",
       "    .dataframe tbody tr th:only-of-type {\n",
       "        vertical-align: middle;\n",
       "    }\n",
       "\n",
       "    .dataframe tbody tr th {\n",
       "        vertical-align: top;\n",
       "    }\n",
       "\n",
       "    .dataframe thead th {\n",
       "        text-align: right;\n",
       "    }\n",
       "</style>\n",
       "<table border=\"1\" class=\"dataframe\">\n",
       "  <thead>\n",
       "    <tr style=\"text-align: right;\">\n",
       "      <th></th>\n",
       "      <th>survived</th>\n",
       "      <th>pclass</th>\n",
       "      <th>sex</th>\n",
       "      <th>age</th>\n",
       "      <th>sibsp</th>\n",
       "      <th>parch</th>\n",
       "      <th>fare</th>\n",
       "      <th>embarked</th>\n",
       "      <th>class</th>\n",
       "      <th>who</th>\n",
       "      <th>adult_male</th>\n",
       "      <th>deck</th>\n",
       "      <th>embark_town</th>\n",
       "      <th>alive</th>\n",
       "      <th>alone</th>\n",
       "      <th>sp_mean_age</th>\n",
       "      <th>age_group</th>\n",
       "    </tr>\n",
       "  </thead>\n",
       "  <tbody>\n",
       "    <tr>\n",
       "      <th>9</th>\n",
       "      <td>1</td>\n",
       "      <td>2</td>\n",
       "      <td>female</td>\n",
       "      <td>14.00000000</td>\n",
       "      <td>1</td>\n",
       "      <td>0</td>\n",
       "      <td>30.0708</td>\n",
       "      <td>C</td>\n",
       "      <td>Second</td>\n",
       "      <td>child</td>\n",
       "      <td>False</td>\n",
       "      <td>NaN</td>\n",
       "      <td>Cherbourg</td>\n",
       "      <td>yes</td>\n",
       "      <td>False</td>\n",
       "      <td>28.72297297</td>\n",
       "      <td>(10, 30]</td>\n",
       "    </tr>\n",
       "    <tr>\n",
       "      <th>496</th>\n",
       "      <td>1</td>\n",
       "      <td>1</td>\n",
       "      <td>female</td>\n",
       "      <td>54.00000000</td>\n",
       "      <td>1</td>\n",
       "      <td>0</td>\n",
       "      <td>78.2667</td>\n",
       "      <td>C</td>\n",
       "      <td>First</td>\n",
       "      <td>woman</td>\n",
       "      <td>False</td>\n",
       "      <td>D</td>\n",
       "      <td>Cherbourg</td>\n",
       "      <td>yes</td>\n",
       "      <td>False</td>\n",
       "      <td>34.61176471</td>\n",
       "      <td>(30, 60]</td>\n",
       "    </tr>\n",
       "    <tr>\n",
       "      <th>12</th>\n",
       "      <td>0</td>\n",
       "      <td>3</td>\n",
       "      <td>male</td>\n",
       "      <td>20.00000000</td>\n",
       "      <td>0</td>\n",
       "      <td>0</td>\n",
       "      <td>8.0500</td>\n",
       "      <td>S</td>\n",
       "      <td>Third</td>\n",
       "      <td>man</td>\n",
       "      <td>True</td>\n",
       "      <td>NaN</td>\n",
       "      <td>Southampton</td>\n",
       "      <td>no</td>\n",
       "      <td>True</td>\n",
       "      <td>26.50758893</td>\n",
       "      <td>(10, 30]</td>\n",
       "    </tr>\n",
       "    <tr>\n",
       "      <th>83</th>\n",
       "      <td>0</td>\n",
       "      <td>1</td>\n",
       "      <td>male</td>\n",
       "      <td>28.00000000</td>\n",
       "      <td>0</td>\n",
       "      <td>0</td>\n",
       "      <td>47.1000</td>\n",
       "      <td>S</td>\n",
       "      <td>First</td>\n",
       "      <td>man</td>\n",
       "      <td>True</td>\n",
       "      <td>NaN</td>\n",
       "      <td>Southampton</td>\n",
       "      <td>no</td>\n",
       "      <td>True</td>\n",
       "      <td>41.28138614</td>\n",
       "      <td>(10, 30]</td>\n",
       "    </tr>\n",
       "    <tr>\n",
       "      <th>772</th>\n",
       "      <td>0</td>\n",
       "      <td>2</td>\n",
       "      <td>female</td>\n",
       "      <td>57.00000000</td>\n",
       "      <td>0</td>\n",
       "      <td>0</td>\n",
       "      <td>10.5000</td>\n",
       "      <td>S</td>\n",
       "      <td>Second</td>\n",
       "      <td>woman</td>\n",
       "      <td>False</td>\n",
       "      <td>E</td>\n",
       "      <td>Southampton</td>\n",
       "      <td>no</td>\n",
       "      <td>True</td>\n",
       "      <td>28.72297297</td>\n",
       "      <td>(30, 60]</td>\n",
       "    </tr>\n",
       "    <tr>\n",
       "      <th>167</th>\n",
       "      <td>0</td>\n",
       "      <td>3</td>\n",
       "      <td>female</td>\n",
       "      <td>45.00000000</td>\n",
       "      <td>1</td>\n",
       "      <td>4</td>\n",
       "      <td>27.9000</td>\n",
       "      <td>S</td>\n",
       "      <td>Third</td>\n",
       "      <td>woman</td>\n",
       "      <td>False</td>\n",
       "      <td>NaN</td>\n",
       "      <td>Southampton</td>\n",
       "      <td>no</td>\n",
       "      <td>False</td>\n",
       "      <td>21.75000000</td>\n",
       "      <td>(30, 60]</td>\n",
       "    </tr>\n",
       "    <tr>\n",
       "      <th>99</th>\n",
       "      <td>0</td>\n",
       "      <td>2</td>\n",
       "      <td>male</td>\n",
       "      <td>34.00000000</td>\n",
       "      <td>1</td>\n",
       "      <td>0</td>\n",
       "      <td>26.0000</td>\n",
       "      <td>S</td>\n",
       "      <td>Second</td>\n",
       "      <td>man</td>\n",
       "      <td>True</td>\n",
       "      <td>NaN</td>\n",
       "      <td>Southampton</td>\n",
       "      <td>no</td>\n",
       "      <td>False</td>\n",
       "      <td>30.74070707</td>\n",
       "      <td>(30, 60]</td>\n",
       "    </tr>\n",
       "    <tr>\n",
       "      <th>731</th>\n",
       "      <td>0</td>\n",
       "      <td>3</td>\n",
       "      <td>male</td>\n",
       "      <td>11.00000000</td>\n",
       "      <td>0</td>\n",
       "      <td>0</td>\n",
       "      <td>18.7875</td>\n",
       "      <td>C</td>\n",
       "      <td>Third</td>\n",
       "      <td>child</td>\n",
       "      <td>False</td>\n",
       "      <td>NaN</td>\n",
       "      <td>Cherbourg</td>\n",
       "      <td>no</td>\n",
       "      <td>True</td>\n",
       "      <td>26.50758893</td>\n",
       "      <td>(10, 30]</td>\n",
       "    </tr>\n",
       "    <tr>\n",
       "      <th>846</th>\n",
       "      <td>0</td>\n",
       "      <td>3</td>\n",
       "      <td>male</td>\n",
       "      <td>26.50758893</td>\n",
       "      <td>8</td>\n",
       "      <td>2</td>\n",
       "      <td>69.5500</td>\n",
       "      <td>S</td>\n",
       "      <td>Third</td>\n",
       "      <td>man</td>\n",
       "      <td>True</td>\n",
       "      <td>NaN</td>\n",
       "      <td>Southampton</td>\n",
       "      <td>no</td>\n",
       "      <td>False</td>\n",
       "      <td>26.50758893</td>\n",
       "      <td>(10, 30]</td>\n",
       "    </tr>\n",
       "    <tr>\n",
       "      <th>579</th>\n",
       "      <td>1</td>\n",
       "      <td>3</td>\n",
       "      <td>male</td>\n",
       "      <td>32.00000000</td>\n",
       "      <td>0</td>\n",
       "      <td>0</td>\n",
       "      <td>7.9250</td>\n",
       "      <td>S</td>\n",
       "      <td>Third</td>\n",
       "      <td>man</td>\n",
       "      <td>True</td>\n",
       "      <td>NaN</td>\n",
       "      <td>Southampton</td>\n",
       "      <td>yes</td>\n",
       "      <td>True</td>\n",
       "      <td>26.50758893</td>\n",
       "      <td>(30, 60]</td>\n",
       "    </tr>\n",
       "  </tbody>\n",
       "</table>\n",
       "</div>"
      ],
      "text/plain": [
       "     survived  pclass     sex          age  sibsp  parch     fare embarked   class    who  \\\n",
       "9           1       2  female  14.00000000      1      0  30.0708        C  Second  child   \n",
       "496         1       1  female  54.00000000      1      0  78.2667        C   First  woman   \n",
       "12          0       3    male  20.00000000      0      0   8.0500        S   Third    man   \n",
       "83          0       1    male  28.00000000      0      0  47.1000        S   First    man   \n",
       "772         0       2  female  57.00000000      0      0  10.5000        S  Second  woman   \n",
       "167         0       3  female  45.00000000      1      4  27.9000        S   Third  woman   \n",
       "99          0       2    male  34.00000000      1      0  26.0000        S  Second    man   \n",
       "731         0       3    male  11.00000000      0      0  18.7875        C   Third  child   \n",
       "846         0       3    male  26.50758893      8      2  69.5500        S   Third    man   \n",
       "579         1       3    male  32.00000000      0      0   7.9250        S   Third    man   \n",
       "\n",
       "     adult_male deck  embark_town alive  alone  sp_mean_age age_group  \n",
       "9         False  NaN    Cherbourg   yes  False  28.72297297  (10, 30]  \n",
       "496       False    D    Cherbourg   yes  False  34.61176471  (30, 60]  \n",
       "12         True  NaN  Southampton    no   True  26.50758893  (10, 30]  \n",
       "83         True  NaN  Southampton    no   True  41.28138614  (10, 30]  \n",
       "772       False    E  Southampton    no   True  28.72297297  (30, 60]  \n",
       "167       False  NaN  Southampton    no  False  21.75000000  (30, 60]  \n",
       "99         True  NaN  Southampton    no  False  30.74070707  (30, 60]  \n",
       "731       False  NaN    Cherbourg    no   True  26.50758893  (10, 30]  \n",
       "846        True  NaN  Southampton    no  False  26.50758893  (10, 30]  \n",
       "579        True  NaN  Southampton   yes   True  26.50758893  (30, 60]  "
      ]
     },
     "execution_count": 133,
     "metadata": {},
     "output_type": "execute_result"
    }
   ],
   "source": [
    "df['age_group'] = pd.cut(x=df.age,bins=[0,10,30,60,80])\n",
    "df.sample(10)"
   ]
  },
  {
   "cell_type": "markdown",
   "metadata": {},
   "source": [
    "**Q126. Write a pandas program to create the Pivot table and find survival rate by the gender, age of the different categories of various classes.**"
   ]
  },
  {
   "cell_type": "code",
   "execution_count": 134,
   "metadata": {},
   "outputs": [
    {
     "data": {
      "text/html": [
       "<div>\n",
       "<style scoped>\n",
       "    .dataframe tbody tr th:only-of-type {\n",
       "        vertical-align: middle;\n",
       "    }\n",
       "\n",
       "    .dataframe tbody tr th {\n",
       "        vertical-align: top;\n",
       "    }\n",
       "\n",
       "    .dataframe thead th {\n",
       "        text-align: right;\n",
       "    }\n",
       "</style>\n",
       "<table border=\"1\" class=\"dataframe\">\n",
       "  <thead>\n",
       "    <tr style=\"text-align: right;\">\n",
       "      <th></th>\n",
       "      <th>pclass</th>\n",
       "      <th>1</th>\n",
       "      <th>2</th>\n",
       "      <th>3</th>\n",
       "    </tr>\n",
       "    <tr>\n",
       "      <th>sex</th>\n",
       "      <th>age_group</th>\n",
       "      <th></th>\n",
       "      <th></th>\n",
       "      <th></th>\n",
       "    </tr>\n",
       "  </thead>\n",
       "  <tbody>\n",
       "    <tr>\n",
       "      <th rowspan=\"4\" valign=\"top\">female</th>\n",
       "      <th>(0, 10]</th>\n",
       "      <td>0.0</td>\n",
       "      <td>8.0</td>\n",
       "      <td>11.0</td>\n",
       "    </tr>\n",
       "    <tr>\n",
       "      <th>(10, 30]</th>\n",
       "      <td>33.0</td>\n",
       "      <td>35.0</td>\n",
       "      <td>54.0</td>\n",
       "    </tr>\n",
       "    <tr>\n",
       "      <th>(30, 60]</th>\n",
       "      <td>56.0</td>\n",
       "      <td>27.0</td>\n",
       "      <td>6.0</td>\n",
       "    </tr>\n",
       "    <tr>\n",
       "      <th>(60, 80]</th>\n",
       "      <td>2.0</td>\n",
       "      <td>NaN</td>\n",
       "      <td>1.0</td>\n",
       "    </tr>\n",
       "    <tr>\n",
       "      <th rowspan=\"4\" valign=\"top\">male</th>\n",
       "      <th>(0, 10]</th>\n",
       "      <td>2.0</td>\n",
       "      <td>9.0</td>\n",
       "      <td>8.0</td>\n",
       "    </tr>\n",
       "    <tr>\n",
       "      <th>(10, 30]</th>\n",
       "      <td>11.0</td>\n",
       "      <td>1.0</td>\n",
       "      <td>30.0</td>\n",
       "    </tr>\n",
       "    <tr>\n",
       "      <th>(30, 60]</th>\n",
       "      <td>31.0</td>\n",
       "      <td>6.0</td>\n",
       "      <td>9.0</td>\n",
       "    </tr>\n",
       "    <tr>\n",
       "      <th>(60, 80]</th>\n",
       "      <td>1.0</td>\n",
       "      <td>1.0</td>\n",
       "      <td>0.0</td>\n",
       "    </tr>\n",
       "  </tbody>\n",
       "</table>\n",
       "</div>"
      ],
      "text/plain": [
       "pclass               1     2     3\n",
       "sex    age_group                  \n",
       "female (0, 10]     0.0   8.0  11.0\n",
       "       (10, 30]   33.0  35.0  54.0\n",
       "       (30, 60]   56.0  27.0   6.0\n",
       "       (60, 80]    2.0   NaN   1.0\n",
       "male   (0, 10]     2.0   9.0   8.0\n",
       "       (10, 30]   11.0   1.0  30.0\n",
       "       (30, 60]   31.0   6.0   9.0\n",
       "       (60, 80]    1.0   1.0   0.0"
      ]
     },
     "execution_count": 134,
     "metadata": {},
     "output_type": "execute_result"
    }
   ],
   "source": [
    "df = pd.read_csv('titanic.csv',usecols=range(0,15))\n",
    "df.sort_values(by='age',inplace=True)\n",
    "df['sp_mean_age'] = df.groupby(['sex','pclass'])['age'].transform('mean')\n",
    "df['age'] = df['age'].fillna(df['sp_mean_age'])\n",
    "df['age_group'] = pd.cut(x=df.age,bins=[0,10,30,60,80])\n",
    "df.pivot_table(values='survived',index=['sex','age_group'],columns='pclass',aggfunc='sum')"
   ]
  },
  {
   "cell_type": "markdown",
   "metadata": {},
   "source": [
    "**Q127. Write a pandas program to create the Pivot table and calculate number of women and men were in a particular cabin class.**"
   ]
  },
  {
   "cell_type": "code",
   "execution_count": 135,
   "metadata": {},
   "outputs": [
    {
     "data": {
      "text/html": [
       "<div>\n",
       "<style scoped>\n",
       "    .dataframe tbody tr th:only-of-type {\n",
       "        vertical-align: middle;\n",
       "    }\n",
       "\n",
       "    .dataframe tbody tr th {\n",
       "        vertical-align: top;\n",
       "    }\n",
       "\n",
       "    .dataframe thead th {\n",
       "        text-align: right;\n",
       "    }\n",
       "</style>\n",
       "<table border=\"1\" class=\"dataframe\">\n",
       "  <thead>\n",
       "    <tr style=\"text-align: right;\">\n",
       "      <th></th>\n",
       "      <th>survived</th>\n",
       "      <th>pclass</th>\n",
       "      <th>sex</th>\n",
       "      <th>age</th>\n",
       "      <th>sibsp</th>\n",
       "      <th>parch</th>\n",
       "      <th>fare</th>\n",
       "      <th>embarked</th>\n",
       "      <th>class</th>\n",
       "      <th>who</th>\n",
       "      <th>adult_male</th>\n",
       "      <th>deck</th>\n",
       "      <th>embark_town</th>\n",
       "      <th>alive</th>\n",
       "      <th>alone</th>\n",
       "    </tr>\n",
       "  </thead>\n",
       "  <tbody>\n",
       "    <tr>\n",
       "      <th>0</th>\n",
       "      <td>0</td>\n",
       "      <td>3</td>\n",
       "      <td>male</td>\n",
       "      <td>22.0</td>\n",
       "      <td>1</td>\n",
       "      <td>0</td>\n",
       "      <td>7.2500</td>\n",
       "      <td>S</td>\n",
       "      <td>Third</td>\n",
       "      <td>man</td>\n",
       "      <td>True</td>\n",
       "      <td>NaN</td>\n",
       "      <td>Southampton</td>\n",
       "      <td>no</td>\n",
       "      <td>False</td>\n",
       "    </tr>\n",
       "    <tr>\n",
       "      <th>1</th>\n",
       "      <td>1</td>\n",
       "      <td>1</td>\n",
       "      <td>female</td>\n",
       "      <td>38.0</td>\n",
       "      <td>1</td>\n",
       "      <td>0</td>\n",
       "      <td>71.2833</td>\n",
       "      <td>C</td>\n",
       "      <td>First</td>\n",
       "      <td>woman</td>\n",
       "      <td>False</td>\n",
       "      <td>C</td>\n",
       "      <td>Cherbourg</td>\n",
       "      <td>yes</td>\n",
       "      <td>False</td>\n",
       "    </tr>\n",
       "    <tr>\n",
       "      <th>2</th>\n",
       "      <td>1</td>\n",
       "      <td>3</td>\n",
       "      <td>female</td>\n",
       "      <td>26.0</td>\n",
       "      <td>0</td>\n",
       "      <td>0</td>\n",
       "      <td>7.9250</td>\n",
       "      <td>S</td>\n",
       "      <td>Third</td>\n",
       "      <td>woman</td>\n",
       "      <td>False</td>\n",
       "      <td>NaN</td>\n",
       "      <td>Southampton</td>\n",
       "      <td>yes</td>\n",
       "      <td>True</td>\n",
       "    </tr>\n",
       "    <tr>\n",
       "      <th>3</th>\n",
       "      <td>1</td>\n",
       "      <td>1</td>\n",
       "      <td>female</td>\n",
       "      <td>35.0</td>\n",
       "      <td>1</td>\n",
       "      <td>0</td>\n",
       "      <td>53.1000</td>\n",
       "      <td>S</td>\n",
       "      <td>First</td>\n",
       "      <td>woman</td>\n",
       "      <td>False</td>\n",
       "      <td>C</td>\n",
       "      <td>Southampton</td>\n",
       "      <td>yes</td>\n",
       "      <td>False</td>\n",
       "    </tr>\n",
       "    <tr>\n",
       "      <th>4</th>\n",
       "      <td>0</td>\n",
       "      <td>3</td>\n",
       "      <td>male</td>\n",
       "      <td>35.0</td>\n",
       "      <td>0</td>\n",
       "      <td>0</td>\n",
       "      <td>8.0500</td>\n",
       "      <td>S</td>\n",
       "      <td>Third</td>\n",
       "      <td>man</td>\n",
       "      <td>True</td>\n",
       "      <td>NaN</td>\n",
       "      <td>Southampton</td>\n",
       "      <td>no</td>\n",
       "      <td>True</td>\n",
       "    </tr>\n",
       "  </tbody>\n",
       "</table>\n",
       "</div>"
      ],
      "text/plain": [
       "   survived  pclass     sex   age  sibsp  parch     fare embarked  class    who  adult_male deck  \\\n",
       "0         0       3    male  22.0      1      0   7.2500        S  Third    man        True  NaN   \n",
       "1         1       1  female  38.0      1      0  71.2833        C  First  woman       False    C   \n",
       "2         1       3  female  26.0      0      0   7.9250        S  Third  woman       False  NaN   \n",
       "3         1       1  female  35.0      1      0  53.1000        S  First  woman       False    C   \n",
       "4         0       3    male  35.0      0      0   8.0500        S  Third    man        True  NaN   \n",
       "\n",
       "   embark_town alive  alone  \n",
       "0  Southampton    no  False  \n",
       "1    Cherbourg   yes  False  \n",
       "2  Southampton   yes   True  \n",
       "3  Southampton   yes  False  \n",
       "4  Southampton    no   True  "
      ]
     },
     "execution_count": 135,
     "metadata": {},
     "output_type": "execute_result"
    }
   ],
   "source": [
    "df = pd.read_csv('titanic.csv',usecols=range(0,15))\n",
    "df.head()"
   ]
  },
  {
   "cell_type": "code",
   "execution_count": 136,
   "metadata": {},
   "outputs": [
    {
     "data": {
      "text/html": [
       "<div>\n",
       "<style scoped>\n",
       "    .dataframe tbody tr th:only-of-type {\n",
       "        vertical-align: middle;\n",
       "    }\n",
       "\n",
       "    .dataframe tbody tr th {\n",
       "        vertical-align: top;\n",
       "    }\n",
       "\n",
       "    .dataframe thead th {\n",
       "        text-align: right;\n",
       "    }\n",
       "</style>\n",
       "<table border=\"1\" class=\"dataframe\">\n",
       "  <thead>\n",
       "    <tr style=\"text-align: right;\">\n",
       "      <th>pclass</th>\n",
       "      <th>1</th>\n",
       "      <th>2</th>\n",
       "      <th>3</th>\n",
       "    </tr>\n",
       "    <tr>\n",
       "      <th>sex</th>\n",
       "      <th></th>\n",
       "      <th></th>\n",
       "      <th></th>\n",
       "    </tr>\n",
       "  </thead>\n",
       "  <tbody>\n",
       "    <tr>\n",
       "      <th>female</th>\n",
       "      <td>94</td>\n",
       "      <td>76</td>\n",
       "      <td>144</td>\n",
       "    </tr>\n",
       "    <tr>\n",
       "      <th>male</th>\n",
       "      <td>122</td>\n",
       "      <td>108</td>\n",
       "      <td>347</td>\n",
       "    </tr>\n",
       "  </tbody>\n",
       "</table>\n",
       "</div>"
      ],
      "text/plain": [
       "pclass    1    2    3\n",
       "sex                  \n",
       "female   94   76  144\n",
       "male    122  108  347"
      ]
     },
     "execution_count": 136,
     "metadata": {},
     "output_type": "execute_result"
    }
   ],
   "source": [
    "df.pivot_table(values='who',index=['sex'], columns=['pclass'], aggfunc='count')"
   ]
  },
  {
   "cell_type": "code",
   "execution_count": 137,
   "metadata": {},
   "outputs": [
    {
     "data": {
      "text/plain": [
       "sex     pclass\n",
       "female  1          94\n",
       "        2          76\n",
       "        3         144\n",
       "male    1         122\n",
       "        2         108\n",
       "        3         347\n",
       "dtype: int64"
      ]
     },
     "execution_count": 137,
     "metadata": {},
     "output_type": "execute_result"
    }
   ],
   "source": [
    "df.groupby(['sex','pclass']).size()"
   ]
  },
  {
   "cell_type": "markdown",
   "metadata": {},
   "source": [
    "**Q128. Write a pandas program to create the Pivot table and separate the gender according to whether they travelled alone or not to get the probability of survival**"
   ]
  },
  {
   "cell_type": "code",
   "execution_count": 138,
   "metadata": {},
   "outputs": [
    {
     "data": {
      "text/html": [
       "<div>\n",
       "<style scoped>\n",
       "    .dataframe tbody tr th:only-of-type {\n",
       "        vertical-align: middle;\n",
       "    }\n",
       "\n",
       "    .dataframe tbody tr th {\n",
       "        vertical-align: top;\n",
       "    }\n",
       "\n",
       "    .dataframe thead th {\n",
       "        text-align: right;\n",
       "    }\n",
       "</style>\n",
       "<table border=\"1\" class=\"dataframe\">\n",
       "  <thead>\n",
       "    <tr style=\"text-align: right;\">\n",
       "      <th></th>\n",
       "      <th>survived</th>\n",
       "      <th>pclass</th>\n",
       "      <th>sex</th>\n",
       "      <th>age</th>\n",
       "      <th>sibsp</th>\n",
       "      <th>parch</th>\n",
       "      <th>fare</th>\n",
       "      <th>embarked</th>\n",
       "      <th>class</th>\n",
       "      <th>who</th>\n",
       "      <th>adult_male</th>\n",
       "      <th>deck</th>\n",
       "      <th>embark_town</th>\n",
       "      <th>alive</th>\n",
       "      <th>alone</th>\n",
       "    </tr>\n",
       "  </thead>\n",
       "  <tbody>\n",
       "    <tr>\n",
       "      <th>0</th>\n",
       "      <td>0</td>\n",
       "      <td>3</td>\n",
       "      <td>male</td>\n",
       "      <td>22.0</td>\n",
       "      <td>1</td>\n",
       "      <td>0</td>\n",
       "      <td>7.2500</td>\n",
       "      <td>S</td>\n",
       "      <td>Third</td>\n",
       "      <td>man</td>\n",
       "      <td>True</td>\n",
       "      <td>NaN</td>\n",
       "      <td>Southampton</td>\n",
       "      <td>no</td>\n",
       "      <td>False</td>\n",
       "    </tr>\n",
       "    <tr>\n",
       "      <th>1</th>\n",
       "      <td>1</td>\n",
       "      <td>1</td>\n",
       "      <td>female</td>\n",
       "      <td>38.0</td>\n",
       "      <td>1</td>\n",
       "      <td>0</td>\n",
       "      <td>71.2833</td>\n",
       "      <td>C</td>\n",
       "      <td>First</td>\n",
       "      <td>woman</td>\n",
       "      <td>False</td>\n",
       "      <td>C</td>\n",
       "      <td>Cherbourg</td>\n",
       "      <td>yes</td>\n",
       "      <td>False</td>\n",
       "    </tr>\n",
       "    <tr>\n",
       "      <th>2</th>\n",
       "      <td>1</td>\n",
       "      <td>3</td>\n",
       "      <td>female</td>\n",
       "      <td>26.0</td>\n",
       "      <td>0</td>\n",
       "      <td>0</td>\n",
       "      <td>7.9250</td>\n",
       "      <td>S</td>\n",
       "      <td>Third</td>\n",
       "      <td>woman</td>\n",
       "      <td>False</td>\n",
       "      <td>NaN</td>\n",
       "      <td>Southampton</td>\n",
       "      <td>yes</td>\n",
       "      <td>True</td>\n",
       "    </tr>\n",
       "    <tr>\n",
       "      <th>3</th>\n",
       "      <td>1</td>\n",
       "      <td>1</td>\n",
       "      <td>female</td>\n",
       "      <td>35.0</td>\n",
       "      <td>1</td>\n",
       "      <td>0</td>\n",
       "      <td>53.1000</td>\n",
       "      <td>S</td>\n",
       "      <td>First</td>\n",
       "      <td>woman</td>\n",
       "      <td>False</td>\n",
       "      <td>C</td>\n",
       "      <td>Southampton</td>\n",
       "      <td>yes</td>\n",
       "      <td>False</td>\n",
       "    </tr>\n",
       "    <tr>\n",
       "      <th>4</th>\n",
       "      <td>0</td>\n",
       "      <td>3</td>\n",
       "      <td>male</td>\n",
       "      <td>35.0</td>\n",
       "      <td>0</td>\n",
       "      <td>0</td>\n",
       "      <td>8.0500</td>\n",
       "      <td>S</td>\n",
       "      <td>Third</td>\n",
       "      <td>man</td>\n",
       "      <td>True</td>\n",
       "      <td>NaN</td>\n",
       "      <td>Southampton</td>\n",
       "      <td>no</td>\n",
       "      <td>True</td>\n",
       "    </tr>\n",
       "  </tbody>\n",
       "</table>\n",
       "</div>"
      ],
      "text/plain": [
       "   survived  pclass     sex   age  sibsp  parch     fare embarked  class    who  adult_male deck  \\\n",
       "0         0       3    male  22.0      1      0   7.2500        S  Third    man        True  NaN   \n",
       "1         1       1  female  38.0      1      0  71.2833        C  First  woman       False    C   \n",
       "2         1       3  female  26.0      0      0   7.9250        S  Third  woman       False  NaN   \n",
       "3         1       1  female  35.0      1      0  53.1000        S  First  woman       False    C   \n",
       "4         0       3    male  35.0      0      0   8.0500        S  Third    man        True  NaN   \n",
       "\n",
       "   embark_town alive  alone  \n",
       "0  Southampton    no  False  \n",
       "1    Cherbourg   yes  False  \n",
       "2  Southampton   yes   True  \n",
       "3  Southampton   yes  False  \n",
       "4  Southampton    no   True  "
      ]
     },
     "execution_count": 138,
     "metadata": {},
     "output_type": "execute_result"
    }
   ],
   "source": [
    "df = pd.read_csv('titanic.csv',usecols=range(0,15))\n",
    "df.head()"
   ]
  },
  {
   "cell_type": "code",
   "execution_count": 139,
   "metadata": {},
   "outputs": [
    {
     "data": {
      "text/html": [
       "<div>\n",
       "<style scoped>\n",
       "    .dataframe tbody tr th:only-of-type {\n",
       "        vertical-align: middle;\n",
       "    }\n",
       "\n",
       "    .dataframe tbody tr th {\n",
       "        vertical-align: top;\n",
       "    }\n",
       "\n",
       "    .dataframe thead th {\n",
       "        text-align: right;\n",
       "    }\n",
       "</style>\n",
       "<table border=\"1\" class=\"dataframe\">\n",
       "  <thead>\n",
       "    <tr style=\"text-align: right;\">\n",
       "      <th></th>\n",
       "      <th>pclass</th>\n",
       "      <th>1</th>\n",
       "      <th>2</th>\n",
       "      <th>3</th>\n",
       "    </tr>\n",
       "    <tr>\n",
       "      <th>sex</th>\n",
       "      <th>alone</th>\n",
       "      <th></th>\n",
       "      <th></th>\n",
       "      <th></th>\n",
       "    </tr>\n",
       "  </thead>\n",
       "  <tbody>\n",
       "    <tr>\n",
       "      <th rowspan=\"2\" valign=\"top\">female</th>\n",
       "      <th>False</th>\n",
       "      <td>0.96666667</td>\n",
       "      <td>0.93181818</td>\n",
       "      <td>0.41666667</td>\n",
       "    </tr>\n",
       "    <tr>\n",
       "      <th>True</th>\n",
       "      <td>0.97058824</td>\n",
       "      <td>0.90625000</td>\n",
       "      <td>0.61666667</td>\n",
       "    </tr>\n",
       "    <tr>\n",
       "      <th rowspan=\"2\" valign=\"top\">male</th>\n",
       "      <th>False</th>\n",
       "      <td>0.42553191</td>\n",
       "      <td>0.27777778</td>\n",
       "      <td>0.18072289</td>\n",
       "    </tr>\n",
       "    <tr>\n",
       "      <th>True</th>\n",
       "      <td>0.33333333</td>\n",
       "      <td>0.09722222</td>\n",
       "      <td>0.12121212</td>\n",
       "    </tr>\n",
       "  </tbody>\n",
       "</table>\n",
       "</div>"
      ],
      "text/plain": [
       "pclass                 1           2           3\n",
       "sex    alone                                    \n",
       "female False  0.96666667  0.93181818  0.41666667\n",
       "       True   0.97058824  0.90625000  0.61666667\n",
       "male   False  0.42553191  0.27777778  0.18072289\n",
       "       True   0.33333333  0.09722222  0.12121212"
      ]
     },
     "execution_count": 139,
     "metadata": {},
     "output_type": "execute_result"
    }
   ],
   "source": [
    "df.pivot_table(values='survived' , index=['sex','alone'],columns='pclass' )"
   ]
  },
  {
   "cell_type": "markdown",
   "metadata": {},
   "source": [
    "**Q129. Write a pandas program to create the Pivot table and find the probability of survival by class, gender, solo boarding, and the port of embarkation.**"
   ]
  },
  {
   "cell_type": "code",
   "execution_count": 140,
   "metadata": {},
   "outputs": [
    {
     "data": {
      "text/html": [
       "<div>\n",
       "<style scoped>\n",
       "    .dataframe tbody tr th:only-of-type {\n",
       "        vertical-align: middle;\n",
       "    }\n",
       "\n",
       "    .dataframe tbody tr th {\n",
       "        vertical-align: top;\n",
       "    }\n",
       "\n",
       "    .dataframe thead th {\n",
       "        text-align: right;\n",
       "    }\n",
       "</style>\n",
       "<table border=\"1\" class=\"dataframe\">\n",
       "  <thead>\n",
       "    <tr style=\"text-align: right;\">\n",
       "      <th></th>\n",
       "      <th>survived</th>\n",
       "      <th>pclass</th>\n",
       "      <th>sex</th>\n",
       "      <th>age</th>\n",
       "      <th>sibsp</th>\n",
       "      <th>parch</th>\n",
       "      <th>fare</th>\n",
       "      <th>embarked</th>\n",
       "      <th>class</th>\n",
       "      <th>who</th>\n",
       "      <th>adult_male</th>\n",
       "      <th>deck</th>\n",
       "      <th>embark_town</th>\n",
       "      <th>alive</th>\n",
       "      <th>alone</th>\n",
       "    </tr>\n",
       "  </thead>\n",
       "  <tbody>\n",
       "    <tr>\n",
       "      <th>0</th>\n",
       "      <td>0</td>\n",
       "      <td>3</td>\n",
       "      <td>male</td>\n",
       "      <td>22.0</td>\n",
       "      <td>1</td>\n",
       "      <td>0</td>\n",
       "      <td>7.2500</td>\n",
       "      <td>S</td>\n",
       "      <td>Third</td>\n",
       "      <td>man</td>\n",
       "      <td>True</td>\n",
       "      <td>NaN</td>\n",
       "      <td>Southampton</td>\n",
       "      <td>no</td>\n",
       "      <td>False</td>\n",
       "    </tr>\n",
       "    <tr>\n",
       "      <th>1</th>\n",
       "      <td>1</td>\n",
       "      <td>1</td>\n",
       "      <td>female</td>\n",
       "      <td>38.0</td>\n",
       "      <td>1</td>\n",
       "      <td>0</td>\n",
       "      <td>71.2833</td>\n",
       "      <td>C</td>\n",
       "      <td>First</td>\n",
       "      <td>woman</td>\n",
       "      <td>False</td>\n",
       "      <td>C</td>\n",
       "      <td>Cherbourg</td>\n",
       "      <td>yes</td>\n",
       "      <td>False</td>\n",
       "    </tr>\n",
       "    <tr>\n",
       "      <th>2</th>\n",
       "      <td>1</td>\n",
       "      <td>3</td>\n",
       "      <td>female</td>\n",
       "      <td>26.0</td>\n",
       "      <td>0</td>\n",
       "      <td>0</td>\n",
       "      <td>7.9250</td>\n",
       "      <td>S</td>\n",
       "      <td>Third</td>\n",
       "      <td>woman</td>\n",
       "      <td>False</td>\n",
       "      <td>NaN</td>\n",
       "      <td>Southampton</td>\n",
       "      <td>yes</td>\n",
       "      <td>True</td>\n",
       "    </tr>\n",
       "    <tr>\n",
       "      <th>3</th>\n",
       "      <td>1</td>\n",
       "      <td>1</td>\n",
       "      <td>female</td>\n",
       "      <td>35.0</td>\n",
       "      <td>1</td>\n",
       "      <td>0</td>\n",
       "      <td>53.1000</td>\n",
       "      <td>S</td>\n",
       "      <td>First</td>\n",
       "      <td>woman</td>\n",
       "      <td>False</td>\n",
       "      <td>C</td>\n",
       "      <td>Southampton</td>\n",
       "      <td>yes</td>\n",
       "      <td>False</td>\n",
       "    </tr>\n",
       "    <tr>\n",
       "      <th>4</th>\n",
       "      <td>0</td>\n",
       "      <td>3</td>\n",
       "      <td>male</td>\n",
       "      <td>35.0</td>\n",
       "      <td>0</td>\n",
       "      <td>0</td>\n",
       "      <td>8.0500</td>\n",
       "      <td>S</td>\n",
       "      <td>Third</td>\n",
       "      <td>man</td>\n",
       "      <td>True</td>\n",
       "      <td>NaN</td>\n",
       "      <td>Southampton</td>\n",
       "      <td>no</td>\n",
       "      <td>True</td>\n",
       "    </tr>\n",
       "  </tbody>\n",
       "</table>\n",
       "</div>"
      ],
      "text/plain": [
       "   survived  pclass     sex   age  sibsp  parch     fare embarked  class    who  adult_male deck  \\\n",
       "0         0       3    male  22.0      1      0   7.2500        S  Third    man        True  NaN   \n",
       "1         1       1  female  38.0      1      0  71.2833        C  First  woman       False    C   \n",
       "2         1       3  female  26.0      0      0   7.9250        S  Third  woman       False  NaN   \n",
       "3         1       1  female  35.0      1      0  53.1000        S  First  woman       False    C   \n",
       "4         0       3    male  35.0      0      0   8.0500        S  Third    man        True  NaN   \n",
       "\n",
       "   embark_town alive  alone  \n",
       "0  Southampton    no  False  \n",
       "1    Cherbourg   yes  False  \n",
       "2  Southampton   yes   True  \n",
       "3  Southampton   yes  False  \n",
       "4  Southampton    no   True  "
      ]
     },
     "execution_count": 140,
     "metadata": {},
     "output_type": "execute_result"
    }
   ],
   "source": [
    "df = pd.read_csv('titanic.csv',usecols=range(0,15))\n",
    "df.head()"
   ]
  },
  {
   "cell_type": "code",
   "execution_count": 141,
   "metadata": {},
   "outputs": [
    {
     "data": {
      "text/html": [
       "<div>\n",
       "<style scoped>\n",
       "    .dataframe tbody tr th:only-of-type {\n",
       "        vertical-align: middle;\n",
       "    }\n",
       "\n",
       "    .dataframe tbody tr th {\n",
       "        vertical-align: top;\n",
       "    }\n",
       "\n",
       "    .dataframe thead th {\n",
       "        text-align: right;\n",
       "    }\n",
       "</style>\n",
       "<table border=\"1\" class=\"dataframe\">\n",
       "  <thead>\n",
       "    <tr style=\"text-align: right;\">\n",
       "      <th></th>\n",
       "      <th></th>\n",
       "      <th>embarked</th>\n",
       "      <th>C</th>\n",
       "      <th>Q</th>\n",
       "      <th>S</th>\n",
       "    </tr>\n",
       "    <tr>\n",
       "      <th>pclass</th>\n",
       "      <th>sex</th>\n",
       "      <th>alone</th>\n",
       "      <th></th>\n",
       "      <th></th>\n",
       "      <th></th>\n",
       "    </tr>\n",
       "  </thead>\n",
       "  <tbody>\n",
       "    <tr>\n",
       "      <th rowspan=\"4\" valign=\"top\">1</th>\n",
       "      <th rowspan=\"2\" valign=\"top\">female</th>\n",
       "      <th>False</th>\n",
       "      <td>1.00000000</td>\n",
       "      <td>1.00000000</td>\n",
       "      <td>0.94117647</td>\n",
       "    </tr>\n",
       "    <tr>\n",
       "      <th>True</th>\n",
       "      <td>0.94444444</td>\n",
       "      <td>NaN</td>\n",
       "      <td>1.00000000</td>\n",
       "    </tr>\n",
       "    <tr>\n",
       "      <th rowspan=\"2\" valign=\"top\">male</th>\n",
       "      <th>False</th>\n",
       "      <td>0.47368421</td>\n",
       "      <td>0.00000000</td>\n",
       "      <td>0.40740741</td>\n",
       "    </tr>\n",
       "    <tr>\n",
       "      <th>True</th>\n",
       "      <td>0.34782609</td>\n",
       "      <td>NaN</td>\n",
       "      <td>0.32692308</td>\n",
       "    </tr>\n",
       "    <tr>\n",
       "      <th rowspan=\"4\" valign=\"top\">2</th>\n",
       "      <th rowspan=\"2\" valign=\"top\">female</th>\n",
       "      <th>False</th>\n",
       "      <td>1.00000000</td>\n",
       "      <td>NaN</td>\n",
       "      <td>0.92307692</td>\n",
       "    </tr>\n",
       "    <tr>\n",
       "      <th>True</th>\n",
       "      <td>1.00000000</td>\n",
       "      <td>1.00000000</td>\n",
       "      <td>0.89285714</td>\n",
       "    </tr>\n",
       "    <tr>\n",
       "      <th rowspan=\"2\" valign=\"top\">male</th>\n",
       "      <th>False</th>\n",
       "      <td>0.16666667</td>\n",
       "      <td>NaN</td>\n",
       "      <td>0.30000000</td>\n",
       "    </tr>\n",
       "    <tr>\n",
       "      <th>True</th>\n",
       "      <td>0.25000000</td>\n",
       "      <td>0.00000000</td>\n",
       "      <td>0.08955224</td>\n",
       "    </tr>\n",
       "    <tr>\n",
       "      <th rowspan=\"4\" valign=\"top\">3</th>\n",
       "      <th rowspan=\"2\" valign=\"top\">female</th>\n",
       "      <th>False</th>\n",
       "      <td>0.61111111</td>\n",
       "      <td>0.62500000</td>\n",
       "      <td>0.32758621</td>\n",
       "    </tr>\n",
       "    <tr>\n",
       "      <th>True</th>\n",
       "      <td>0.80000000</td>\n",
       "      <td>0.76000000</td>\n",
       "      <td>0.46666667</td>\n",
       "    </tr>\n",
       "    <tr>\n",
       "      <th rowspan=\"2\" valign=\"top\">male</th>\n",
       "      <th>False</th>\n",
       "      <td>0.50000000</td>\n",
       "      <td>0.10000000</td>\n",
       "      <td>0.14285714</td>\n",
       "    </tr>\n",
       "    <tr>\n",
       "      <th>True</th>\n",
       "      <td>0.15151515</td>\n",
       "      <td>0.06896552</td>\n",
       "      <td>0.12376238</td>\n",
       "    </tr>\n",
       "  </tbody>\n",
       "</table>\n",
       "</div>"
      ],
      "text/plain": [
       "embarked                      C           Q           S\n",
       "pclass sex    alone                                    \n",
       "1      female False  1.00000000  1.00000000  0.94117647\n",
       "              True   0.94444444         NaN  1.00000000\n",
       "       male   False  0.47368421  0.00000000  0.40740741\n",
       "              True   0.34782609         NaN  0.32692308\n",
       "2      female False  1.00000000         NaN  0.92307692\n",
       "              True   1.00000000  1.00000000  0.89285714\n",
       "       male   False  0.16666667         NaN  0.30000000\n",
       "              True   0.25000000  0.00000000  0.08955224\n",
       "3      female False  0.61111111  0.62500000  0.32758621\n",
       "              True   0.80000000  0.76000000  0.46666667\n",
       "       male   False  0.50000000  0.10000000  0.14285714\n",
       "              True   0.15151515  0.06896552  0.12376238"
      ]
     },
     "execution_count": 141,
     "metadata": {},
     "output_type": "execute_result"
    }
   ],
   "source": [
    "df.pivot_table(values='survived' , index=['pclass','sex','alone'],columns='embarked' )"
   ]
  },
  {
   "cell_type": "markdown",
   "metadata": {},
   "source": [
    "**Q130. Write a pandas program to get current date, oldest date and number of days between Current date and the oldest date of Ufo dataset.**"
   ]
  },
  {
   "cell_type": "code",
   "execution_count": 142,
   "metadata": {},
   "outputs": [
    {
     "name": "stderr",
     "output_type": "stream",
     "text": [
      "c:\\program files (x86)\\python37-32\\lib\\site-packages\\IPython\\core\\interactiveshell.py:3049: DtypeWarning: Columns (5,9) have mixed types. Specify dtype option on import or set low_memory=False.\n",
      "  interactivity=interactivity, compiler=compiler, result=result)\n"
     ]
    },
    {
     "data": {
      "text/html": [
       "<div>\n",
       "<style scoped>\n",
       "    .dataframe tbody tr th:only-of-type {\n",
       "        vertical-align: middle;\n",
       "    }\n",
       "\n",
       "    .dataframe tbody tr th {\n",
       "        vertical-align: top;\n",
       "    }\n",
       "\n",
       "    .dataframe thead th {\n",
       "        text-align: right;\n",
       "    }\n",
       "</style>\n",
       "<table border=\"1\" class=\"dataframe\">\n",
       "  <thead>\n",
       "    <tr style=\"text-align: right;\">\n",
       "      <th></th>\n",
       "      <th>Date_time</th>\n",
       "      <th>city</th>\n",
       "      <th>state/province</th>\n",
       "      <th>country</th>\n",
       "      <th>UFO_shape</th>\n",
       "      <th>length_of_encounter_seconds</th>\n",
       "      <th>described_duration_of_encounter</th>\n",
       "      <th>description</th>\n",
       "      <th>date_documented</th>\n",
       "      <th>latitude</th>\n",
       "      <th>longitude</th>\n",
       "    </tr>\n",
       "  </thead>\n",
       "  <tbody>\n",
       "    <tr>\n",
       "      <th>0</th>\n",
       "      <td>1949-10-10 20:30:00</td>\n",
       "      <td>san marcos</td>\n",
       "      <td>tx</td>\n",
       "      <td>us</td>\n",
       "      <td>cylinder</td>\n",
       "      <td>2700</td>\n",
       "      <td>45 minutes</td>\n",
       "      <td>This event took place in early fall around 194...</td>\n",
       "      <td>2004-04-27</td>\n",
       "      <td>29.8830556</td>\n",
       "      <td>-97.9411111</td>\n",
       "    </tr>\n",
       "    <tr>\n",
       "      <th>1</th>\n",
       "      <td>1949-10-10 21:00:00</td>\n",
       "      <td>lackland afb</td>\n",
       "      <td>tx</td>\n",
       "      <td>NaN</td>\n",
       "      <td>light</td>\n",
       "      <td>7200</td>\n",
       "      <td>1-2 hrs</td>\n",
       "      <td>1949 Lackland AFB&amp;#44 TX.  Lights racing acros...</td>\n",
       "      <td>2005-12-16</td>\n",
       "      <td>29.38421</td>\n",
       "      <td>-98.5810820</td>\n",
       "    </tr>\n",
       "    <tr>\n",
       "      <th>2</th>\n",
       "      <td>1955-10-10 17:00:00</td>\n",
       "      <td>chester (uk/england)</td>\n",
       "      <td>NaN</td>\n",
       "      <td>gb</td>\n",
       "      <td>circle</td>\n",
       "      <td>20</td>\n",
       "      <td>20 seconds</td>\n",
       "      <td>Green/Orange circular disc over Chester&amp;#44 En...</td>\n",
       "      <td>2008-01-21</td>\n",
       "      <td>53.2</td>\n",
       "      <td>-2.9166670</td>\n",
       "    </tr>\n",
       "    <tr>\n",
       "      <th>3</th>\n",
       "      <td>1956-10-10 21:00:00</td>\n",
       "      <td>edna</td>\n",
       "      <td>tx</td>\n",
       "      <td>us</td>\n",
       "      <td>circle</td>\n",
       "      <td>20</td>\n",
       "      <td>1/2 hour</td>\n",
       "      <td>My older brother and twin sister were leaving ...</td>\n",
       "      <td>2004-01-17</td>\n",
       "      <td>28.9783333</td>\n",
       "      <td>-96.6458333</td>\n",
       "    </tr>\n",
       "    <tr>\n",
       "      <th>4</th>\n",
       "      <td>1960-10-10 20:00:00</td>\n",
       "      <td>kaneohe</td>\n",
       "      <td>hi</td>\n",
       "      <td>us</td>\n",
       "      <td>light</td>\n",
       "      <td>900</td>\n",
       "      <td>15 minutes</td>\n",
       "      <td>AS a Marine 1st Lt. flying an FJ4B fighter/att...</td>\n",
       "      <td>2004-01-22</td>\n",
       "      <td>21.4180556</td>\n",
       "      <td>-157.8036111</td>\n",
       "    </tr>\n",
       "  </tbody>\n",
       "</table>\n",
       "</div>"
      ],
      "text/plain": [
       "            Date_time                  city state/province country UFO_shape  \\\n",
       "0 1949-10-10 20:30:00            san marcos             tx      us  cylinder   \n",
       "1 1949-10-10 21:00:00          lackland afb             tx     NaN     light   \n",
       "2 1955-10-10 17:00:00  chester (uk/england)            NaN      gb    circle   \n",
       "3 1956-10-10 21:00:00                  edna             tx      us    circle   \n",
       "4 1960-10-10 20:00:00               kaneohe             hi      us     light   \n",
       "\n",
       "  length_of_encounter_seconds described_duration_of_encounter  \\\n",
       "0                        2700                      45 minutes   \n",
       "1                        7200                         1-2 hrs   \n",
       "2                          20                      20 seconds   \n",
       "3                          20                        1/2 hour   \n",
       "4                         900                      15 minutes   \n",
       "\n",
       "                                         description date_documented    latitude    longitude  \n",
       "0  This event took place in early fall around 194...      2004-04-27  29.8830556  -97.9411111  \n",
       "1  1949 Lackland AFB&#44 TX.  Lights racing acros...      2005-12-16    29.38421  -98.5810820  \n",
       "2  Green/Orange circular disc over Chester&#44 En...      2008-01-21        53.2   -2.9166670  \n",
       "3  My older brother and twin sister were leaving ...      2004-01-17  28.9783333  -96.6458333  \n",
       "4  AS a Marine 1st Lt. flying an FJ4B fighter/att...      2004-01-22  21.4180556 -157.8036111  "
      ]
     },
     "execution_count": 142,
     "metadata": {},
     "output_type": "execute_result"
    }
   ],
   "source": [
    "ufo = pd.read_csv('ufo_sighting_data.csv',parse_dates=['Date_time','date_documented'])\n",
    "ufo['Date_time'] = pd.to_datetime(ufo.Date_time,errors='coerce')\n",
    "ufo.head()"
   ]
  },
  {
   "cell_type": "code",
   "execution_count": 143,
   "metadata": {},
   "outputs": [
    {
     "data": {
      "text/plain": [
       "41294"
      ]
     },
     "execution_count": 143,
     "metadata": {},
     "output_type": "execute_result"
    }
   ],
   "source": [
    "# current date, oldest date and number of days between Current date and the oldest date of Ufo dataset\n",
    "current_date = pd.datetime.now()\n",
    "oldest_date = ufo['Date_time'].min()\n",
    "days_from_timedelta = (current_date - oldest_date).days\n",
    "days_from_timedelta"
   ]
  },
  {
   "cell_type": "markdown",
   "metadata": {},
   "source": [
    "**Q131. Write a pandas program to get all sighting days of the unidentified flying object (ufo) between 1950-10-10 and 1960-10- 10.**"
   ]
  },
  {
   "cell_type": "code",
   "execution_count": 144,
   "metadata": {},
   "outputs": [
    {
     "data": {
      "text/html": [
       "<div>\n",
       "<style scoped>\n",
       "    .dataframe tbody tr th:only-of-type {\n",
       "        vertical-align: middle;\n",
       "    }\n",
       "\n",
       "    .dataframe tbody tr th {\n",
       "        vertical-align: top;\n",
       "    }\n",
       "\n",
       "    .dataframe thead th {\n",
       "        text-align: right;\n",
       "    }\n",
       "</style>\n",
       "<table border=\"1\" class=\"dataframe\">\n",
       "  <thead>\n",
       "    <tr style=\"text-align: right;\">\n",
       "      <th></th>\n",
       "      <th>Date_time</th>\n",
       "      <th>city</th>\n",
       "      <th>state/province</th>\n",
       "      <th>country</th>\n",
       "      <th>UFO_shape</th>\n",
       "      <th>length_of_encounter_seconds</th>\n",
       "      <th>described_duration_of_encounter</th>\n",
       "      <th>description</th>\n",
       "      <th>date_documented</th>\n",
       "      <th>latitude</th>\n",
       "      <th>longitude</th>\n",
       "    </tr>\n",
       "  </thead>\n",
       "  <tbody>\n",
       "    <tr>\n",
       "      <th>2</th>\n",
       "      <td>1955-10-10 17:00:00</td>\n",
       "      <td>chester (uk/england)</td>\n",
       "      <td>NaN</td>\n",
       "      <td>gb</td>\n",
       "      <td>circle</td>\n",
       "      <td>20</td>\n",
       "      <td>20 seconds</td>\n",
       "      <td>Green/Orange circular disc over Chester&amp;#44 En...</td>\n",
       "      <td>2008-01-21</td>\n",
       "      <td>53.2</td>\n",
       "      <td>-2.9166670</td>\n",
       "    </tr>\n",
       "    <tr>\n",
       "      <th>3</th>\n",
       "      <td>1956-10-10 21:00:00</td>\n",
       "      <td>edna</td>\n",
       "      <td>tx</td>\n",
       "      <td>us</td>\n",
       "      <td>circle</td>\n",
       "      <td>20</td>\n",
       "      <td>1/2 hour</td>\n",
       "      <td>My older brother and twin sister were leaving ...</td>\n",
       "      <td>2004-01-17</td>\n",
       "      <td>28.9783333</td>\n",
       "      <td>-96.6458333</td>\n",
       "    </tr>\n",
       "    <tr>\n",
       "      <th>4</th>\n",
       "      <td>1960-10-10 20:00:00</td>\n",
       "      <td>kaneohe</td>\n",
       "      <td>hi</td>\n",
       "      <td>us</td>\n",
       "      <td>light</td>\n",
       "      <td>900</td>\n",
       "      <td>15 minutes</td>\n",
       "      <td>AS a Marine 1st Lt. flying an FJ4B fighter/att...</td>\n",
       "      <td>2004-01-22</td>\n",
       "      <td>21.4180556</td>\n",
       "      <td>-157.8036111</td>\n",
       "    </tr>\n",
       "    <tr>\n",
       "      <th>480</th>\n",
       "      <td>1952-10-01 03:30:00</td>\n",
       "      <td>fukuoka (japan)</td>\n",
       "      <td>NaN</td>\n",
       "      <td>NaN</td>\n",
       "      <td>disk</td>\n",
       "      <td>1200</td>\n",
       "      <td>about 20 mins</td>\n",
       "      <td>UFO seen by multiple U. S. military personnel;...</td>\n",
       "      <td>2006-12-07</td>\n",
       "      <td>33.590355</td>\n",
       "      <td>130.4017160</td>\n",
       "    </tr>\n",
       "    <tr>\n",
       "      <th>481</th>\n",
       "      <td>1952-10-01 12:00:00</td>\n",
       "      <td>kansas city</td>\n",
       "      <td>mo</td>\n",
       "      <td>us</td>\n",
       "      <td>disk</td>\n",
       "      <td>90</td>\n",
       "      <td>90 sec.</td>\n",
       "      <td>1952 daylight sighting of multiple discs in fo...</td>\n",
       "      <td>2008-10-31</td>\n",
       "      <td>39.0997222</td>\n",
       "      <td>-94.5783333</td>\n",
       "    </tr>\n",
       "    <tr>\n",
       "      <th>482</th>\n",
       "      <td>1954-10-01 19:00:00</td>\n",
       "      <td>flatwoods</td>\n",
       "      <td>wv</td>\n",
       "      <td>us</td>\n",
       "      <td>circle</td>\n",
       "      <td>60</td>\n",
       "      <td>1 minute</td>\n",
       "      <td>I saw the craft go across the horizon.  It app...</td>\n",
       "      <td>2013-04-12</td>\n",
       "      <td>38.7230556</td>\n",
       "      <td>-80.6500000</td>\n",
       "    </tr>\n",
       "    <tr>\n",
       "      <th>483</th>\n",
       "      <td>1955-10-01 22:00:00</td>\n",
       "      <td>mono lake (area)</td>\n",
       "      <td>ca</td>\n",
       "      <td>NaN</td>\n",
       "      <td>circle</td>\n",
       "      <td>5</td>\n",
       "      <td>five seconds+/-</td>\n",
       "      <td>NO KNOWN AIRCRAFT (1955 and maybe today) COULD...</td>\n",
       "      <td>2009-03-19</td>\n",
       "      <td>38.007059</td>\n",
       "      <td>-119.0122590</td>\n",
       "    </tr>\n",
       "    <tr>\n",
       "      <th>484</th>\n",
       "      <td>1956-10-01 19:00:00</td>\n",
       "      <td>newport</td>\n",
       "      <td>nh</td>\n",
       "      <td>us</td>\n",
       "      <td>rectangle</td>\n",
       "      <td>300</td>\n",
       "      <td>5 minutes</td>\n",
       "      <td>Disk with glass center section&amp;#44 and flames ...</td>\n",
       "      <td>2005-04-16</td>\n",
       "      <td>43.3652778</td>\n",
       "      <td>-72.1738889</td>\n",
       "    </tr>\n",
       "    <tr>\n",
       "      <th>485</th>\n",
       "      <td>1957-10-01 16:00:00</td>\n",
       "      <td>nelchina (near)</td>\n",
       "      <td>ak</td>\n",
       "      <td>us</td>\n",
       "      <td>unknown</td>\n",
       "      <td>180</td>\n",
       "      <td>3 minutes maximum</td>\n",
       "      <td>This incident occurred about October of 1956 o...</td>\n",
       "      <td>2006-12-07</td>\n",
       "      <td>61.9919444</td>\n",
       "      <td>-146.7686111</td>\n",
       "    </tr>\n",
       "    <tr>\n",
       "      <th>486</th>\n",
       "      <td>1957-10-01 21:00:00</td>\n",
       "      <td>paterson</td>\n",
       "      <td>nj</td>\n",
       "      <td>us</td>\n",
       "      <td>disk</td>\n",
       "      <td>10</td>\n",
       "      <td>10 seconds</td>\n",
       "      <td>Formation of approximately 8 light gray metall...</td>\n",
       "      <td>2005-04-16</td>\n",
       "      <td>40.9166667</td>\n",
       "      <td>-74.1722222</td>\n",
       "    </tr>\n",
       "    <tr>\n",
       "      <th>487</th>\n",
       "      <td>1957-10-01 22:00:00</td>\n",
       "      <td>northeast cape afs</td>\n",
       "      <td>ak</td>\n",
       "      <td>NaN</td>\n",
       "      <td>NaN</td>\n",
       "      <td>900</td>\n",
       "      <td>10-15min</td>\n",
       "      <td>Radar sighting and filming</td>\n",
       "      <td>1999-01-28</td>\n",
       "      <td>70.292489</td>\n",
       "      <td>-161.9033340</td>\n",
       "    </tr>\n",
       "    <tr>\n",
       "      <th>488</th>\n",
       "      <td>1959-10-01 19:00:00</td>\n",
       "      <td>jacksonville</td>\n",
       "      <td>il</td>\n",
       "      <td>us</td>\n",
       "      <td>unknown</td>\n",
       "      <td>60</td>\n",
       "      <td>1 minute</td>\n",
       "      <td>Late 1959&amp;#44 bright lights from a hovering ob...</td>\n",
       "      <td>2005-04-16</td>\n",
       "      <td>39.7338889</td>\n",
       "      <td>-90.2288889</td>\n",
       "    </tr>\n",
       "    <tr>\n",
       "      <th>1707</th>\n",
       "      <td>1950-10-15 15:00:00</td>\n",
       "      <td>sandy hook/highlands</td>\n",
       "      <td>nj</td>\n",
       "      <td>NaN</td>\n",
       "      <td>triangle</td>\n",
       "      <td>300</td>\n",
       "      <td>5 minutes</td>\n",
       "      <td>Triangles over New York Harbor 1950</td>\n",
       "      <td>2006-10-30</td>\n",
       "      <td>40.443164</td>\n",
       "      <td>-73.9898610</td>\n",
       "    </tr>\n",
       "    <tr>\n",
       "      <th>1708</th>\n",
       "      <td>1952-10-15 21:00:00</td>\n",
       "      <td>richland</td>\n",
       "      <td>wa</td>\n",
       "      <td>us</td>\n",
       "      <td>circle</td>\n",
       "      <td>5</td>\n",
       "      <td>5 seconds</td>\n",
       "      <td>Night sighting of seven large luminous UFOs fl...</td>\n",
       "      <td>2010-11-21</td>\n",
       "      <td>46.2858333</td>\n",
       "      <td>-119.2833333</td>\n",
       "    </tr>\n",
       "    <tr>\n",
       "      <th>1710</th>\n",
       "      <td>1953-10-15 14:00:00</td>\n",
       "      <td>mauriceville</td>\n",
       "      <td>tx</td>\n",
       "      <td>us</td>\n",
       "      <td>disk</td>\n",
       "      <td>300</td>\n",
       "      <td>5 min.</td>\n",
       "      <td>My father was a WWW1 Vet. and loved hunting. T...</td>\n",
       "      <td>2002-11-04</td>\n",
       "      <td>30.2033333</td>\n",
       "      <td>-93.8661111</td>\n",
       "    </tr>\n",
       "    <tr>\n",
       "      <th>1711</th>\n",
       "      <td>1954-10-15 16:30:00</td>\n",
       "      <td>blanco</td>\n",
       "      <td>tx</td>\n",
       "      <td>us</td>\n",
       "      <td>other</td>\n",
       "      <td>300</td>\n",
       "      <td>3-5 mins</td>\n",
       "      <td>We saw a silver football&amp;#44 motionless in the...</td>\n",
       "      <td>2004-04-27</td>\n",
       "      <td>30.0977778</td>\n",
       "      <td>-98.4211111</td>\n",
       "    </tr>\n",
       "    <tr>\n",
       "      <th>1712</th>\n",
       "      <td>1954-10-15 21:30:00</td>\n",
       "      <td>manistee</td>\n",
       "      <td>mi</td>\n",
       "      <td>us</td>\n",
       "      <td>circle</td>\n",
       "      <td>8</td>\n",
       "      <td>8 seconds</td>\n",
       "      <td>Saucer shaped&amp;#44 moved north to south directl...</td>\n",
       "      <td>2008-01-21</td>\n",
       "      <td>44.2444444</td>\n",
       "      <td>-86.3241667</td>\n",
       "    </tr>\n",
       "    <tr>\n",
       "      <th>1713</th>\n",
       "      <td>1955-10-15 20:00:00</td>\n",
       "      <td>rhinebeck</td>\n",
       "      <td>ny</td>\n",
       "      <td>us</td>\n",
       "      <td>light</td>\n",
       "      <td>2400</td>\n",
       "      <td>40 minutes</td>\n",
       "      <td>This very distant star-like point of light cam...</td>\n",
       "      <td>2010-07-19</td>\n",
       "      <td>41.9266667</td>\n",
       "      <td>-73.9130556</td>\n",
       "    </tr>\n",
       "    <tr>\n",
       "      <th>1714</th>\n",
       "      <td>1956-10-15 01:00:00</td>\n",
       "      <td>mechra bel ksire (morocco)</td>\n",
       "      <td>NaN</td>\n",
       "      <td>NaN</td>\n",
       "      <td>unknown</td>\n",
       "      <td>300</td>\n",
       "      <td>approx. 5 minutes</td>\n",
       "      <td>Air Defense radar reflected an object with gre...</td>\n",
       "      <td>2005-04-16</td>\n",
       "      <td>34.56</td>\n",
       "      <td>-5.9500000</td>\n",
       "    </tr>\n",
       "    <tr>\n",
       "      <th>1715</th>\n",
       "      <td>1956-10-15 21:30:00</td>\n",
       "      <td>mt. vernon</td>\n",
       "      <td>in</td>\n",
       "      <td>NaN</td>\n",
       "      <td>disk</td>\n",
       "      <td>8</td>\n",
       "      <td>7 to 8 seconds</td>\n",
       "      <td>Clear night observation of lumenescent object ...</td>\n",
       "      <td>2000-07-11</td>\n",
       "      <td>37.932266</td>\n",
       "      <td>-87.8950270</td>\n",
       "    </tr>\n",
       "    <tr>\n",
       "      <th>1716</th>\n",
       "      <td>1957-10-15 02:00:00</td>\n",
       "      <td>new york city (queens)</td>\n",
       "      <td>ny</td>\n",
       "      <td>us</td>\n",
       "      <td>NaN</td>\n",
       "      <td>10800</td>\n",
       "      <td>2x3 hrs</td>\n",
       "      <td>tall unidentified being enters home - N.Y.C. 1957</td>\n",
       "      <td>2003-03-21</td>\n",
       "      <td>40.7141667</td>\n",
       "      <td>-74.0063889</td>\n",
       "    </tr>\n",
       "    <tr>\n",
       "      <th>1717</th>\n",
       "      <td>1957-10-15 20:30:00</td>\n",
       "      <td>houston (ellington afb)</td>\n",
       "      <td>tx</td>\n",
       "      <td>us</td>\n",
       "      <td>light</td>\n",
       "      <td>3</td>\n",
       "      <td>3 seconds</td>\n",
       "      <td>5 to 6&amp;quot; diameter light&amp;#44 extremely fast...</td>\n",
       "      <td>2000-09-17</td>\n",
       "      <td>29.7630556</td>\n",
       "      <td>-95.3630556</td>\n",
       "    </tr>\n",
       "    <tr>\n",
       "      <th>1718</th>\n",
       "      <td>1957-10-15 22:00:00</td>\n",
       "      <td>commerce city (n. of denver)</td>\n",
       "      <td>co</td>\n",
       "      <td>us</td>\n",
       "      <td>fireball</td>\n",
       "      <td>600</td>\n",
       "      <td>10 min.</td>\n",
       "      <td>A lot of methane gas in area</td>\n",
       "      <td>2002-09-19</td>\n",
       "      <td>39.8083333</td>\n",
       "      <td>-104.9333333</td>\n",
       "    </tr>\n",
       "    <tr>\n",
       "      <th>1719</th>\n",
       "      <td>1959-10-15 00:00:00</td>\n",
       "      <td>marysville</td>\n",
       "      <td>wa</td>\n",
       "      <td>us</td>\n",
       "      <td>other</td>\n",
       "      <td>75</td>\n",
       "      <td>1:15</td>\n",
       "      <td>UFO  Over  Golf Course</td>\n",
       "      <td>2007-04-27</td>\n",
       "      <td>48.0519444</td>\n",
       "      <td>-122.1758333</td>\n",
       "    </tr>\n",
       "    <tr>\n",
       "      <th>2280</th>\n",
       "      <td>1959-10-16 22:30:00</td>\n",
       "      <td>four states</td>\n",
       "      <td>wv</td>\n",
       "      <td>us</td>\n",
       "      <td>sphere</td>\n",
       "      <td>600</td>\n",
       "      <td>10 minutes</td>\n",
       "      <td>MYSTERIOUS RED LIGHTS  IN NORTHERN WEST VIRGINIA</td>\n",
       "      <td>2008-03-31</td>\n",
       "      <td>39.4797222</td>\n",
       "      <td>-80.3100000</td>\n",
       "    </tr>\n",
       "    <tr>\n",
       "      <th>3088</th>\n",
       "      <td>1958-10-20 21:00:00</td>\n",
       "      <td>st. paul</td>\n",
       "      <td>mn</td>\n",
       "      <td>us</td>\n",
       "      <td>other</td>\n",
       "      <td>2</td>\n",
       "      <td>2 seconds</td>\n",
       "      <td>A dull-orange craft sped southbound at low alt...</td>\n",
       "      <td>2000-03-16</td>\n",
       "      <td>44.9444444</td>\n",
       "      <td>-93.0930556</td>\n",
       "    </tr>\n",
       "    <tr>\n",
       "      <th>4428</th>\n",
       "      <td>1958-10-25 20:00:00</td>\n",
       "      <td>terrebonne</td>\n",
       "      <td>or</td>\n",
       "      <td>us</td>\n",
       "      <td>unknown</td>\n",
       "      <td>120</td>\n",
       "      <td>1-2 minutes</td>\n",
       "      <td>Piercing&amp;#44 shrill tone.</td>\n",
       "      <td>2012-08-05</td>\n",
       "      <td>44.3530556</td>\n",
       "      <td>-121.1766667</td>\n",
       "    </tr>\n",
       "    <tr>\n",
       "      <th>5413</th>\n",
       "      <td>1958-10-30 01:00:00</td>\n",
       "      <td>riverside</td>\n",
       "      <td>il</td>\n",
       "      <td>us</td>\n",
       "      <td>light</td>\n",
       "      <td>600</td>\n",
       "      <td>10 minutes (?)</td>\n",
       "      <td>Chicago suburbs&amp;#44 strange lights and figures...</td>\n",
       "      <td>2007-04-27</td>\n",
       "      <td>41.835</td>\n",
       "      <td>-87.8227778</td>\n",
       "    </tr>\n",
       "    <tr>\n",
       "      <th>5636</th>\n",
       "      <td>1953-10-31 19:00:00</td>\n",
       "      <td>new orleans</td>\n",
       "      <td>la</td>\n",
       "      <td>us</td>\n",
       "      <td>oval</td>\n",
       "      <td>2</td>\n",
       "      <td>seconds</td>\n",
       "      <td>20+ ovals flying over New Orleans</td>\n",
       "      <td>2005-09-02</td>\n",
       "      <td>29.9544444</td>\n",
       "      <td>-90.0750000</td>\n",
       "    </tr>\n",
       "    <tr>\n",
       "      <th>6020</th>\n",
       "      <td>1955-10-03 06:00:00</td>\n",
       "      <td>stanley (near) (canada)</td>\n",
       "      <td>nb</td>\n",
       "      <td>ca</td>\n",
       "      <td>disk</td>\n",
       "      <td>7200</td>\n",
       "      <td>2 hours</td>\n",
       "      <td>This is a true story as given to me</td>\n",
       "      <td>2005-04-16</td>\n",
       "      <td>55.416667</td>\n",
       "      <td>-104.5500000</td>\n",
       "    </tr>\n",
       "    <tr>\n",
       "      <th>...</th>\n",
       "      <td>...</td>\n",
       "      <td>...</td>\n",
       "      <td>...</td>\n",
       "      <td>...</td>\n",
       "      <td>...</td>\n",
       "      <td>...</td>\n",
       "      <td>...</td>\n",
       "      <td>...</td>\n",
       "      <td>...</td>\n",
       "      <td>...</td>\n",
       "      <td>...</td>\n",
       "    </tr>\n",
       "    <tr>\n",
       "      <th>72268</th>\n",
       "      <td>1958-08-08 15:00:00</td>\n",
       "      <td>scarborough</td>\n",
       "      <td>me</td>\n",
       "      <td>us</td>\n",
       "      <td>disk</td>\n",
       "      <td>600</td>\n",
       "      <td>10 minutes</td>\n",
       "      <td>I was a young girl around 1958 when I saw a sa...</td>\n",
       "      <td>2005-04-16</td>\n",
       "      <td>43.578056</td>\n",
       "      <td>-70.3222222</td>\n",
       "    </tr>\n",
       "    <tr>\n",
       "      <th>72548</th>\n",
       "      <td>1957-08-09 00:30:00</td>\n",
       "      <td>san diego (north of&amp;#44 at sea)</td>\n",
       "      <td>ca</td>\n",
       "      <td>us</td>\n",
       "      <td>disk</td>\n",
       "      <td>900</td>\n",
       "      <td>15 minutes</td>\n",
       "      <td>At least a hundred miles out to sea&amp;#44 a long...</td>\n",
       "      <td>2004-08-11</td>\n",
       "      <td>32.715278</td>\n",
       "      <td>-117.1563889</td>\n",
       "    </tr>\n",
       "    <tr>\n",
       "      <th>72743</th>\n",
       "      <td>1957-09-10 19:15:00</td>\n",
       "      <td>st. paul</td>\n",
       "      <td>mn</td>\n",
       "      <td>us</td>\n",
       "      <td>disk</td>\n",
       "      <td>300</td>\n",
       "      <td>five minutes</td>\n",
       "      <td>3 UFO&amp;#39s saucer-shaped with flashing lights ...</td>\n",
       "      <td>2005-04-16</td>\n",
       "      <td>44.944444</td>\n",
       "      <td>-93.0930556</td>\n",
       "    </tr>\n",
       "    <tr>\n",
       "      <th>72744</th>\n",
       "      <td>1960-09-10 10:00:00</td>\n",
       "      <td>wichita</td>\n",
       "      <td>ks</td>\n",
       "      <td>us</td>\n",
       "      <td>oval</td>\n",
       "      <td>1200</td>\n",
       "      <td>20 min.</td>\n",
       "      <td>MADE  ONY  A  HUMMING SOUND EVEN WHEN  IT TOOK...</td>\n",
       "      <td>2004-07-25</td>\n",
       "      <td>37.692222</td>\n",
       "      <td>-97.3372222</td>\n",
       "    </tr>\n",
       "    <tr>\n",
       "      <th>73293</th>\n",
       "      <td>1954-09-01 13:00:00</td>\n",
       "      <td>geneva</td>\n",
       "      <td>ny</td>\n",
       "      <td>us</td>\n",
       "      <td>disk</td>\n",
       "      <td>120</td>\n",
       "      <td>couple of minutes</td>\n",
       "      <td>While marching on a bivouac maneuver in (?) Se...</td>\n",
       "      <td>2003-10-15</td>\n",
       "      <td>42.868889</td>\n",
       "      <td>-76.9780556</td>\n",
       "    </tr>\n",
       "    <tr>\n",
       "      <th>73294</th>\n",
       "      <td>1957-09-01 16:00:00</td>\n",
       "      <td>graham</td>\n",
       "      <td>tx</td>\n",
       "      <td>us</td>\n",
       "      <td>sphere</td>\n",
       "      <td>30</td>\n",
       "      <td>30 sec</td>\n",
       "      <td>Three shiny spheres over Graham Texas</td>\n",
       "      <td>2009-01-10</td>\n",
       "      <td>33.106944</td>\n",
       "      <td>-98.5891667</td>\n",
       "    </tr>\n",
       "    <tr>\n",
       "      <th>73295</th>\n",
       "      <td>1957-09-01 23:00:00</td>\n",
       "      <td>brecksville</td>\n",
       "      <td>oh</td>\n",
       "      <td>us</td>\n",
       "      <td>circle</td>\n",
       "      <td>180</td>\n",
       "      <td>3 minutes</td>\n",
       "      <td>20 ft in diameter glowing ufo landed a few fee...</td>\n",
       "      <td>2007-02-01</td>\n",
       "      <td>41.319722</td>\n",
       "      <td>-81.6269444</td>\n",
       "    </tr>\n",
       "    <tr>\n",
       "      <th>73296</th>\n",
       "      <td>1958-09-01 20:00:00</td>\n",
       "      <td>fargo</td>\n",
       "      <td>nd</td>\n",
       "      <td>us</td>\n",
       "      <td>disk</td>\n",
       "      <td>900</td>\n",
       "      <td>15 min</td>\n",
       "      <td>Flying Saucer seen while driving home from work.</td>\n",
       "      <td>2003-05-27</td>\n",
       "      <td>46.877222</td>\n",
       "      <td>-96.7894444</td>\n",
       "    </tr>\n",
       "    <tr>\n",
       "      <th>74266</th>\n",
       "      <td>1958-09-14 19:30:00</td>\n",
       "      <td>ashland</td>\n",
       "      <td>ky</td>\n",
       "      <td>us</td>\n",
       "      <td>circle</td>\n",
       "      <td>45</td>\n",
       "      <td>45 seconds</td>\n",
       "      <td>Near observations of a slow moving silent obje...</td>\n",
       "      <td>2008-02-14</td>\n",
       "      <td>38.478333</td>\n",
       "      <td>-82.6380556</td>\n",
       "    </tr>\n",
       "    <tr>\n",
       "      <th>74517</th>\n",
       "      <td>1952-09-15 14:00:00</td>\n",
       "      <td>norridgewock</td>\n",
       "      <td>me</td>\n",
       "      <td>us</td>\n",
       "      <td>disk</td>\n",
       "      <td>300</td>\n",
       "      <td>4-5 minutes</td>\n",
       "      <td>SUNNY DAY&amp;#44 WITHIN 450 FEET&amp;#44 LOW...REPORT...</td>\n",
       "      <td>2000-12-02</td>\n",
       "      <td>44.713056</td>\n",
       "      <td>-69.7911111</td>\n",
       "    </tr>\n",
       "    <tr>\n",
       "      <th>74518</th>\n",
       "      <td>1954-09-15 09:30:00</td>\n",
       "      <td>palmer township</td>\n",
       "      <td>pa</td>\n",
       "      <td>NaN</td>\n",
       "      <td>other</td>\n",
       "      <td>600</td>\n",
       "      <td>9-10 minutes</td>\n",
       "      <td>Saturn-shaped object appearing over the Pennsy...</td>\n",
       "      <td>2007-11-28</td>\n",
       "      <td>40.716765</td>\n",
       "      <td>-75.2493440</td>\n",
       "    </tr>\n",
       "    <tr>\n",
       "      <th>74519</th>\n",
       "      <td>1956-09-15 20:00:00</td>\n",
       "      <td>middle river</td>\n",
       "      <td>md</td>\n",
       "      <td>us</td>\n",
       "      <td>circle</td>\n",
       "      <td>60</td>\n",
       "      <td>1 min</td>\n",
       "      <td>three round blue-white disks in V formation mo...</td>\n",
       "      <td>2005-12-16</td>\n",
       "      <td>39.334167</td>\n",
       "      <td>-76.4397222</td>\n",
       "    </tr>\n",
       "    <tr>\n",
       "      <th>74520</th>\n",
       "      <td>1957-09-15 04:00:00</td>\n",
       "      <td>el paso</td>\n",
       "      <td>tx</td>\n",
       "      <td>us</td>\n",
       "      <td>disk</td>\n",
       "      <td>600</td>\n",
       "      <td>10 min</td>\n",
       "      <td>Undified Flying Object</td>\n",
       "      <td>2008-02-14</td>\n",
       "      <td>31.758611</td>\n",
       "      <td>-106.4863889</td>\n",
       "    </tr>\n",
       "    <tr>\n",
       "      <th>74521</th>\n",
       "      <td>1957-09-15 21:30:00</td>\n",
       "      <td>lake jackson</td>\n",
       "      <td>tx</td>\n",
       "      <td>us</td>\n",
       "      <td>fireball</td>\n",
       "      <td>13</td>\n",
       "      <td>13 sec</td>\n",
       "      <td>fireball seen on country  road.</td>\n",
       "      <td>2009-01-10</td>\n",
       "      <td>29.033611</td>\n",
       "      <td>-95.4341667</td>\n",
       "    </tr>\n",
       "    <tr>\n",
       "      <th>74522</th>\n",
       "      <td>1957-09-15 23:00:00</td>\n",
       "      <td>tacoma</td>\n",
       "      <td>wa</td>\n",
       "      <td>us</td>\n",
       "      <td>disk</td>\n",
       "      <td>20</td>\n",
       "      <td>20 seconds</td>\n",
       "      <td>a large disk spacecraft the size of a Boeing 7...</td>\n",
       "      <td>2004-03-02</td>\n",
       "      <td>47.253056</td>\n",
       "      <td>-122.4430556</td>\n",
       "    </tr>\n",
       "    <tr>\n",
       "      <th>74523</th>\n",
       "      <td>1959-09-15 01:00:00</td>\n",
       "      <td>goldfield</td>\n",
       "      <td>nv</td>\n",
       "      <td>us</td>\n",
       "      <td>light</td>\n",
       "      <td>60</td>\n",
       "      <td>1 minute</td>\n",
       "      <td>The object hovered over the pick-up&amp;#44 and ra...</td>\n",
       "      <td>2005-04-16</td>\n",
       "      <td>37.708611</td>\n",
       "      <td>-117.2347222</td>\n",
       "    </tr>\n",
       "    <tr>\n",
       "      <th>74524</th>\n",
       "      <td>1959-09-15 11:30:00</td>\n",
       "      <td>dayton</td>\n",
       "      <td>oh</td>\n",
       "      <td>us</td>\n",
       "      <td>disk</td>\n",
       "      <td>900</td>\n",
       "      <td>15 mini</td>\n",
       "      <td>formation of 6 saucers moving from Wright Pate...</td>\n",
       "      <td>2005-02-08</td>\n",
       "      <td>39.758889</td>\n",
       "      <td>-84.1916667</td>\n",
       "    </tr>\n",
       "    <tr>\n",
       "      <th>74526</th>\n",
       "      <td>1960-09-15 19:00:00</td>\n",
       "      <td>kingsport</td>\n",
       "      <td>tn</td>\n",
       "      <td>us</td>\n",
       "      <td>circle</td>\n",
       "      <td>300</td>\n",
       "      <td>5 minutes</td>\n",
       "      <td>An orange&amp;#44 circular craft drifted over the ...</td>\n",
       "      <td>1999-01-28</td>\n",
       "      <td>36.548333</td>\n",
       "      <td>-82.5619444</td>\n",
       "    </tr>\n",
       "    <tr>\n",
       "      <th>74527</th>\n",
       "      <td>1960-09-15 20:30:00</td>\n",
       "      <td>seattle</td>\n",
       "      <td>wa</td>\n",
       "      <td>us</td>\n",
       "      <td>disk</td>\n",
       "      <td>120</td>\n",
       "      <td>2 min. for me&amp;#44 longer for</td>\n",
       "      <td>Triple disc sighting prior to dusk with a ligh...</td>\n",
       "      <td>2004-04-27</td>\n",
       "      <td>47.606389</td>\n",
       "      <td>-122.3308333</td>\n",
       "    </tr>\n",
       "    <tr>\n",
       "      <th>74528</th>\n",
       "      <td>1960-09-15 21:00:00</td>\n",
       "      <td>susanville</td>\n",
       "      <td>ca</td>\n",
       "      <td>us</td>\n",
       "      <td>NaN</td>\n",
       "      <td>360</td>\n",
       "      <td>5-6 minutes</td>\n",
       "      <td>Three craft in formation&amp;#44 high altitude&amp;#44...</td>\n",
       "      <td>2004-04-27</td>\n",
       "      <td>40.416389</td>\n",
       "      <td>-120.6519444</td>\n",
       "    </tr>\n",
       "    <tr>\n",
       "      <th>74529</th>\n",
       "      <td>1960-09-15 21:30:00</td>\n",
       "      <td>barrhead (canada)</td>\n",
       "      <td>ab</td>\n",
       "      <td>ca</td>\n",
       "      <td>other</td>\n",
       "      <td>1200</td>\n",
       "      <td>20 minutes</td>\n",
       "      <td>HBCCUFO CANADIAN REPORT:  Daddy&amp;#44 there is a...</td>\n",
       "      <td>2003-08-28</td>\n",
       "      <td>54.116667</td>\n",
       "      <td>-114.4000000</td>\n",
       "    </tr>\n",
       "    <tr>\n",
       "      <th>75992</th>\n",
       "      <td>1956-09-20 16:00:00</td>\n",
       "      <td>hope</td>\n",
       "      <td>ar</td>\n",
       "      <td>us</td>\n",
       "      <td>circle</td>\n",
       "      <td>1200</td>\n",
       "      <td>20 minutes</td>\n",
       "      <td>Sitting on a pond bank on sunny afternoon when...</td>\n",
       "      <td>2005-04-16</td>\n",
       "      <td>33.666944</td>\n",
       "      <td>-93.5913889</td>\n",
       "    </tr>\n",
       "    <tr>\n",
       "      <th>75993</th>\n",
       "      <td>1957-09-20 00:00:00</td>\n",
       "      <td>hopkinsville</td>\n",
       "      <td>ky</td>\n",
       "      <td>us</td>\n",
       "      <td>cigar</td>\n",
       "      <td>600</td>\n",
       "      <td>10 minutes</td>\n",
       "      <td>4 matalic silver cigar shaped objects; no soun...</td>\n",
       "      <td>2003-08-28</td>\n",
       "      <td>36.865556</td>\n",
       "      <td>-87.4886111</td>\n",
       "    </tr>\n",
       "    <tr>\n",
       "      <th>75994</th>\n",
       "      <td>1958-09-20 22:20:00</td>\n",
       "      <td>davis jct. (on highway72 east to highway 51 no...</td>\n",
       "      <td>il</td>\n",
       "      <td>NaN</td>\n",
       "      <td>fireball</td>\n",
       "      <td>300</td>\n",
       "      <td>5min</td>\n",
       "      <td>red light with A GLOW AROUND IT DRIVING TO WOR...</td>\n",
       "      <td>1999-04-02</td>\n",
       "      <td>42.101692</td>\n",
       "      <td>-89.0931570</td>\n",
       "    </tr>\n",
       "    <tr>\n",
       "      <th>79261</th>\n",
       "      <td>1957-09-05 17:30:00</td>\n",
       "      <td>los gatos (west of)</td>\n",
       "      <td>ca</td>\n",
       "      <td>us</td>\n",
       "      <td>disk</td>\n",
       "      <td>60</td>\n",
       "      <td>one minute or less</td>\n",
       "      <td>3 craft seen in day light&amp;#44 very low altitud...</td>\n",
       "      <td>2006-10-30</td>\n",
       "      <td>37.226667</td>\n",
       "      <td>-121.9736111</td>\n",
       "    </tr>\n",
       "    <tr>\n",
       "      <th>79262</th>\n",
       "      <td>1960-09-05 21:00:00</td>\n",
       "      <td>buffalo</td>\n",
       "      <td>ny</td>\n",
       "      <td>us</td>\n",
       "      <td>oval</td>\n",
       "      <td>180</td>\n",
       "      <td>3 minutes</td>\n",
       "      <td>Precise movements of a &amp;quot;craft&amp;quot; appar...</td>\n",
       "      <td>2005-09-15</td>\n",
       "      <td>42.886389</td>\n",
       "      <td>-78.8786111</td>\n",
       "    </tr>\n",
       "    <tr>\n",
       "      <th>79668</th>\n",
       "      <td>1958-09-07 19:00:00</td>\n",
       "      <td>arthur</td>\n",
       "      <td>nd</td>\n",
       "      <td>us</td>\n",
       "      <td>unknown</td>\n",
       "      <td>900</td>\n",
       "      <td>5-15 min.</td>\n",
       "      <td>Two lights of alternating color traveling and ...</td>\n",
       "      <td>2003-10-31</td>\n",
       "      <td>47.104167</td>\n",
       "      <td>-97.2177778</td>\n",
       "    </tr>\n",
       "    <tr>\n",
       "      <th>80101</th>\n",
       "      <td>1952-09-09 20:00:00</td>\n",
       "      <td>philadelphia</td>\n",
       "      <td>pa</td>\n",
       "      <td>us</td>\n",
       "      <td>circle</td>\n",
       "      <td>180</td>\n",
       "      <td>3 minutes</td>\n",
       "      <td>saucers in a line over Phila Pa.</td>\n",
       "      <td>2009-12-12</td>\n",
       "      <td>39.952222</td>\n",
       "      <td>-75.1641667</td>\n",
       "    </tr>\n",
       "    <tr>\n",
       "      <th>80102</th>\n",
       "      <td>1954-09-09 12:30:00</td>\n",
       "      <td>beaumont</td>\n",
       "      <td>tx</td>\n",
       "      <td>us</td>\n",
       "      <td>disk</td>\n",
       "      <td>300</td>\n",
       "      <td>5 minutes</td>\n",
       "      <td>Aprox. 30 Disk shaped UFOs fell out of clouds ...</td>\n",
       "      <td>2004-01-17</td>\n",
       "      <td>30.085833</td>\n",
       "      <td>-94.1016667</td>\n",
       "    </tr>\n",
       "    <tr>\n",
       "      <th>80103</th>\n",
       "      <td>1956-09-09 05:55:00</td>\n",
       "      <td>norfolk</td>\n",
       "      <td>va</td>\n",
       "      <td>us</td>\n",
       "      <td>cigar</td>\n",
       "      <td>90</td>\n",
       "      <td>1.5 minutes</td>\n",
       "      <td>Unidentified Object Hovering over Interstate 2...</td>\n",
       "      <td>2007-02-24</td>\n",
       "      <td>36.846667</td>\n",
       "      <td>-76.2855556</td>\n",
       "    </tr>\n",
       "  </tbody>\n",
       "</table>\n",
       "<p>445 rows × 11 columns</p>\n",
       "</div>"
      ],
      "text/plain": [
       "                Date_time                                               city state/province  \\\n",
       "2     1955-10-10 17:00:00                               chester (uk/england)            NaN   \n",
       "3     1956-10-10 21:00:00                                               edna             tx   \n",
       "4     1960-10-10 20:00:00                                            kaneohe             hi   \n",
       "480   1952-10-01 03:30:00                                    fukuoka (japan)            NaN   \n",
       "481   1952-10-01 12:00:00                                        kansas city             mo   \n",
       "482   1954-10-01 19:00:00                                          flatwoods             wv   \n",
       "483   1955-10-01 22:00:00                                   mono lake (area)             ca   \n",
       "484   1956-10-01 19:00:00                                            newport             nh   \n",
       "485   1957-10-01 16:00:00                                    nelchina (near)             ak   \n",
       "486   1957-10-01 21:00:00                                           paterson             nj   \n",
       "487   1957-10-01 22:00:00                                 northeast cape afs             ak   \n",
       "488   1959-10-01 19:00:00                                       jacksonville             il   \n",
       "1707  1950-10-15 15:00:00                               sandy hook/highlands             nj   \n",
       "1708  1952-10-15 21:00:00                                           richland             wa   \n",
       "1710  1953-10-15 14:00:00                                       mauriceville             tx   \n",
       "1711  1954-10-15 16:30:00                                             blanco             tx   \n",
       "1712  1954-10-15 21:30:00                                           manistee             mi   \n",
       "1713  1955-10-15 20:00:00                                          rhinebeck             ny   \n",
       "1714  1956-10-15 01:00:00                         mechra bel ksire (morocco)            NaN   \n",
       "1715  1956-10-15 21:30:00                                         mt. vernon             in   \n",
       "1716  1957-10-15 02:00:00                             new york city (queens)             ny   \n",
       "1717  1957-10-15 20:30:00                            houston (ellington afb)             tx   \n",
       "1718  1957-10-15 22:00:00                       commerce city (n. of denver)             co   \n",
       "1719  1959-10-15 00:00:00                                         marysville             wa   \n",
       "2280  1959-10-16 22:30:00                                        four states             wv   \n",
       "3088  1958-10-20 21:00:00                                           st. paul             mn   \n",
       "4428  1958-10-25 20:00:00                                         terrebonne             or   \n",
       "5413  1958-10-30 01:00:00                                          riverside             il   \n",
       "5636  1953-10-31 19:00:00                                        new orleans             la   \n",
       "6020  1955-10-03 06:00:00                            stanley (near) (canada)             nb   \n",
       "...                   ...                                                ...            ...   \n",
       "72268 1958-08-08 15:00:00                                        scarborough             me   \n",
       "72548 1957-08-09 00:30:00                    san diego (north of&#44 at sea)             ca   \n",
       "72743 1957-09-10 19:15:00                                           st. paul             mn   \n",
       "72744 1960-09-10 10:00:00                                            wichita             ks   \n",
       "73293 1954-09-01 13:00:00                                             geneva             ny   \n",
       "73294 1957-09-01 16:00:00                                             graham             tx   \n",
       "73295 1957-09-01 23:00:00                                        brecksville             oh   \n",
       "73296 1958-09-01 20:00:00                                              fargo             nd   \n",
       "74266 1958-09-14 19:30:00                                            ashland             ky   \n",
       "74517 1952-09-15 14:00:00                                       norridgewock             me   \n",
       "74518 1954-09-15 09:30:00                                    palmer township             pa   \n",
       "74519 1956-09-15 20:00:00                                       middle river             md   \n",
       "74520 1957-09-15 04:00:00                                            el paso             tx   \n",
       "74521 1957-09-15 21:30:00                                       lake jackson             tx   \n",
       "74522 1957-09-15 23:00:00                                             tacoma             wa   \n",
       "74523 1959-09-15 01:00:00                                          goldfield             nv   \n",
       "74524 1959-09-15 11:30:00                                             dayton             oh   \n",
       "74526 1960-09-15 19:00:00                                          kingsport             tn   \n",
       "74527 1960-09-15 20:30:00                                            seattle             wa   \n",
       "74528 1960-09-15 21:00:00                                         susanville             ca   \n",
       "74529 1960-09-15 21:30:00                                  barrhead (canada)             ab   \n",
       "75992 1956-09-20 16:00:00                                               hope             ar   \n",
       "75993 1957-09-20 00:00:00                                       hopkinsville             ky   \n",
       "75994 1958-09-20 22:20:00  davis jct. (on highway72 east to highway 51 no...             il   \n",
       "79261 1957-09-05 17:30:00                                los gatos (west of)             ca   \n",
       "79262 1960-09-05 21:00:00                                            buffalo             ny   \n",
       "79668 1958-09-07 19:00:00                                             arthur             nd   \n",
       "80101 1952-09-09 20:00:00                                       philadelphia             pa   \n",
       "80102 1954-09-09 12:30:00                                           beaumont             tx   \n",
       "80103 1956-09-09 05:55:00                                            norfolk             va   \n",
       "\n",
       "      country  UFO_shape length_of_encounter_seconds described_duration_of_encounter  \\\n",
       "2          gb     circle                          20                      20 seconds   \n",
       "3          us     circle                          20                        1/2 hour   \n",
       "4          us      light                         900                      15 minutes   \n",
       "480       NaN       disk                        1200                   about 20 mins   \n",
       "481        us       disk                          90                         90 sec.   \n",
       "482        us     circle                          60                        1 minute   \n",
       "483       NaN     circle                           5                 five seconds+/-   \n",
       "484        us  rectangle                         300                       5 minutes   \n",
       "485        us    unknown                         180               3 minutes maximum   \n",
       "486        us       disk                          10                      10 seconds   \n",
       "487       NaN        NaN                         900                        10-15min   \n",
       "488        us    unknown                          60                        1 minute   \n",
       "1707      NaN   triangle                         300                       5 minutes   \n",
       "1708       us     circle                           5                       5 seconds   \n",
       "1710       us       disk                         300                          5 min.   \n",
       "1711       us      other                         300                        3-5 mins   \n",
       "1712       us     circle                           8                       8 seconds   \n",
       "1713       us      light                        2400                      40 minutes   \n",
       "1714      NaN    unknown                         300               approx. 5 minutes   \n",
       "1715      NaN       disk                           8                  7 to 8 seconds   \n",
       "1716       us        NaN                       10800                         2x3 hrs   \n",
       "1717       us      light                           3                       3 seconds   \n",
       "1718       us   fireball                         600                         10 min.   \n",
       "1719       us      other                          75                            1:15   \n",
       "2280       us     sphere                         600                      10 minutes   \n",
       "3088       us      other                           2                       2 seconds   \n",
       "4428       us    unknown                         120                     1-2 minutes   \n",
       "5413       us      light                         600                  10 minutes (?)   \n",
       "5636       us       oval                           2                         seconds   \n",
       "6020       ca       disk                        7200                         2 hours   \n",
       "...       ...        ...                         ...                             ...   \n",
       "72268      us       disk                         600                      10 minutes   \n",
       "72548      us       disk                         900                      15 minutes   \n",
       "72743      us       disk                         300                    five minutes   \n",
       "72744      us       oval                        1200                         20 min.   \n",
       "73293      us       disk                         120               couple of minutes   \n",
       "73294      us     sphere                          30                          30 sec   \n",
       "73295      us     circle                         180                       3 minutes   \n",
       "73296      us       disk                         900                          15 min   \n",
       "74266      us     circle                          45                      45 seconds   \n",
       "74517      us       disk                         300                     4-5 minutes   \n",
       "74518     NaN      other                         600                    9-10 minutes   \n",
       "74519      us     circle                          60                           1 min   \n",
       "74520      us       disk                         600                          10 min   \n",
       "74521      us   fireball                          13                          13 sec   \n",
       "74522      us       disk                          20                      20 seconds   \n",
       "74523      us      light                          60                        1 minute   \n",
       "74524      us       disk                         900                         15 mini   \n",
       "74526      us     circle                         300                       5 minutes   \n",
       "74527      us       disk                         120    2 min. for me&#44 longer for   \n",
       "74528      us        NaN                         360                     5-6 minutes   \n",
       "74529      ca      other                        1200                      20 minutes   \n",
       "75992      us     circle                        1200                      20 minutes   \n",
       "75993      us      cigar                         600                      10 minutes   \n",
       "75994     NaN   fireball                         300                            5min   \n",
       "79261      us       disk                          60              one minute or less   \n",
       "79262      us       oval                         180                       3 minutes   \n",
       "79668      us    unknown                         900                       5-15 min.   \n",
       "80101      us     circle                         180                       3 minutes   \n",
       "80102      us       disk                         300                       5 minutes   \n",
       "80103      us      cigar                          90                     1.5 minutes   \n",
       "\n",
       "                                             description date_documented    latitude    longitude  \n",
       "2      Green/Orange circular disc over Chester&#44 En...      2008-01-21        53.2   -2.9166670  \n",
       "3      My older brother and twin sister were leaving ...      2004-01-17  28.9783333  -96.6458333  \n",
       "4      AS a Marine 1st Lt. flying an FJ4B fighter/att...      2004-01-22  21.4180556 -157.8036111  \n",
       "480    UFO seen by multiple U. S. military personnel;...      2006-12-07   33.590355  130.4017160  \n",
       "481    1952 daylight sighting of multiple discs in fo...      2008-10-31  39.0997222  -94.5783333  \n",
       "482    I saw the craft go across the horizon.  It app...      2013-04-12  38.7230556  -80.6500000  \n",
       "483    NO KNOWN AIRCRAFT (1955 and maybe today) COULD...      2009-03-19   38.007059 -119.0122590  \n",
       "484    Disk with glass center section&#44 and flames ...      2005-04-16  43.3652778  -72.1738889  \n",
       "485    This incident occurred about October of 1956 o...      2006-12-07  61.9919444 -146.7686111  \n",
       "486    Formation of approximately 8 light gray metall...      2005-04-16  40.9166667  -74.1722222  \n",
       "487                           Radar sighting and filming      1999-01-28   70.292489 -161.9033340  \n",
       "488    Late 1959&#44 bright lights from a hovering ob...      2005-04-16  39.7338889  -90.2288889  \n",
       "1707                 Triangles over New York Harbor 1950      2006-10-30   40.443164  -73.9898610  \n",
       "1708   Night sighting of seven large luminous UFOs fl...      2010-11-21  46.2858333 -119.2833333  \n",
       "1710   My father was a WWW1 Vet. and loved hunting. T...      2002-11-04  30.2033333  -93.8661111  \n",
       "1711   We saw a silver football&#44 motionless in the...      2004-04-27  30.0977778  -98.4211111  \n",
       "1712   Saucer shaped&#44 moved north to south directl...      2008-01-21  44.2444444  -86.3241667  \n",
       "1713   This very distant star-like point of light cam...      2010-07-19  41.9266667  -73.9130556  \n",
       "1714   Air Defense radar reflected an object with gre...      2005-04-16       34.56   -5.9500000  \n",
       "1715   Clear night observation of lumenescent object ...      2000-07-11   37.932266  -87.8950270  \n",
       "1716   tall unidentified being enters home - N.Y.C. 1957      2003-03-21  40.7141667  -74.0063889  \n",
       "1717   5 to 6&quot; diameter light&#44 extremely fast...      2000-09-17  29.7630556  -95.3630556  \n",
       "1718                        A lot of methane gas in area      2002-09-19  39.8083333 -104.9333333  \n",
       "1719                              UFO  Over  Golf Course      2007-04-27  48.0519444 -122.1758333  \n",
       "2280    MYSTERIOUS RED LIGHTS  IN NORTHERN WEST VIRGINIA      2008-03-31  39.4797222  -80.3100000  \n",
       "3088   A dull-orange craft sped southbound at low alt...      2000-03-16  44.9444444  -93.0930556  \n",
       "4428                           Piercing&#44 shrill tone.      2012-08-05  44.3530556 -121.1766667  \n",
       "5413   Chicago suburbs&#44 strange lights and figures...      2007-04-27      41.835  -87.8227778  \n",
       "5636                   20+ ovals flying over New Orleans      2005-09-02  29.9544444  -90.0750000  \n",
       "6020                 This is a true story as given to me      2005-04-16   55.416667 -104.5500000  \n",
       "...                                                  ...             ...         ...          ...  \n",
       "72268  I was a young girl around 1958 when I saw a sa...      2005-04-16   43.578056  -70.3222222  \n",
       "72548  At least a hundred miles out to sea&#44 a long...      2004-08-11   32.715278 -117.1563889  \n",
       "72743  3 UFO&#39s saucer-shaped with flashing lights ...      2005-04-16   44.944444  -93.0930556  \n",
       "72744  MADE  ONY  A  HUMMING SOUND EVEN WHEN  IT TOOK...      2004-07-25   37.692222  -97.3372222  \n",
       "73293  While marching on a bivouac maneuver in (?) Se...      2003-10-15   42.868889  -76.9780556  \n",
       "73294              Three shiny spheres over Graham Texas      2009-01-10   33.106944  -98.5891667  \n",
       "73295  20 ft in diameter glowing ufo landed a few fee...      2007-02-01   41.319722  -81.6269444  \n",
       "73296   Flying Saucer seen while driving home from work.      2003-05-27   46.877222  -96.7894444  \n",
       "74266  Near observations of a slow moving silent obje...      2008-02-14   38.478333  -82.6380556  \n",
       "74517  SUNNY DAY&#44 WITHIN 450 FEET&#44 LOW...REPORT...      2000-12-02   44.713056  -69.7911111  \n",
       "74518  Saturn-shaped object appearing over the Pennsy...      2007-11-28   40.716765  -75.2493440  \n",
       "74519  three round blue-white disks in V formation mo...      2005-12-16   39.334167  -76.4397222  \n",
       "74520                             Undified Flying Object      2008-02-14   31.758611 -106.4863889  \n",
       "74521                    fireball seen on country  road.      2009-01-10   29.033611  -95.4341667  \n",
       "74522  a large disk spacecraft the size of a Boeing 7...      2004-03-02   47.253056 -122.4430556  \n",
       "74523  The object hovered over the pick-up&#44 and ra...      2005-04-16   37.708611 -117.2347222  \n",
       "74524  formation of 6 saucers moving from Wright Pate...      2005-02-08   39.758889  -84.1916667  \n",
       "74526  An orange&#44 circular craft drifted over the ...      1999-01-28   36.548333  -82.5619444  \n",
       "74527  Triple disc sighting prior to dusk with a ligh...      2004-04-27   47.606389 -122.3308333  \n",
       "74528  Three craft in formation&#44 high altitude&#44...      2004-04-27   40.416389 -120.6519444  \n",
       "74529  HBCCUFO CANADIAN REPORT:  Daddy&#44 there is a...      2003-08-28   54.116667 -114.4000000  \n",
       "75992  Sitting on a pond bank on sunny afternoon when...      2005-04-16   33.666944  -93.5913889  \n",
       "75993  4 matalic silver cigar shaped objects; no soun...      2003-08-28   36.865556  -87.4886111  \n",
       "75994  red light with A GLOW AROUND IT DRIVING TO WOR...      1999-04-02   42.101692  -89.0931570  \n",
       "79261  3 craft seen in day light&#44 very low altitud...      2006-10-30   37.226667 -121.9736111  \n",
       "79262  Precise movements of a &quot;craft&quot; appar...      2005-09-15   42.886389  -78.8786111  \n",
       "79668  Two lights of alternating color traveling and ...      2003-10-31   47.104167  -97.2177778  \n",
       "80101                   saucers in a line over Phila Pa.      2009-12-12   39.952222  -75.1641667  \n",
       "80102  Aprox. 30 Disk shaped UFOs fell out of clouds ...      2004-01-17   30.085833  -94.1016667  \n",
       "80103  Unidentified Object Hovering over Interstate 2...      2007-02-24   36.846667  -76.2855556  \n",
       "\n",
       "[445 rows x 11 columns]"
      ]
     },
     "execution_count": 144,
     "metadata": {},
     "output_type": "execute_result"
    }
   ],
   "source": [
    "ufo.loc[(ufo.Date_time>='1950-10-10 00:00:00') & (ufo.Date_time<='1960-10-10 23:59:59')]"
   ]
  },
  {
   "cell_type": "markdown",
   "metadata": {},
   "source": [
    "**Q132. Write a Pandas program to extract the year, month, day, hour, minute, second, and weekday from unidentified flying object (UFO) reporting date.**"
   ]
  },
  {
   "cell_type": "code",
   "execution_count": 145,
   "metadata": {},
   "outputs": [
    {
     "name": "stdout",
     "output_type": "stream",
     "text": [
      "Year--> 0    1949.0\n",
      "Name: Date_time, dtype: float64\n",
      "month--> 0    10.0\n",
      "Name: Date_time, dtype: float64\n",
      "day--> 0    10.0\n",
      "Name: Date_time, dtype: float64\n",
      "hour--> 0    20.0\n",
      "Name: Date_time, dtype: float64\n",
      "minute--> 0    30.0\n",
      "Name: Date_time, dtype: float64\n",
      "second--> 0    0.0\n",
      "Name: Date_time, dtype: float64\n",
      "weekday--> 0    0.0\n",
      "Name: Date_time, dtype: float64\n"
     ]
    }
   ],
   "source": [
    "print('Year-->',ufo['Date_time'].dt.year.head(1))\n",
    "print('month-->',ufo['Date_time'].dt.month.head(1))\n",
    "print('day-->',ufo['Date_time'].dt.day.head(1))\n",
    "print('hour-->',ufo['Date_time'].dt.hour.head(1))\n",
    "print('minute-->',ufo['Date_time'].dt.minute.head(1))\n",
    "print('second-->',ufo['Date_time'].dt.second.head(1))\n",
    "print('weekday-->',ufo['Date_time'].dt.weekday.head(1))"
   ]
  },
  {
   "cell_type": "markdown",
   "metadata": {},
   "source": [
    "**Q133. Write a pandas program to count year-country wise frequency of reporting dates of the unidentified flying object(UFO).**"
   ]
  },
  {
   "cell_type": "code",
   "execution_count": 146,
   "metadata": {},
   "outputs": [
    {
     "data": {
      "text/plain": [
       "Year    country\n",
       "1910.0  us            1\n",
       "1920.0  us            1\n",
       "1925.0  us            1\n",
       "1929.0  us            1\n",
       "1931.0  us            2\n",
       "1934.0  us            1\n",
       "1936.0  ca            1\n",
       "        us            1\n",
       "1937.0  us            1\n",
       "1939.0  us            3\n",
       "1941.0  us            1\n",
       "1942.0  us            2\n",
       "1943.0  gb            1\n",
       "        us            1\n",
       "1944.0  us            3\n",
       "1945.0  us            7\n",
       "1946.0  ca            1\n",
       "        us            7\n",
       "1947.0  us           31\n",
       "1948.0  us            7\n",
       "1949.0  us           15\n",
       "1950.0  us           20\n",
       "1951.0  ca            2\n",
       "        gb            1\n",
       "        us           13\n",
       "1952.0  gb            1\n",
       "        us           37\n",
       "1953.0  ca            2\n",
       "        us           25\n",
       "1954.0  ca            2\n",
       "                   ... \n",
       "2009.0  au           14\n",
       "        ca          133\n",
       "        de            6\n",
       "        gb          201\n",
       "        us         3649\n",
       "2010.0  au           16\n",
       "        ca          137\n",
       "        de            3\n",
       "        gb          113\n",
       "        us         3529\n",
       "2011.0  au           13\n",
       "        ca          127\n",
       "        de            3\n",
       "        gb           50\n",
       "        us         4352\n",
       "2012.0  au           18\n",
       "        ca          240\n",
       "        de            6\n",
       "        gb           82\n",
       "        us         6282\n",
       "2013.0  au           32\n",
       "        ca          243\n",
       "        de            5\n",
       "        gb           48\n",
       "        us         6024\n",
       "2014.0  au           13\n",
       "        ca           45\n",
       "        de            2\n",
       "        gb           20\n",
       "        us         1960\n",
       "Length: 280, dtype: int64"
      ]
     },
     "execution_count": 146,
     "metadata": {},
     "output_type": "execute_result"
    }
   ],
   "source": [
    "# ufo.drop('Year',axis=1,inplace=True)\n",
    "ufo.insert(loc=11, column='Year', value=ufo['Date_time'].apply(lambda x:x.year))\n",
    "# ufo.head()\n",
    "ufo.groupby(['Year','country']).size()"
   ]
  },
  {
   "cell_type": "markdown",
   "metadata": {},
   "source": [
    "**Q134. Write a pandas program to get the difference (in days) between documented date and reporting date of unidentified flying object (UFO).**"
   ]
  },
  {
   "cell_type": "code",
   "execution_count": 147,
   "metadata": {},
   "outputs": [],
   "source": [
    "def get_date_diff(df):\n",
    "    reported_date,documented_date = df\n",
    "    return (documented_date - reported_date).days"
   ]
  },
  {
   "cell_type": "code",
   "execution_count": 148,
   "metadata": {
    "scrolled": true
   },
   "outputs": [
    {
     "data": {
      "text/plain": [
       "0    19922.0\n",
       "1    20520.0\n",
       "2    19095.0\n",
       "3    17264.0\n",
       "4    15808.0\n",
       "Name: Date_Diff, dtype: float64"
      ]
     },
     "execution_count": 148,
     "metadata": {},
     "output_type": "execute_result"
    }
   ],
   "source": [
    "ufo['Date_Diff'] = ufo.loc[:,['Date_time','date_documented']].apply(get_date_diff,axis=1) \n",
    "ufo['Date_Diff'].head()"
   ]
  },
  {
   "cell_type": "markdown",
   "metadata": {},
   "source": [
    "**Q135. Write a pandas program to generate sequences of fixed- frequency dates and time spans.**"
   ]
  },
  {
   "cell_type": "code",
   "execution_count": 149,
   "metadata": {},
   "outputs": [
    {
     "name": "stdout",
     "output_type": "stream",
     "text": [
      "Hourly frequency:\n",
      "DatetimeIndex(['2018-01-01 00:00:00', '2018-01-01 01:00:00', '2018-01-01 02:00:00',\n",
      "               '2018-01-01 03:00:00', '2018-01-01 04:00:00', '2018-01-01 05:00:00',\n",
      "               '2018-01-01 06:00:00', '2018-01-01 07:00:00', '2018-01-01 08:00:00',\n",
      "               '2018-01-01 09:00:00', '2018-01-01 10:00:00', '2018-01-01 11:00:00'],\n",
      "              dtype='datetime64[ns]', freq='H')\n",
      "\n",
      "Weekly frequency:\n",
      "DatetimeIndex(['2018-01-07', '2018-01-14', '2018-01-21', '2018-01-28', '2018-02-04', '2018-02-11',\n",
      "               '2018-02-18', '2018-02-25', '2018-03-04', '2018-03-11', '2018-03-18', '2018-03-25'],\n",
      "              dtype='datetime64[ns]', freq='W-SUN')\n",
      "\n"
     ]
    }
   ],
   "source": [
    "hour_freq = pd.date_range('2018-01-01', periods=12, freq='H')\n",
    "print(\"Hourly frequency:\")\n",
    "print(hour_freq)\n",
    "print()\n",
    "weekly_freq = pd.date_range('2018-01-01', periods=12, freq='w')\n",
    "print(\"Weekly frequency:\")\n",
    "print(weekly_freq)\n",
    "print()"
   ]
  },
  {
   "cell_type": "markdown",
   "metadata": {},
   "source": [
    "**Q136. Write a pandas program to manipulate and convert date times with timezone information.**"
   ]
  },
  {
   "cell_type": "code",
   "execution_count": 150,
   "metadata": {},
   "outputs": [
    {
     "name": "stdout",
     "output_type": "stream",
     "text": [
      "DatetimeIndex(['2018-01-01 00:00:00+00:00', '2018-01-01 01:00:00+00:00',\n",
      "               '2018-01-01 02:00:00+00:00'],\n",
      "              dtype='datetime64[ns, UTC]', freq='H')\n"
     ]
    }
   ],
   "source": [
    "hour_freq = pd.date_range('2018-01-01', periods=3, freq='H')\n",
    "hour_freq = hour_freq.tz_localize('UTC')\n",
    "print(hour_freq)"
   ]
  },
  {
   "cell_type": "markdown",
   "metadata": {},
   "source": [
    "**Q137. Write a pandas program to create the graphical analysis of UFO (unidentified flying object) Sightings year.**"
   ]
  },
  {
   "cell_type": "code",
   "execution_count": 151,
   "metadata": {},
   "outputs": [
    {
     "data": {
      "image/png": "[encoded data removed]",
      "text/plain": [
       "<Figure size 1152x648 with 1 Axes>"
      ]
     },
     "metadata": {},
     "output_type": "display_data"
    }
   ],
   "source": [
    "plt.figure(figsize=(16,9))\n",
    "sns.countplot(x=ufo.Year)\n",
    "plt.xticks(rotation=90)\n",
    "plt.show()"
   ]
  },
  {
   "cell_type": "markdown",
   "metadata": {},
   "source": [
    "**Q138. Write a pandas program to create a comparison of the top 10 years in which the (UFO) was sighted VS each Month.**"
   ]
  },
  {
   "cell_type": "code",
   "execution_count": 152,
   "metadata": {},
   "outputs": [
    {
     "data": {
      "text/html": [
       "<div>\n",
       "<style scoped>\n",
       "    .dataframe tbody tr th:only-of-type {\n",
       "        vertical-align: middle;\n",
       "    }\n",
       "\n",
       "    .dataframe tbody tr th {\n",
       "        vertical-align: top;\n",
       "    }\n",
       "\n",
       "    .dataframe thead th {\n",
       "        text-align: right;\n",
       "    }\n",
       "</style>\n",
       "<table border=\"1\" class=\"dataframe\">\n",
       "  <thead>\n",
       "    <tr style=\"text-align: right;\">\n",
       "      <th>Year</th>\n",
       "      <th>2003.0</th>\n",
       "      <th>2004.0</th>\n",
       "      <th>2005.0</th>\n",
       "      <th>2007.0</th>\n",
       "      <th>2008.0</th>\n",
       "      <th>2009.0</th>\n",
       "      <th>2010.0</th>\n",
       "      <th>2011.0</th>\n",
       "      <th>2012.0</th>\n",
       "      <th>2013.0</th>\n",
       "    </tr>\n",
       "    <tr>\n",
       "      <th>Month</th>\n",
       "      <th></th>\n",
       "      <th></th>\n",
       "      <th></th>\n",
       "      <th></th>\n",
       "      <th></th>\n",
       "      <th></th>\n",
       "      <th></th>\n",
       "      <th></th>\n",
       "      <th></th>\n",
       "      <th></th>\n",
       "    </tr>\n",
       "  </thead>\n",
       "  <tbody>\n",
       "    <tr>\n",
       "      <th>1.0</th>\n",
       "      <td>284</td>\n",
       "      <td>263</td>\n",
       "      <td>227</td>\n",
       "      <td>397</td>\n",
       "      <td>427</td>\n",
       "      <td>449</td>\n",
       "      <td>255</td>\n",
       "      <td>294</td>\n",
       "      <td>526</td>\n",
       "      <td>354</td>\n",
       "    </tr>\n",
       "    <tr>\n",
       "      <th>2.0</th>\n",
       "      <td>229</td>\n",
       "      <td>264</td>\n",
       "      <td>253</td>\n",
       "      <td>242</td>\n",
       "      <td>340</td>\n",
       "      <td>360</td>\n",
       "      <td>171</td>\n",
       "      <td>252</td>\n",
       "      <td>357</td>\n",
       "      <td>260</td>\n",
       "    </tr>\n",
       "    <tr>\n",
       "      <th>3.0</th>\n",
       "      <td>168</td>\n",
       "      <td>368</td>\n",
       "      <td>325</td>\n",
       "      <td>329</td>\n",
       "      <td>302</td>\n",
       "      <td>312</td>\n",
       "      <td>233</td>\n",
       "      <td>309</td>\n",
       "      <td>485</td>\n",
       "      <td>365</td>\n",
       "    </tr>\n",
       "    <tr>\n",
       "      <th>4.0</th>\n",
       "      <td>202</td>\n",
       "      <td>354</td>\n",
       "      <td>291</td>\n",
       "      <td>288</td>\n",
       "      <td>401</td>\n",
       "      <td>293</td>\n",
       "      <td>266</td>\n",
       "      <td>293</td>\n",
       "      <td>459</td>\n",
       "      <td>384</td>\n",
       "    </tr>\n",
       "    <tr>\n",
       "      <th>5.0</th>\n",
       "      <td>218</td>\n",
       "      <td>348</td>\n",
       "      <td>270</td>\n",
       "      <td>274</td>\n",
       "      <td>308</td>\n",
       "      <td>336</td>\n",
       "      <td>303</td>\n",
       "      <td>281</td>\n",
       "      <td>466</td>\n",
       "      <td>485</td>\n",
       "    </tr>\n",
       "    <tr>\n",
       "      <th>6.0</th>\n",
       "      <td>269</td>\n",
       "      <td>371</td>\n",
       "      <td>366</td>\n",
       "      <td>379</td>\n",
       "      <td>438</td>\n",
       "      <td>354</td>\n",
       "      <td>339</td>\n",
       "      <td>370</td>\n",
       "      <td>693</td>\n",
       "      <td>579</td>\n",
       "    </tr>\n",
       "    <tr>\n",
       "      <th>7.0</th>\n",
       "      <td>405</td>\n",
       "      <td>396</td>\n",
       "      <td>415</td>\n",
       "      <td>429</td>\n",
       "      <td>527</td>\n",
       "      <td>536</td>\n",
       "      <td>789</td>\n",
       "      <td>711</td>\n",
       "      <td>874</td>\n",
       "      <td>898</td>\n",
       "    </tr>\n",
       "    <tr>\n",
       "      <th>8.0</th>\n",
       "      <td>498</td>\n",
       "      <td>497</td>\n",
       "      <td>317</td>\n",
       "      <td>429</td>\n",
       "      <td>467</td>\n",
       "      <td>463</td>\n",
       "      <td>477</td>\n",
       "      <td>597</td>\n",
       "      <td>821</td>\n",
       "      <td>838</td>\n",
       "    </tr>\n",
       "    <tr>\n",
       "      <th>9.0</th>\n",
       "      <td>465</td>\n",
       "      <td>374</td>\n",
       "      <td>474</td>\n",
       "      <td>416</td>\n",
       "      <td>355</td>\n",
       "      <td>568</td>\n",
       "      <td>414</td>\n",
       "      <td>502</td>\n",
       "      <td>690</td>\n",
       "      <td>713</td>\n",
       "    </tr>\n",
       "    <tr>\n",
       "      <th>10.0</th>\n",
       "      <td>421</td>\n",
       "      <td>414</td>\n",
       "      <td>435</td>\n",
       "      <td>395</td>\n",
       "      <td>481</td>\n",
       "      <td>286</td>\n",
       "      <td>420</td>\n",
       "      <td>588</td>\n",
       "      <td>617</td>\n",
       "      <td>717</td>\n",
       "    </tr>\n",
       "    <tr>\n",
       "      <th>11.0</th>\n",
       "      <td>435</td>\n",
       "      <td>293</td>\n",
       "      <td>414</td>\n",
       "      <td>340</td>\n",
       "      <td>417</td>\n",
       "      <td>292</td>\n",
       "      <td>314</td>\n",
       "      <td>400</td>\n",
       "      <td>711</td>\n",
       "      <td>712</td>\n",
       "    </tr>\n",
       "    <tr>\n",
       "      <th>12.0</th>\n",
       "      <td>341</td>\n",
       "      <td>278</td>\n",
       "      <td>252</td>\n",
       "      <td>325</td>\n",
       "      <td>314</td>\n",
       "      <td>259</td>\n",
       "      <td>277</td>\n",
       "      <td>480</td>\n",
       "      <td>609</td>\n",
       "      <td>687</td>\n",
       "    </tr>\n",
       "  </tbody>\n",
       "</table>\n",
       "</div>"
      ],
      "text/plain": [
       "Year   2003.0  2004.0  2005.0  2007.0  2008.0  2009.0  2010.0  2011.0  2012.0  2013.0\n",
       "Month                                                                                \n",
       "1.0       284     263     227     397     427     449     255     294     526     354\n",
       "2.0       229     264     253     242     340     360     171     252     357     260\n",
       "3.0       168     368     325     329     302     312     233     309     485     365\n",
       "4.0       202     354     291     288     401     293     266     293     459     384\n",
       "5.0       218     348     270     274     308     336     303     281     466     485\n",
       "6.0       269     371     366     379     438     354     339     370     693     579\n",
       "7.0       405     396     415     429     527     536     789     711     874     898\n",
       "8.0       498     497     317     429     467     463     477     597     821     838\n",
       "9.0       465     374     474     416     355     568     414     502     690     713\n",
       "10.0      421     414     435     395     481     286     420     588     617     717\n",
       "11.0      435     293     414     340     417     292     314     400     711     712\n",
       "12.0      341     278     252     325     314     259     277     480     609     687"
      ]
     },
     "execution_count": 152,
     "metadata": {},
     "output_type": "execute_result"
    }
   ],
   "source": [
    "# ufo.drop('Month',axis=1,inplace=True)\n",
    "top_10_year = ufo['Year'].value_counts().nlargest(10).index.values\n",
    "mask = ufo.Year.isin(top_10_year)\n",
    "ufo['Month'] = ufo.loc[mask,'Date_time'].dt.month\n",
    "ufo_pivoted = ufo.pivot_table(columns=ufo['Year'],index=ufo['Month'],aggfunc='count',values='city')\n",
    "ufo_pivoted"
   ]
  },
  {
   "cell_type": "markdown",
   "metadata": {},
   "source": [
    "**Q139. Write a pandas program to create a heatmap (rectangular data as a colour-encoded matrix) for comparison of top 10 years in which (UFO ) was sighted VS each Month.**"
   ]
  },
  {
   "cell_type": "code",
   "execution_count": 153,
   "metadata": {},
   "outputs": [
    {
     "data": {
      "image/png": "[encoded data removed]",
      "text/plain": [
       "<Figure size 720x720 with 2 Axes>"
      ]
     },
     "metadata": {},
     "output_type": "display_data"
    }
   ],
   "source": [
    "plt.figure(figsize=(10,10))\n",
    "sns.heatmap(ufo_pivoted,annot=True,fmt='.0f',cmap='coolwarm')\n",
    "plt.xlabel('Year',fontsize=16)\n",
    "plt.ylabel('Month',fontsize=16)\n",
    "plt.show()"
   ]
  },
  {
   "cell_type": "markdown",
   "metadata": {},
   "source": [
    "**Q140. Write a pandas program to create a Timewheel of Hour VS Year comparison of the top 10 years in which the (UFO) was sighted.**"
   ]
  },
  {
   "cell_type": "markdown",
   "metadata": {},
   "source": [
    "**Q141. Write a python program to draw the line using given axis values with the suitable label in the x-axis, y-axis, and a title.**"
   ]
  },
  {
   "cell_type": "code",
   "execution_count": 154,
   "metadata": {},
   "outputs": [
    {
     "data": {
      "image/png": "[encoded data removed]",
      "text/plain": [
       "<Figure size 432x288 with 1 Axes>"
      ]
     },
     "metadata": {},
     "output_type": "display_data"
    }
   ],
   "source": [
    "with plt.style.context('fivethirtyeight'):\n",
    "    x = [1,2,3]\n",
    "    y = [2,4,1]\n",
    "    plt.plot(x, y)\n",
    "    plt.xlabel('x - axis')\n",
    "    plt.ylabel('y - axis')\n",
    "    plt.title('Sample graph!')\n",
    "    plt.show()"
   ]
  },
  {
   "cell_type": "markdown",
   "metadata": {},
   "source": [
    "**Q142. Write a python program to draw the line charts of the financial data of the Alphabet Inc., between October.**"
   ]
  },
  {
   "cell_type": "code",
   "execution_count": 155,
   "metadata": {},
   "outputs": [
    {
     "data": {
      "image/png": "[encoded data removed]",
      "text/plain": [
       "<Figure size 432x288 with 1 Axes>"
      ]
     },
     "metadata": {},
     "output_type": "display_data"
    }
   ],
   "source": [
    "dict = {'Date':['10-03-2016','10-04-2016','10-05-2016','10-06-2016','10-07-2016'],\n",
    "        'Open':[774.25,776.030029,779.309998,779,779.659973],\n",
    "        'High':[776.065002,778.710022,782.070007,780.47998,779.659973],\n",
    "        'Low':[769.5,772.890015,775.650024,775.539978,770.75],\n",
    "        'Close':[772.559998,776.429993,776.469971,776.859985,775.080017]}\n",
    "df = pd.DataFrame(dict)\n",
    "df.plot(kind='line',linewidth=2)\n",
    "plt.show()"
   ]
  },
  {
   "cell_type": "markdown",
   "metadata": {},
   "source": [
    "**Q143. Write a Python program to plot two or more lines on same plot with the suitable legends of each line.**"
   ]
  },
  {
   "cell_type": "code",
   "execution_count": 156,
   "metadata": {},
   "outputs": [
    {
     "data": {
      "image/png": "[encoded data removed]",
      "text/plain": [
       "<Figure size 648x432 with 1 Axes>"
      ]
     },
     "metadata": {},
     "output_type": "display_data"
    }
   ],
   "source": [
    "with plt.style.context('fivethirtyeight'):\n",
    "    plt.figure(figsize=(9,6))\n",
    "    plt.plot([10,20,30],[20,40,10],linewidth=2,color='b',label='Line 1')\n",
    "    plt.plot([10,20,30],[40,10,30],linewidth=2,color='g',label='Line 2')\n",
    "    plt.legend()\n",
    "    plt.xticks(np.arange(10,35,5),fontsize=15)\n",
    "    plt.yticks(np.arange(10,45,5),fontsize=15)\n",
    "    plt.title('Two or more lines in same plot with suitable legends',fontsize=15)\n",
    "    plt.xlim([10,30])\n",
    "    plt.ylim([10,40])\n",
    "    plt.show()"
   ]
  },
  {
   "cell_type": "markdown",
   "metadata": {},
   "source": [
    "**Q144. Write a python programming to display a bar chart of the popularity of programming languages.**\n",
    "<br>Sample data: programming languages- Java, Python, PHP, JavaScript, C#, C++ <br>Popularity- 22.2, 17.6, 8.8, 8, 7.7 , 6.7"
   ]
  },
  {
   "cell_type": "code",
   "execution_count": 157,
   "metadata": {},
   "outputs": [
    {
     "data": {
      "image/png": "[encoded data removed]",
      "text/plain": [
       "<Figure size 648x432 with 1 Axes>"
      ]
     },
     "metadata": {},
     "output_type": "display_data"
    }
   ],
   "source": [
    "with plt.style.context('fivethirtyeight'):\n",
    "    plt.figure(figsize=(9,6))\n",
    "    languages = [ 'Java', 'Python', 'PHP', 'JavaScript', 'C#', 'C++']\n",
    "    Popularity= [ 22.2, 17.6, 8.8, 8, 7.7 , 6.7]\n",
    "    plt.bar(languages,Popularity)\n",
    "    plt.xlabel('Languages')\n",
    "    plt.ylabel('Popularity')\n",
    "    plt.title('Popularity of programming languages\\nworldwide,Oct 2019 compared to a year ago')\n",
    "    plt.show()"
   ]
  },
  {
   "cell_type": "markdown",
   "metadata": {},
   "source": [
    "**Q145. Write a python programming to display a horizontal bar chart of the popularity of programming languages.**\n",
    "<br>Sample data: programming languages- Java, Python, PHP, JavaScript, C#, C++ <br>Popularity- 22.2, 17.6, 8.8, 8, 7.7 , 6.7"
   ]
  },
  {
   "cell_type": "code",
   "execution_count": 158,
   "metadata": {},
   "outputs": [
    {
     "data": {
      "image/png": "[encoded data removed]",
      "text/plain": [
       "<Figure size 648x432 with 1 Axes>"
      ]
     },
     "metadata": {},
     "output_type": "display_data"
    }
   ],
   "source": [
    "with plt.style.context('fivethirtyeight'):\n",
    "    plt.figure(figsize=(9,6))\n",
    "    languages = [ 'Java', 'Python', 'PHP', 'JavaScript', 'C#', 'C++']\n",
    "    Popularity= [ 22.2, 17.6, 8.8, 8, 7.7 , 6.7]\n",
    "    plt.barh(languages,Popularity,color='green')\n",
    "    plt.ylabel('Languages')\n",
    "    plt.xlabel('Popularity')\n",
    "    plt.title('Popularity of programming languages\\nworldwide,Oct 2019 compared to a year ago')\n",
    "    plt.show()"
   ]
  },
  {
   "cell_type": "markdown",
   "metadata": {},
   "source": [
    "**Q146. Write a python programming to display a bar chart of the Popularity of programming languages. Increase bottom margin.**\n",
    "<br>Sample data: programming languages- Java, Python, PHP, JavaScript, C#, C++ <br>Popularity- 22.2, 17.6, 8.8, 8, 7.7 , 6.7"
   ]
  },
  {
   "cell_type": "code",
   "execution_count": 159,
   "metadata": {},
   "outputs": [
    {
     "data": {
      "image/png": "[encoded data removed]",
      "text/plain": [
       "<Figure size 648x432 with 1 Axes>"
      ]
     },
     "metadata": {},
     "output_type": "display_data"
    }
   ],
   "source": [
    "\n",
    "with plt.style.context('seaborn-darkgrid'):\n",
    "    plt.figure(figsize=(9,6))\n",
    "    languages = [ 'Java', 'Python', 'PHP', 'JavaScript', 'C#', 'C++']\n",
    "    Popularity= [ 22.2, 17.6, 8.8, 8, 7.7 , 6.7]\n",
    "    plt.bar(languages,Popularity)\n",
    "    plt.xticks(fontsize=12)\n",
    "    plt.yticks(fontsize=12)\n",
    "    plt.xlabel('Languages',fontsize=15)\n",
    "    plt.ylabel('Popularity',fontsize=15)\n",
    "    plt.title('Popularity of programming languages\\nworldwide,Oct 2019 compared to a year ago',fontsize=15)\n",
    "    plt.show()"
   ]
  },
  {
   "cell_type": "markdown",
   "metadata": {},
   "source": [
    "**Q147. Write a python program to create the bar plot from a DataFrame.**"
   ]
  },
  {
   "cell_type": "code",
   "execution_count": 160,
   "metadata": {},
   "outputs": [
    {
     "data": {
      "image/png": "[encoded data removed]",
      "text/plain": [
       "<Figure size 432x288 with 1 Axes>"
      ]
     },
     "metadata": {},
     "output_type": "display_data"
    }
   ],
   "source": [
    "dict = {'a':[4,2,4,2,4],\n",
    "        'b':[8,3,7,6,4],\n",
    "        'c':[5,4,4,4,3],\n",
    "        'd':[7,2,7,8,3],\n",
    "        'e':[6,6,8,6,2]}\n",
    "df = pd.DataFrame(dict,index=[2,4,6,8,10])\n",
    "df.plot(kind='bar')\n",
    "plt.show()"
   ]
  },
  {
   "cell_type": "markdown",
   "metadata": {},
   "source": [
    "**Q148. Write a python program to draw the scatter plot comparing two subject marks of Mathematics and Science. Use marks of 10 students.**<br>\n",
    "<br>Sample data: Test Data- math_marks = [88, 92 , 80, 89, 100, 80, 60, 100, 80, 34] <br>science_marks = [35, 79, 79 , 48, 100, 88, 32, 45, 20, 30] <br>marks_range = [10, 20, 30, 40, 50, 60, 70, 80, 90, 100]"
   ]
  },
  {
   "cell_type": "code",
   "execution_count": 161,
   "metadata": {},
   "outputs": [
    {
     "data": {
      "image/png": "[encoded data removed]",
      "text/plain": [
       "<Figure size 648x432 with 1 Axes>"
      ]
     },
     "metadata": {},
     "output_type": "display_data"
    }
   ],
   "source": [
    "math_marks = [88, 92 , 80, 89, 100, 80, 60, 100, 80, 34]\n",
    "science_marks = [35, 79, 79 , 48, 100, 88, 32, 45, 20, 30]\n",
    "marks_range = [10, 20, 30, 40, 50, 60, 70, 80, 90, 100]\n",
    "with plt.style.context('fivethirtyeight'):\n",
    "    plt.figure(figsize=(9,6))\n",
    "    plt.scatter(x=marks_range,y=math_marks,s=20,c='r',marker='o',label='Maths Marks')\n",
    "    plt.scatter(x=marks_range,y=science_marks,s=20,c='g',marker='o',label='Science Marks')\n",
    "    plt.xticks(fontsize=12)\n",
    "    plt.yticks(fontsize=12)\n",
    "    plt.legend(loc='upper right',fontsize=12)\n",
    "    plt.xlabel('Marks Range',fontsize=15)\n",
    "    plt.ylabel('Marks Scored',fontsize=15)\n",
    "    plt.title('Scatter Plot',fontsize=15)\n",
    "    plt.show()"
   ]
  },
  {
   "cell_type": "markdown",
   "metadata": {},
   "source": [
    "**Q149. Write a python program to draw the scatter plot for three different groups comparing weights and heights.**"
   ]
  },
  {
   "cell_type": "code",
   "execution_count": 162,
   "metadata": {},
   "outputs": [
    {
     "data": {
      "image/png": "[encoded data removed]",
      "text/plain": [
       "<Figure size 648x432 with 1 Axes>"
      ]
     },
     "metadata": {},
     "output_type": "display_data"
    }
   ],
   "source": [
    "h1 = np.random.randint(low=55, high=75, size=10)\n",
    "h2 = np.random.randint(low=55, high=75, size=10)\n",
    "h3 = np.random.randint(low=55, high=75, size=10)\n",
    "with plt.style.context('fivethirtyeight'):\n",
    "    plt.figure(figsize=(9,6))\n",
    "    plt.scatter(x=np.arange(55,105,5),y=h1,s=20,c='r',marker='o')\n",
    "    plt.scatter(x=np.arange(55,105,5),y=h2,s=20,c='b',marker='o')\n",
    "    plt.scatter(x=np.arange(55,105,5),y=h3,s=20,c='g',marker='o')\n",
    "    plt.xticks(fontsize=12)\n",
    "    plt.yticks(fontsize=12)\n",
    "    \n",
    "    plt.xlabel('Weight',fontsize=15)\n",
    "    plt.ylabel('Height',fontsize=15)\n",
    "    plt.title('Groupwise Weight vs Height Scatter Plot',fontsize=15)\n",
    "    plt.show()"
   ]
  },
  {
   "cell_type": "markdown",
   "metadata": {},
   "source": [
    "**Q150. Write a python program to draw a scatter plot to find sea-level rise in past 100 years.**"
   ]
  },
  {
   "cell_type": "code",
   "execution_count": 163,
   "metadata": {},
   "outputs": [
    {
     "data": {
      "text/plain": [
       "[<matplotlib.lines.Line2D at 0x11e18d10>]"
      ]
     },
     "execution_count": 163,
     "metadata": {},
     "output_type": "execute_result"
    },
    {
     "data": {
      "image/png": "[encoded data removed]",
      "text/plain": [
       "<Figure size 432x288 with 1 Axes>"
      ]
     },
     "metadata": {},
     "output_type": "display_data"
    }
   ],
   "source": [
    "x = np.random.randint(low=0, high=20, size=100)\n",
    "y = x**2\n",
    "plt.plot(x,y,'b.')"
   ]
  },
  {
   "cell_type": "code",
   "execution_count": null,
   "metadata": {},
   "outputs": [],
   "source": []
  },
  {
   "cell_type": "code",
   "execution_count": null,
   "metadata": {},
   "outputs": [],
   "source": []
  }
 ],
 "metadata": {
  "kernelspec": {
   "display_name": "Python 3",
   "language": "python",
   "name": "python3"
  },
  "language_info": {
   "codemirror_mode": {
    "name": "ipython",
    "version": 3
   },
   "file_extension": ".py",
   "mimetype": "text/x-python",
   "name": "python",
   "nbconvert_exporter": "python",
   "pygments_lexer": "ipython3",
   "version": "3.7.1"
  }
 },
 "nbformat": 4,
 "nbformat_minor": 2
}
